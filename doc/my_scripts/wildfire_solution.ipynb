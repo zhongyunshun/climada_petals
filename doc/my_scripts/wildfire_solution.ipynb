{
 "cells": [
  {
   "cell_type": "markdown",
   "metadata": {
    "collapsed": false
   },
   "source": [
    "# RSM 6301 Group Project #1: Physical Risk Wildfire"
   ]
  },
  {
   "cell_type": "markdown",
   "metadata": {
    "collapsed": false
   },
   "source": [
    "# Data\n",
    "\n",
    "Two historical US wildfire files from FIRMS:\n",
    "\n",
    "   + [A] Monthly file: Wildfire_US2018Nov.csv\n",
    "   + [B] Annual file: Wildfire_US2018.csv\n",
    "    \n",
    "An economic exposure file, available on Quercus\n",
    "\n",
    "   + [C] gpw-v4-population-count-rev11_2020_30_sec_tif.zip\n",
    "    \n",
    "   + Please unzip this file and put the unzipped folder 'gpw-v4-population-count-rev11_2020_30_sec_tif' in the directory: \n",
    "    ./Users/<username>/climada/data \n"
   ]
  },
  {
   "cell_type": "markdown",
   "metadata": {
    "collapsed": false
   },
   "source": [
    "# Software: \n",
    "### Instructions for the installation of the Climada package:\n",
    "\n",
    "+ Please install the CLIMADA package by following the instructions on the website: https://climada-petals.readthedocs.io/en/stable/\n",
    "+ Please follow the sections: \"Advanced Instructions\" and \"Install CLIMADA Petals\"\n",
    "\n",
    "### Tutorial:\n",
    "+ Please refer to the CLIMADA official tutorial: https://climada-petals.readthedocs.io/en/stable/tutorial/climada_hazard_Wildfire.html\n",
    "\n",
    "### [IMPORTANT]:\n",
    "+ The CLIMADA package is continuously evolving. We have corrected some bugs in the wildfire module.\n",
    "+ Please replace the following two files with the ones you have downloaded from Quercus.\n",
    "    + ./climada_petals/climada_petals/hazard/wildfire.py\n",
    "    + ./climada_petals/climada_petals/entity/impact_funcs/wildfire.py\n",
    "+ The available packages in the installed environment should suffice for this project. \n",
    "+ It is not recommended to install further packages or upgrade the existing packages. "
   ]
  },
  {
   "cell_type": "markdown",
   "metadata": {
    "collapsed": false
   },
   "source": [
    "# Requirements\n",
    "+ You are required to fill in the missing parts of the Python codes and answer the questions below.\n",
    "+ Please submit the completed Jupyter Notebook file (.ipynb) on Quercus. You do not need to submit any other files.\n",
    "+ Please make sure that the output results of your notebook are reproducible by running the whole notebook from the beginning to the end. To achieve this, please run the whole code from the beginning to the end again once you finish. Double check that the order of cells is correct. The TA will run your code again during marking. How can output results be non-reproducible? \n",
    "    + For example, if you run some cells in a different order, the output results may be different. \n",
    "    + If you run some cells multiple times, the output results may be different. \n",
    "+ Please use a resolution of 4 km x 4 km throughout the analysis."
   ]
  },
  {
   "cell_type": "markdown",
   "metadata": {
    "collapsed": false
   },
   "source": [
    "# Questions"
   ]
  },
  {
   "cell_type": "code",
   "execution_count": 1,
   "metadata": {
    "ExecuteTime": {
     "end_time": "2024-04-21T00:12:56.830367Z",
     "start_time": "2024-04-21T00:12:55.692926Z"
    },
    "collapsed": false
   },
   "source": [
    "# Please always run this cell at the beginning of your notebook!\n",
    "import os\n",
    "import pandas as pd\n",
    "import numpy as np\n",
    "import matplotlib.pyplot as plt\n",
    "\n",
    "np.random.seed(0)  # please make sure you run this line so that your results are reproducible\n",
    "\n",
    "WF_NOV_FILE = 'Wildfire_US2018Nov.csv'\n",
    "WF_YEAR_FILE = 'Wildfire_US2018.csv'\n",
    "WF_RESOLUTION_KM = 4.0  # set resolution to 4 km\n",
    "WF_RESOLUTION_ARCSEC = 120  # 120 arcsec ~ 4 km\n",
    "\n",
    "# geographic boundaries for cities. format: (lon_min, lat_min, lon_max, lat_max)\n",
    "GEO_BOUNDS_CITY = {'Paradise': (-121.64, 39.75, -121.58, 39.81),\n",
    "              'San Jose': (-122., 37.1, -121., 38.),\n",
    "              'Los Angeles': (-118.67, 33.7, -118.19, 34.34)}\n",
    "GEO_BOUND_CALIFORNIA = (-124.5, 32.5, -114.1, 42)\n"
   ],
   "outputs": []
  },
  {
   "cell_type": "code",
   "execution_count": 2,
   "metadata": {
    "ExecuteTime": {
     "end_time": "2024-04-21T00:13:00.226334Z",
     "start_time": "2024-04-21T00:12:56.832095Z"
    },
    "collapsed": false
   },
   "source": [
    "from climada_petals.hazard import WildFire\n",
    "from climada.hazard import Centroids\n",
    "from climada.util.constants import ONE_LAT_KM\n",
    "from climada.entity import ImpactFuncSet\n",
    "from climada_petals.entity.impact_funcs.wildfire import ImpfWildfire\n",
    "from climada.entity import LitPop\n",
    "from climada.engine import Impact\n",
    "from climada.engine import ImpactCalc\n",
    "# You would get a FutureWarning here. You can ignore it.\n",
    "# Please do not change the dependencies of CLIMADA. \n",
    "# They are very complex and may not work properly if you change them."
   ],
   "outputs": []
  },
  {
   "cell_type": "markdown",
   "metadata": {
    "collapsed": false
   },
   "source": [
    "# Q1 Analysis of a historical single event. Please use the wildfire data in Nov 2018 in data [A] for this question."
   ]
  },
  {
   "cell_type": "markdown",
   "metadata": {
    "collapsed": false
   },
   "source": [
    "## 1.1 How is a fire defined conceptually in CLIMADA?"
   ]
  },
  {
   "cell_type": "markdown",
   "metadata": {
    "collapsed": false
   },
   "source": [
    "Please provide your answer here:"
   ]
  },
  {
   "cell_type": "markdown",
   "metadata": {
    "collapsed": false
   },
   "source": [
    "Hint: see the tutorial https://climada-petals.readthedocs.io/en/stable/tutorial/climada_hazard_Wildfire.html\n",
    "and the method set_hist_fire_FIRMS. "
   ]
  },
  {
   "cell_type": "markdown",
   "metadata": {
    "collapsed": false
   },
   "source": [
    "## 1.2 Load the historical event data in Nov 2018 from the dataset [A]. Use CLIMADA to visualize the event data in a map. "
   ]
  },
  {
   "cell_type": "code",
   "execution_count": 3,
   "metadata": {
    "ExecuteTime": {
     "end_time": "2024-04-21T00:13:00.259746Z",
     "start_time": "2024-04-21T00:13:00.227194Z"
    },
    "collapsed": false
   },
   "source": [
    "### load fires in USA Nov 2018\n",
    "df_firms_nov = pd.read_csv(WF_NOV_FILE) # FIRMS data as pandas dataframe\n",
    "df_firms_nov.head()"
   ],
   "outputs": []
  },
  {
   "cell_type": "code",
   "execution_count": 4,
   "metadata": {
    "ExecuteTime": {
     "end_time": "2024-04-21T00:13:57.001661Z",
     "start_time": "2024-04-21T00:13:00.252658Z"
    },
    "collapsed": false
   },
   "source": [
    "### set up wildfire using CLIMADA. \n",
    "# this will take some time.\n",
    "wf_pt = WildFire()\n",
    "# set the hazard resolution to 4 km. The provided data is at 1 km. Need a scaling factor of 1/4:\n",
    "res_factor = 1./WF_RESOLUTION_KM\n",
    "wf_pt.set_hist_fire_FIRMS(df_firms_nov, centr_res_factor=res_factor) \n",
    "# You will see a warning if you follow the tutorial and use WildFire.set_hist_fire_FIRMS. \n",
    "# It will ask you to use WildFire.from_hist_fire_FIRMS.\n",
    "# The tutorial is not updated. You can ignore the warning.\n",
    "# Feel free to use either one as long as they work.\n",
    "# Same for similar future warnings in later cells."
   ],
   "outputs": []
  },
  {
   "cell_type": "code",
   "execution_count": 5,
   "metadata": {
    "ExecuteTime": {
     "end_time": "2024-04-21T00:15:00.947639Z",
     "start_time": "2024-04-21T00:13:57.005522Z"
    },
    "collapsed": false
   },
   "source": [
    "### visualize the event intensity in a map:\n",
    "wf_pt.plot_intensity(event=0)"
   ],
   "outputs": []
  },
  {
   "cell_type": "markdown",
   "metadata": {
    "collapsed": false
   },
   "source": [
    "## 1.3 Identify the corresponding real fire event in California during the historical period. "
   ]
  },
  {
   "cell_type": "markdown",
   "metadata": {
    "collapsed": false
   },
   "source": [
    "### 1.3.1 Which city has the highest wildfire intensity among the following cities?\n",
    " + Paradise (latitude: 39.75°N to 39.81°N; longitude: 121.58° W to 121.64° W)\n",
    " + San Jose (latitude: 37.1°N to 38°N; longitude: 121° W to 122° W)\n",
    " + Los Angeles (latitude: 33.70°N to 34.34°N; longitude: 118.19° W to 118.67° W)"
   ]
  },
  {
   "cell_type": "code",
   "execution_count": 6,
   "metadata": {
    "ExecuteTime": {
     "end_time": "2024-04-21T00:15:00.955461Z",
     "start_time": "2024-04-21T00:15:00.949413Z"
    },
    "collapsed": false
   },
   "source": [
    "# This function is provided for you.\n",
    "def select_region(df, bound):\n",
    "    \"\"\"\n",
    "    Select the region of interest from the dataframe.\n",
    "    df: hazard dataframe\n",
    "    bound: tuple in format (lon_min, lat_min, lon_max, lat_max)\n",
    "    \"\"\"\n",
    "    return df[(df['longitude'] >= bound[0]) & \n",
    "              (df['latitude'] >= bound[1]) & \n",
    "              (df['longitude'] <= bound[2]) & \n",
    "              (df['latitude'] <= bound[3])]"
   ],
   "outputs": []
  },
  {
   "cell_type": "code",
   "execution_count": 7,
   "metadata": {
    "ExecuteTime": {
     "end_time": "2024-04-21T00:15:00.959327Z",
     "start_time": "2024-04-21T00:15:00.953403Z"
    },
    "collapsed": false
   },
   "source": [
    "### define resolution\n",
    "# Hint: from_pnt_bounds method requires resolution in degrees.\n",
    "# Hint: ONE_LAT_KM is one latitude (in degrees) to km\n",
    "res_deg = WF_RESOLUTION_KM/ ONE_LAT_KM   \n",
    "print(f\"Resolution in degrees: {res_deg} deg\")\n",
    "# do a sanity check on the resolution by converting degree to km. You may use: https://www.nhc.noaa.gov/gccalc.shtml\n"
   ],
   "outputs": []
  },
  {
   "cell_type": "code",
   "execution_count": 8,
   "metadata": {
    "ExecuteTime": {
     "end_time": "2024-04-21T00:15:08.101577Z",
     "start_time": "2024-04-21T00:15:00.964439Z"
    },
    "collapsed": false
   },
   "source": [
    "# Hint: use the function select_region to select the region of interest.\n",
    "# Hint: use the method set_hist_fire_FIRMS to set the historical fire event.\n",
    "# Hint: use the method from_pnt_bounds to set the centroids.\n",
    "\n",
    "wf_zoom_dict = {}\n",
    "\n",
    "for cc in GEO_BOUNDS_CITY.keys():  # loop over each city\n",
    "    wf_zoom = WildFire()\n",
    "    centr_zoom = Centroids.from_pnt_bounds(GEO_BOUNDS_CITY.get(cc), res_deg)  # set centroids\n",
    "    wf_zoom.set_hist_fire_FIRMS(df_firms_nov, centroids=centr_zoom)\n",
    "    print(f\"{cc}: max WF intensity: {wf_zoom.intensity.data.max()}K\")\n",
    "    wf_zoom_dict[cc] = wf_zoom  # append to dictionary for later use"
   ],
   "outputs": []
  },
  {
   "cell_type": "markdown",
   "metadata": {},
   "source": [
    "### 1.3.2 How many longest consecutive days did the wildfire last in Nov 2018 for this city? "
   ]
  },
  {
   "cell_type": "code",
   "execution_count": 9,
   "metadata": {
    "ExecuteTime": {
     "end_time": "2024-04-21T00:15:08.102717Z",
     "start_time": "2024-04-21T00:15:08.098245Z"
    },
    "collapsed": false
   },
   "source": [
    "# Hint: use the attribute date and date_end to calculate the number of consecutive days.\n",
    "# Hint: There might be multiple events in the same month. \n",
    "#       Take the longest consecutive days for each city.\n",
    "\n",
    "for cc in GEO_BOUNDS_CITY.keys():  # loop over each city\n",
    "    wf_zoom = wf_zoom_dict[cc]\n",
    "    date_start = wf_zoom.date\n",
    "    date_end = wf_zoom.date_end\n",
    "    cons_days = date_end - date_start + 1\n",
    "    print(f\"{cc}: longest consecutive days of fire in Nov 2018: {cons_days.max()}\")"
   ],
   "outputs": []
  },
  {
   "cell_type": "markdown",
   "metadata": {
    "collapsed": false
   },
   "source": [
    "# Q2 Historical fire season analysis. Please use the yearly wildfire data in 2018 in data [B] for this question."
   ]
  },
  {
   "cell_type": "markdown",
   "metadata": {
    "collapsed": false
   },
   "source": [
    "## 2.1 Conceptually, what is the definition of a fire season in CLIMADA?"
   ]
  },
  {
   "cell_type": "markdown",
   "metadata": {
    "collapsed": false
   },
   "source": [
    "Please provide your answer here:"
   ]
  },
  {
   "cell_type": "markdown",
   "metadata": {
    "collapsed": false
   },
   "source": [
    "Hint: read method set_hist_fire_seasons_FIRMS."
   ]
  },
  {
   "cell_type": "markdown",
   "metadata": {},
   "source": [
    "## 2.2 Visualize a fire season in a map, using the 2018 yearly historical data [B]. "
   ]
  },
  {
   "cell_type": "code",
   "execution_count": 10,
   "metadata": {
    "ExecuteTime": {
     "end_time": "2024-04-21T00:15:08.253310Z",
     "start_time": "2024-04-21T00:15:08.102463Z"
    },
    "collapsed": false
   },
   "source": [
    "### load the year data\n",
    "df_firms_year = pd.read_csv(WF_YEAR_FILE)\n",
    "# focus on California region\n",
    "df_firms_year_ca = select_region(df_firms_year, GEO_BOUND_CALIFORNIA)\n",
    "df_firms_year_ca.head()"
   ],
   "outputs": []
  },
  {
   "cell_type": "code",
   "execution_count": 11,
   "metadata": {
    "ExecuteTime": {
     "end_time": "2024-04-21T00:15:22.659422Z",
     "start_time": "2024-04-21T00:15:08.255572Z"
    },
    "collapsed": false
   },
   "source": [
    "### set up wildfire season using the method set_hist_fire_seasons_FIRMS\n",
    "wf_year_ca = WildFire()\n",
    "wf_year_ca.set_hist_fire_seasons_FIRMS(df_firms_year_ca, centr_res_factor=res_factor)\n",
    "print('Events are now named according to their event year:', wf_year_ca.event_name)\n",
    "print('The number of underyling events is saved as well:', wf_year_ca.n_fires)"
   ],
   "outputs": []
  },
  {
   "cell_type": "code",
   "execution_count": 12,
   "metadata": {
    "ExecuteTime": {
     "end_time": "2024-04-21T00:15:26.450684Z",
     "start_time": "2024-04-21T00:15:22.660827Z"
    },
    "collapsed": false
   },
   "source": [
    "### visualize the fire season in a map using the method plot_intensity\n",
    "wf_year_ca.plot_intensity(event=0)"
   ],
   "outputs": []
  },
  {
   "cell_type": "markdown",
   "metadata": {
    "collapsed": false
   },
   "source": [
    "## 2.3\tEvaluate the loss of the 2018 fire season. Specifically,\n",
    "+ Use the economic exposure from datat [C] with fin_mode 'pc' to estimate the total economic exposure. Use 2020 as the reference year for 2018 economic exposure.\n",
    "+ Use the CLIMADA damage function to derive the economic loss. \n",
    "+ Compare this estimate with actual historical losses(i.e., ~ USD $16.5 Billion from Wiki). "
   ]
  },
  {
   "cell_type": "code",
   "execution_count": 13,
   "metadata": {
    "ExecuteTime": {
     "end_time": "2024-04-21T00:15:46.654021Z",
     "start_time": "2024-04-21T00:15:26.466447Z"
    }
   },
   "source": [
    "### Initiate a LitPop exposure entity for USA and \n",
    "# assign resolution, fin_mode, exponents, and reference year\n",
    "# we use reference year 2020, which is the closest year to 2018 in the dataset.\n",
    "# res_arcsec = WF_RESOLUTION_ARCSEC (120) ~ resolution of 4 km\n",
    "lp_exp_pc = LitPop.from_countries('USA',fin_mode='pc', res_arcsec=WF_RESOLUTION_ARCSEC, \n",
    "                                  exponents=(1,1), reference_year=2020)"
   ],
   "outputs": []
  },
  {
   "cell_type": "code",
   "execution_count": 14,
   "metadata": {
    "ExecuteTime": {
     "end_time": "2024-04-21T00:15:46.659678Z",
     "start_time": "2024-04-21T00:15:46.656667Z"
    }
   },
   "source": [
    "### load wildfire impact functions\n",
    "# Hint: use the ImpfWildfire class; ImpactFuncSet class; and from_default_FIRMS method.\n",
    "# Hint: set i_half=409.4 for the 4km resolution\n",
    "# Hint: put hazard type as 'WFseason'.\n",
    "\n",
    "impact = ImpfWildfire(haz_type='WFseason')\n",
    "impact_func  = ImpactFuncSet()\n",
    "func = impact.from_default_FIRMS(i_half=409.4, haz_type='WFseason')\n",
    "impact_func.append(func)"
   ],
   "outputs": []
  },
  {
   "cell_type": "code",
   "execution_count": 15,
   "metadata": {
    "ExecuteTime": {
     "end_time": "2024-04-21T00:15:46.767334Z",
     "start_time": "2024-04-21T00:15:46.664698Z"
    },
    "collapsed": false
   },
   "source": [
    "impact_func.plot()"
   ],
   "outputs": []
  },
  {
   "cell_type": "code",
   "execution_count": 16,
   "metadata": {
    "ExecuteTime": {
     "end_time": "2024-04-21T00:15:46.826592Z",
     "start_time": "2024-04-21T00:15:46.768839Z"
    }
   },
   "source": [
    "### calculate the loss using the Impact class and the calc method\n",
    "imp = Impact()\n",
    "imp.calc(lp_exp_pc, impact_func, wf_year_ca)\n",
    "print(f\"The total loss is {imp.at_event[0].sum() / 1e9} billion\")\n",
    "# or use the following method\n",
    "print(f\"The total loss is {imp.impact_per_year().get(2018)/1e9} billion\")\n",
    "\n",
    "# Use ImpactCalc().impact() to calculate the loss.\n",
    "imp = ImpactCalc(lp_exp_pc, impact_func, wf_year_ca).impact(save_mat=False)  # Do not save the results geographically resolved (only aggregate values)\n",
    "print(f\"The total loss is {imp.aai_agg/1e9} billion\")"
   ],
   "outputs": []
  },
  {
   "cell_type": "markdown",
   "metadata": {
    "collapsed": false
   },
   "source": [
    "# Q3. Probabilistic fire season simulation and sensitivity testing. Please use the wildfire data in 2018 in data [B] for this question."
   ]
  },
  {
   "cell_type": "markdown",
   "metadata": {
    "collapsed": false
   },
   "source": [
    "## 3.1 Explain the CLIMADA methodology of simulating a probabilistic fire season. "
   ]
  },
  {
   "cell_type": "markdown",
   "metadata": {
    "collapsed": false
   },
   "source": [
    "Hint: see the tutorial https://climada-petals.readthedocs.io/en/stable/tutorial/climada_hazard_Wildfire.html\n",
    "and the method set_proba_fire_seasons."
   ]
  },
  {
   "cell_type": "markdown",
   "metadata": {},
   "source": [
    "## 3.2\tSimulate probabilistic fire season in California US (latitude: 32.5°N to 42.0°N; longitude: 114.1° W to 124.5° W).\n",
    "Specifically, \n",
    "+ Set the number of fires equal to that of the historical fire season in California 2018.\n",
    "+ Visualize the simulated fire season in a map. Compare the visualization with the historical fire season."
   ]
  },
  {
   "cell_type": "code",
   "execution_count": 17,
   "metadata": {
    "ExecuteTime": {
     "end_time": "2024-04-21T00:15:46.827515Z",
     "start_time": "2024-04-21T00:15:46.820225Z"
    },
    "collapsed": false
   },
   "source": [
    "### simulate.\n",
    "# Hint: use set_proba_fire_seasons.\n",
    "# How many fires are there in the historical events? \n",
    "# How to set the range for n_ignitions so that the simulated events has \n",
    "#    the same number of fires as the historical events?\n",
    "\n",
    "num_fires_ca = int(wf_year_ca.n_fires.item())\n",
    "ign_range = [num_fires_ca,num_fires_ca+1]\n"
   ],
   "outputs": []
  },
  {
   "cell_type": "code",
   "execution_count": 18,
   "metadata": {
    "ExecuteTime": {
     "end_time": "2024-04-21T00:16:05.913495Z",
     "start_time": "2024-04-21T00:15:46.825202Z"
    },
    "collapsed": false
   },
   "source": [
    "# Hint: Intensities of probabilistic fire seasons are drawn randomly from historic events.\n",
    "#       Thus, probabilistic simulation requires at least one historical fire to draw from.\n",
    "# Hint: For some logic of analysis later on, it is recommended to \n",
    "#       run the following two lines even if you have already run them before.\n",
    "wf_year_ca = WildFire()\n",
    "wf_year_ca.set_hist_fire_seasons_FIRMS(df_firms_year_ca, centr_res_factor=res_factor)\n",
    "\n",
    "wf_year_ca.ProbaParams.prop_proba = 0.21\n",
    "# IMPORTANT: set keep_all_fires=True to keep all fires in the simulation.\n",
    "# This will allow you to access the simulated event later.\n",
    "wf_year_ca.set_proba_fire_seasons(n_fire_seasons=1, n_ignitions=ign_range, keep_all_fires=True)\n",
    "print('The probabilistic season is appended to the historic season:', \n",
    "      \"event_names\", wf_year_ca.event_name,\n",
    "      \"event_ids\", wf_year_ca.event_id)"
   ],
   "outputs": []
  },
  {
   "cell_type": "code",
   "execution_count": 19,
   "metadata": {
    "ExecuteTime": {
     "end_time": "2024-04-21T00:16:09.445858Z",
     "start_time": "2024-04-21T00:16:05.915943Z"
    }
   },
   "source": [
    "### plot the new simulated event. can be accessed through .event_id\n",
    "wf_year_ca.plot_intensity(event=wf_year_ca.event_id[-1])"
   ],
   "outputs": []
  },
  {
   "cell_type": "markdown",
   "metadata": {
    "collapsed": false
   },
   "source": [
    "## 3.3 Analyze the simulation in terms of tail risk outcomes."
   ]
  },
  {
   "cell_type": "markdown",
   "metadata": {
    "collapsed": false
   },
   "source": [
    "### 3.3.1 Plot the distribution of wildfire intensity across all the centroids in the city of Paradise, using the simulated fire season in California. "
   ]
  },
  {
   "cell_type": "code",
   "execution_count": 20,
   "metadata": {
    "ExecuteTime": {
     "end_time": "2024-04-21T00:16:09.447407Z",
     "start_time": "2024-04-21T00:16:09.445582Z"
    },
    "collapsed": false
   },
   "source": [
    "### get the centroids lon/lat within Paradise\n",
    "# Hint: use Centroids.from_pnt_bounds and set_meta_to_lat_lon\n",
    "# Hint: how large is Paradise? how many centroids do you expect to have in Paradise?\n",
    "# Hint: you can do a sanity check by inputting the lon/lat in google maps.\n",
    "\n",
    "print(f\"Resolution in degrees: {res_deg} deg\")\n",
    "centroids_paradise = Centroids.from_pnt_bounds(GEO_BOUNDS_CITY.get('Paradise'), res_deg)\n",
    "centroids_paradise.set_meta_to_lat_lon()\n",
    "centr_lonlats = list(zip(centroids_paradise.lon, centroids_paradise.lat))\n",
    "print(f\"Number of centroids in Paradise: {len(centr_lonlats)}\")\n",
    "print(f\"Centroids lon/lat: {centr_lonlats}\")"
   ],
   "outputs": []
  },
  {
   "cell_type": "code",
   "execution_count": 21,
   "metadata": {
    "ExecuteTime": {
     "end_time": "2024-04-21T00:16:09.448032Z",
     "start_time": "2024-04-21T00:16:09.445736Z"
    },
    "collapsed": false
   },
   "source": [
    "### select centroids of simulated fire seasons within Paradise.\n",
    "# Hint: The centroids of simulated fire seasons may not be exactly the same as the Paradise centroids just created.\n",
    "# Hint: use a nearest neighbor search to find the closest centroid. Use centroids.get_closest_point\n",
    "centr_ids = set()\n",
    "for cc in centr_lonlats:\n",
    "    lon, lat, idx = wf_year_ca.centroids.get_closest_point(cc[0], cc[1])\n",
    "    centr_ids.add(idx)\n",
    "print(f\"Centroid ids in Paradise: {centr_ids}\")"
   ],
   "outputs": []
  },
  {
   "cell_type": "code",
   "execution_count": 22,
   "metadata": {
    "ExecuteTime": {
     "end_time": "2024-04-21T00:16:09.449242Z",
     "start_time": "2024-04-21T00:16:09.445783Z"
    },
    "collapsed": false
   },
   "source": [
    "# This function is provided for you.\n",
    "\n",
    "def aggregate_intensity(wf, cent_ids):\n",
    "    \"\"\"\n",
    "    Aggregate the intensity for the first probabilistic fire season in the given centroid ids.\n",
    "    wf: WildFire object\n",
    "    cent_ids: a set of centroid ids\n",
    "    \"\"\"\n",
    "    intensity_lst = []\n",
    "    for event in wf.prob_fire_seasons[0]:\n",
    "        for centr_idx in cent_ids:\n",
    "            intensity = event[0, centr_idx]\n",
    "            if intensity>0:\n",
    "                intensity_lst.append(intensity)\n",
    "    return intensity_lst"
   ],
   "outputs": []
  },
  {
   "cell_type": "code",
   "execution_count": 23,
   "metadata": {
    "ExecuteTime": {
     "end_time": "2024-04-21T00:16:09.547885Z",
     "start_time": "2024-04-21T00:16:09.470515Z"
    },
    "collapsed": false
   },
   "source": [
    "### plot the histogram of the intensity\n",
    "# Hint: use the function aggregate_intensity to get the aggregated intensity list.\n",
    "intensity_list = aggregate_intensity(wf_year_ca, centr_ids)\n",
    "plt.hist(intensity_list, bins=10, edgecolor='black')\n",
    "plt.show()\n",
    "\n",
    "print(f\"Number of datapoints in fire season (has aggregated to 4km*4km): \"\n",
    "      f\"{len(intensity_list)}\")"
   ],
   "outputs": []
  },
  {
   "cell_type": "markdown",
   "metadata": {
    "collapsed": false
   },
   "source": [
    "### 3.3.2 For the probabilistic fire season, across all the centroids for Paradise, what is the 95th percentile wildfire intensity?"
   ]
  },
  {
   "cell_type": "code",
   "execution_count": 24,
   "metadata": {
    "ExecuteTime": {
     "end_time": "2024-04-21T00:16:09.551179Z",
     "start_time": "2024-04-21T00:16:09.545714Z"
    },
    "collapsed": false
   },
   "source": [
    "print(f\"95th percentile fire intensity in Paradise: {np.percentile(intensity_list, 95)} K\")"
   ],
   "outputs": []
  },
  {
   "cell_type": "markdown",
   "metadata": {
    "collapsed": false
   },
   "source": [
    "## 3.4 Introduce perturbations to simulation parameters in the probabilistic season generation, and conduct analysis.\n"
   ]
  },
  {
   "cell_type": "markdown",
   "metadata": {
    "collapsed": false
   },
   "source": [
    "### 3.4.1 Change the overall fire propagation probability from 0.21 to 0.12, simulate probabilistic fire season, and repeat 3.1 and 3.2. Specifically,\n",
    "+ Simulate probabilistic fire season and visualize the simulated fire season in a map.\n",
    "+ Plot the distribution of wildfire intensity across all the centroids in the city of Paradise.\n",
    "+ Compute the 95th percentile wildfire intensity. How they different from the previous results? Explain the reason."
   ]
  },
  {
   "cell_type": "code",
   "execution_count": 25,
   "metadata": {
    "ExecuteTime": {
     "end_time": "2024-04-21T00:16:26.681537Z",
     "start_time": "2024-04-21T00:16:09.554774Z"
    },
    "collapsed": false
   },
   "source": [
    "# Hint: Intensities of probabilistic fire seasons are drawn randomly from historic events.\n",
    "#       Thus, probabilistic simulation requires at least one historical fire to draw from.\n",
    "# Hint: For some logic of analysis later on, it is recommended to \n",
    "#       run the following two lines even if you have already run them before.\n",
    "wf_year_ca = WildFire()\n",
    "wf_year_ca.set_hist_fire_seasons_FIRMS(df_firms_year_ca, centr_res_factor=res_factor)\n",
    "\n",
    "wf_year_ca.ProbaParams.prop_proba = 0.12\n",
    "# IMPORTANT: set keep_all_fires=True to keep all fires in the simulation.\n",
    "# This will allow you to access the simulated event later.\n",
    "wf_year_ca.set_proba_fire_seasons(n_fire_seasons=1, n_ignitions=ign_range, keep_all_fires=True)\n",
    "print('The probabilistic season is appended to the historic season:', \n",
    "      \"event_names\", wf_year_ca.event_name,\n",
    "      \"event_ids\", wf_year_ca.event_id)"
   ],
   "outputs": []
  },
  {
   "cell_type": "code",
   "execution_count": 26,
   "metadata": {
    "ExecuteTime": {
     "end_time": "2024-04-21T00:16:30.137149Z",
     "start_time": "2024-04-21T00:16:26.679935Z"
    },
    "collapsed": false
   },
   "source": [
    "### plot the new simulated event. can be accessed through .event_id\n",
    "wf_year_ca.plot_intensity(event=wf_year_ca.event_id[-1])"
   ],
   "outputs": []
  },
  {
   "cell_type": "code",
   "execution_count": 27,
   "metadata": {
    "ExecuteTime": {
     "end_time": "2024-04-21T00:16:30.312336Z",
     "start_time": "2024-04-21T00:16:30.141773Z"
    },
    "collapsed": false
   },
   "source": [
    "### plot the histogram of the intensity\n",
    "intensity_list = aggregate_intensity(wf_year_ca, centr_ids)\n",
    "plt.hist(intensity_list, bins=10, edgecolor='black')\n",
    "plt.show()\n",
    "\n",
    "print(f\"Number of datapoints in fire season (has aggregated to 4km*4km): \"\n",
    "      f\"{len(intensity_list)}\")"
   ],
   "outputs": []
  },
  {
   "cell_type": "code",
   "execution_count": 28,
   "metadata": {
    "ExecuteTime": {
     "end_time": "2024-04-21T00:16:30.316740Z",
     "start_time": "2024-04-21T00:16:30.210407Z"
    },
    "collapsed": false
   },
   "source": [
    "print(f\"95th percentile fire intensity in Paradise: {np.percentile(intensity_list, 95)} K\")"
   ],
   "outputs": []
  },
  {
   "cell_type": "markdown",
   "metadata": {
    "collapsed": false
   },
   "source": [
    "### 3.4.2 Change overall fire propagation probability from 0.21 to 0.26, simulate probabilistic fire season, repeat 3.1 and 3.2. Specifically,\n",
    "+ Simulate probabilistic fire season and visualize the simulated fire season in a map.\n",
    "+ Plot the distribution of wildfire intensity across all the centroids in the city of Paradise.\n",
    "+ Compute the 95th percentile wildfire intensity. How they different from the previous results? Explain the reason. "
   ]
  },
  {
   "cell_type": "code",
   "execution_count": 29,
   "metadata": {
    "ExecuteTime": {
     "end_time": "2024-04-21T00:16:50.772818Z",
     "start_time": "2024-04-21T00:16:30.215336Z"
    },
    "collapsed": false
   },
   "source": [
    "# Hint: Intensities of probabilistic fire seasons are drawn randomly from historic events.\n",
    "#       Thus, probabilistic simulation requires at least one historical fire to draw from.\n",
    "# Hint: For some logic of analysis later on, it is recommended to \n",
    "#       run the following two lines even if you have already run them before.\n",
    "wf_year_ca = WildFire()\n",
    "wf_year_ca.set_hist_fire_seasons_FIRMS(df_firms_year_ca, centr_res_factor=res_factor)\n",
    "\n",
    "wf_year_ca.ProbaParams.prop_proba = 0.26\n",
    "# IMPORTANT: set keep_all_fires=True to keep all fires in the simulation.\n",
    "# This will allow you to access the simulated event later.\n",
    "wf_year_ca.set_proba_fire_seasons(n_fire_seasons=1, n_ignitions=ign_range, keep_all_fires=True)\n",
    "print('The probabilistic season is appended to the historic season:', \n",
    "      \"event_names\", wf_year_ca.event_name,\n",
    "      \"event_ids\", wf_year_ca.event_id)"
   ],
   "outputs": []
  },
  {
   "cell_type": "code",
   "execution_count": 30,
   "metadata": {
    "ExecuteTime": {
     "end_time": "2024-04-21T00:16:54.461776Z",
     "start_time": "2024-04-21T00:16:50.773640Z"
    },
    "collapsed": false
   },
   "source": [
    "### plot the new simulated event. can be accessed through .event_id\n",
    "wf_year_ca.plot_intensity(event=wf_year_ca.event_id[-1])"
   ],
   "outputs": []
  },
  {
   "cell_type": "code",
   "execution_count": 31,
   "metadata": {
    "ExecuteTime": {
     "end_time": "2024-04-21T00:16:54.541537Z",
     "start_time": "2024-04-21T00:16:54.461274Z"
    },
    "collapsed": false
   },
   "source": [
    "### plot the histogram of the intensity\n",
    "intensity_list = aggregate_intensity(wf_year_ca, centr_ids)\n",
    "plt.hist(intensity_list, bins=10, edgecolor='black')\n",
    "plt.show()\n",
    "\n",
    "print(f\"Number of datapoints in fire season (has aggregated to 4km*4km): \"\n",
    "      f\"{len(intensity_list)}\")"
   ],
   "outputs": []
  },
  {
   "cell_type": "code",
   "execution_count": 32,
   "metadata": {
    "ExecuteTime": {
     "end_time": "2024-04-21T00:16:54.545356Z",
     "start_time": "2024-04-21T00:16:54.541791Z"
    },
    "collapsed": false
   },
   "source": [
    "print(f\"95th percentile fire intensity in Paradise: {np.percentile(intensity_list, 95)} K\")"
   ],
   "outputs": []
  },
  {
   "cell_type": "markdown",
   "metadata": {
    "collapsed": false
   },
   "source": [
    "## 3.5 If global warming continues, how will you link future climate scenarios (e.g., RCP 8.5) to CLIMADA model to analyze the impact from wildfire?"
   ]
  },
  {
   "cell_type": "markdown",
   "metadata": {
    "collapsed": false
   },
   "source": [
    "Please provide your answer here:\n",
    "\n",
    "\n"
   ]
  }
 ],
 "metadata": {
  "celltoolbar": "Raw Cell Format",
  "kernelspec": {
   "display_name": "Python 3 (ipykernel)",
   "language": "python",
   "name": "python3"
  },
  "language_info": {
   "codemirror_mode": {
    "name": "ipython",
    "version": 3
   },
   "file_extension": ".py",
   "mimetype": "text/x-python",
   "name": "python",
   "nbconvert_exporter": "python",
   "pygments_lexer": "ipython3",
   "version": "3.9.19"
  }
 },
 "nbformat": 4,
 "nbformat_minor": 4
}
