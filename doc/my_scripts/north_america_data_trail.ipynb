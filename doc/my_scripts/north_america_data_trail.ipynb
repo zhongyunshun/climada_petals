{
 "cells": [
  {
   "cell_type": "code",
   "execution_count": 1,
   "id": "initial_id",
   "metadata": {
    "collapsed": true,
    "ExecuteTime": {
     "end_time": "2024-06-24T21:40:37.295786Z",
     "start_time": "2024-06-24T21:40:36.834109Z"
    }
   },
   "outputs": [],
   "source": [
    "import os\n",
    "import pandas as pd\n",
    "import geopandas as gpd\n",
    "import xarray as xr"
   ]
  },
  {
   "cell_type": "code",
   "outputs": [],
   "source": [
    "folder = '../../climada_petals/data/wildfire/copernicus_fwi/interpolated25/'\n",
    "# only NetCDF works for interpolated data\n",
    "file = 'fwi_interpolated20_23.nc'\n",
    "ds = xr.open_dataset(os.path.join(folder, file))\n",
    "\n",
    "# Convert xarray Dataset to pandas DataFrame\n",
    "df = ds.to_dataframe().reset_index()"
   ],
   "metadata": {
    "collapsed": false,
    "ExecuteTime": {
     "end_time": "2024-06-24T21:50:26.854807Z",
     "start_time": "2024-06-24T21:50:25.286953Z"
    }
   },
   "id": "98a56b8b13abca19",
   "execution_count": 4
  },
  {
   "cell_type": "code",
   "outputs": [
    {
     "data": {
      "text/plain": "(34381713, 7)"
     },
     "execution_count": 6,
     "metadata": {},
     "output_type": "execute_result"
    }
   ],
   "source": [
    "df.shape"
   ],
   "metadata": {
    "collapsed": false,
    "ExecuteTime": {
     "end_time": "2024-06-24T21:50:47.802958Z",
     "start_time": "2024-06-24T21:50:47.791959Z"
    }
   },
   "id": "b3ed839d3dc76728",
   "execution_count": 6
  },
  {
   "cell_type": "code",
   "outputs": [
    {
     "name": "stdout",
     "output_type": "stream",
     "text": [
      "               time  latitude  longitude            step  surface  \\\n",
      "0        2020-01-01      49.0     235.00 0 days 12:00:00      0.0   \n",
      "1        2020-01-01      49.0     235.25 0 days 12:00:00      0.0   \n",
      "2        2020-01-01      49.0     235.50 0 days 12:00:00      0.0   \n",
      "3        2020-01-01      49.0     235.75 0 days 12:00:00      0.0   \n",
      "4        2020-01-01      49.0     236.00 0 days 12:00:00      0.0   \n",
      "...             ...       ...        ...             ...      ...   \n",
      "34381708 2023-12-31      24.0     292.00 0 days 12:00:00      0.0   \n",
      "34381709 2023-12-31      24.0     292.25 0 days 12:00:00      0.0   \n",
      "34381710 2023-12-31      24.0     292.50 0 days 12:00:00      0.0   \n",
      "34381711 2023-12-31      24.0     292.75 0 days 12:00:00      0.0   \n",
      "34381712 2023-12-31      24.0     293.00 0 days 12:00:00      0.0   \n",
      "\n",
      "                  valid_time         fwinx                    geometry  \n",
      "0        2020-01-01 12:00:00  1.777642e-09  POINT (235.00000 49.00000)  \n",
      "1        2020-01-01 12:00:00  1.777642e-09  POINT (235.25000 49.00000)  \n",
      "2        2020-01-01 12:00:00  1.777642e-09  POINT (235.50000 49.00000)  \n",
      "3        2020-01-01 12:00:00  1.777642e-09  POINT (235.75000 49.00000)  \n",
      "4        2020-01-01 12:00:00  1.953127e-03  POINT (236.00000 49.00000)  \n",
      "...                      ...           ...                         ...  \n",
      "34381708 2023-12-31 12:00:00           NaN  POINT (292.00000 24.00000)  \n",
      "34381709 2023-12-31 12:00:00           NaN  POINT (292.25000 24.00000)  \n",
      "34381710 2023-12-31 12:00:00           NaN  POINT (292.50000 24.00000)  \n",
      "34381711 2023-12-31 12:00:00           NaN  POINT (292.75000 24.00000)  \n",
      "34381712 2023-12-31 12:00:00           NaN  POINT (293.00000 24.00000)  \n",
      "\n",
      "[34381713 rows x 8 columns]\n"
     ]
    }
   ],
   "source": [
    "# Assuming the NetCDF file contains 'latitude' and 'longitude' columns\n",
    "gdf = gpd.GeoDataFrame(df, geometry=gpd.points_from_xy(df.longitude, df.latitude))\n",
    "\n",
    "# Optional: Set the coordinate reference system (CRS)\n",
    "gdf.set_crs(epsg=4326, inplace=True)  # Assuming WGS84\n",
    "\n",
    "# Save the GeoDataFrame to a file (optional)\n",
    "# gdf.to_file('output_file.shp')\n",
    "\n",
    "# Display the GeoDataFrame\n",
    "print(gdf)"
   ],
   "metadata": {
    "collapsed": false,
    "ExecuteTime": {
     "end_time": "2024-06-24T21:51:19.094259Z",
     "start_time": "2024-06-24T21:51:04.395217Z"
    }
   },
   "id": "e8cf6b5a55f25cb3",
   "execution_count": 7
  },
  {
   "cell_type": "code",
   "outputs": [],
   "source": [],
   "metadata": {
    "collapsed": false
   },
   "id": "be3e018f0d01125c"
  },
  {
   "cell_type": "code",
   "outputs": [],
   "source": [],
   "metadata": {
    "collapsed": false
   },
   "id": "2965490f811796a0"
  },
  {
   "cell_type": "code",
   "outputs": [],
   "source": [],
   "metadata": {
    "collapsed": false
   },
   "id": "3fbc5711d88fc6c8"
  },
  {
   "cell_type": "code",
   "outputs": [],
   "source": [],
   "metadata": {
    "collapsed": false
   },
   "id": "d6ab750db5a8cec3"
  },
  {
   "cell_type": "code",
   "outputs": [],
   "source": [],
   "metadata": {
    "collapsed": false
   },
   "id": "b6449b5be6e18b89"
  },
  {
   "cell_type": "code",
   "outputs": [],
   "source": [],
   "metadata": {
    "collapsed": false
   },
   "id": "53c218c6258fcdcf"
  },
  {
   "cell_type": "code",
   "outputs": [],
   "source": [],
   "metadata": {
    "collapsed": false
   },
   "id": "8768b0a0ee07a06b"
  }
 ],
 "metadata": {
  "kernelspec": {
   "display_name": "Python 3",
   "language": "python",
   "name": "python3"
  },
  "language_info": {
   "codemirror_mode": {
    "name": "ipython",
    "version": 2
   },
   "file_extension": ".py",
   "mimetype": "text/x-python",
   "name": "python",
   "nbconvert_exporter": "python",
   "pygments_lexer": "ipython2",
   "version": "2.7.6"
  }
 },
 "nbformat": 4,
 "nbformat_minor": 5
}
