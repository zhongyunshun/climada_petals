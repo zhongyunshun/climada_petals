{
 "cells": [
  {
   "cell_type": "code",
   "execution_count": null,
   "id": "initial_id",
   "metadata": {
    "collapsed": true
   },
   "outputs": [],
   "source": [
    "# Please always run this cell at the beginning of your notebook!\n",
    "import os\n",
    "import pandas as pd\n",
    "import numpy as np\n",
    "import matplotlib.pyplot as plt\n",
    "\n",
    "np.random.seed(42)  # please make sure you run this line so that your results are reproducible\n",
    "\n",
    "WF_YEAR_FILE = 'modis_2018_United_Kingdom.csv'\n",
    "WF_RESOLUTION_KM = 1.0  # set resolution to 4 km\n",
    "WF_RESOLUTION_ARCSEC = 30  # 120 arcsec ~ 4 km\n",
    "\n",
    "# geographic boundaries for UK. format: (lon_min, lat_min, lon_max, lat_max)\n",
    "GEO_BOUND_UK = (-10, 49, 2, 61)"
   ]
  },
  {
   "cell_type": "code",
   "outputs": [],
   "source": [
    "from climada_petals.hazard import WildFire\n",
    "from climada.hazard import Centroids\n",
    "from climada.util.constants import ONE_LAT_KM\n",
    "from climada.entity import ImpactFuncSet\n",
    "from climada_petals.entity.impact_funcs.wildfire import ImpfWildfire\n",
    "from climada.entity import LitPop\n",
    "from climada.engine import Impact\n",
    "from climada.engine import ImpactCalc\n",
    "# You would get a FutureWarning here. You can ignore it.\n",
    "# Please do not change the dependencies of CLIMADA. \n",
    "# They are very complex and may not work properly if you change them."
   ],
   "metadata": {
    "collapsed": false
   },
   "id": "d958dc57272537fd"
  },
  {
   "cell_type": "code",
   "outputs": [],
   "source": [
    "# set the hazard resolution to 1 km. The provided data is at 1 km. Need a scaling factor of 1/1:\n",
    "res_factor = 1./WF_RESOLUTION_KM"
   ],
   "metadata": {
    "collapsed": false
   },
   "id": "1027a938460f2d9c"
  },
  {
   "cell_type": "code",
   "outputs": [],
   "source": [
    "# This function is provided for you.\n",
    "def select_region(df, bound):\n",
    "    \"\"\"\n",
    "    Select the region of interest from the dataframe.\n",
    "    df: hazard dataframe\n",
    "    bound: tuple in format (lon_min, lat_min, lon_max, lat_max)\n",
    "    \"\"\"\n",
    "    return df[(df['longitude'] >= bound[0]) & \n",
    "              (df['latitude'] >= bound[1]) & \n",
    "              (df['longitude'] <= bound[2]) & \n",
    "              (df['latitude'] <= bound[3])]"
   ],
   "metadata": {
    "collapsed": false
   },
   "id": "3c918dd97407a90e"
  },
  {
   "cell_type": "code",
   "outputs": [],
   "source": [
    "### load the year data\n",
    "df_firms_year = pd.read_csv(os.path.join('../climada_petals/data', WF_YEAR_FILE))\n",
    "# focus on California region\n",
    "df_firms_year_uk = select_region(df_firms_year, GEO_BOUND_UK)\n",
    "df_firms_year_uk"
   ],
   "metadata": {
    "collapsed": false
   },
   "id": "442ae52a1aae64e4"
  },
  {
   "cell_type": "code",
   "outputs": [],
   "source": [
    "wf_year_uk = WildFire()\n",
    "wf_year_uk.set_hist_fire_seasons_FIRMS(df_firms_year_uk, centr_res_factor=res_factor)"
   ],
   "metadata": {
    "collapsed": false
   },
   "id": "c11ad30e642b8c54"
  },
  {
   "cell_type": "markdown",
   "source": [
    "### set_proba_fire_seasons default function calling"
   ],
   "metadata": {
    "collapsed": false
   },
   "id": "7b29cc2c12f78f63"
  },
  {
   "cell_type": "code",
   "outputs": [],
   "source": [
    "### simulate.\n",
    "num_fires_ca = int(wf_year_uk.n_fires.item())\n",
    "ign_range = [num_fires_ca,num_fires_ca+1]"
   ],
   "metadata": {
    "collapsed": false
   },
   "id": "648afc0dc9c65192"
  },
  {
   "cell_type": "code",
   "outputs": [],
   "source": [
    "wf_year_uk.ProbaParams.prop_proba = 0.21\n",
    "# IMPORTANT: set keep_all_fires=True to keep all fires in the simulation.\n",
    "# This will allow you to access the simulated event later.\n",
    "wf_year_uk.set_proba_fire_seasons(n_fire_seasons=1, n_ignitions=ign_range, keep_all_fires=True)\n",
    "print('The probabilistic season is appended to the historic season:', \n",
    "      \"event_names\", wf_year_uk.event_name,\n",
    "      \"event_ids\", wf_year_uk.event_id)"
   ],
   "metadata": {
    "collapsed": false
   },
   "id": "f34afc953a11b41a"
  },
  {
   "cell_type": "code",
   "outputs": [],
   "source": [
    "### plot the new simulated event. can be accessed through .event_id\n",
    "wf_year_uk.plot_intensity(event=wf_year_uk.event_id[-1])"
   ],
   "metadata": {
    "collapsed": false
   },
   "id": "5d0d89f0e18e146"
  },
  {
   "cell_type": "markdown",
   "source": [
    "### Generate coordinates of fired points"
   ],
   "metadata": {
    "collapsed": false
   },
   "id": "8ff03f0ec5024b4f"
  },
  {
   "cell_type": "code",
   "outputs": [],
   "source": [
    "def simulate_fire_probability_array_from_ML_algorithms():\n",
    "    # return an array of fire probabilities and corresponding coordinates\n",
    "    res_deg = WF_RESOLUTION_ARCSEC / ONE_LAT_KM\n",
    "    "
   ],
   "metadata": {
    "collapsed": false
   },
   "id": "d227849660ade920"
  },
  {
   "cell_type": "code",
   "outputs": [],
   "source": [],
   "metadata": {
    "collapsed": false
   },
   "id": "82b68a17debbc9a0"
  }
 ],
 "metadata": {
  "kernelspec": {
   "display_name": "Python 3",
   "language": "python",
   "name": "python3"
  },
  "language_info": {
   "codemirror_mode": {
    "name": "ipython",
    "version": 2
   },
   "file_extension": ".py",
   "mimetype": "text/x-python",
   "name": "python",
   "nbconvert_exporter": "python",
   "pygments_lexer": "ipython2",
   "version": "2.7.6"
  }
 },
 "nbformat": 4,
 "nbformat_minor": 5
}
