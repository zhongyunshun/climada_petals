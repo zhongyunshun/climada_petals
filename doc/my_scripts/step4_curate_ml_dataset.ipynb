{
 "cells": [
  {
   "cell_type": "code",
   "execution_count": 2,
   "id": "initial_id",
   "metadata": {
    "collapsed": true,
    "ExecuteTime": {
     "end_time": "2024-07-10T20:03:35.682512Z",
     "start_time": "2024-07-10T20:03:35.422444Z"
    }
   },
   "outputs": [],
   "source": [
    "import os\n",
    "import pandas as pd\n",
    "import geopandas as gpd\n",
    "import xarray as xr\n",
    "import math\n",
    "import rasterio\n",
    "from rasterio.merge import merge\n",
    "from rasterio.io import MemoryFile\n",
    "import numpy as np\n",
    "from rasterio.io import MemoryFile\n",
    "from rasterio.windows import Window\n",
    "\n",
    "from sklearn.metrics import accuracy_score, classification_report, confusion_matrix\n",
    "from sklearn.preprocessing import StandardScaler\n",
    "from sklearn.pipeline import make_pipeline"
   ]
  },
  {
   "cell_type": "markdown",
   "source": [
    "**Build ML models to predict fire ignition for a pixel**\n",
    "\n",
    "Features: FWI, lat, lon, elevation (2010), landcover (2015), distance, month\n",
    "Label: ignited or not ignited\n",
    "Model: XGBoost\n",
    "Optimization Method: Beyas optimization using Optuna\n",
    "Data range: EU\n",
    "\n",
    "Steps:\n",
    "1. Merge positive and negative labels of fire intensity and FWi data\n",
    "    1.1 Load left join data (fire intensity left join FWI, resolution 1km) and count how many data points it has\n",
    "    1.2 Assign positive labels (ignited) to the data points with distance <= 31 * sqrt(2) / 2 and only keep rows with positive labels\n",
    "    1.3 Load right join data (fire intensity right join FWI, resolution 31km) and count how may data points it has\n",
    "    1.4 Down sampling the data to match the number of left join data\n",
    "    1.5 Assign negative labels (ignited) to the data points with distance > 31 * sqrt(2) / 2 and only keep rows with negative labels\n",
    "    1.6 Merge data and save the geo dataframe and save the dataframe\n",
    "2. Add land cover (aggregated) data to pixel according to lon and lat\n",
    "    2.1 Load land cover shapefile and convert to geopandas dataframe\n",
    "    2.2 for each pixel (1x1 for left and 31x31 for right), calculate the average probability of fire ignition according to Clamada Master thesis Table 2.1\n",
    "3. Add elevation data to pixel according to lon and lat\n",
    "    3.1 Load elevation shapefile and convert to geopandas dataframe\n",
    "    3.2 for each pixel (1x1 for left and 31x31 for right), calculate the average elevation\n",
    "4. Build ML models to predict whether a pixel is ignited\n",
    "5. Tune hyperparameters"
   ],
   "metadata": {
    "collapsed": false
   },
   "id": "5fe3253d5ff1073e"
  },
  {
   "cell_type": "markdown",
   "source": [
    "Issue solved:\n",
    "\n",
    "1. Longitude range in right joined dataset was not correct. Now correct after rerun the code.\n",
    "2. If the lon and lat can't be find in the elevation data raster, it will be converted to indices outside the raster. Now it will be converted to the nearest valid elevation."
   ],
   "metadata": {
    "collapsed": false
   },
   "id": "4f48a537375b325d"
  },
  {
   "cell_type": "markdown",
   "source": [
    "# 1. Merge positive and negative labels of fire intensity and FWi data"
   ],
   "metadata": {
    "collapsed": false
   },
   "id": "3d3aabccea4f94e7"
  },
  {
   "cell_type": "code",
   "outputs": [],
   "source": [
    "from geopy.distance import great_circle\n",
    "\n",
    "# Define a function to calculate the distance\n",
    "def calculate_distance(row):\n",
    "    coords_1 = (row['latitude_left'], row['longitude_left'])\n",
    "    coords_2 = (row['latitude_right'], row['longitude_right'])\n",
    "    return great_circle(coords_1, coords_2).kilometers\n",
    "\n",
    "folder = '../../climada_petals/data/wildfire/output/2013/'"
   ],
   "metadata": {
    "collapsed": false,
    "ExecuteTime": {
     "end_time": "2024-07-10T20:03:37.684110Z",
     "start_time": "2024-07-10T20:03:37.617110Z"
    }
   },
   "id": "b6a2992c413fe567",
   "execution_count": 3
  },
  {
   "cell_type": "markdown",
   "source": [
    "## 1.1 Load left join data (fire intensity left join FWI, resolution 1km)"
   ],
   "metadata": {
    "collapsed": false
   },
   "id": "f81472b45b28901b"
  },
  {
   "cell_type": "code",
   "outputs": [
    {
     "data": {
      "text/plain": "(78382, 17)"
     },
     "execution_count": 4,
     "metadata": {},
     "output_type": "execute_result"
    }
   ],
   "source": [
    "merged_eu_2013_left_gdf_filename = 'merged_eu_2013_left_gdf'\n",
    "df_left_join = gpd.read_file(os.path.join(folder, merged_eu_2013_left_gdf_filename))\n",
    "df_left_join.shape"
   ],
   "metadata": {
    "collapsed": false,
    "ExecuteTime": {
     "end_time": "2024-07-10T20:04:00.482262Z",
     "start_time": "2024-07-10T20:03:53.375877Z"
    }
   },
   "id": "cdd6820f25c1393e",
   "execution_count": 4
  },
  {
   "cell_type": "code",
   "outputs": [],
   "source": [
    "# Apply the function to each row in the GeoDataFrame and create a new column 'distance_km'\n",
    "df_left_join['distance_km'] = df_left_join.apply(calculate_distance, axis=1)"
   ],
   "metadata": {
    "collapsed": false,
    "ExecuteTime": {
     "end_time": "2024-07-10T20:04:01.416061Z",
     "start_time": "2024-07-10T20:04:00.483263Z"
    }
   },
   "id": "892df198804f701d",
   "execution_count": 5
  },
  {
   "cell_type": "code",
   "outputs": [
    {
     "data": {
      "text/plain": "count    78382.000000\nmean         9.123286\nstd          3.588911\nmin          0.035163\n25%          6.526173\n50%          9.238830\n75%         12.049334\nmax         17.695499\nName: distance_km, dtype: float64"
     },
     "execution_count": 6,
     "metadata": {},
     "output_type": "execute_result"
    }
   ],
   "source": [
    "df_left_join['distance_km'].describe()"
   ],
   "metadata": {
    "collapsed": false,
    "ExecuteTime": {
     "end_time": "2024-07-10T20:04:01.431821Z",
     "start_time": "2024-07-10T20:04:01.417061Z"
    }
   },
   "id": "17975093fd6b7dfc",
   "execution_count": 6
  },
  {
   "cell_type": "code",
   "outputs": [
    {
     "data": {
      "text/plain": "count    78382.000000\nmean        22.953229\nstd         14.650091\nmin        -29.313700\n25%         13.488950\n50%         27.629200\n75%         35.057125\nmax         39.999500\nName: longitude_left, dtype: float64"
     },
     "execution_count": 7,
     "metadata": {},
     "output_type": "execute_result"
    }
   ],
   "source": [
    "df_left_join['longitude_left'].describe()"
   ],
   "metadata": {
    "collapsed": false,
    "ExecuteTime": {
     "end_time": "2024-07-10T20:04:01.479821Z",
     "start_time": "2024-07-10T20:04:01.432821Z"
    }
   },
   "id": "6db45cc440bcd006",
   "execution_count": 7
  },
  {
   "cell_type": "code",
   "outputs": [
    {
     "data": {
      "text/plain": "       latitude_left  longitude_left  brightness satellite instrument  \\\n0            35.8073         -0.2538       310.2      Aqua      MODIS   \n1            47.8587         33.4466       308.0     Terra      MODIS   \n2            49.6728         18.6611       307.4     Terra      MODIS   \n3            37.3934         39.4902       303.1      Aqua      MODIS   \n4            36.8729          6.9397       320.8     Terra      MODIS   \n...              ...             ...         ...       ...        ...   \n78377        52.1556         10.4051       307.4      Aqua      MODIS   \n78378        52.1535         10.3907       300.4      Aqua      MODIS   \n78379        35.8027         -0.2461       310.6      Aqua      MODIS   \n78380        54.5777         -1.1428       310.4     Terra      MODIS   \n78381        54.5803         -1.1271       306.4     Terra      MODIS   \n\n       confidence  bright_t31   frp daynight      index  latitude_right  \\\n0              79       277.6  25.0        N     313919           35.75   \n1              63       272.6  27.4        D     243494           47.75   \n2              57       276.5  12.8        D     231915           49.75   \n3              55       287.0  14.4        D     302558           37.50   \n4              75       286.9  32.9        D     306748           36.75   \n...           ...         ...   ...      ...        ...             ...   \n78377          65       276.4  10.9        D  378136842           52.25   \n78378          19       276.3   6.7        D  378136842           52.25   \n78379          29       283.8  43.8        D  378233279           35.75   \n78380          71       275.8  15.6        N  378125275           54.50   \n78381          44       275.5  12.7        N  378125275           54.50   \n\n       longitude_right  surface       fwi  distance        date  \\\n0                -0.25      0.0  6.847656  0.057426  2013-01-01   \n1                33.50      0.0  0.214844  0.121108  2013-01-01   \n2                18.75      0.0  1.417969  0.117741  2013-01-01   \n3                39.50      0.0  3.445312  0.107050  2013-01-01   \n4                 7.00      0.0  3.714844  0.136896  2013-01-01   \n...                ...      ...       ...       ...         ...   \n78377            10.50      0.0  0.230469  0.133856  2013-12-31   \n78378            10.50      0.0  0.230469  0.145804  2013-12-31   \n78379            -0.25      0.0  0.609375  0.052844  2013-12-31   \n78380            -1.25      0.0  0.085938  0.132398  2013-12-31   \n78381            -1.25      0.0  0.085938  0.146808  2013-12-31   \n\n                        geometry  distance_km  \n0      POINT (-0.25380 35.80730)     6.380693  \n1      POINT (33.44660 47.85870)    12.727889  \n2      POINT (18.66110 49.67280)    10.702774  \n3      POINT (39.49020 37.39340)    11.884926  \n4       POINT (6.93970 36.87290)    14.682411  \n...                          ...          ...  \n78377  POINT (10.40510 52.15560)    12.329164  \n78378  POINT (10.39070 52.15350)    13.062298  \n78379  POINT (-0.24610 35.80270)     5.870533  \n78380  POINT (-1.14280 54.57770)    11.066649  \n78381  POINT (-1.12710 54.58030)    11.940677  \n\n[78382 rows x 18 columns]",
      "text/html": "<div>\n<style scoped>\n    .dataframe tbody tr th:only-of-type {\n        vertical-align: middle;\n    }\n\n    .dataframe tbody tr th {\n        vertical-align: top;\n    }\n\n    .dataframe thead th {\n        text-align: right;\n    }\n</style>\n<table border=\"1\" class=\"dataframe\">\n  <thead>\n    <tr style=\"text-align: right;\">\n      <th></th>\n      <th>latitude_left</th>\n      <th>longitude_left</th>\n      <th>brightness</th>\n      <th>satellite</th>\n      <th>instrument</th>\n      <th>confidence</th>\n      <th>bright_t31</th>\n      <th>frp</th>\n      <th>daynight</th>\n      <th>index</th>\n      <th>latitude_right</th>\n      <th>longitude_right</th>\n      <th>surface</th>\n      <th>fwi</th>\n      <th>distance</th>\n      <th>date</th>\n      <th>geometry</th>\n      <th>distance_km</th>\n    </tr>\n  </thead>\n  <tbody>\n    <tr>\n      <th>0</th>\n      <td>35.8073</td>\n      <td>-0.2538</td>\n      <td>310.2</td>\n      <td>Aqua</td>\n      <td>MODIS</td>\n      <td>79</td>\n      <td>277.6</td>\n      <td>25.0</td>\n      <td>N</td>\n      <td>313919</td>\n      <td>35.75</td>\n      <td>-0.25</td>\n      <td>0.0</td>\n      <td>6.847656</td>\n      <td>0.057426</td>\n      <td>2013-01-01</td>\n      <td>POINT (-0.25380 35.80730)</td>\n      <td>6.380693</td>\n    </tr>\n    <tr>\n      <th>1</th>\n      <td>47.8587</td>\n      <td>33.4466</td>\n      <td>308.0</td>\n      <td>Terra</td>\n      <td>MODIS</td>\n      <td>63</td>\n      <td>272.6</td>\n      <td>27.4</td>\n      <td>D</td>\n      <td>243494</td>\n      <td>47.75</td>\n      <td>33.50</td>\n      <td>0.0</td>\n      <td>0.214844</td>\n      <td>0.121108</td>\n      <td>2013-01-01</td>\n      <td>POINT (33.44660 47.85870)</td>\n      <td>12.727889</td>\n    </tr>\n    <tr>\n      <th>2</th>\n      <td>49.6728</td>\n      <td>18.6611</td>\n      <td>307.4</td>\n      <td>Terra</td>\n      <td>MODIS</td>\n      <td>57</td>\n      <td>276.5</td>\n      <td>12.8</td>\n      <td>D</td>\n      <td>231915</td>\n      <td>49.75</td>\n      <td>18.75</td>\n      <td>0.0</td>\n      <td>1.417969</td>\n      <td>0.117741</td>\n      <td>2013-01-01</td>\n      <td>POINT (18.66110 49.67280)</td>\n      <td>10.702774</td>\n    </tr>\n    <tr>\n      <th>3</th>\n      <td>37.3934</td>\n      <td>39.4902</td>\n      <td>303.1</td>\n      <td>Aqua</td>\n      <td>MODIS</td>\n      <td>55</td>\n      <td>287.0</td>\n      <td>14.4</td>\n      <td>D</td>\n      <td>302558</td>\n      <td>37.50</td>\n      <td>39.50</td>\n      <td>0.0</td>\n      <td>3.445312</td>\n      <td>0.107050</td>\n      <td>2013-01-01</td>\n      <td>POINT (39.49020 37.39340)</td>\n      <td>11.884926</td>\n    </tr>\n    <tr>\n      <th>4</th>\n      <td>36.8729</td>\n      <td>6.9397</td>\n      <td>320.8</td>\n      <td>Terra</td>\n      <td>MODIS</td>\n      <td>75</td>\n      <td>286.9</td>\n      <td>32.9</td>\n      <td>D</td>\n      <td>306748</td>\n      <td>36.75</td>\n      <td>7.00</td>\n      <td>0.0</td>\n      <td>3.714844</td>\n      <td>0.136896</td>\n      <td>2013-01-01</td>\n      <td>POINT (6.93970 36.87290)</td>\n      <td>14.682411</td>\n    </tr>\n    <tr>\n      <th>...</th>\n      <td>...</td>\n      <td>...</td>\n      <td>...</td>\n      <td>...</td>\n      <td>...</td>\n      <td>...</td>\n      <td>...</td>\n      <td>...</td>\n      <td>...</td>\n      <td>...</td>\n      <td>...</td>\n      <td>...</td>\n      <td>...</td>\n      <td>...</td>\n      <td>...</td>\n      <td>...</td>\n      <td>...</td>\n      <td>...</td>\n    </tr>\n    <tr>\n      <th>78377</th>\n      <td>52.1556</td>\n      <td>10.4051</td>\n      <td>307.4</td>\n      <td>Aqua</td>\n      <td>MODIS</td>\n      <td>65</td>\n      <td>276.4</td>\n      <td>10.9</td>\n      <td>D</td>\n      <td>378136842</td>\n      <td>52.25</td>\n      <td>10.50</td>\n      <td>0.0</td>\n      <td>0.230469</td>\n      <td>0.133856</td>\n      <td>2013-12-31</td>\n      <td>POINT (10.40510 52.15560)</td>\n      <td>12.329164</td>\n    </tr>\n    <tr>\n      <th>78378</th>\n      <td>52.1535</td>\n      <td>10.3907</td>\n      <td>300.4</td>\n      <td>Aqua</td>\n      <td>MODIS</td>\n      <td>19</td>\n      <td>276.3</td>\n      <td>6.7</td>\n      <td>D</td>\n      <td>378136842</td>\n      <td>52.25</td>\n      <td>10.50</td>\n      <td>0.0</td>\n      <td>0.230469</td>\n      <td>0.145804</td>\n      <td>2013-12-31</td>\n      <td>POINT (10.39070 52.15350)</td>\n      <td>13.062298</td>\n    </tr>\n    <tr>\n      <th>78379</th>\n      <td>35.8027</td>\n      <td>-0.2461</td>\n      <td>310.6</td>\n      <td>Aqua</td>\n      <td>MODIS</td>\n      <td>29</td>\n      <td>283.8</td>\n      <td>43.8</td>\n      <td>D</td>\n      <td>378233279</td>\n      <td>35.75</td>\n      <td>-0.25</td>\n      <td>0.0</td>\n      <td>0.609375</td>\n      <td>0.052844</td>\n      <td>2013-12-31</td>\n      <td>POINT (-0.24610 35.80270)</td>\n      <td>5.870533</td>\n    </tr>\n    <tr>\n      <th>78380</th>\n      <td>54.5777</td>\n      <td>-1.1428</td>\n      <td>310.4</td>\n      <td>Terra</td>\n      <td>MODIS</td>\n      <td>71</td>\n      <td>275.8</td>\n      <td>15.6</td>\n      <td>N</td>\n      <td>378125275</td>\n      <td>54.50</td>\n      <td>-1.25</td>\n      <td>0.0</td>\n      <td>0.085938</td>\n      <td>0.132398</td>\n      <td>2013-12-31</td>\n      <td>POINT (-1.14280 54.57770)</td>\n      <td>11.066649</td>\n    </tr>\n    <tr>\n      <th>78381</th>\n      <td>54.5803</td>\n      <td>-1.1271</td>\n      <td>306.4</td>\n      <td>Terra</td>\n      <td>MODIS</td>\n      <td>44</td>\n      <td>275.5</td>\n      <td>12.7</td>\n      <td>N</td>\n      <td>378125275</td>\n      <td>54.50</td>\n      <td>-1.25</td>\n      <td>0.0</td>\n      <td>0.085938</td>\n      <td>0.146808</td>\n      <td>2013-12-31</td>\n      <td>POINT (-1.12710 54.58030)</td>\n      <td>11.940677</td>\n    </tr>\n  </tbody>\n</table>\n<p>78382 rows × 18 columns</p>\n</div>"
     },
     "execution_count": 8,
     "metadata": {},
     "output_type": "execute_result"
    }
   ],
   "source": [
    "df_left_join"
   ],
   "metadata": {
    "collapsed": false,
    "ExecuteTime": {
     "end_time": "2024-07-10T20:04:01.543821Z",
     "start_time": "2024-07-10T20:04:01.480821Z"
    }
   },
   "id": "dfeaf18980238e88",
   "execution_count": 8
  },
  {
   "cell_type": "code",
   "outputs": [],
   "source": [
    "# only keep the relevant rows\n",
    "df_left_join = df_left_join[['latitude_left', 'longitude_left', 'brightness', 'confidence', 'bright_t31', 'fwi', 'distance_km', 'date', 'geometry']]"
   ],
   "metadata": {
    "collapsed": false,
    "ExecuteTime": {
     "end_time": "2024-07-10T20:04:01.591821Z",
     "start_time": "2024-07-10T20:04:01.544821Z"
    }
   },
   "id": "1ccd6d6e394a3657",
   "execution_count": 9
  },
  {
   "cell_type": "markdown",
   "source": [
    "## 1.2 Assign positive labels (ignited) to the data points with distance <= 31 * sqrt(2) / 2 and only keep rows with positive labels"
   ],
   "metadata": {
    "collapsed": false
   },
   "id": "c6cae0624cbc5d67"
  },
  {
   "cell_type": "code",
   "outputs": [],
   "source": [
    "# Drop rows with distance_km > 31 km\n",
    "df_left_join = df_left_join[df_left_join['distance_km'] <= 31 * math.sqrt(2) / 2 ]\n",
    "# Drop rows with confidence < 30\n",
    "df_left_join = df_left_join[df_left_join['confidence'] >= 30]"
   ],
   "metadata": {
    "collapsed": false,
    "ExecuteTime": {
     "end_time": "2024-07-10T20:04:01.623821Z",
     "start_time": "2024-07-10T20:04:01.592821Z"
    }
   },
   "id": "ff2f339d9beb90a2",
   "execution_count": 10
  },
  {
   "cell_type": "code",
   "outputs": [
    {
     "data": {
      "text/plain": "(73505, 9)"
     },
     "execution_count": 11,
     "metadata": {},
     "output_type": "execute_result"
    }
   ],
   "source": [
    "df_left_join.shape"
   ],
   "metadata": {
    "collapsed": false,
    "ExecuteTime": {
     "end_time": "2024-07-10T20:04:01.655821Z",
     "start_time": "2024-07-10T20:04:01.624821Z"
    }
   },
   "id": "fbe5f1a8bf791bde",
   "execution_count": 11
  },
  {
   "cell_type": "code",
   "outputs": [],
   "source": [
    "df_left_join['ignited'] = True"
   ],
   "metadata": {
    "collapsed": false,
    "ExecuteTime": {
     "end_time": "2024-07-10T20:04:02.632742Z",
     "start_time": "2024-07-10T20:04:02.628742Z"
    }
   },
   "id": "b6a70e685c23b146",
   "execution_count": 12
  },
  {
   "cell_type": "markdown",
   "source": [
    "## 1.3 Load and down sampling right join data (fire intensity right join FWI, resolution 31km)"
   ],
   "metadata": {
    "collapsed": false
   },
   "id": "be3e070159861638"
  },
  {
   "cell_type": "code",
   "outputs": [
    {
     "data": {
      "text/plain": "(15915825, 17)"
     },
     "execution_count": 13,
     "metadata": {},
     "output_type": "execute_result"
    }
   ],
   "source": [
    "folder = '../../climada_petals/data/wildfire/output/2013/'\n",
    "# only NetCDF works for interpolated data\n",
    "file = 'merged_eu_2013_right_gdf'\n",
    "df = gpd.read_file(os.path.join(folder, file))\n",
    "\n",
    "df.shape"
   ],
   "metadata": {
    "collapsed": false,
    "ExecuteTime": {
     "end_time": "2024-07-10T20:29:06.017075Z",
     "start_time": "2024-07-10T20:04:04.873035Z"
    }
   },
   "id": "98a56b8b13abca19",
   "execution_count": 13
  },
  {
   "cell_type": "code",
   "outputs": [
    {
     "data": {
      "text/plain": "7846770"
     },
     "execution_count": 14,
     "metadata": {},
     "output_type": "execute_result"
    }
   ],
   "source": [
    "df['fwi'].isna().sum()"
   ],
   "metadata": {
    "collapsed": false,
    "ExecuteTime": {
     "end_time": "2024-07-10T20:29:06.048715Z",
     "start_time": "2024-07-10T20:29:06.017619Z"
    }
   },
   "id": "79e16ab732e3e654",
   "execution_count": 14
  },
  {
   "cell_type": "code",
   "outputs": [],
   "source": [
    "df.dropna(subset=['fwi'], inplace=True)"
   ],
   "metadata": {
    "collapsed": false,
    "ExecuteTime": {
     "end_time": "2024-07-10T20:43:46.608396Z",
     "start_time": "2024-07-10T20:43:42.171848Z"
    }
   },
   "id": "beb08d248dfade4e",
   "execution_count": 15
  },
  {
   "cell_type": "code",
   "outputs": [
    {
     "data": {
      "text/plain": "0"
     },
     "execution_count": 16,
     "metadata": {},
     "output_type": "execute_result"
    }
   ],
   "source": [
    "df['fwi'].isna().sum()"
   ],
   "metadata": {
    "collapsed": false,
    "ExecuteTime": {
     "end_time": "2024-07-10T20:43:46.623162Z",
     "start_time": "2024-07-10T20:43:46.609395Z"
    }
   },
   "id": "86205882cc9fed56",
   "execution_count": 16
  },
  {
   "cell_type": "code",
   "outputs": [
    {
     "data": {
      "text/plain": "     latitude_left  longitude_left  brightness satellite instrument  \\\n161        51.3698          6.7047       310.6     Terra      MODIS   \n162        51.3698          6.7047       310.6     Terra      MODIS   \n163        51.3698          6.7047       310.6     Terra      MODIS   \n164        51.3698          6.7047       310.6     Terra      MODIS   \n165        51.3698          6.7047       310.6     Terra      MODIS   \n\n     confidence  bright_t31   frp daynight   index  latitude_right  \\\n161          81       275.0  15.6        N  104996            72.0   \n162          81       275.0  15.6        N  104997            72.0   \n163          81       275.0  15.6        N  104998            72.0   \n164          81       275.0  15.6        N  104999            72.0   \n165          81       275.0  15.6        N  105000            72.0   \n\n     longitude_right  surface       fwi   distance        date  \\\n161           -31.00      0.0  2.660156  42.979641  2013-01-01   \n162           -30.75      0.0  2.871094  42.760492  2013-01-01   \n163           -30.50      0.0  2.761719  42.541684  2013-01-01   \n164           -30.25      0.0  2.644531  42.323221  2013-01-01   \n165           -30.00      0.0  2.027344  42.105108  2013-01-01   \n\n                       geometry  \n161  POINT (-31.00000 72.00000)  \n162  POINT (-30.75000 72.00000)  \n163  POINT (-30.50000 72.00000)  \n164  POINT (-30.25000 72.00000)  \n165  POINT (-30.00000 72.00000)  ",
      "text/html": "<div>\n<style scoped>\n    .dataframe tbody tr th:only-of-type {\n        vertical-align: middle;\n    }\n\n    .dataframe tbody tr th {\n        vertical-align: top;\n    }\n\n    .dataframe thead th {\n        text-align: right;\n    }\n</style>\n<table border=\"1\" class=\"dataframe\">\n  <thead>\n    <tr style=\"text-align: right;\">\n      <th></th>\n      <th>latitude_left</th>\n      <th>longitude_left</th>\n      <th>brightness</th>\n      <th>satellite</th>\n      <th>instrument</th>\n      <th>confidence</th>\n      <th>bright_t31</th>\n      <th>frp</th>\n      <th>daynight</th>\n      <th>index</th>\n      <th>latitude_right</th>\n      <th>longitude_right</th>\n      <th>surface</th>\n      <th>fwi</th>\n      <th>distance</th>\n      <th>date</th>\n      <th>geometry</th>\n    </tr>\n  </thead>\n  <tbody>\n    <tr>\n      <th>161</th>\n      <td>51.3698</td>\n      <td>6.7047</td>\n      <td>310.6</td>\n      <td>Terra</td>\n      <td>MODIS</td>\n      <td>81</td>\n      <td>275.0</td>\n      <td>15.6</td>\n      <td>N</td>\n      <td>104996</td>\n      <td>72.0</td>\n      <td>-31.00</td>\n      <td>0.0</td>\n      <td>2.660156</td>\n      <td>42.979641</td>\n      <td>2013-01-01</td>\n      <td>POINT (-31.00000 72.00000)</td>\n    </tr>\n    <tr>\n      <th>162</th>\n      <td>51.3698</td>\n      <td>6.7047</td>\n      <td>310.6</td>\n      <td>Terra</td>\n      <td>MODIS</td>\n      <td>81</td>\n      <td>275.0</td>\n      <td>15.6</td>\n      <td>N</td>\n      <td>104997</td>\n      <td>72.0</td>\n      <td>-30.75</td>\n      <td>0.0</td>\n      <td>2.871094</td>\n      <td>42.760492</td>\n      <td>2013-01-01</td>\n      <td>POINT (-30.75000 72.00000)</td>\n    </tr>\n    <tr>\n      <th>163</th>\n      <td>51.3698</td>\n      <td>6.7047</td>\n      <td>310.6</td>\n      <td>Terra</td>\n      <td>MODIS</td>\n      <td>81</td>\n      <td>275.0</td>\n      <td>15.6</td>\n      <td>N</td>\n      <td>104998</td>\n      <td>72.0</td>\n      <td>-30.50</td>\n      <td>0.0</td>\n      <td>2.761719</td>\n      <td>42.541684</td>\n      <td>2013-01-01</td>\n      <td>POINT (-30.50000 72.00000)</td>\n    </tr>\n    <tr>\n      <th>164</th>\n      <td>51.3698</td>\n      <td>6.7047</td>\n      <td>310.6</td>\n      <td>Terra</td>\n      <td>MODIS</td>\n      <td>81</td>\n      <td>275.0</td>\n      <td>15.6</td>\n      <td>N</td>\n      <td>104999</td>\n      <td>72.0</td>\n      <td>-30.25</td>\n      <td>0.0</td>\n      <td>2.644531</td>\n      <td>42.323221</td>\n      <td>2013-01-01</td>\n      <td>POINT (-30.25000 72.00000)</td>\n    </tr>\n    <tr>\n      <th>165</th>\n      <td>51.3698</td>\n      <td>6.7047</td>\n      <td>310.6</td>\n      <td>Terra</td>\n      <td>MODIS</td>\n      <td>81</td>\n      <td>275.0</td>\n      <td>15.6</td>\n      <td>N</td>\n      <td>105000</td>\n      <td>72.0</td>\n      <td>-30.00</td>\n      <td>0.0</td>\n      <td>2.027344</td>\n      <td>42.105108</td>\n      <td>2013-01-01</td>\n      <td>POINT (-30.00000 72.00000)</td>\n    </tr>\n  </tbody>\n</table>\n</div>"
     },
     "execution_count": 17,
     "metadata": {},
     "output_type": "execute_result"
    }
   ],
   "source": [
    "df.head()"
   ],
   "metadata": {
    "collapsed": false,
    "ExecuteTime": {
     "end_time": "2024-07-10T20:43:48.903339Z",
     "start_time": "2024-07-10T20:43:48.883340Z"
    }
   },
   "id": "54f8ad5508abe08b",
   "execution_count": 17
  },
  {
   "cell_type": "code",
   "outputs": [
    {
     "data": {
      "text/plain": "count    8.069055e+06\nmean     1.636234e+01\nstd      1.617003e+01\nmin     -3.100000e+01\n25%      6.000000e+00\n50%      1.875000e+01\n75%      2.925000e+01\nmax      4.000000e+01\nName: longitude_right, dtype: float64"
     },
     "execution_count": 18,
     "metadata": {},
     "output_type": "execute_result"
    }
   ],
   "source": [
    "df['longitude_right'].describe()"
   ],
   "metadata": {
    "collapsed": false,
    "ExecuteTime": {
     "end_time": "2024-07-10T20:43:49.545497Z",
     "start_time": "2024-07-10T20:43:49.438015Z"
    }
   },
   "id": "2c792f629c7f3189",
   "execution_count": 18
  },
  {
   "cell_type": "markdown",
   "source": [
    "## 1.4 Down sampling the data to match the number of left join data"
   ],
   "metadata": {
    "collapsed": false
   },
   "id": "3d8ae16960663147"
  },
  {
   "cell_type": "code",
   "outputs": [],
   "source": [
    "# Randomly sample 100,000 rows without replacement\n",
    "df_right_join = df.sample(n=100000, replace=False, random_state=42)"
   ],
   "metadata": {
    "collapsed": false,
    "ExecuteTime": {
     "end_time": "2024-07-10T20:44:25.821599Z",
     "start_time": "2024-07-10T20:44:25.601898Z"
    }
   },
   "id": "4b71e76804b0be06",
   "execution_count": 19
  },
  {
   "cell_type": "code",
   "outputs": [],
   "source": [
    "# Apply the function to each row in the GeoDataFrame and create a new column 'distance_km'\n",
    "df_right_join['distance_km'] = df_right_join.apply(calculate_distance, axis=1)"
   ],
   "metadata": {
    "collapsed": false,
    "ExecuteTime": {
     "end_time": "2024-07-10T20:44:28.205428Z",
     "start_time": "2024-07-10T20:44:26.968816Z"
    }
   },
   "id": "b3ed839d3dc76728",
   "execution_count": 20
  },
  {
   "cell_type": "code",
   "outputs": [
    {
     "data": {
      "text/plain": "count    100000.000000\nmean        696.373660\nstd         680.180202\nmin           0.648141\n25%         203.730283\n50%         450.184479\n75%         974.244231\nmax        4460.044308\nName: distance_km, dtype: float64"
     },
     "execution_count": 21,
     "metadata": {},
     "output_type": "execute_result"
    }
   ],
   "source": [
    "df_right_join['distance_km'].describe()"
   ],
   "metadata": {
    "collapsed": false,
    "ExecuteTime": {
     "end_time": "2024-07-10T20:44:28.221338Z",
     "start_time": "2024-07-10T20:44:28.206428Z"
    }
   },
   "id": "be3e018f0d01125c",
   "execution_count": 21
  },
  {
   "cell_type": "code",
   "outputs": [
    {
     "data": {
      "text/plain": "          latitude_left  longitude_left  brightness satellite instrument  \\\n9248119         67.9987         31.1807       303.0      Aqua      MODIS   \n3826700         51.1718          3.8173       307.8      Aqua      MODIS   \n6859465         64.6636         21.2850       307.5      Aqua      MODIS   \n3386366         43.2701          3.0019       305.9      Aqua      MODIS   \n10976317        45.0290         27.7902       321.8      Aqua      MODIS   \n...                 ...             ...         ...       ...        ...   \n8776895         60.1828         12.0131       304.7     Terra      MODIS   \n11078400        42.8878         -9.1271       321.9      Aqua      MODIS   \n12042471        54.4075         21.7102       315.5      Aqua      MODIS   \n11331126        42.1679         24.6028       314.1      Aqua      MODIS   \n15332986        42.2255         -1.3877       301.3     Terra      MODIS   \n\n          confidence  bright_t31   frp daynight      index  latitude_right  \\\n9248119           53       281.3  15.4        N  220229434           68.75   \n3826700           57       271.9  20.2        N   90597605           43.00   \n6859465           54       284.4  12.3        N  163175125           60.25   \n3386366           47       285.8   5.8        D   80193596           47.00   \n10976317          65       307.5  10.4        D  260860432           44.50   \n...              ...         ...   ...      ...        ...             ...   \n8776895            0       292.3  12.1        D  208851875           61.25   \n11078400          56       290.5  22.7        N  263830920           69.75   \n12042471          76       284.9  15.7        D  286695441           65.50   \n11331126          50       298.6  32.9        D  269196576           39.25   \n15332986          46       280.8   7.2        D  364665586           48.00   \n\n          longitude_right  surface           fwi   distance        date  \\\n9248119             38.50      0.0  3.363281e+00   7.357758  2013-08-01   \n3826700              1.25      0.0  2.382812e-01   8.565591  2013-03-29   \n6859465             21.25      0.0  8.203125e-01   4.413739  2013-06-07   \n3386366             -1.00      0.0  5.078125e-02   5.470590  2013-03-19   \n10976317            28.00      0.0  2.052344e+01   0.569084  2013-09-09   \n...                   ...      ...           ...        ...         ...   \n8776895              8.75      0.0  8.535156e+00   3.433182  2013-07-21   \n11078400           -30.00      0.0  1.850602e-09  34.018462  2013-09-12   \n12042471            20.25      0.0  4.882812e-01  11.188196  2013-10-04   \n11331126            24.00      0.0  3.125000e+00   2.979515  2013-09-17   \n15332986            -3.50      0.0  1.328125e-01   6.148712  2013-12-18   \n\n                            geometry  distance_km  \n9248119    POINT (38.50000 68.75000)   311.149650  \n3826700     POINT (1.25000 43.00000)   929.065539  \n6859465    POINT (21.25000 60.25000)   490.773902  \n3386366    POINT (-1.00000 47.00000)   519.996506  \n10976317   POINT (28.00000 44.50000)    61.109696  \n...                              ...          ...  \n8776895     POINT (8.75000 61.25000)   213.457403  \n11078400  POINT (-30.00000 69.75000)  3213.688301  \n12042471   POINT (20.25000 65.50000)  1236.024186  \n11331126   POINT (24.00000 39.25000)   328.407676  \n15332986   POINT (-3.50000 48.00000)   663.074065  \n\n[100000 rows x 18 columns]",
      "text/html": "<div>\n<style scoped>\n    .dataframe tbody tr th:only-of-type {\n        vertical-align: middle;\n    }\n\n    .dataframe tbody tr th {\n        vertical-align: top;\n    }\n\n    .dataframe thead th {\n        text-align: right;\n    }\n</style>\n<table border=\"1\" class=\"dataframe\">\n  <thead>\n    <tr style=\"text-align: right;\">\n      <th></th>\n      <th>latitude_left</th>\n      <th>longitude_left</th>\n      <th>brightness</th>\n      <th>satellite</th>\n      <th>instrument</th>\n      <th>confidence</th>\n      <th>bright_t31</th>\n      <th>frp</th>\n      <th>daynight</th>\n      <th>index</th>\n      <th>latitude_right</th>\n      <th>longitude_right</th>\n      <th>surface</th>\n      <th>fwi</th>\n      <th>distance</th>\n      <th>date</th>\n      <th>geometry</th>\n      <th>distance_km</th>\n    </tr>\n  </thead>\n  <tbody>\n    <tr>\n      <th>9248119</th>\n      <td>67.9987</td>\n      <td>31.1807</td>\n      <td>303.0</td>\n      <td>Aqua</td>\n      <td>MODIS</td>\n      <td>53</td>\n      <td>281.3</td>\n      <td>15.4</td>\n      <td>N</td>\n      <td>220229434</td>\n      <td>68.75</td>\n      <td>38.50</td>\n      <td>0.0</td>\n      <td>3.363281e+00</td>\n      <td>7.357758</td>\n      <td>2013-08-01</td>\n      <td>POINT (38.50000 68.75000)</td>\n      <td>311.149650</td>\n    </tr>\n    <tr>\n      <th>3826700</th>\n      <td>51.1718</td>\n      <td>3.8173</td>\n      <td>307.8</td>\n      <td>Aqua</td>\n      <td>MODIS</td>\n      <td>57</td>\n      <td>271.9</td>\n      <td>20.2</td>\n      <td>N</td>\n      <td>90597605</td>\n      <td>43.00</td>\n      <td>1.25</td>\n      <td>0.0</td>\n      <td>2.382812e-01</td>\n      <td>8.565591</td>\n      <td>2013-03-29</td>\n      <td>POINT (1.25000 43.00000)</td>\n      <td>929.065539</td>\n    </tr>\n    <tr>\n      <th>6859465</th>\n      <td>64.6636</td>\n      <td>21.2850</td>\n      <td>307.5</td>\n      <td>Aqua</td>\n      <td>MODIS</td>\n      <td>54</td>\n      <td>284.4</td>\n      <td>12.3</td>\n      <td>N</td>\n      <td>163175125</td>\n      <td>60.25</td>\n      <td>21.25</td>\n      <td>0.0</td>\n      <td>8.203125e-01</td>\n      <td>4.413739</td>\n      <td>2013-06-07</td>\n      <td>POINT (21.25000 60.25000)</td>\n      <td>490.773902</td>\n    </tr>\n    <tr>\n      <th>3386366</th>\n      <td>43.2701</td>\n      <td>3.0019</td>\n      <td>305.9</td>\n      <td>Aqua</td>\n      <td>MODIS</td>\n      <td>47</td>\n      <td>285.8</td>\n      <td>5.8</td>\n      <td>D</td>\n      <td>80193596</td>\n      <td>47.00</td>\n      <td>-1.00</td>\n      <td>0.0</td>\n      <td>5.078125e-02</td>\n      <td>5.470590</td>\n      <td>2013-03-19</td>\n      <td>POINT (-1.00000 47.00000)</td>\n      <td>519.996506</td>\n    </tr>\n    <tr>\n      <th>10976317</th>\n      <td>45.0290</td>\n      <td>27.7902</td>\n      <td>321.8</td>\n      <td>Aqua</td>\n      <td>MODIS</td>\n      <td>65</td>\n      <td>307.5</td>\n      <td>10.4</td>\n      <td>D</td>\n      <td>260860432</td>\n      <td>44.50</td>\n      <td>28.00</td>\n      <td>0.0</td>\n      <td>2.052344e+01</td>\n      <td>0.569084</td>\n      <td>2013-09-09</td>\n      <td>POINT (28.00000 44.50000)</td>\n      <td>61.109696</td>\n    </tr>\n    <tr>\n      <th>...</th>\n      <td>...</td>\n      <td>...</td>\n      <td>...</td>\n      <td>...</td>\n      <td>...</td>\n      <td>...</td>\n      <td>...</td>\n      <td>...</td>\n      <td>...</td>\n      <td>...</td>\n      <td>...</td>\n      <td>...</td>\n      <td>...</td>\n      <td>...</td>\n      <td>...</td>\n      <td>...</td>\n      <td>...</td>\n      <td>...</td>\n    </tr>\n    <tr>\n      <th>8776895</th>\n      <td>60.1828</td>\n      <td>12.0131</td>\n      <td>304.7</td>\n      <td>Terra</td>\n      <td>MODIS</td>\n      <td>0</td>\n      <td>292.3</td>\n      <td>12.1</td>\n      <td>D</td>\n      <td>208851875</td>\n      <td>61.25</td>\n      <td>8.75</td>\n      <td>0.0</td>\n      <td>8.535156e+00</td>\n      <td>3.433182</td>\n      <td>2013-07-21</td>\n      <td>POINT (8.75000 61.25000)</td>\n      <td>213.457403</td>\n    </tr>\n    <tr>\n      <th>11078400</th>\n      <td>42.8878</td>\n      <td>-9.1271</td>\n      <td>321.9</td>\n      <td>Aqua</td>\n      <td>MODIS</td>\n      <td>56</td>\n      <td>290.5</td>\n      <td>22.7</td>\n      <td>N</td>\n      <td>263830920</td>\n      <td>69.75</td>\n      <td>-30.00</td>\n      <td>0.0</td>\n      <td>1.850602e-09</td>\n      <td>34.018462</td>\n      <td>2013-09-12</td>\n      <td>POINT (-30.00000 69.75000)</td>\n      <td>3213.688301</td>\n    </tr>\n    <tr>\n      <th>12042471</th>\n      <td>54.4075</td>\n      <td>21.7102</td>\n      <td>315.5</td>\n      <td>Aqua</td>\n      <td>MODIS</td>\n      <td>76</td>\n      <td>284.9</td>\n      <td>15.7</td>\n      <td>D</td>\n      <td>286695441</td>\n      <td>65.50</td>\n      <td>20.25</td>\n      <td>0.0</td>\n      <td>4.882812e-01</td>\n      <td>11.188196</td>\n      <td>2013-10-04</td>\n      <td>POINT (20.25000 65.50000)</td>\n      <td>1236.024186</td>\n    </tr>\n    <tr>\n      <th>11331126</th>\n      <td>42.1679</td>\n      <td>24.6028</td>\n      <td>314.1</td>\n      <td>Aqua</td>\n      <td>MODIS</td>\n      <td>50</td>\n      <td>298.6</td>\n      <td>32.9</td>\n      <td>D</td>\n      <td>269196576</td>\n      <td>39.25</td>\n      <td>24.00</td>\n      <td>0.0</td>\n      <td>3.125000e+00</td>\n      <td>2.979515</td>\n      <td>2013-09-17</td>\n      <td>POINT (24.00000 39.25000)</td>\n      <td>328.407676</td>\n    </tr>\n    <tr>\n      <th>15332986</th>\n      <td>42.2255</td>\n      <td>-1.3877</td>\n      <td>301.3</td>\n      <td>Terra</td>\n      <td>MODIS</td>\n      <td>46</td>\n      <td>280.8</td>\n      <td>7.2</td>\n      <td>D</td>\n      <td>364665586</td>\n      <td>48.00</td>\n      <td>-3.50</td>\n      <td>0.0</td>\n      <td>1.328125e-01</td>\n      <td>6.148712</td>\n      <td>2013-12-18</td>\n      <td>POINT (-3.50000 48.00000)</td>\n      <td>663.074065</td>\n    </tr>\n  </tbody>\n</table>\n<p>100000 rows × 18 columns</p>\n</div>"
     },
     "execution_count": 22,
     "metadata": {},
     "output_type": "execute_result"
    }
   ],
   "source": [
    "df_right_join"
   ],
   "metadata": {
    "collapsed": false,
    "ExecuteTime": {
     "end_time": "2024-07-10T20:44:32.749659Z",
     "start_time": "2024-07-10T20:44:32.732658Z"
    }
   },
   "id": "2965490f811796a0",
   "execution_count": 22
  },
  {
   "cell_type": "code",
   "outputs": [],
   "source": [
    "# only keep the relevant rows\n",
    "df_right_join = df_right_join[['latitude_right', 'longitude_right', 'brightness', 'confidence', 'bright_t31', 'fwi', 'distance_km', 'date', 'geometry']]"
   ],
   "metadata": {
    "collapsed": false,
    "ExecuteTime": {
     "end_time": "2024-07-10T20:44:36.263909Z",
     "start_time": "2024-07-10T20:44:36.254539Z"
    }
   },
   "id": "d6ab750db5a8cec3",
   "execution_count": 23
  },
  {
   "cell_type": "code",
   "outputs": [],
   "source": [
    "df_right_join.to_file(os.path.join(folder, f'merged_eu_2013_right_downsampled_gdf'), driver='GPKG')"
   ],
   "metadata": {
    "collapsed": false,
    "ExecuteTime": {
     "end_time": "2024-07-10T20:44:46.550277Z",
     "start_time": "2024-07-10T20:44:41.706839Z"
    }
   },
   "id": "9a2a54e16379f939",
   "execution_count": 24
  },
  {
   "cell_type": "code",
   "outputs": [
    {
     "data": {
      "text/plain": "count    100000.000000\nmean          4.474630\nstd          20.602765\nmin         -31.000000\n25%         -13.500000\n50%           4.500000\n75%          22.250000\nmax          40.000000\nName: longitude_right, dtype: float64"
     },
     "execution_count": 13,
     "metadata": {},
     "output_type": "execute_result"
    }
   ],
   "source": [
    "df_right_join = gpd.read_file(os.path.join(folder, 'merged_eu_2013_right_downsampled_gdf'))\n",
    "df_right_join['longitude_right'].describe()"
   ],
   "metadata": {
    "collapsed": false,
    "ExecuteTime": {
     "end_time": "2024-07-09T15:57:59.323050Z",
     "start_time": "2024-07-09T15:57:53.966041Z"
    }
   },
   "id": "3c94b0375333ca29",
   "execution_count": 13
  },
  {
   "cell_type": "markdown",
   "source": [
    "## 1.5 Assign negative labels (ignited) to the data points with distance > 31 * sqrt(2) / 2 and only keep rows with negative labels"
   ],
   "metadata": {
    "collapsed": false
   },
   "id": "3cfc13d95946f7e1"
  },
  {
   "cell_type": "code",
   "outputs": [],
   "source": [
    "# Drop rows with distance_km > 31 km\n",
    "df_right_join = df_right_join[df_right_join['distance_km'] > 31 * math.sqrt(2) / 2 ]\n",
    "# Drop rows with confidence < 30\n",
    "df_right_join = df_right_join[df_right_join['confidence'] >= 30]"
   ],
   "metadata": {
    "collapsed": false,
    "ExecuteTime": {
     "end_time": "2024-07-10T20:44:54.644746Z",
     "start_time": "2024-07-10T20:44:54.596746Z"
    }
   },
   "id": "221f3f8668ac0213",
   "execution_count": 25
  },
  {
   "cell_type": "code",
   "outputs": [
    {
     "data": {
      "text/plain": "(85419, 9)"
     },
     "execution_count": 26,
     "metadata": {},
     "output_type": "execute_result"
    }
   ],
   "source": [
    "df_right_join.shape"
   ],
   "metadata": {
    "collapsed": false,
    "ExecuteTime": {
     "end_time": "2024-07-10T20:44:55.039881Z",
     "start_time": "2024-07-10T20:44:55.032881Z"
    }
   },
   "id": "f7c71013a5d84d35",
   "execution_count": 26
  },
  {
   "cell_type": "code",
   "outputs": [],
   "source": [
    "df_right_join['ignited'] = False"
   ],
   "metadata": {
    "collapsed": false,
    "ExecuteTime": {
     "end_time": "2024-07-10T20:44:57.028955Z",
     "start_time": "2024-07-10T20:44:57.017955Z"
    }
   },
   "id": "57008c4baa48b37c",
   "execution_count": 27
  },
  {
   "cell_type": "markdown",
   "source": [
    "## 1.6 Merge data and save the geo dataframe and save the dataframe"
   ],
   "metadata": {
    "collapsed": false
   },
   "id": "9b57261879a2eb92"
  },
  {
   "cell_type": "code",
   "outputs": [
    {
     "data": {
      "text/plain": "       latitude_right  longitude_right  brightness  confidence  bright_t31  \\\n0               40.75            -0.25       307.4          54       295.4   \n1               42.75            23.75       301.6          47       283.5   \n2               55.75           -13.00       326.7          71       284.9   \n3               69.00            14.00       315.2          75       287.9   \n4               39.25            12.00       326.0         100       281.0   \n...               ...              ...         ...         ...         ...   \n99995           48.50           -20.75       303.1          47       288.5   \n99996           42.75             4.25       307.0          70       288.1   \n99997           54.75           -20.25       305.0          60       287.2   \n99998           51.50           -29.50       309.9          79       287.5   \n99999           53.50            -5.25       307.5          32       296.0   \n\n                fwi  distance_km        date                    geometry  \\\n0      2.605859e+01   258.512515  2013-07-28   POINT (-0.25000 40.75000)   \n1      1.855986e-09   961.118452  2013-01-27   POINT (23.75000 42.75000)   \n2               NaN   350.343726  2013-04-08  POINT (-13.00000 55.75000)   \n3      2.851562e-01  1034.104520  2013-05-03   POINT (14.00000 69.00000)   \n4               NaN   514.644749  2013-03-13   POINT (12.00000 39.25000)   \n...             ...          ...         ...                         ...   \n99995           NaN  1511.020307  2013-10-25  POINT (-20.75000 48.50000)   \n99996           NaN    93.131421  2013-10-05    POINT (4.25000 42.75000)   \n99997           NaN  2241.524404  2013-01-25  POINT (-20.25000 54.75000)   \n99998           NaN  1948.420714  2013-08-17  POINT (-29.50000 51.50000)   \n99999  5.195312e-01   795.311296  2013-09-20   POINT (-5.25000 53.50000)   \n\n       ignited  \n0        False  \n1        False  \n2        False  \n3        False  \n4        False  \n...        ...  \n99995    False  \n99996    False  \n99997    False  \n99998    False  \n99999    False  \n\n[86148 rows x 10 columns]",
      "text/html": "<div>\n<style scoped>\n    .dataframe tbody tr th:only-of-type {\n        vertical-align: middle;\n    }\n\n    .dataframe tbody tr th {\n        vertical-align: top;\n    }\n\n    .dataframe thead th {\n        text-align: right;\n    }\n</style>\n<table border=\"1\" class=\"dataframe\">\n  <thead>\n    <tr style=\"text-align: right;\">\n      <th></th>\n      <th>latitude_right</th>\n      <th>longitude_right</th>\n      <th>brightness</th>\n      <th>confidence</th>\n      <th>bright_t31</th>\n      <th>fwi</th>\n      <th>distance_km</th>\n      <th>date</th>\n      <th>geometry</th>\n      <th>ignited</th>\n    </tr>\n  </thead>\n  <tbody>\n    <tr>\n      <th>0</th>\n      <td>40.75</td>\n      <td>-0.25</td>\n      <td>307.4</td>\n      <td>54</td>\n      <td>295.4</td>\n      <td>2.605859e+01</td>\n      <td>258.512515</td>\n      <td>2013-07-28</td>\n      <td>POINT (-0.25000 40.75000)</td>\n      <td>False</td>\n    </tr>\n    <tr>\n      <th>1</th>\n      <td>42.75</td>\n      <td>23.75</td>\n      <td>301.6</td>\n      <td>47</td>\n      <td>283.5</td>\n      <td>1.855986e-09</td>\n      <td>961.118452</td>\n      <td>2013-01-27</td>\n      <td>POINT (23.75000 42.75000)</td>\n      <td>False</td>\n    </tr>\n    <tr>\n      <th>2</th>\n      <td>55.75</td>\n      <td>-13.00</td>\n      <td>326.7</td>\n      <td>71</td>\n      <td>284.9</td>\n      <td>NaN</td>\n      <td>350.343726</td>\n      <td>2013-04-08</td>\n      <td>POINT (-13.00000 55.75000)</td>\n      <td>False</td>\n    </tr>\n    <tr>\n      <th>3</th>\n      <td>69.00</td>\n      <td>14.00</td>\n      <td>315.2</td>\n      <td>75</td>\n      <td>287.9</td>\n      <td>2.851562e-01</td>\n      <td>1034.104520</td>\n      <td>2013-05-03</td>\n      <td>POINT (14.00000 69.00000)</td>\n      <td>False</td>\n    </tr>\n    <tr>\n      <th>4</th>\n      <td>39.25</td>\n      <td>12.00</td>\n      <td>326.0</td>\n      <td>100</td>\n      <td>281.0</td>\n      <td>NaN</td>\n      <td>514.644749</td>\n      <td>2013-03-13</td>\n      <td>POINT (12.00000 39.25000)</td>\n      <td>False</td>\n    </tr>\n    <tr>\n      <th>...</th>\n      <td>...</td>\n      <td>...</td>\n      <td>...</td>\n      <td>...</td>\n      <td>...</td>\n      <td>...</td>\n      <td>...</td>\n      <td>...</td>\n      <td>...</td>\n      <td>...</td>\n    </tr>\n    <tr>\n      <th>99995</th>\n      <td>48.50</td>\n      <td>-20.75</td>\n      <td>303.1</td>\n      <td>47</td>\n      <td>288.5</td>\n      <td>NaN</td>\n      <td>1511.020307</td>\n      <td>2013-10-25</td>\n      <td>POINT (-20.75000 48.50000)</td>\n      <td>False</td>\n    </tr>\n    <tr>\n      <th>99996</th>\n      <td>42.75</td>\n      <td>4.25</td>\n      <td>307.0</td>\n      <td>70</td>\n      <td>288.1</td>\n      <td>NaN</td>\n      <td>93.131421</td>\n      <td>2013-10-05</td>\n      <td>POINT (4.25000 42.75000)</td>\n      <td>False</td>\n    </tr>\n    <tr>\n      <th>99997</th>\n      <td>54.75</td>\n      <td>-20.25</td>\n      <td>305.0</td>\n      <td>60</td>\n      <td>287.2</td>\n      <td>NaN</td>\n      <td>2241.524404</td>\n      <td>2013-01-25</td>\n      <td>POINT (-20.25000 54.75000)</td>\n      <td>False</td>\n    </tr>\n    <tr>\n      <th>99998</th>\n      <td>51.50</td>\n      <td>-29.50</td>\n      <td>309.9</td>\n      <td>79</td>\n      <td>287.5</td>\n      <td>NaN</td>\n      <td>1948.420714</td>\n      <td>2013-08-17</td>\n      <td>POINT (-29.50000 51.50000)</td>\n      <td>False</td>\n    </tr>\n    <tr>\n      <th>99999</th>\n      <td>53.50</td>\n      <td>-5.25</td>\n      <td>307.5</td>\n      <td>32</td>\n      <td>296.0</td>\n      <td>5.195312e-01</td>\n      <td>795.311296</td>\n      <td>2013-09-20</td>\n      <td>POINT (-5.25000 53.50000)</td>\n      <td>False</td>\n    </tr>\n  </tbody>\n</table>\n<p>86148 rows × 10 columns</p>\n</div>"
     },
     "execution_count": 29,
     "metadata": {},
     "output_type": "execute_result"
    }
   ],
   "source": [
    "df_right_join"
   ],
   "metadata": {
    "collapsed": false,
    "ExecuteTime": {
     "end_time": "2024-07-09T17:07:50.825844Z",
     "start_time": "2024-07-09T17:07:50.813844Z"
    }
   },
   "id": "38d270a7fe274e42",
   "execution_count": 29
  },
  {
   "cell_type": "code",
   "outputs": [
    {
     "data": {
      "text/plain": "        latitude  longitude  brightness  confidence  bright_t31           fwi  \\\n0        35.8073    -0.2538       310.2          79       277.6  6.847656e+00   \n1        47.8587    33.4466       308.0          63       272.6  2.148438e-01   \n2        49.6728    18.6611       307.4          57       276.5  1.417969e+00   \n3        37.3934    39.4902       303.1          55       287.0  3.445312e+00   \n4        36.8729     6.9397       320.8          75       286.9  3.714844e+00   \n...          ...        ...         ...         ...         ...           ...   \n158919   52.7500    16.7500       313.0          58       297.9  4.812500e+00   \n158920   69.7500   -30.0000       321.9          56       290.5  1.850602e-09   \n158921   65.5000    20.2500       315.5          76       284.9  4.882812e-01   \n158922   39.2500    24.0000       314.1          50       298.6  3.125000e+00   \n158923   48.0000    -3.5000       301.3          46       280.8  1.328125e-01   \n\n        distance_km        date                    geometry  ignited  \n0          6.380693  2013-01-01   POINT (-0.25380 35.80730)     True  \n1         12.727889  2013-01-01   POINT (33.44660 47.85870)     True  \n2         10.702774  2013-01-01   POINT (18.66110 49.67280)     True  \n3         11.884926  2013-01-01   POINT (39.49020 37.39340)     True  \n4         14.682411  2013-01-01    POINT (6.93970 36.87290)     True  \n...             ...         ...                         ...      ...  \n158919   344.381719  2013-07-14   POINT (16.75000 52.75000)    False  \n158920  3213.688301  2013-09-12  POINT (-30.00000 69.75000)    False  \n158921  1236.024186  2013-10-04   POINT (20.25000 65.50000)    False  \n158922   328.407676  2013-09-17   POINT (24.00000 39.25000)    False  \n158923   663.074065  2013-12-18   POINT (-3.50000 48.00000)    False  \n\n[158924 rows x 10 columns]",
      "text/html": "<div>\n<style scoped>\n    .dataframe tbody tr th:only-of-type {\n        vertical-align: middle;\n    }\n\n    .dataframe tbody tr th {\n        vertical-align: top;\n    }\n\n    .dataframe thead th {\n        text-align: right;\n    }\n</style>\n<table border=\"1\" class=\"dataframe\">\n  <thead>\n    <tr style=\"text-align: right;\">\n      <th></th>\n      <th>latitude</th>\n      <th>longitude</th>\n      <th>brightness</th>\n      <th>confidence</th>\n      <th>bright_t31</th>\n      <th>fwi</th>\n      <th>distance_km</th>\n      <th>date</th>\n      <th>geometry</th>\n      <th>ignited</th>\n    </tr>\n  </thead>\n  <tbody>\n    <tr>\n      <th>0</th>\n      <td>35.8073</td>\n      <td>-0.2538</td>\n      <td>310.2</td>\n      <td>79</td>\n      <td>277.6</td>\n      <td>6.847656e+00</td>\n      <td>6.380693</td>\n      <td>2013-01-01</td>\n      <td>POINT (-0.25380 35.80730)</td>\n      <td>True</td>\n    </tr>\n    <tr>\n      <th>1</th>\n      <td>47.8587</td>\n      <td>33.4466</td>\n      <td>308.0</td>\n      <td>63</td>\n      <td>272.6</td>\n      <td>2.148438e-01</td>\n      <td>12.727889</td>\n      <td>2013-01-01</td>\n      <td>POINT (33.44660 47.85870)</td>\n      <td>True</td>\n    </tr>\n    <tr>\n      <th>2</th>\n      <td>49.6728</td>\n      <td>18.6611</td>\n      <td>307.4</td>\n      <td>57</td>\n      <td>276.5</td>\n      <td>1.417969e+00</td>\n      <td>10.702774</td>\n      <td>2013-01-01</td>\n      <td>POINT (18.66110 49.67280)</td>\n      <td>True</td>\n    </tr>\n    <tr>\n      <th>3</th>\n      <td>37.3934</td>\n      <td>39.4902</td>\n      <td>303.1</td>\n      <td>55</td>\n      <td>287.0</td>\n      <td>3.445312e+00</td>\n      <td>11.884926</td>\n      <td>2013-01-01</td>\n      <td>POINT (39.49020 37.39340)</td>\n      <td>True</td>\n    </tr>\n    <tr>\n      <th>4</th>\n      <td>36.8729</td>\n      <td>6.9397</td>\n      <td>320.8</td>\n      <td>75</td>\n      <td>286.9</td>\n      <td>3.714844e+00</td>\n      <td>14.682411</td>\n      <td>2013-01-01</td>\n      <td>POINT (6.93970 36.87290)</td>\n      <td>True</td>\n    </tr>\n    <tr>\n      <th>...</th>\n      <td>...</td>\n      <td>...</td>\n      <td>...</td>\n      <td>...</td>\n      <td>...</td>\n      <td>...</td>\n      <td>...</td>\n      <td>...</td>\n      <td>...</td>\n      <td>...</td>\n    </tr>\n    <tr>\n      <th>158919</th>\n      <td>52.7500</td>\n      <td>16.7500</td>\n      <td>313.0</td>\n      <td>58</td>\n      <td>297.9</td>\n      <td>4.812500e+00</td>\n      <td>344.381719</td>\n      <td>2013-07-14</td>\n      <td>POINT (16.75000 52.75000)</td>\n      <td>False</td>\n    </tr>\n    <tr>\n      <th>158920</th>\n      <td>69.7500</td>\n      <td>-30.0000</td>\n      <td>321.9</td>\n      <td>56</td>\n      <td>290.5</td>\n      <td>1.850602e-09</td>\n      <td>3213.688301</td>\n      <td>2013-09-12</td>\n      <td>POINT (-30.00000 69.75000)</td>\n      <td>False</td>\n    </tr>\n    <tr>\n      <th>158921</th>\n      <td>65.5000</td>\n      <td>20.2500</td>\n      <td>315.5</td>\n      <td>76</td>\n      <td>284.9</td>\n      <td>4.882812e-01</td>\n      <td>1236.024186</td>\n      <td>2013-10-04</td>\n      <td>POINT (20.25000 65.50000)</td>\n      <td>False</td>\n    </tr>\n    <tr>\n      <th>158922</th>\n      <td>39.2500</td>\n      <td>24.0000</td>\n      <td>314.1</td>\n      <td>50</td>\n      <td>298.6</td>\n      <td>3.125000e+00</td>\n      <td>328.407676</td>\n      <td>2013-09-17</td>\n      <td>POINT (24.00000 39.25000)</td>\n      <td>False</td>\n    </tr>\n    <tr>\n      <th>158923</th>\n      <td>48.0000</td>\n      <td>-3.5000</td>\n      <td>301.3</td>\n      <td>46</td>\n      <td>280.8</td>\n      <td>1.328125e-01</td>\n      <td>663.074065</td>\n      <td>2013-12-18</td>\n      <td>POINT (-3.50000 48.00000)</td>\n      <td>False</td>\n    </tr>\n  </tbody>\n</table>\n<p>158924 rows × 10 columns</p>\n</div>"
     },
     "execution_count": 28,
     "metadata": {},
     "output_type": "execute_result"
    }
   ],
   "source": [
    "# Rename the columns to match\n",
    "df_left_join = df_left_join.rename(columns={'latitude_left': 'latitude', 'longitude_left': 'longitude'})\n",
    "df_right_join = df_right_join.rename(columns={'latitude_right': 'latitude', 'longitude_right': 'longitude'})\n",
    "\n",
    "# Concatenate the GeoDataFrames\n",
    "gdf_concat = pd.concat([df_left_join, df_right_join], ignore_index=True)\n",
    "\n",
    "# Ensure the concatenated DataFrame is still a GeoDataFrame\n",
    "gdf_concat = gpd.GeoDataFrame(gdf_concat, geometry='geometry')\n",
    "gdf_concat"
   ],
   "metadata": {
    "collapsed": false,
    "ExecuteTime": {
     "end_time": "2024-07-10T20:45:10.978865Z",
     "start_time": "2024-07-10T20:45:10.935828Z"
    }
   },
   "id": "6f74ef6e588b7e2f",
   "execution_count": 28
  },
  {
   "cell_type": "code",
   "outputs": [],
   "source": [],
   "metadata": {
    "collapsed": false
   },
   "id": "6e219af03591a99d"
  },
  {
   "cell_type": "markdown",
   "source": [
    "# 2. Add land cover (aggregated) data to pixel according to lon and lat\n",
    "\n",
    "## 2.1 Load land cover shapefile and convert to geopandas dataframe"
   ],
   "metadata": {
    "collapsed": false
   },
   "id": "bec6c18cf5ad65f6"
  },
  {
   "cell_type": "code",
   "outputs": [],
   "source": [
    "land_cover_folder = '../../climada_petals/data/wildfire/land_cover/'\n",
    "land_cover_raster = rasterio.open(os.path.join(land_cover_folder, 'land_cover2015.tif'))\n",
    "\n",
    "\n",
    "# Define a function to get raster values at given points\n",
    "def get_raster_values(raster, points):\n",
    "    # Transform coordinates to raster's space\n",
    "    coords = [(pt.x, pt.y) for pt in points.geometry]\n",
    "    # Sample the raster at each coordinate\n",
    "    return [x[0] for x in raster.sample(coords)]\n",
    "\n",
    "# Apply the function to the geodataframe\n",
    "gdf_concat['land_cover'] = get_raster_values(land_cover_raster, gdf_concat)\n"
   ],
   "metadata": {
    "collapsed": false,
    "ExecuteTime": {
     "end_time": "2024-07-10T20:45:25.988691Z",
     "start_time": "2024-07-10T20:45:19.336368Z"
    }
   },
   "id": "cb547ee0a231f4fe",
   "execution_count": 29
  },
  {
   "cell_type": "code",
   "outputs": [
    {
     "data": {
      "text/plain": "array([ 50,  40, 126, 115, 114, 200,  30,  20, 121, 116,  60,  80,  90,\n       124, 125, 111, 112,  70, 100], dtype=uint8)"
     },
     "execution_count": 30,
     "metadata": {},
     "output_type": "execute_result"
    }
   ],
   "source": [
    "gdf_concat.land_cover.unique()"
   ],
   "metadata": {
    "collapsed": false,
    "ExecuteTime": {
     "end_time": "2024-07-10T20:45:26.020758Z",
     "start_time": "2024-07-10T20:45:25.990687Z"
    }
   },
   "id": "6d628733c943552",
   "execution_count": 30
  },
  {
   "cell_type": "markdown",
   "source": [
    "## 2.2 for each pixel (1x1 for left and 31x31 for right), calculate the average probability of fire ignition according to Clamada Master thesis Table 2.1\n"
   ],
   "metadata": {
    "collapsed": false
   },
   "id": "4a500b00f55a514a"
  },
  {
   "cell_type": "code",
   "outputs": [],
   "source": [
    "# from shapely.geometry import Point, box\n",
    "# \n",
    "# # Create a new column 'geometry' that converts each point to a square polygon\n",
    "# # Assuming the points are in a projected coordinate system where units are meters\n",
    "# merged_eu_2013_gdf['geometry'] = merged_eu_2013_gdf.apply(\n",
    "#     lambda row: box(\n",
    "#         row['longitude'] - 500,  # Subtract 500 meters from the longitude\n",
    "#         row['latitude'] - 500,   # Subtract 500 meters from the latitude\n",
    "#         row['longitude'] + 500,  # Add 500 meters to the longitude\n",
    "#         row['latitude'] + 500    # Add 500 meters to the latitude\n",
    "#     ), axis=1\n",
    "# )\n",
    "# merged_eu_2013_gdf = gpd.GeoDataFrame(merged_eu_2013_gdf, geometry='geometry')\n",
    "# \n",
    "# import geopandas as gpd\n",
    "# \n",
    "# # Load the land cover shapefile\n",
    "# land_cover_gdf = gpd.read_file('/path/to/ProbaV_UTM_LC100_biome_clusters_V3_global.shp')\n",
    "# \n",
    "# # Ensure CRS match, reproject if necessary\n",
    "# if merged_eu_2013_gdf.crs != land_cover_gdf.crs:\n",
    "#     merged_eu_2013_gdf = merged_eu_2013_gdf.to_crs(land_cover_gdf.crs)\n",
    "# \n",
    "# # Perform spatial join\n",
    "# joined_gdf = gpd.sjoin(merged_eu_2013_gdf, land_cover_gdf, how='inner', op='intersects')\n",
    "# \n",
    "# import pandas as pd\n",
    "# \n",
    "# # Group by the index of the merged_eu_2013_gdf and find the most common land cover type\n",
    "# most_common_land_cover = joined_gdf.groupby('index_merged_eu_2013').apply(\n",
    "#     lambda g: g['bc_id'].value_counts().idxmax()\n",
    "# )\n",
    "# merged_eu_2013_gdf['most_frequent_land_cover'] = most_common_land_cover\n",
    "# \n",
    "# # Save the updated GeoDataFrame\n",
    "# merged_eu_2013_gdf.to_file('/path/to/save/updated_merged_eu_2013.gpkg', driver='GPKG')\n"
   ],
   "metadata": {
    "collapsed": false
   },
   "id": "33910451e2d3e94"
  },
  {
   "cell_type": "markdown",
   "source": [
    "# 3. Add elevation data (2010, mean 7.5 arcsec) to pixel according to lon and lat\n",
    "## 3.1 Load elevation shapefile and convert to geopandas dataframe"
   ],
   "metadata": {
    "collapsed": false
   },
   "id": "a9c62b3ecf2e731a"
  },
  {
   "cell_type": "markdown",
   "source": [
    "Create a Virtual Raster (VRT)\n",
    "You can use the GDAL command-line tools or rasterio's virtual raster capabilities in Python to combine your GeoTIFF files into a VRT.\n",
    "Using GDAL Command Line:\n",
    "gdalbuildvrt combined_elevation.vrt 50N000E_20101117_gmted_mea075.tif 50N030W_20101117_gmted_mea075.tif 50N030E_20101117_gmted_mea075.tif 30N030W_20101117_gmted_mea075.tif 30N000E_20101117_gmted_mea075.tif 30N030E_20101117_gmted_mea075.tif"
   ],
   "metadata": {
    "collapsed": false
   },
   "id": "febe9c8023892d3"
  },
  {
   "cell_type": "code",
   "outputs": [
    {
     "name": "stdout",
     "output_type": "stream",
     "text": [
      "Bounds: BoundingBox(left=-30.000138888888888, bottom=29.999861111111116, right=59.999861111111116, top=69.99986111111112)\n",
      "Metadata: {'driver': 'GTiff', 'dtype': 'int16', 'nodata': None, 'width': 43200, 'height': 19200, 'count': 1, 'crs': CRS.from_epsg(4326), 'transform': Affine(0.0020833333333333333, 0.0, -30.000138888888888,\n",
      "       0.0, -0.0020833333333333333, 69.99986111111112)}\n"
     ]
    }
   ],
   "source": [
    "# Method 2\n",
    "\n",
    "# Your elevation folder path and file names\n",
    "elevation_folder = '../../climada_petals/data/wildfire/elevation/'\n",
    "files = [\n",
    "    '50N000E_20101117_gmted_mea075.tif',\n",
    "    '50N030W_20101117_gmted_mea075.tif',\n",
    "    '50N030E_20101117_gmted_mea075.tif',\n",
    "    '30N030W_20101117_gmted_mea075.tif',\n",
    "    '30N000E_20101117_gmted_mea075.tif',\n",
    "    '30N030E_20101117_gmted_mea075.tif'\n",
    "]\n",
    "\n",
    "# Open all files\n",
    "src_files = [rasterio.open(os.path.join(elevation_folder, f)) for f in files]\n",
    "\n",
    "# Create a virtual mosaic (in-memory, no VRT file written)\n",
    "mosaic, out_transform = merge(src_files)\n",
    "\n",
    "\n",
    "\n",
    "\n",
    "\n",
    "def find_nearest_valid_elevation(dataset, x, y):\n",
    "    row, col = dataset.index(x, y)  # Convert geographic coordinates to raster indices\n",
    "    max_distance = 10  # Define max distance to search for a valid elevation\n",
    "\n",
    "    # Ensure initial indices are within bounds\n",
    "    row = max(0, min(dataset.height - 1, row))\n",
    "    col = max(0, min(dataset.width - 1, col))\n",
    "\n",
    "    for dist in range(1, max_distance + 1):\n",
    "        # Calculate window bounds, ensuring they are within the raster boundaries\n",
    "        row_start = max(0, row - dist)\n",
    "        row_stop = min(dataset.height, row + dist + 1)\n",
    "        col_start = max(0, col - dist)\n",
    "        col_stop = min(dataset.width, col + dist + 1)\n",
    "\n",
    "        # Create the window using the bounds\n",
    "        window = Window.from_slices((row_start, row_stop), (col_start, col_stop))\n",
    "        data = dataset.read(1, window=window)\n",
    "        valid_data = data[data != dataset.nodata]\n",
    "\n",
    "        if valid_data.size > 0:\n",
    "            return np.min(valid_data)  # Return the closest valid data\n",
    "    return None  # Return None if no valid data found within the search radius\n",
    "\n",
    "\n",
    "with MemoryFile() as memfile:\n",
    "    with memfile.open(driver='GTiff', height=mosaic.shape[1], width=mosaic.shape[2],\n",
    "                      count=1, dtype=mosaic.dtype, transform=out_transform,\n",
    "                      crs=src_files[0].crs) as dataset:\n",
    "        dataset.write(mosaic[0], 1)\n",
    "\n",
    "        # Ensure GeoDataFrame is in the same CRS as the dataset\n",
    "        gdf_concat = gdf_concat.to_crs(dataset.crs)\n",
    "\n",
    "        # Sample the raster at each point location in the GeoDataFrame\n",
    "        elevation_values = []\n",
    "        for idx, row in gdf_concat.iterrows():\n",
    "            x, y = row['geometry'].x, row['geometry'].y\n",
    "            row, col = dataset.index(x, y)  # Get the raster indices\n",
    "\n",
    "            if 0 <= row < dataset.height and 0 <= col < dataset.width:\n",
    "                value = dataset.read(1, window=Window(col, row, 1, 1))[0, 0]\n",
    "                if value == dataset.nodata:  # Check if the value is nodata\n",
    "                    value = find_nearest_valid_elevation(dataset, x, y)\n",
    "            else:\n",
    "                value = find_nearest_valid_elevation(dataset, x, y)\n",
    "\n",
    "            elevation_values.append(value)\n",
    "\n",
    "        # Add the elevation data to the GeoDataFrame\n",
    "        gdf_concat['elevation'] = elevation_values\n",
    "\n",
    "        # Print bounds and metadata if needed\n",
    "        print('Bounds:', dataset.bounds)\n",
    "        print('Metadata:', dataset.meta)\n",
    "\n",
    "# Now 'gdf' has an additional column 'elevation' with the elevation values\n",
    "\n"
   ],
   "metadata": {
    "collapsed": false,
    "ExecuteTime": {
     "end_time": "2024-07-10T20:46:24.534423Z",
     "start_time": "2024-07-10T20:45:59.722384Z"
    }
   },
   "id": "98165a59f817c90c",
   "execution_count": 31
  },
  {
   "cell_type": "markdown",
   "source": [
    "## 3.2 for each pixel (1x1 for left and 31x31 for right), calculate the average elevation"
   ],
   "metadata": {
    "collapsed": false
   },
   "id": "7e403afd5dc1c48"
  },
  {
   "cell_type": "code",
   "outputs": [
    {
     "data": {
      "text/plain": "        latitude  longitude  brightness  confidence  bright_t31       fwi  \\\n0        35.8073    -0.2538       310.2          79       277.6  6.847656   \n1        47.8587    33.4466       308.0          63       272.6  0.214844   \n2        49.6728    18.6611       307.4          57       276.5  1.417969   \n3        37.3934    39.4902       303.1          55       287.0  3.445312   \n4        36.8729     6.9397       320.8          75       286.9  3.714844   \n...          ...        ...         ...         ...         ...       ...   \n159648   48.5000   -20.7500       303.1          47       288.5       NaN   \n159649   42.7500     4.2500       307.0          70       288.1       NaN   \n159650   54.7500   -20.2500       305.0          60       287.2       NaN   \n159651   51.5000   -29.5000       309.9          79       287.5       NaN   \n159652   53.5000    -5.2500       307.5          32       296.0  0.519531   \n\n        distance_km        date                    geometry  ignited  \\\n0          6.380693  2013-01-01   POINT (-0.25380 35.80730)     True   \n1         12.727889  2013-01-01   POINT (33.44660 47.85870)     True   \n2         10.702774  2013-01-01   POINT (18.66110 49.67280)     True   \n3         11.884926  2013-01-01   POINT (39.49020 37.39340)     True   \n4         14.682411  2013-01-01    POINT (6.93970 36.87290)     True   \n...             ...         ...                         ...      ...   \n159648  1511.020307  2013-10-25  POINT (-20.75000 48.50000)    False   \n159649    93.131421  2013-10-05    POINT (4.25000 42.75000)    False   \n159650  2241.524404  2013-01-25  POINT (-20.25000 54.75000)    False   \n159651  1948.420714  2013-08-17  POINT (-29.50000 51.50000)    False   \n159652   795.311296  2013-09-20   POINT (-5.25000 53.50000)    False   \n\n        land_cover  elevation  \n0               50         16  \n1               50        110  \n2               50        319  \n3               40        705  \n4               50          2  \n...            ...        ...  \n159648         200          0  \n159649         200          0  \n159650         200          0  \n159651         200          0  \n159652         200          0  \n\n[159653 rows x 12 columns]",
      "text/html": "<div>\n<style scoped>\n    .dataframe tbody tr th:only-of-type {\n        vertical-align: middle;\n    }\n\n    .dataframe tbody tr th {\n        vertical-align: top;\n    }\n\n    .dataframe thead th {\n        text-align: right;\n    }\n</style>\n<table border=\"1\" class=\"dataframe\">\n  <thead>\n    <tr style=\"text-align: right;\">\n      <th></th>\n      <th>latitude</th>\n      <th>longitude</th>\n      <th>brightness</th>\n      <th>confidence</th>\n      <th>bright_t31</th>\n      <th>fwi</th>\n      <th>distance_km</th>\n      <th>date</th>\n      <th>geometry</th>\n      <th>ignited</th>\n      <th>land_cover</th>\n      <th>elevation</th>\n    </tr>\n  </thead>\n  <tbody>\n    <tr>\n      <th>0</th>\n      <td>35.8073</td>\n      <td>-0.2538</td>\n      <td>310.2</td>\n      <td>79</td>\n      <td>277.6</td>\n      <td>6.847656</td>\n      <td>6.380693</td>\n      <td>2013-01-01</td>\n      <td>POINT (-0.25380 35.80730)</td>\n      <td>True</td>\n      <td>50</td>\n      <td>16</td>\n    </tr>\n    <tr>\n      <th>1</th>\n      <td>47.8587</td>\n      <td>33.4466</td>\n      <td>308.0</td>\n      <td>63</td>\n      <td>272.6</td>\n      <td>0.214844</td>\n      <td>12.727889</td>\n      <td>2013-01-01</td>\n      <td>POINT (33.44660 47.85870)</td>\n      <td>True</td>\n      <td>50</td>\n      <td>110</td>\n    </tr>\n    <tr>\n      <th>2</th>\n      <td>49.6728</td>\n      <td>18.6611</td>\n      <td>307.4</td>\n      <td>57</td>\n      <td>276.5</td>\n      <td>1.417969</td>\n      <td>10.702774</td>\n      <td>2013-01-01</td>\n      <td>POINT (18.66110 49.67280)</td>\n      <td>True</td>\n      <td>50</td>\n      <td>319</td>\n    </tr>\n    <tr>\n      <th>3</th>\n      <td>37.3934</td>\n      <td>39.4902</td>\n      <td>303.1</td>\n      <td>55</td>\n      <td>287.0</td>\n      <td>3.445312</td>\n      <td>11.884926</td>\n      <td>2013-01-01</td>\n      <td>POINT (39.49020 37.39340)</td>\n      <td>True</td>\n      <td>40</td>\n      <td>705</td>\n    </tr>\n    <tr>\n      <th>4</th>\n      <td>36.8729</td>\n      <td>6.9397</td>\n      <td>320.8</td>\n      <td>75</td>\n      <td>286.9</td>\n      <td>3.714844</td>\n      <td>14.682411</td>\n      <td>2013-01-01</td>\n      <td>POINT (6.93970 36.87290)</td>\n      <td>True</td>\n      <td>50</td>\n      <td>2</td>\n    </tr>\n    <tr>\n      <th>...</th>\n      <td>...</td>\n      <td>...</td>\n      <td>...</td>\n      <td>...</td>\n      <td>...</td>\n      <td>...</td>\n      <td>...</td>\n      <td>...</td>\n      <td>...</td>\n      <td>...</td>\n      <td>...</td>\n      <td>...</td>\n    </tr>\n    <tr>\n      <th>159648</th>\n      <td>48.5000</td>\n      <td>-20.7500</td>\n      <td>303.1</td>\n      <td>47</td>\n      <td>288.5</td>\n      <td>NaN</td>\n      <td>1511.020307</td>\n      <td>2013-10-25</td>\n      <td>POINT (-20.75000 48.50000)</td>\n      <td>False</td>\n      <td>200</td>\n      <td>0</td>\n    </tr>\n    <tr>\n      <th>159649</th>\n      <td>42.7500</td>\n      <td>4.2500</td>\n      <td>307.0</td>\n      <td>70</td>\n      <td>288.1</td>\n      <td>NaN</td>\n      <td>93.131421</td>\n      <td>2013-10-05</td>\n      <td>POINT (4.25000 42.75000)</td>\n      <td>False</td>\n      <td>200</td>\n      <td>0</td>\n    </tr>\n    <tr>\n      <th>159650</th>\n      <td>54.7500</td>\n      <td>-20.2500</td>\n      <td>305.0</td>\n      <td>60</td>\n      <td>287.2</td>\n      <td>NaN</td>\n      <td>2241.524404</td>\n      <td>2013-01-25</td>\n      <td>POINT (-20.25000 54.75000)</td>\n      <td>False</td>\n      <td>200</td>\n      <td>0</td>\n    </tr>\n    <tr>\n      <th>159651</th>\n      <td>51.5000</td>\n      <td>-29.5000</td>\n      <td>309.9</td>\n      <td>79</td>\n      <td>287.5</td>\n      <td>NaN</td>\n      <td>1948.420714</td>\n      <td>2013-08-17</td>\n      <td>POINT (-29.50000 51.50000)</td>\n      <td>False</td>\n      <td>200</td>\n      <td>0</td>\n    </tr>\n    <tr>\n      <th>159652</th>\n      <td>53.5000</td>\n      <td>-5.2500</td>\n      <td>307.5</td>\n      <td>32</td>\n      <td>296.0</td>\n      <td>0.519531</td>\n      <td>795.311296</td>\n      <td>2013-09-20</td>\n      <td>POINT (-5.25000 53.50000)</td>\n      <td>False</td>\n      <td>200</td>\n      <td>0</td>\n    </tr>\n  </tbody>\n</table>\n<p>159653 rows × 12 columns</p>\n</div>"
     },
     "execution_count": 48,
     "metadata": {},
     "output_type": "execute_result"
    }
   ],
   "source": [
    "gdf_concat"
   ],
   "metadata": {
    "collapsed": false,
    "ExecuteTime": {
     "end_time": "2024-07-09T19:09:16.829981Z",
     "start_time": "2024-07-09T19:09:16.815981Z"
    }
   },
   "id": "ae2a3f7c645ed033",
   "execution_count": 48
  },
  {
   "cell_type": "code",
   "outputs": [
    {
     "data": {
      "text/plain": "count    159653.000000\nmean         12.993213\nstd          20.411212\nmin         -31.000000\n25%          -4.000000\n50%          17.724500\n75%          31.260700\nmax          40.000000\nName: longitude, dtype: float64"
     },
     "execution_count": 50,
     "metadata": {},
     "output_type": "execute_result"
    }
   ],
   "source": [
    "gdf_concat['longitude'].describe()"
   ],
   "metadata": {
    "collapsed": false,
    "ExecuteTime": {
     "end_time": "2024-07-09T19:09:50.647282Z",
     "start_time": "2024-07-09T19:09:50.625282Z"
    }
   },
   "id": "7dedeb85e5fe361f",
   "execution_count": 50
  },
  {
   "cell_type": "code",
   "outputs": [],
   "source": [
    "# Save the updated GeoDataFrame\n",
    "gdf_concat.to_file(os.path.join(folder, 'ignited_eu_2013_gdf'), driver='GPKG')"
   ],
   "metadata": {
    "collapsed": false,
    "ExecuteTime": {
     "end_time": "2024-07-10T20:46:32.880826Z",
     "start_time": "2024-07-10T20:46:24.536420Z"
    }
   },
   "id": "4dcad304c4ff2895",
   "execution_count": 32
  }
 ],
 "metadata": {
  "kernelspec": {
   "display_name": "Python 3",
   "language": "python",
   "name": "python3"
  },
  "language_info": {
   "codemirror_mode": {
    "name": "ipython",
    "version": 2
   },
   "file_extension": ".py",
   "mimetype": "text/x-python",
   "name": "python",
   "nbconvert_exporter": "python",
   "pygments_lexer": "ipython2",
   "version": "2.7.6"
  }
 },
 "nbformat": 4,
 "nbformat_minor": 5
}
