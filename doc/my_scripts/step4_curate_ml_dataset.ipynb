{
 "cells": [
  {
   "cell_type": "code",
   "execution_count": 8,
   "id": "initial_id",
   "metadata": {
    "collapsed": true,
    "ExecuteTime": {
     "end_time": "2024-07-02T13:49:12.111594Z",
     "start_time": "2024-07-02T13:49:12.103593Z"
    }
   },
   "outputs": [],
   "source": [
    "import os\n",
    "import pandas as pd\n",
    "import geopandas as gpd\n",
    "import xarray as xr\n",
    "import math\n",
    "import rasterio\n",
    "from rasterio.merge import merge\n",
    "from rasterio.io import MemoryFile"
   ]
  },
  {
   "cell_type": "markdown",
   "source": [
    "**Build ML models to predict fire ignition for a pixel**\n",
    "\n",
    "Features: FWI, lat, lon, elevation, landcover (2010), distance, month\n",
    "Label: ignited or not ignited\n",
    "Model: XGBoost\n",
    "Optimization Method: Beyas optimization using Optuna\n",
    "Data range: EU\n",
    "\n",
    "Steps:\n",
    "1. Merge positive and negative labels of fire intensity and FWi data\n",
    "    1.1 Load left join data (fire intensity left join FWI, resolution 1km) and count how many data points it has\n",
    "    1.2 Assign positive labels (ignited) to the data points with distance <= 31 * sqrt(2) / 2 and only keep rows with positive labels\n",
    "    1.3 Load right join data (fire intensity right join FWI, resolution 31km) and count how may data points it has\n",
    "    1.4 Down sampling the data to match the number of left join data\n",
    "    1.5 Assign negative labels (ignited) to the data points with distance > 31 * sqrt(2) / 2 and only keep rows with negative labels\n",
    "    1.6 Merge data and save the geo dataframe and save the dataframe\n",
    "2. Add land cover (aggregated) data to pixel according to lon and lat\n",
    "    2.1 Load land cover shapefile and convert to geopandas dataframe\n",
    "    2.2 for each pixel (1x1 for left and 31x31 for right), calculate the average probability of fire ignition according to Clamada Master thesis Table 2.1\n",
    "3. Add elevation data to pixel according to lon and lat\n",
    "    3.1 Load elevation shapefile and convert to geopandas dataframe\n",
    "    3.2 for each pixel (1x1 for left and 31x31 for right), calculate the average elevation\n",
    "4. Build ML models to predict whether a pixel is ignited\n",
    "5. Tune hyperparameters"
   ],
   "metadata": {
    "collapsed": false
   },
   "id": "5fe3253d5ff1073e"
  },
  {
   "cell_type": "markdown",
   "source": [
    "# 1. Merge positive and negative labels of fire intensity and FWi data"
   ],
   "metadata": {
    "collapsed": false
   },
   "id": "3d3aabccea4f94e7"
  },
  {
   "cell_type": "code",
   "outputs": [],
   "source": [
    "from geopy.distance import great_circle\n",
    "\n",
    "# Define a function to calculate the distance\n",
    "def calculate_distance(row):\n",
    "    coords_1 = (row['latitude_left'], row['longitude_left'])\n",
    "    coords_2 = (row['latitude_right'], row['longitude_right'])\n",
    "    return great_circle(coords_1, coords_2).kilometers\n",
    "\n",
    "folder = '../../climada_petals/data/wildfire/output/2013/'"
   ],
   "metadata": {
    "collapsed": false,
    "ExecuteTime": {
     "end_time": "2024-07-02T14:41:01.456352Z",
     "start_time": "2024-07-02T14:41:01.448352Z"
    }
   },
   "id": "b6a2992c413fe567",
   "execution_count": 24
  },
  {
   "cell_type": "markdown",
   "source": [
    "## 1.1 Load left join data (fire intensity left join FWI, resolution 1km)"
   ],
   "metadata": {
    "collapsed": false
   },
   "id": "f81472b45b28901b"
  },
  {
   "cell_type": "code",
   "outputs": [
    {
     "data": {
      "text/plain": "(78382, 17)"
     },
     "execution_count": 78,
     "metadata": {},
     "output_type": "execute_result"
    }
   ],
   "source": [
    "merged_eu_2013_left_gdf_filename = 'merged_eu_2013_left_gdf'\n",
    "df_left_join = gpd.read_file(os.path.join(folder, merged_eu_2013_left_gdf_filename))\n",
    "df_left_join.shape"
   ],
   "metadata": {
    "collapsed": false,
    "ExecuteTime": {
     "end_time": "2024-07-02T19:05:08.515261Z",
     "start_time": "2024-07-02T19:05:01.816215Z"
    }
   },
   "id": "cdd6820f25c1393e",
   "execution_count": 78
  },
  {
   "cell_type": "code",
   "outputs": [],
   "source": [
    "# Apply the function to each row in the GeoDataFrame and create a new column 'distance_km'\n",
    "df_left_join['distance_km'] = df_left_join.apply(calculate_distance, axis=1)"
   ],
   "metadata": {
    "collapsed": false,
    "ExecuteTime": {
     "end_time": "2024-07-02T19:05:09.415131Z",
     "start_time": "2024-07-02T19:05:08.516261Z"
    }
   },
   "id": "892df198804f701d",
   "execution_count": 79
  },
  {
   "cell_type": "code",
   "outputs": [
    {
     "data": {
      "text/plain": "count    78382.000000\nmean         9.123286\nstd          3.588911\nmin          0.035163\n25%          6.526173\n50%          9.238830\n75%         12.049334\nmax         17.695499\nName: distance_km, dtype: float64"
     },
     "execution_count": 80,
     "metadata": {},
     "output_type": "execute_result"
    }
   ],
   "source": [
    "df_left_join['distance_km'].describe()"
   ],
   "metadata": {
    "collapsed": false,
    "ExecuteTime": {
     "end_time": "2024-07-02T19:05:09.429793Z",
     "start_time": "2024-07-02T19:05:09.415131Z"
    }
   },
   "id": "17975093fd6b7dfc",
   "execution_count": 80
  },
  {
   "cell_type": "code",
   "outputs": [
    {
     "data": {
      "text/plain": "       latitude_left  longitude_left  brightness satellite instrument  \\\n0            35.8073         -0.2538       310.2      Aqua      MODIS   \n1            47.8587         33.4466       308.0     Terra      MODIS   \n2            49.6728         18.6611       307.4     Terra      MODIS   \n3            37.3934         39.4902       303.1      Aqua      MODIS   \n4            36.8729          6.9397       320.8     Terra      MODIS   \n...              ...             ...         ...       ...        ...   \n78377        52.1556         10.4051       307.4      Aqua      MODIS   \n78378        52.1535         10.3907       300.4      Aqua      MODIS   \n78379        35.8027         -0.2461       310.6      Aqua      MODIS   \n78380        54.5777         -1.1428       310.4     Terra      MODIS   \n78381        54.5803         -1.1271       306.4     Terra      MODIS   \n\n       confidence  bright_t31   frp daynight      index  latitude_right  \\\n0              79       277.6  25.0        N     313919           35.75   \n1              63       272.6  27.4        D     243494           47.75   \n2              57       276.5  12.8        D     231915           49.75   \n3              55       287.0  14.4        D     302558           37.50   \n4              75       286.9  32.9        D     306748           36.75   \n...           ...         ...   ...      ...        ...             ...   \n78377          65       276.4  10.9        D  378136842           52.25   \n78378          19       276.3   6.7        D  378136842           52.25   \n78379          29       283.8  43.8        D  378233279           35.75   \n78380          71       275.8  15.6        N  378125275           54.50   \n78381          44       275.5  12.7        N  378125275           54.50   \n\n       longitude_right  surface       fwi  distance        date  \\\n0                -0.25      0.0  6.847656  0.057426  2013-01-01   \n1                33.50      0.0  0.214844  0.121108  2013-01-01   \n2                18.75      0.0  1.417969  0.117741  2013-01-01   \n3                39.50      0.0  3.445312  0.107050  2013-01-01   \n4                 7.00      0.0  3.714844  0.136896  2013-01-01   \n...                ...      ...       ...       ...         ...   \n78377            10.50      0.0  0.230469  0.133856  2013-12-31   \n78378            10.50      0.0  0.230469  0.145804  2013-12-31   \n78379            -0.25      0.0  0.609375  0.052844  2013-12-31   \n78380            -1.25      0.0  0.085938  0.132398  2013-12-31   \n78381            -1.25      0.0  0.085938  0.146808  2013-12-31   \n\n                        geometry  distance_km  \n0      POINT (-0.25380 35.80730)     6.380693  \n1      POINT (33.44660 47.85870)    12.727889  \n2      POINT (18.66110 49.67280)    10.702774  \n3      POINT (39.49020 37.39340)    11.884926  \n4       POINT (6.93970 36.87290)    14.682411  \n...                          ...          ...  \n78377  POINT (10.40510 52.15560)    12.329164  \n78378  POINT (10.39070 52.15350)    13.062298  \n78379  POINT (-0.24610 35.80270)     5.870533  \n78380  POINT (-1.14280 54.57770)    11.066649  \n78381  POINT (-1.12710 54.58030)    11.940677  \n\n[78382 rows x 18 columns]",
      "text/html": "<div>\n<style scoped>\n    .dataframe tbody tr th:only-of-type {\n        vertical-align: middle;\n    }\n\n    .dataframe tbody tr th {\n        vertical-align: top;\n    }\n\n    .dataframe thead th {\n        text-align: right;\n    }\n</style>\n<table border=\"1\" class=\"dataframe\">\n  <thead>\n    <tr style=\"text-align: right;\">\n      <th></th>\n      <th>latitude_left</th>\n      <th>longitude_left</th>\n      <th>brightness</th>\n      <th>satellite</th>\n      <th>instrument</th>\n      <th>confidence</th>\n      <th>bright_t31</th>\n      <th>frp</th>\n      <th>daynight</th>\n      <th>index</th>\n      <th>latitude_right</th>\n      <th>longitude_right</th>\n      <th>surface</th>\n      <th>fwi</th>\n      <th>distance</th>\n      <th>date</th>\n      <th>geometry</th>\n      <th>distance_km</th>\n    </tr>\n  </thead>\n  <tbody>\n    <tr>\n      <th>0</th>\n      <td>35.8073</td>\n      <td>-0.2538</td>\n      <td>310.2</td>\n      <td>Aqua</td>\n      <td>MODIS</td>\n      <td>79</td>\n      <td>277.6</td>\n      <td>25.0</td>\n      <td>N</td>\n      <td>313919</td>\n      <td>35.75</td>\n      <td>-0.25</td>\n      <td>0.0</td>\n      <td>6.847656</td>\n      <td>0.057426</td>\n      <td>2013-01-01</td>\n      <td>POINT (-0.25380 35.80730)</td>\n      <td>6.380693</td>\n    </tr>\n    <tr>\n      <th>1</th>\n      <td>47.8587</td>\n      <td>33.4466</td>\n      <td>308.0</td>\n      <td>Terra</td>\n      <td>MODIS</td>\n      <td>63</td>\n      <td>272.6</td>\n      <td>27.4</td>\n      <td>D</td>\n      <td>243494</td>\n      <td>47.75</td>\n      <td>33.50</td>\n      <td>0.0</td>\n      <td>0.214844</td>\n      <td>0.121108</td>\n      <td>2013-01-01</td>\n      <td>POINT (33.44660 47.85870)</td>\n      <td>12.727889</td>\n    </tr>\n    <tr>\n      <th>2</th>\n      <td>49.6728</td>\n      <td>18.6611</td>\n      <td>307.4</td>\n      <td>Terra</td>\n      <td>MODIS</td>\n      <td>57</td>\n      <td>276.5</td>\n      <td>12.8</td>\n      <td>D</td>\n      <td>231915</td>\n      <td>49.75</td>\n      <td>18.75</td>\n      <td>0.0</td>\n      <td>1.417969</td>\n      <td>0.117741</td>\n      <td>2013-01-01</td>\n      <td>POINT (18.66110 49.67280)</td>\n      <td>10.702774</td>\n    </tr>\n    <tr>\n      <th>3</th>\n      <td>37.3934</td>\n      <td>39.4902</td>\n      <td>303.1</td>\n      <td>Aqua</td>\n      <td>MODIS</td>\n      <td>55</td>\n      <td>287.0</td>\n      <td>14.4</td>\n      <td>D</td>\n      <td>302558</td>\n      <td>37.50</td>\n      <td>39.50</td>\n      <td>0.0</td>\n      <td>3.445312</td>\n      <td>0.107050</td>\n      <td>2013-01-01</td>\n      <td>POINT (39.49020 37.39340)</td>\n      <td>11.884926</td>\n    </tr>\n    <tr>\n      <th>4</th>\n      <td>36.8729</td>\n      <td>6.9397</td>\n      <td>320.8</td>\n      <td>Terra</td>\n      <td>MODIS</td>\n      <td>75</td>\n      <td>286.9</td>\n      <td>32.9</td>\n      <td>D</td>\n      <td>306748</td>\n      <td>36.75</td>\n      <td>7.00</td>\n      <td>0.0</td>\n      <td>3.714844</td>\n      <td>0.136896</td>\n      <td>2013-01-01</td>\n      <td>POINT (6.93970 36.87290)</td>\n      <td>14.682411</td>\n    </tr>\n    <tr>\n      <th>...</th>\n      <td>...</td>\n      <td>...</td>\n      <td>...</td>\n      <td>...</td>\n      <td>...</td>\n      <td>...</td>\n      <td>...</td>\n      <td>...</td>\n      <td>...</td>\n      <td>...</td>\n      <td>...</td>\n      <td>...</td>\n      <td>...</td>\n      <td>...</td>\n      <td>...</td>\n      <td>...</td>\n      <td>...</td>\n      <td>...</td>\n    </tr>\n    <tr>\n      <th>78377</th>\n      <td>52.1556</td>\n      <td>10.4051</td>\n      <td>307.4</td>\n      <td>Aqua</td>\n      <td>MODIS</td>\n      <td>65</td>\n      <td>276.4</td>\n      <td>10.9</td>\n      <td>D</td>\n      <td>378136842</td>\n      <td>52.25</td>\n      <td>10.50</td>\n      <td>0.0</td>\n      <td>0.230469</td>\n      <td>0.133856</td>\n      <td>2013-12-31</td>\n      <td>POINT (10.40510 52.15560)</td>\n      <td>12.329164</td>\n    </tr>\n    <tr>\n      <th>78378</th>\n      <td>52.1535</td>\n      <td>10.3907</td>\n      <td>300.4</td>\n      <td>Aqua</td>\n      <td>MODIS</td>\n      <td>19</td>\n      <td>276.3</td>\n      <td>6.7</td>\n      <td>D</td>\n      <td>378136842</td>\n      <td>52.25</td>\n      <td>10.50</td>\n      <td>0.0</td>\n      <td>0.230469</td>\n      <td>0.145804</td>\n      <td>2013-12-31</td>\n      <td>POINT (10.39070 52.15350)</td>\n      <td>13.062298</td>\n    </tr>\n    <tr>\n      <th>78379</th>\n      <td>35.8027</td>\n      <td>-0.2461</td>\n      <td>310.6</td>\n      <td>Aqua</td>\n      <td>MODIS</td>\n      <td>29</td>\n      <td>283.8</td>\n      <td>43.8</td>\n      <td>D</td>\n      <td>378233279</td>\n      <td>35.75</td>\n      <td>-0.25</td>\n      <td>0.0</td>\n      <td>0.609375</td>\n      <td>0.052844</td>\n      <td>2013-12-31</td>\n      <td>POINT (-0.24610 35.80270)</td>\n      <td>5.870533</td>\n    </tr>\n    <tr>\n      <th>78380</th>\n      <td>54.5777</td>\n      <td>-1.1428</td>\n      <td>310.4</td>\n      <td>Terra</td>\n      <td>MODIS</td>\n      <td>71</td>\n      <td>275.8</td>\n      <td>15.6</td>\n      <td>N</td>\n      <td>378125275</td>\n      <td>54.50</td>\n      <td>-1.25</td>\n      <td>0.0</td>\n      <td>0.085938</td>\n      <td>0.132398</td>\n      <td>2013-12-31</td>\n      <td>POINT (-1.14280 54.57770)</td>\n      <td>11.066649</td>\n    </tr>\n    <tr>\n      <th>78381</th>\n      <td>54.5803</td>\n      <td>-1.1271</td>\n      <td>306.4</td>\n      <td>Terra</td>\n      <td>MODIS</td>\n      <td>44</td>\n      <td>275.5</td>\n      <td>12.7</td>\n      <td>N</td>\n      <td>378125275</td>\n      <td>54.50</td>\n      <td>-1.25</td>\n      <td>0.0</td>\n      <td>0.085938</td>\n      <td>0.146808</td>\n      <td>2013-12-31</td>\n      <td>POINT (-1.12710 54.58030)</td>\n      <td>11.940677</td>\n    </tr>\n  </tbody>\n</table>\n<p>78382 rows × 18 columns</p>\n</div>"
     },
     "execution_count": 81,
     "metadata": {},
     "output_type": "execute_result"
    }
   ],
   "source": [
    "df_left_join"
   ],
   "metadata": {
    "collapsed": false,
    "ExecuteTime": {
     "end_time": "2024-07-02T19:05:09.493793Z",
     "start_time": "2024-07-02T19:05:09.430794Z"
    }
   },
   "id": "dfeaf18980238e88",
   "execution_count": 81
  },
  {
   "cell_type": "code",
   "outputs": [],
   "source": [
    "# only keep the relevant rows\n",
    "df_left_join = df_left_join[['latitude_left', 'longitude_left', 'brightness', 'confidence', 'bright_t31', 'fwi', 'distance_km', 'date', 'geometry']]"
   ],
   "metadata": {
    "collapsed": false,
    "ExecuteTime": {
     "end_time": "2024-07-02T19:05:22.902140Z",
     "start_time": "2024-07-02T19:05:22.891140Z"
    }
   },
   "id": "1ccd6d6e394a3657",
   "execution_count": 82
  },
  {
   "cell_type": "markdown",
   "source": [
    "## 1.2 Assign positive labels (ignited) to the data points with distance <= 31 * sqrt(2) / 2 and only keep rows with positive labels"
   ],
   "metadata": {
    "collapsed": false
   },
   "id": "c6cae0624cbc5d67"
  },
  {
   "cell_type": "code",
   "outputs": [],
   "source": [
    "# Drop rows with distance_km > 31 km\n",
    "df_left_join = df_left_join[df_left_join['distance_km'] <= 31 * math.sqrt(2) / 2 ]\n",
    "# Drop rows with confidence < 30\n",
    "df_left_join = df_left_join[df_left_join['confidence'] >= 30]"
   ],
   "metadata": {
    "collapsed": false,
    "ExecuteTime": {
     "end_time": "2024-07-02T19:05:24.297788Z",
     "start_time": "2024-07-02T19:05:24.269539Z"
    }
   },
   "id": "ff2f339d9beb90a2",
   "execution_count": 83
  },
  {
   "cell_type": "code",
   "outputs": [
    {
     "data": {
      "text/plain": "(73505, 9)"
     },
     "execution_count": 84,
     "metadata": {},
     "output_type": "execute_result"
    }
   ],
   "source": [
    "df_left_join.shape"
   ],
   "metadata": {
    "collapsed": false,
    "ExecuteTime": {
     "end_time": "2024-07-02T19:05:25.274592Z",
     "start_time": "2024-07-02T19:05:25.262592Z"
    }
   },
   "id": "fbe5f1a8bf791bde",
   "execution_count": 84
  },
  {
   "cell_type": "code",
   "outputs": [],
   "source": [
    "df_left_join['ignited'] = True"
   ],
   "metadata": {
    "collapsed": false,
    "ExecuteTime": {
     "end_time": "2024-07-02T19:05:29.170966Z",
     "start_time": "2024-07-02T19:05:29.164966Z"
    }
   },
   "id": "b6a70e685c23b146",
   "execution_count": 85
  },
  {
   "cell_type": "markdown",
   "source": [
    "## 1.3 Load and down sampling right join data (fire intensity right join FWI, resolution 31km)"
   ],
   "metadata": {
    "collapsed": false
   },
   "id": "be3e070159861638"
  },
  {
   "cell_type": "code",
   "outputs": [
    {
     "data": {
      "text/plain": "(15210699, 17)"
     },
     "execution_count": 13,
     "metadata": {},
     "output_type": "execute_result"
    }
   ],
   "source": [
    "folder = '../../climada_petals/data/wildfire/output/2013/'\n",
    "# only NetCDF works for interpolated data\n",
    "file = 'merged_eu_2013_right_gdf'\n",
    "df = gpd.read_file(os.path.join(folder, file))\n",
    "\n",
    "df.shape"
   ],
   "metadata": {
    "collapsed": false,
    "ExecuteTime": {
     "end_time": "2024-07-02T14:19:13.699974Z",
     "start_time": "2024-07-02T13:57:17.768384Z"
    }
   },
   "id": "98a56b8b13abca19",
   "execution_count": 13
  },
  {
   "cell_type": "markdown",
   "source": [
    "## 1.4 Down sampling the data to match the number of left join data"
   ],
   "metadata": {
    "collapsed": false
   },
   "id": "3d8ae16960663147"
  },
  {
   "cell_type": "code",
   "outputs": [],
   "source": [
    "# Randomly sample 100,000 rows without replacement\n",
    "df_right_join = df.sample(n=100000, replace=False, random_state=42)"
   ],
   "metadata": {
    "collapsed": false,
    "ExecuteTime": {
     "end_time": "2024-07-02T19:06:04.056071Z",
     "start_time": "2024-07-02T19:06:03.302343Z"
    }
   },
   "id": "4b71e76804b0be06",
   "execution_count": 86
  },
  {
   "cell_type": "code",
   "outputs": [],
   "source": [
    "# Apply the function to each row in the GeoDataFrame and create a new column 'distance_km'\n",
    "df_right_join['distance_km'] = df_right_join.apply(calculate_distance, axis=1)"
   ],
   "metadata": {
    "collapsed": false,
    "ExecuteTime": {
     "end_time": "2024-07-02T19:06:07.932283Z",
     "start_time": "2024-07-02T19:06:06.704152Z"
    }
   },
   "id": "b3ed839d3dc76728",
   "execution_count": 87
  },
  {
   "cell_type": "code",
   "outputs": [
    {
     "data": {
      "text/plain": "count    100000.000000\nmean       1828.623649\nstd        1067.024811\nmin           0.536269\n25%         907.827912\n50%        1827.439411\n75%        2695.080328\nmax        4834.285241\nName: distance_km, dtype: float64"
     },
     "execution_count": 88,
     "metadata": {},
     "output_type": "execute_result"
    }
   ],
   "source": [
    "df_right_join['distance_km'].describe()"
   ],
   "metadata": {
    "collapsed": false,
    "ExecuteTime": {
     "end_time": "2024-07-02T19:06:07.948230Z",
     "start_time": "2024-07-02T19:06:07.933298Z"
    }
   },
   "id": "be3e018f0d01125c",
   "execution_count": 88
  },
  {
   "cell_type": "code",
   "outputs": [
    {
     "data": {
      "text/plain": "          latitude_left  longitude_left  brightness satellite instrument  \\\n7531953         51.2774        -61.3320       311.1      Aqua      MODIS   \n1662745         52.1884       -115.6310       314.3     Terra      MODIS   \n9672095         54.4132        -61.9265       303.3      Aqua      MODIS   \n2598626         56.6373       -121.8868       305.3     Terra      MODIS   \n14862155        52.3129       -115.8773       319.6      Aqua      MODIS   \n...                 ...             ...         ...       ...        ...   \n2373679         50.5055       -120.3918       316.2      Aqua      MODIS   \n4494868         50.0545        -97.6040       303.3     Terra      MODIS   \n13947378        51.8614       -124.7880       387.1     Terra      MODIS   \n3811036         54.0293       -124.0738       311.3     Terra      MODIS   \n7096815         61.1093       -137.2270       361.1      Aqua      MODIS   \n\n          confidence  bright_t31    frp daynight      index  latitude_right  \\\n7531953            0       297.7    5.3        D  199579440           49.00   \n1662745           57       267.0   68.5        D   52149232           49.00   \n9672095           29       291.3    5.1        D  245214407           57.25   \n2598626           52       276.0   40.9        D   86241059           78.50   \n14862155          67       269.7   23.3        D  359443841           53.25   \n...              ...         ...    ...      ...        ...             ...   \n2373679           72       278.4   52.4        D   75936739           65.00   \n4494868           48       288.4    6.6        D  135189754           52.25   \n13947378          75       272.9  190.8        D  336464178           77.25   \n3811036           53       286.0    9.6        D  120658537           51.50   \n7096815           82       296.2  240.5        D  191097528           79.50   \n\n          longitude_right  surface           fwi   distance        date  \\\n7531953            -60.00      0.0           NaN   2.638328  2013-07-12   \n1662745            -92.00      0.0  3.906252e-03  23.845126  2013-02-20   \n9672095            -78.25      0.0  1.835329e-09  16.568165  2013-08-25   \n2598626           -135.25      0.0           NaN  25.623286  2013-03-25   \n14862155           -79.75      0.0  1.760846e-09  36.139452  2013-12-13   \n...                   ...      ...           ...        ...         ...   \n2373679            -55.25      0.0           NaN  66.734883  2013-03-15   \n4494868            -81.50      0.0  2.117188e+00  16.252970  2013-05-11   \n13947378          -115.50      0.0  2.656250e-01  27.034200  2013-11-21   \n3811036           -125.75      0.0  1.808982e-09   3.034305  2013-04-27   \n7096815           -138.00      0.0           NaN  18.406938  2013-07-04   \n\n                             geometry  distance_km  \n7531953    POINT (-60.00000 49.00000)   270.431866  \n1662745    POINT (-92.00000 49.00000)  1697.227237  \n9672095    POINT (-78.25000 57.25000)  1064.087916  \n2598626   POINT (-135.25000 78.50000)  2481.318638  \n14862155   POINT (-79.75000 53.25000)  2406.091708  \n...                               ...          ...  \n2373679    POINT (-55.25000 65.00000)  3966.472953  \n4494868    POINT (-81.50000 52.25000)  1146.862831  \n13947378  POINT (-115.50000 77.25000)  2849.523999  \n3811036   POINT (-125.75000 51.50000)   302.993555  \n7096815   POINT (-138.00000 79.50000)  2045.117228  \n\n[100000 rows x 18 columns]",
      "text/html": "<div>\n<style scoped>\n    .dataframe tbody tr th:only-of-type {\n        vertical-align: middle;\n    }\n\n    .dataframe tbody tr th {\n        vertical-align: top;\n    }\n\n    .dataframe thead th {\n        text-align: right;\n    }\n</style>\n<table border=\"1\" class=\"dataframe\">\n  <thead>\n    <tr style=\"text-align: right;\">\n      <th></th>\n      <th>latitude_left</th>\n      <th>longitude_left</th>\n      <th>brightness</th>\n      <th>satellite</th>\n      <th>instrument</th>\n      <th>confidence</th>\n      <th>bright_t31</th>\n      <th>frp</th>\n      <th>daynight</th>\n      <th>index</th>\n      <th>latitude_right</th>\n      <th>longitude_right</th>\n      <th>surface</th>\n      <th>fwi</th>\n      <th>distance</th>\n      <th>date</th>\n      <th>geometry</th>\n      <th>distance_km</th>\n    </tr>\n  </thead>\n  <tbody>\n    <tr>\n      <th>7531953</th>\n      <td>51.2774</td>\n      <td>-61.3320</td>\n      <td>311.1</td>\n      <td>Aqua</td>\n      <td>MODIS</td>\n      <td>0</td>\n      <td>297.7</td>\n      <td>5.3</td>\n      <td>D</td>\n      <td>199579440</td>\n      <td>49.00</td>\n      <td>-60.00</td>\n      <td>0.0</td>\n      <td>NaN</td>\n      <td>2.638328</td>\n      <td>2013-07-12</td>\n      <td>POINT (-60.00000 49.00000)</td>\n      <td>270.431866</td>\n    </tr>\n    <tr>\n      <th>1662745</th>\n      <td>52.1884</td>\n      <td>-115.6310</td>\n      <td>314.3</td>\n      <td>Terra</td>\n      <td>MODIS</td>\n      <td>57</td>\n      <td>267.0</td>\n      <td>68.5</td>\n      <td>D</td>\n      <td>52149232</td>\n      <td>49.00</td>\n      <td>-92.00</td>\n      <td>0.0</td>\n      <td>3.906252e-03</td>\n      <td>23.845126</td>\n      <td>2013-02-20</td>\n      <td>POINT (-92.00000 49.00000)</td>\n      <td>1697.227237</td>\n    </tr>\n    <tr>\n      <th>9672095</th>\n      <td>54.4132</td>\n      <td>-61.9265</td>\n      <td>303.3</td>\n      <td>Aqua</td>\n      <td>MODIS</td>\n      <td>29</td>\n      <td>291.3</td>\n      <td>5.1</td>\n      <td>D</td>\n      <td>245214407</td>\n      <td>57.25</td>\n      <td>-78.25</td>\n      <td>0.0</td>\n      <td>1.835329e-09</td>\n      <td>16.568165</td>\n      <td>2013-08-25</td>\n      <td>POINT (-78.25000 57.25000)</td>\n      <td>1064.087916</td>\n    </tr>\n    <tr>\n      <th>2598626</th>\n      <td>56.6373</td>\n      <td>-121.8868</td>\n      <td>305.3</td>\n      <td>Terra</td>\n      <td>MODIS</td>\n      <td>52</td>\n      <td>276.0</td>\n      <td>40.9</td>\n      <td>D</td>\n      <td>86241059</td>\n      <td>78.50</td>\n      <td>-135.25</td>\n      <td>0.0</td>\n      <td>NaN</td>\n      <td>25.623286</td>\n      <td>2013-03-25</td>\n      <td>POINT (-135.25000 78.50000)</td>\n      <td>2481.318638</td>\n    </tr>\n    <tr>\n      <th>14862155</th>\n      <td>52.3129</td>\n      <td>-115.8773</td>\n      <td>319.6</td>\n      <td>Aqua</td>\n      <td>MODIS</td>\n      <td>67</td>\n      <td>269.7</td>\n      <td>23.3</td>\n      <td>D</td>\n      <td>359443841</td>\n      <td>53.25</td>\n      <td>-79.75</td>\n      <td>0.0</td>\n      <td>1.760846e-09</td>\n      <td>36.139452</td>\n      <td>2013-12-13</td>\n      <td>POINT (-79.75000 53.25000)</td>\n      <td>2406.091708</td>\n    </tr>\n    <tr>\n      <th>...</th>\n      <td>...</td>\n      <td>...</td>\n      <td>...</td>\n      <td>...</td>\n      <td>...</td>\n      <td>...</td>\n      <td>...</td>\n      <td>...</td>\n      <td>...</td>\n      <td>...</td>\n      <td>...</td>\n      <td>...</td>\n      <td>...</td>\n      <td>...</td>\n      <td>...</td>\n      <td>...</td>\n      <td>...</td>\n      <td>...</td>\n    </tr>\n    <tr>\n      <th>2373679</th>\n      <td>50.5055</td>\n      <td>-120.3918</td>\n      <td>316.2</td>\n      <td>Aqua</td>\n      <td>MODIS</td>\n      <td>72</td>\n      <td>278.4</td>\n      <td>52.4</td>\n      <td>D</td>\n      <td>75936739</td>\n      <td>65.00</td>\n      <td>-55.25</td>\n      <td>0.0</td>\n      <td>NaN</td>\n      <td>66.734883</td>\n      <td>2013-03-15</td>\n      <td>POINT (-55.25000 65.00000)</td>\n      <td>3966.472953</td>\n    </tr>\n    <tr>\n      <th>4494868</th>\n      <td>50.0545</td>\n      <td>-97.6040</td>\n      <td>303.3</td>\n      <td>Terra</td>\n      <td>MODIS</td>\n      <td>48</td>\n      <td>288.4</td>\n      <td>6.6</td>\n      <td>D</td>\n      <td>135189754</td>\n      <td>52.25</td>\n      <td>-81.50</td>\n      <td>0.0</td>\n      <td>2.117188e+00</td>\n      <td>16.252970</td>\n      <td>2013-05-11</td>\n      <td>POINT (-81.50000 52.25000)</td>\n      <td>1146.862831</td>\n    </tr>\n    <tr>\n      <th>13947378</th>\n      <td>51.8614</td>\n      <td>-124.7880</td>\n      <td>387.1</td>\n      <td>Terra</td>\n      <td>MODIS</td>\n      <td>75</td>\n      <td>272.9</td>\n      <td>190.8</td>\n      <td>D</td>\n      <td>336464178</td>\n      <td>77.25</td>\n      <td>-115.50</td>\n      <td>0.0</td>\n      <td>2.656250e-01</td>\n      <td>27.034200</td>\n      <td>2013-11-21</td>\n      <td>POINT (-115.50000 77.25000)</td>\n      <td>2849.523999</td>\n    </tr>\n    <tr>\n      <th>3811036</th>\n      <td>54.0293</td>\n      <td>-124.0738</td>\n      <td>311.3</td>\n      <td>Terra</td>\n      <td>MODIS</td>\n      <td>53</td>\n      <td>286.0</td>\n      <td>9.6</td>\n      <td>D</td>\n      <td>120658537</td>\n      <td>51.50</td>\n      <td>-125.75</td>\n      <td>0.0</td>\n      <td>1.808982e-09</td>\n      <td>3.034305</td>\n      <td>2013-04-27</td>\n      <td>POINT (-125.75000 51.50000)</td>\n      <td>302.993555</td>\n    </tr>\n    <tr>\n      <th>7096815</th>\n      <td>61.1093</td>\n      <td>-137.2270</td>\n      <td>361.1</td>\n      <td>Aqua</td>\n      <td>MODIS</td>\n      <td>82</td>\n      <td>296.2</td>\n      <td>240.5</td>\n      <td>D</td>\n      <td>191097528</td>\n      <td>79.50</td>\n      <td>-138.00</td>\n      <td>0.0</td>\n      <td>NaN</td>\n      <td>18.406938</td>\n      <td>2013-07-04</td>\n      <td>POINT (-138.00000 79.50000)</td>\n      <td>2045.117228</td>\n    </tr>\n  </tbody>\n</table>\n<p>100000 rows × 18 columns</p>\n</div>"
     },
     "execution_count": 89,
     "metadata": {},
     "output_type": "execute_result"
    }
   ],
   "source": [
    "df_right_join"
   ],
   "metadata": {
    "collapsed": false,
    "ExecuteTime": {
     "end_time": "2024-07-02T19:06:09.548604Z",
     "start_time": "2024-07-02T19:06:09.530722Z"
    }
   },
   "id": "2965490f811796a0",
   "execution_count": 89
  },
  {
   "cell_type": "code",
   "outputs": [],
   "source": [
    "# only keep the relevant rows\n",
    "df_right_join = df_right_join[['latitude_right', 'longitude_right', 'brightness', 'confidence', 'bright_t31', 'fwi', 'distance_km', 'date', 'geometry']]"
   ],
   "metadata": {
    "collapsed": false,
    "ExecuteTime": {
     "end_time": "2024-07-02T19:06:21.921623Z",
     "start_time": "2024-07-02T19:06:21.911623Z"
    }
   },
   "id": "d6ab750db5a8cec3",
   "execution_count": 90
  },
  {
   "cell_type": "code",
   "outputs": [],
   "source": [
    "df_right_join.to_file(os.path.join(folder, f'merged_eu_2013_right_downsampled_gdf'), driver='GPKG')"
   ],
   "metadata": {
    "collapsed": false,
    "ExecuteTime": {
     "end_time": "2024-07-02T19:06:31.529685Z",
     "start_time": "2024-07-02T19:06:26.774218Z"
    }
   },
   "id": "9a2a54e16379f939",
   "execution_count": 91
  },
  {
   "cell_type": "code",
   "outputs": [],
   "source": [
    "df_right_join = gpd.read_file(os.path.join(folder, 'merged_eu_2013_right_downsampled_gdf'))"
   ],
   "metadata": {
    "collapsed": false
   },
   "id": "3c94b0375333ca29"
  },
  {
   "cell_type": "markdown",
   "source": [
    "## 1.5 Assign negative labels (ignited) to the data points with distance > 31 * sqrt(2) / 2 and only keep rows with negative labels"
   ],
   "metadata": {
    "collapsed": false
   },
   "id": "3cfc13d95946f7e1"
  },
  {
   "cell_type": "code",
   "outputs": [],
   "source": [
    "# Drop rows with distance_km > 31 km\n",
    "df_right_join = df_right_join[df_right_join['distance_km'] > 31 * math.sqrt(2) / 2 ]\n",
    "# Drop rows with confidence < 30\n",
    "df_right_join = df_right_join[df_right_join['confidence'] >= 30]"
   ],
   "metadata": {
    "collapsed": false,
    "ExecuteTime": {
     "end_time": "2024-07-02T19:06:39.735065Z",
     "start_time": "2024-07-02T19:06:39.700063Z"
    }
   },
   "id": "221f3f8668ac0213",
   "execution_count": 92
  },
  {
   "cell_type": "code",
   "outputs": [
    {
     "data": {
      "text/plain": "(77296, 9)"
     },
     "execution_count": 93,
     "metadata": {},
     "output_type": "execute_result"
    }
   ],
   "source": [
    "df_right_join.shape"
   ],
   "metadata": {
    "collapsed": false,
    "ExecuteTime": {
     "end_time": "2024-07-02T19:06:40.116671Z",
     "start_time": "2024-07-02T19:06:40.105671Z"
    }
   },
   "id": "f7c71013a5d84d35",
   "execution_count": 93
  },
  {
   "cell_type": "code",
   "outputs": [],
   "source": [
    "df_right_join['ignited'] = False"
   ],
   "metadata": {
    "collapsed": false,
    "ExecuteTime": {
     "end_time": "2024-07-02T19:06:42.175433Z",
     "start_time": "2024-07-02T19:06:42.159433Z"
    }
   },
   "id": "57008c4baa48b37c",
   "execution_count": 94
  },
  {
   "cell_type": "code",
   "outputs": [],
   "source": [],
   "metadata": {
    "collapsed": false
   },
   "id": "14b9c68a7fedb9e"
  },
  {
   "cell_type": "markdown",
   "source": [
    "## 1.6 Merge data and save the geo dataframe and save the dataframe"
   ],
   "metadata": {
    "collapsed": false
   },
   "id": "9b57261879a2eb92"
  },
  {
   "cell_type": "code",
   "outputs": [
    {
     "data": {
      "text/plain": "       latitude_left  longitude_left  brightness  confidence  bright_t31  \\\n0            35.8073         -0.2538       310.2          79       277.6   \n1            47.8587         33.4466       308.0          63       272.6   \n2            49.6728         18.6611       307.4          57       276.5   \n3            37.3934         39.4902       303.1          55       287.0   \n4            36.8729          6.9397       320.8          75       286.9   \n...              ...             ...         ...         ...         ...   \n78375        49.3557          6.7315       300.3          35       273.4   \n78376        48.2725         14.3292       306.9          61       278.5   \n78377        52.1556         10.4051       307.4          65       276.4   \n78380        54.5777         -1.1428       310.4          71       275.8   \n78381        54.5803         -1.1271       306.4          44       275.5   \n\n            fwi  distance_km        date                   geometry  ignited  \n0      6.847656     6.380693  2013-01-01  POINT (-0.25380 35.80730)     True  \n1      0.214844    12.727889  2013-01-01  POINT (33.44660 47.85870)     True  \n2      1.417969    10.702774  2013-01-01  POINT (18.66110 49.67280)     True  \n3      3.445312    11.884926  2013-01-01  POINT (39.49020 37.39340)     True  \n4      3.714844    14.682411  2013-01-01   POINT (6.93970 36.87290)     True  \n...         ...          ...         ...                        ...      ...  \n78375  0.082031    11.829615  2013-12-31   POINT (6.73150 49.35570)     True  \n78376  0.308594     6.374402  2013-12-31  POINT (14.32920 48.27250)     True  \n78377  0.230469    12.329164  2013-12-31  POINT (10.40510 52.15560)     True  \n78380  0.085938    11.066649  2013-12-31  POINT (-1.14280 54.57770)     True  \n78381  0.085938    11.940677  2013-12-31  POINT (-1.12710 54.58030)     True  \n\n[73505 rows x 10 columns]",
      "text/html": "<div>\n<style scoped>\n    .dataframe tbody tr th:only-of-type {\n        vertical-align: middle;\n    }\n\n    .dataframe tbody tr th {\n        vertical-align: top;\n    }\n\n    .dataframe thead th {\n        text-align: right;\n    }\n</style>\n<table border=\"1\" class=\"dataframe\">\n  <thead>\n    <tr style=\"text-align: right;\">\n      <th></th>\n      <th>latitude_left</th>\n      <th>longitude_left</th>\n      <th>brightness</th>\n      <th>confidence</th>\n      <th>bright_t31</th>\n      <th>fwi</th>\n      <th>distance_km</th>\n      <th>date</th>\n      <th>geometry</th>\n      <th>ignited</th>\n    </tr>\n  </thead>\n  <tbody>\n    <tr>\n      <th>0</th>\n      <td>35.8073</td>\n      <td>-0.2538</td>\n      <td>310.2</td>\n      <td>79</td>\n      <td>277.6</td>\n      <td>6.847656</td>\n      <td>6.380693</td>\n      <td>2013-01-01</td>\n      <td>POINT (-0.25380 35.80730)</td>\n      <td>True</td>\n    </tr>\n    <tr>\n      <th>1</th>\n      <td>47.8587</td>\n      <td>33.4466</td>\n      <td>308.0</td>\n      <td>63</td>\n      <td>272.6</td>\n      <td>0.214844</td>\n      <td>12.727889</td>\n      <td>2013-01-01</td>\n      <td>POINT (33.44660 47.85870)</td>\n      <td>True</td>\n    </tr>\n    <tr>\n      <th>2</th>\n      <td>49.6728</td>\n      <td>18.6611</td>\n      <td>307.4</td>\n      <td>57</td>\n      <td>276.5</td>\n      <td>1.417969</td>\n      <td>10.702774</td>\n      <td>2013-01-01</td>\n      <td>POINT (18.66110 49.67280)</td>\n      <td>True</td>\n    </tr>\n    <tr>\n      <th>3</th>\n      <td>37.3934</td>\n      <td>39.4902</td>\n      <td>303.1</td>\n      <td>55</td>\n      <td>287.0</td>\n      <td>3.445312</td>\n      <td>11.884926</td>\n      <td>2013-01-01</td>\n      <td>POINT (39.49020 37.39340)</td>\n      <td>True</td>\n    </tr>\n    <tr>\n      <th>4</th>\n      <td>36.8729</td>\n      <td>6.9397</td>\n      <td>320.8</td>\n      <td>75</td>\n      <td>286.9</td>\n      <td>3.714844</td>\n      <td>14.682411</td>\n      <td>2013-01-01</td>\n      <td>POINT (6.93970 36.87290)</td>\n      <td>True</td>\n    </tr>\n    <tr>\n      <th>...</th>\n      <td>...</td>\n      <td>...</td>\n      <td>...</td>\n      <td>...</td>\n      <td>...</td>\n      <td>...</td>\n      <td>...</td>\n      <td>...</td>\n      <td>...</td>\n      <td>...</td>\n    </tr>\n    <tr>\n      <th>78375</th>\n      <td>49.3557</td>\n      <td>6.7315</td>\n      <td>300.3</td>\n      <td>35</td>\n      <td>273.4</td>\n      <td>0.082031</td>\n      <td>11.829615</td>\n      <td>2013-12-31</td>\n      <td>POINT (6.73150 49.35570)</td>\n      <td>True</td>\n    </tr>\n    <tr>\n      <th>78376</th>\n      <td>48.2725</td>\n      <td>14.3292</td>\n      <td>306.9</td>\n      <td>61</td>\n      <td>278.5</td>\n      <td>0.308594</td>\n      <td>6.374402</td>\n      <td>2013-12-31</td>\n      <td>POINT (14.32920 48.27250)</td>\n      <td>True</td>\n    </tr>\n    <tr>\n      <th>78377</th>\n      <td>52.1556</td>\n      <td>10.4051</td>\n      <td>307.4</td>\n      <td>65</td>\n      <td>276.4</td>\n      <td>0.230469</td>\n      <td>12.329164</td>\n      <td>2013-12-31</td>\n      <td>POINT (10.40510 52.15560)</td>\n      <td>True</td>\n    </tr>\n    <tr>\n      <th>78380</th>\n      <td>54.5777</td>\n      <td>-1.1428</td>\n      <td>310.4</td>\n      <td>71</td>\n      <td>275.8</td>\n      <td>0.085938</td>\n      <td>11.066649</td>\n      <td>2013-12-31</td>\n      <td>POINT (-1.14280 54.57770)</td>\n      <td>True</td>\n    </tr>\n    <tr>\n      <th>78381</th>\n      <td>54.5803</td>\n      <td>-1.1271</td>\n      <td>306.4</td>\n      <td>44</td>\n      <td>275.5</td>\n      <td>0.085938</td>\n      <td>11.940677</td>\n      <td>2013-12-31</td>\n      <td>POINT (-1.12710 54.58030)</td>\n      <td>True</td>\n    </tr>\n  </tbody>\n</table>\n<p>73505 rows × 10 columns</p>\n</div>"
     },
     "execution_count": 96,
     "metadata": {},
     "output_type": "execute_result"
    }
   ],
   "source": [
    "df_left_join"
   ],
   "metadata": {
    "collapsed": false,
    "ExecuteTime": {
     "end_time": "2024-07-02T19:07:12.725119Z",
     "start_time": "2024-07-02T19:07:12.714119Z"
    }
   },
   "id": "38d270a7fe274e42",
   "execution_count": 96
  },
  {
   "cell_type": "code",
   "outputs": [
    {
     "data": {
      "text/plain": "        latitude  longitude  brightness  confidence  bright_t31           fwi  \\\n0        35.8073    -0.2538       310.2          79       277.6  6.847656e+00   \n1        47.8587    33.4466       308.0          63       272.6  2.148438e-01   \n2        49.6728    18.6611       307.4          57       276.5  1.417969e+00   \n3        37.3934    39.4902       303.1          55       287.0  3.445312e+00   \n4        36.8729     6.9397       320.8          75       286.9  3.714844e+00   \n...          ...        ...         ...         ...         ...           ...   \n150796   65.0000   -55.2500       316.2          72       278.4           NaN   \n150797   52.2500   -81.5000       303.3          48       288.4  2.117188e+00   \n150798   77.2500  -115.5000       387.1          75       272.9  2.656250e-01   \n150799   51.5000  -125.7500       311.3          53       286.0  1.808982e-09   \n150800   79.5000  -138.0000       361.1          82       296.2           NaN   \n\n        distance_km        date                     geometry  ignited  \n0          6.380693  2013-01-01    POINT (-0.25380 35.80730)     True  \n1         12.727889  2013-01-01    POINT (33.44660 47.85870)     True  \n2         10.702774  2013-01-01    POINT (18.66110 49.67280)     True  \n3         11.884926  2013-01-01    POINT (39.49020 37.39340)     True  \n4         14.682411  2013-01-01     POINT (6.93970 36.87290)     True  \n...             ...         ...                          ...      ...  \n150796  3966.472953  2013-03-15   POINT (-55.25000 65.00000)    False  \n150797  1146.862831  2013-05-11   POINT (-81.50000 52.25000)    False  \n150798  2849.523999  2013-11-21  POINT (-115.50000 77.25000)    False  \n150799   302.993555  2013-04-27  POINT (-125.75000 51.50000)    False  \n150800  2045.117228  2013-07-04  POINT (-138.00000 79.50000)    False  \n\n[150801 rows x 10 columns]",
      "text/html": "<div>\n<style scoped>\n    .dataframe tbody tr th:only-of-type {\n        vertical-align: middle;\n    }\n\n    .dataframe tbody tr th {\n        vertical-align: top;\n    }\n\n    .dataframe thead th {\n        text-align: right;\n    }\n</style>\n<table border=\"1\" class=\"dataframe\">\n  <thead>\n    <tr style=\"text-align: right;\">\n      <th></th>\n      <th>latitude</th>\n      <th>longitude</th>\n      <th>brightness</th>\n      <th>confidence</th>\n      <th>bright_t31</th>\n      <th>fwi</th>\n      <th>distance_km</th>\n      <th>date</th>\n      <th>geometry</th>\n      <th>ignited</th>\n    </tr>\n  </thead>\n  <tbody>\n    <tr>\n      <th>0</th>\n      <td>35.8073</td>\n      <td>-0.2538</td>\n      <td>310.2</td>\n      <td>79</td>\n      <td>277.6</td>\n      <td>6.847656e+00</td>\n      <td>6.380693</td>\n      <td>2013-01-01</td>\n      <td>POINT (-0.25380 35.80730)</td>\n      <td>True</td>\n    </tr>\n    <tr>\n      <th>1</th>\n      <td>47.8587</td>\n      <td>33.4466</td>\n      <td>308.0</td>\n      <td>63</td>\n      <td>272.6</td>\n      <td>2.148438e-01</td>\n      <td>12.727889</td>\n      <td>2013-01-01</td>\n      <td>POINT (33.44660 47.85870)</td>\n      <td>True</td>\n    </tr>\n    <tr>\n      <th>2</th>\n      <td>49.6728</td>\n      <td>18.6611</td>\n      <td>307.4</td>\n      <td>57</td>\n      <td>276.5</td>\n      <td>1.417969e+00</td>\n      <td>10.702774</td>\n      <td>2013-01-01</td>\n      <td>POINT (18.66110 49.67280)</td>\n      <td>True</td>\n    </tr>\n    <tr>\n      <th>3</th>\n      <td>37.3934</td>\n      <td>39.4902</td>\n      <td>303.1</td>\n      <td>55</td>\n      <td>287.0</td>\n      <td>3.445312e+00</td>\n      <td>11.884926</td>\n      <td>2013-01-01</td>\n      <td>POINT (39.49020 37.39340)</td>\n      <td>True</td>\n    </tr>\n    <tr>\n      <th>4</th>\n      <td>36.8729</td>\n      <td>6.9397</td>\n      <td>320.8</td>\n      <td>75</td>\n      <td>286.9</td>\n      <td>3.714844e+00</td>\n      <td>14.682411</td>\n      <td>2013-01-01</td>\n      <td>POINT (6.93970 36.87290)</td>\n      <td>True</td>\n    </tr>\n    <tr>\n      <th>...</th>\n      <td>...</td>\n      <td>...</td>\n      <td>...</td>\n      <td>...</td>\n      <td>...</td>\n      <td>...</td>\n      <td>...</td>\n      <td>...</td>\n      <td>...</td>\n      <td>...</td>\n    </tr>\n    <tr>\n      <th>150796</th>\n      <td>65.0000</td>\n      <td>-55.2500</td>\n      <td>316.2</td>\n      <td>72</td>\n      <td>278.4</td>\n      <td>NaN</td>\n      <td>3966.472953</td>\n      <td>2013-03-15</td>\n      <td>POINT (-55.25000 65.00000)</td>\n      <td>False</td>\n    </tr>\n    <tr>\n      <th>150797</th>\n      <td>52.2500</td>\n      <td>-81.5000</td>\n      <td>303.3</td>\n      <td>48</td>\n      <td>288.4</td>\n      <td>2.117188e+00</td>\n      <td>1146.862831</td>\n      <td>2013-05-11</td>\n      <td>POINT (-81.50000 52.25000)</td>\n      <td>False</td>\n    </tr>\n    <tr>\n      <th>150798</th>\n      <td>77.2500</td>\n      <td>-115.5000</td>\n      <td>387.1</td>\n      <td>75</td>\n      <td>272.9</td>\n      <td>2.656250e-01</td>\n      <td>2849.523999</td>\n      <td>2013-11-21</td>\n      <td>POINT (-115.50000 77.25000)</td>\n      <td>False</td>\n    </tr>\n    <tr>\n      <th>150799</th>\n      <td>51.5000</td>\n      <td>-125.7500</td>\n      <td>311.3</td>\n      <td>53</td>\n      <td>286.0</td>\n      <td>1.808982e-09</td>\n      <td>302.993555</td>\n      <td>2013-04-27</td>\n      <td>POINT (-125.75000 51.50000)</td>\n      <td>False</td>\n    </tr>\n    <tr>\n      <th>150800</th>\n      <td>79.5000</td>\n      <td>-138.0000</td>\n      <td>361.1</td>\n      <td>82</td>\n      <td>296.2</td>\n      <td>NaN</td>\n      <td>2045.117228</td>\n      <td>2013-07-04</td>\n      <td>POINT (-138.00000 79.50000)</td>\n      <td>False</td>\n    </tr>\n  </tbody>\n</table>\n<p>150801 rows × 10 columns</p>\n</div>"
     },
     "execution_count": 97,
     "metadata": {},
     "output_type": "execute_result"
    }
   ],
   "source": [
    "# Rename the columns to match\n",
    "df_left_join = df_left_join.rename(columns={'latitude_left': 'latitude', 'longitude_left': 'longitude'})\n",
    "df_right_join = df_right_join.rename(columns={'latitude_right': 'latitude', 'longitude_right': 'longitude'})\n",
    "\n",
    "# Concatenate the GeoDataFrames\n",
    "gdf_concat = pd.concat([df_left_join, df_right_join], ignore_index=True)\n",
    "\n",
    "# Ensure the concatenated DataFrame is still a GeoDataFrame\n",
    "gdf_concat = gpd.GeoDataFrame(gdf_concat, geometry='geometry')\n",
    "gdf_concat"
   ],
   "metadata": {
    "collapsed": false,
    "ExecuteTime": {
     "end_time": "2024-07-02T19:07:33.503136Z",
     "start_time": "2024-07-02T19:07:33.457133Z"
    }
   },
   "id": "6f74ef6e588b7e2f",
   "execution_count": 97
  },
  {
   "cell_type": "code",
   "outputs": [],
   "source": [],
   "metadata": {
    "collapsed": false
   },
   "id": "7dd85fe6df4ff6a4"
  },
  {
   "cell_type": "code",
   "outputs": [],
   "source": [],
   "metadata": {
    "collapsed": false
   },
   "id": "6e219af03591a99d"
  },
  {
   "cell_type": "markdown",
   "source": [
    "# 2. Add land cover (aggregated) data to pixel according to lon and lat\n",
    "\n",
    "## 2.1 Load land cover shapefile and convert to geopandas dataframe"
   ],
   "metadata": {
    "collapsed": false
   },
   "id": "bec6c18cf5ad65f6"
  },
  {
   "cell_type": "code",
   "outputs": [
    {
     "data": {
      "text/plain": "        latitude  longitude  brightness  confidence  bright_t31           fwi  \\\n0        35.8073    -0.2538       310.2          79       277.6  6.847656e+00   \n1        47.8587    33.4466       308.0          63       272.6  2.148438e-01   \n2        49.6728    18.6611       307.4          57       276.5  1.417969e+00   \n3        37.3934    39.4902       303.1          55       287.0  3.445312e+00   \n4        36.8729     6.9397       320.8          75       286.9  3.714844e+00   \n...          ...        ...         ...         ...         ...           ...   \n150796   65.0000   -55.2500       316.2          72       278.4           NaN   \n150797   52.2500   -81.5000       303.3          48       288.4  2.117188e+00   \n150798   77.2500  -115.5000       387.1          75       272.9  2.656250e-01   \n150799   51.5000  -125.7500       311.3          53       286.0  1.808982e-09   \n150800   79.5000  -138.0000       361.1          82       296.2           NaN   \n\n        distance_km        date                     geometry  ignited  \n0          6.380693  2013-01-01    POINT (-0.25380 35.80730)     True  \n1         12.727889  2013-01-01    POINT (33.44660 47.85870)     True  \n2         10.702774  2013-01-01    POINT (18.66110 49.67280)     True  \n3         11.884926  2013-01-01    POINT (39.49020 37.39340)     True  \n4         14.682411  2013-01-01     POINT (6.93970 36.87290)     True  \n...             ...         ...                          ...      ...  \n150796  3966.472953  2013-03-15   POINT (-55.25000 65.00000)    False  \n150797  1146.862831  2013-05-11   POINT (-81.50000 52.25000)    False  \n150798  2849.523999  2013-11-21  POINT (-115.50000 77.25000)    False  \n150799   302.993555  2013-04-27  POINT (-125.75000 51.50000)    False  \n150800  2045.117228  2013-07-04  POINT (-138.00000 79.50000)    False  \n\n[150801 rows x 10 columns]",
      "text/html": "<div>\n<style scoped>\n    .dataframe tbody tr th:only-of-type {\n        vertical-align: middle;\n    }\n\n    .dataframe tbody tr th {\n        vertical-align: top;\n    }\n\n    .dataframe thead th {\n        text-align: right;\n    }\n</style>\n<table border=\"1\" class=\"dataframe\">\n  <thead>\n    <tr style=\"text-align: right;\">\n      <th></th>\n      <th>latitude</th>\n      <th>longitude</th>\n      <th>brightness</th>\n      <th>confidence</th>\n      <th>bright_t31</th>\n      <th>fwi</th>\n      <th>distance_km</th>\n      <th>date</th>\n      <th>geometry</th>\n      <th>ignited</th>\n    </tr>\n  </thead>\n  <tbody>\n    <tr>\n      <th>0</th>\n      <td>35.8073</td>\n      <td>-0.2538</td>\n      <td>310.2</td>\n      <td>79</td>\n      <td>277.6</td>\n      <td>6.847656e+00</td>\n      <td>6.380693</td>\n      <td>2013-01-01</td>\n      <td>POINT (-0.25380 35.80730)</td>\n      <td>True</td>\n    </tr>\n    <tr>\n      <th>1</th>\n      <td>47.8587</td>\n      <td>33.4466</td>\n      <td>308.0</td>\n      <td>63</td>\n      <td>272.6</td>\n      <td>2.148438e-01</td>\n      <td>12.727889</td>\n      <td>2013-01-01</td>\n      <td>POINT (33.44660 47.85870)</td>\n      <td>True</td>\n    </tr>\n    <tr>\n      <th>2</th>\n      <td>49.6728</td>\n      <td>18.6611</td>\n      <td>307.4</td>\n      <td>57</td>\n      <td>276.5</td>\n      <td>1.417969e+00</td>\n      <td>10.702774</td>\n      <td>2013-01-01</td>\n      <td>POINT (18.66110 49.67280)</td>\n      <td>True</td>\n    </tr>\n    <tr>\n      <th>3</th>\n      <td>37.3934</td>\n      <td>39.4902</td>\n      <td>303.1</td>\n      <td>55</td>\n      <td>287.0</td>\n      <td>3.445312e+00</td>\n      <td>11.884926</td>\n      <td>2013-01-01</td>\n      <td>POINT (39.49020 37.39340)</td>\n      <td>True</td>\n    </tr>\n    <tr>\n      <th>4</th>\n      <td>36.8729</td>\n      <td>6.9397</td>\n      <td>320.8</td>\n      <td>75</td>\n      <td>286.9</td>\n      <td>3.714844e+00</td>\n      <td>14.682411</td>\n      <td>2013-01-01</td>\n      <td>POINT (6.93970 36.87290)</td>\n      <td>True</td>\n    </tr>\n    <tr>\n      <th>...</th>\n      <td>...</td>\n      <td>...</td>\n      <td>...</td>\n      <td>...</td>\n      <td>...</td>\n      <td>...</td>\n      <td>...</td>\n      <td>...</td>\n      <td>...</td>\n      <td>...</td>\n    </tr>\n    <tr>\n      <th>150796</th>\n      <td>65.0000</td>\n      <td>-55.2500</td>\n      <td>316.2</td>\n      <td>72</td>\n      <td>278.4</td>\n      <td>NaN</td>\n      <td>3966.472953</td>\n      <td>2013-03-15</td>\n      <td>POINT (-55.25000 65.00000)</td>\n      <td>False</td>\n    </tr>\n    <tr>\n      <th>150797</th>\n      <td>52.2500</td>\n      <td>-81.5000</td>\n      <td>303.3</td>\n      <td>48</td>\n      <td>288.4</td>\n      <td>2.117188e+00</td>\n      <td>1146.862831</td>\n      <td>2013-05-11</td>\n      <td>POINT (-81.50000 52.25000)</td>\n      <td>False</td>\n    </tr>\n    <tr>\n      <th>150798</th>\n      <td>77.2500</td>\n      <td>-115.5000</td>\n      <td>387.1</td>\n      <td>75</td>\n      <td>272.9</td>\n      <td>2.656250e-01</td>\n      <td>2849.523999</td>\n      <td>2013-11-21</td>\n      <td>POINT (-115.50000 77.25000)</td>\n      <td>False</td>\n    </tr>\n    <tr>\n      <th>150799</th>\n      <td>51.5000</td>\n      <td>-125.7500</td>\n      <td>311.3</td>\n      <td>53</td>\n      <td>286.0</td>\n      <td>1.808982e-09</td>\n      <td>302.993555</td>\n      <td>2013-04-27</td>\n      <td>POINT (-125.75000 51.50000)</td>\n      <td>False</td>\n    </tr>\n    <tr>\n      <th>150800</th>\n      <td>79.5000</td>\n      <td>-138.0000</td>\n      <td>361.1</td>\n      <td>82</td>\n      <td>296.2</td>\n      <td>NaN</td>\n      <td>2045.117228</td>\n      <td>2013-07-04</td>\n      <td>POINT (-138.00000 79.50000)</td>\n      <td>False</td>\n    </tr>\n  </tbody>\n</table>\n<p>150801 rows × 10 columns</p>\n</div>"
     },
     "execution_count": 118,
     "metadata": {},
     "output_type": "execute_result"
    }
   ],
   "source": [
    "gdf_concat"
   ],
   "metadata": {
    "collapsed": false,
    "ExecuteTime": {
     "end_time": "2024-07-02T23:31:43.558345Z",
     "start_time": "2024-07-02T23:31:43.537346Z"
    }
   },
   "id": "d5858d89a8636ebd",
   "execution_count": 118
  },
  {
   "cell_type": "code",
   "outputs": [
    {
     "data": {
      "text/plain": "True"
     },
     "execution_count": 115,
     "metadata": {},
     "output_type": "execute_result"
    }
   ],
   "source": [
    "os.path.exists('C:/Users\\zhong\\Documents\\Python Projects\\climada_petals\\climada_petals\\data\\wildfire\\land_cover\\land_cover2015.tif')"
   ],
   "metadata": {
    "collapsed": false,
    "ExecuteTime": {
     "end_time": "2024-07-02T23:21:18.339215Z",
     "start_time": "2024-07-02T23:21:18.332063Z"
    }
   },
   "id": "b314dc9fa7e56217",
   "execution_count": 115
  },
  {
   "cell_type": "code",
   "outputs": [],
   "source": [
    "elevation_folder = '../../climada_petals/data/wildfire/land_cover/'\n",
    "land_cover_raster = rasterio.open(os.path.join(elevation_folder, 'land_cover2015.tif'))\n",
    "\n",
    "import numpy as np\n",
    "\n",
    "# Define a function to get raster values at given points\n",
    "def get_raster_values(raster, points):\n",
    "    # Transform coordinates to raster's space\n",
    "    coords = [(pt.x, pt.y) for pt in points.geometry]\n",
    "    # Sample the raster at each coordinate\n",
    "    return [x[0] for x in raster.sample(coords)]\n",
    "\n",
    "# Apply the function to the geodataframe\n",
    "gdf_concat['land_cover'] = get_raster_values(land_cover_raster, gdf_concat)\n"
   ],
   "metadata": {
    "collapsed": false,
    "ExecuteTime": {
     "end_time": "2024-07-02T23:31:57.965676Z",
     "start_time": "2024-07-02T23:31:47.633837Z"
    }
   },
   "id": "cb547ee0a231f4fe",
   "execution_count": 119
  },
  {
   "cell_type": "code",
   "outputs": [
    {
     "data": {
      "text/plain": "array([ 50,  40, 126, 115, 114, 200,  30,  20, 121, 116,  60,  80,  90,\n       124, 125, 111, 112, 255,   0,  70, 100, 113], dtype=uint8)"
     },
     "execution_count": 121,
     "metadata": {},
     "output_type": "execute_result"
    }
   ],
   "source": [
    "gdf_concat.land_cover.unique()"
   ],
   "metadata": {
    "collapsed": false,
    "ExecuteTime": {
     "end_time": "2024-07-02T23:32:12.027635Z",
     "start_time": "2024-07-02T23:32:11.995631Z"
    }
   },
   "id": "6d628733c943552",
   "execution_count": 121
  },
  {
   "cell_type": "code",
   "outputs": [
    {
     "data": {
      "text/plain": "   bc_id  id                                           geometry\n0   ZA01   1  MULTIPOLYGON (((-170.81288 61.33151, -170.8128...\n1   ZA02   2  MULTIPOLYGON (((-32.80088 63.12851, -32.80088 ...\n2   ZA03   3  POLYGON ((-126.94237 69.54026, -126.94237 69.5...\n3   ZA04   4  POLYGON ((-137.49938 65.89151, -137.49938 65.8...\n4   ZA05   5  MULTIPOLYGON (((177.14963 53.24651, 177.14963 ...\n..   ...  ..                                                ...\n68  ZB47  69  POLYGON ((137.87812 -14.58199, 137.87812 -14.6...\n69  ZB48  70  POLYGON ((121.13363 -19.70899, 121.13363 -19.7...\n70  ZB49  71  POLYGON ((119.26762 -18.97774, 119.30362 -18.9...\n71  ZB50  72  POLYGON ((149.73413 -25.26649, 149.73413 -25.2...\n72  ZB51  73  MULTIPOLYGON (((166.52212 -49.64299, 166.52212...\n\n[73 rows x 3 columns]",
      "text/html": "<div>\n<style scoped>\n    .dataframe tbody tr th:only-of-type {\n        vertical-align: middle;\n    }\n\n    .dataframe tbody tr th {\n        vertical-align: top;\n    }\n\n    .dataframe thead th {\n        text-align: right;\n    }\n</style>\n<table border=\"1\" class=\"dataframe\">\n  <thead>\n    <tr style=\"text-align: right;\">\n      <th></th>\n      <th>bc_id</th>\n      <th>id</th>\n      <th>geometry</th>\n    </tr>\n  </thead>\n  <tbody>\n    <tr>\n      <th>0</th>\n      <td>ZA01</td>\n      <td>1</td>\n      <td>MULTIPOLYGON (((-170.81288 61.33151, -170.8128...</td>\n    </tr>\n    <tr>\n      <th>1</th>\n      <td>ZA02</td>\n      <td>2</td>\n      <td>MULTIPOLYGON (((-32.80088 63.12851, -32.80088 ...</td>\n    </tr>\n    <tr>\n      <th>2</th>\n      <td>ZA03</td>\n      <td>3</td>\n      <td>POLYGON ((-126.94237 69.54026, -126.94237 69.5...</td>\n    </tr>\n    <tr>\n      <th>3</th>\n      <td>ZA04</td>\n      <td>4</td>\n      <td>POLYGON ((-137.49938 65.89151, -137.49938 65.8...</td>\n    </tr>\n    <tr>\n      <th>4</th>\n      <td>ZA05</td>\n      <td>5</td>\n      <td>MULTIPOLYGON (((177.14963 53.24651, 177.14963 ...</td>\n    </tr>\n    <tr>\n      <th>...</th>\n      <td>...</td>\n      <td>...</td>\n      <td>...</td>\n    </tr>\n    <tr>\n      <th>68</th>\n      <td>ZB47</td>\n      <td>69</td>\n      <td>POLYGON ((137.87812 -14.58199, 137.87812 -14.6...</td>\n    </tr>\n    <tr>\n      <th>69</th>\n      <td>ZB48</td>\n      <td>70</td>\n      <td>POLYGON ((121.13363 -19.70899, 121.13363 -19.7...</td>\n    </tr>\n    <tr>\n      <th>70</th>\n      <td>ZB49</td>\n      <td>71</td>\n      <td>POLYGON ((119.26762 -18.97774, 119.30362 -18.9...</td>\n    </tr>\n    <tr>\n      <th>71</th>\n      <td>ZB50</td>\n      <td>72</td>\n      <td>POLYGON ((149.73413 -25.26649, 149.73413 -25.2...</td>\n    </tr>\n    <tr>\n      <th>72</th>\n      <td>ZB51</td>\n      <td>73</td>\n      <td>MULTIPOLYGON (((166.52212 -49.64299, 166.52212...</td>\n    </tr>\n  </tbody>\n</table>\n<p>73 rows × 3 columns</p>\n</div>"
     },
     "execution_count": 99,
     "metadata": {},
     "output_type": "execute_result"
    }
   ],
   "source": [
    "# # Load the land cover shapefile\n",
    "# elevation_folder = '../../climada_petals/data/wildfire/land_cover/'\n",
    "# land_cover_gdf = gpd.read_file(os.path.join(elevation_folder, 'ProbaV_UTM_LC100_biome_clusters_V3_global.shp'))\n",
    "# land_cover_gdf"
   ],
   "metadata": {
    "collapsed": false,
    "ExecuteTime": {
     "end_time": "2024-07-02T19:16:13.794516Z",
     "start_time": "2024-07-02T19:16:11.376451Z"
    }
   },
   "id": "e8dfac2b84247fa2",
   "execution_count": 99
  },
  {
   "cell_type": "code",
   "outputs": [
    {
     "name": "stdout",
     "output_type": "stream",
     "text": [
      "CRS for land cover GDF: EPSG:4326\n",
      "CRS for merged EU GDF: EPSG:4326\n"
     ]
    }
   ],
   "source": [
    "# # Check CRS\n",
    "# print(\"CRS for land cover GDF:\", land_cover_gdf.crs)\n",
    "# print(\"CRS for merged EU GDF:\", gdf_concat.crs)"
   ],
   "metadata": {
    "collapsed": false,
    "ExecuteTime": {
     "end_time": "2024-07-02T19:17:14.141394Z",
     "start_time": "2024-07-02T19:17:14.126803Z"
    }
   },
   "id": "fbf65b3e497dc163",
   "execution_count": 100
  },
  {
   "cell_type": "code",
   "outputs": [
    {
     "data": {
      "text/plain": "(150801, 10)"
     },
     "execution_count": 106,
     "metadata": {},
     "output_type": "execute_result"
    }
   ],
   "source": [
    "# gdf_concat.shape"
   ],
   "metadata": {
    "collapsed": false,
    "ExecuteTime": {
     "end_time": "2024-07-02T19:52:12.293358Z",
     "start_time": "2024-07-02T19:52:12.286358Z"
    }
   },
   "id": "2421b222e5210349",
   "execution_count": 106
  },
  {
   "cell_type": "code",
   "outputs": [
    {
     "name": "stderr",
     "output_type": "stream",
     "text": [
      "C:\\Users\\zhong\\.conda\\envs\\climada_env\\lib\\site-packages\\geopandas\\array.py:365: UserWarning: Geometry is in a geographic CRS. Results from 'sjoin_nearest' are likely incorrect. Use 'GeoSeries.to_crs()' to re-project geometries to a projected CRS before this operation.\n",
      "\n",
      "  warnings.warn(\n"
     ]
    },
    {
     "data": {
      "text/plain": "        latitude  longitude  brightness  confidence  bright_t31           fwi  \\\n0        35.8073    -0.2538       310.2          79       277.6  6.847656e+00   \n1        47.8587    33.4466       308.0          63       272.6  2.148438e-01   \n2        49.6728    18.6611       307.4          57       276.5  1.417969e+00   \n3        37.3934    39.4902       303.1          55       287.0  3.445312e+00   \n4        36.8729     6.9397       320.8          75       286.9  3.714844e+00   \n...          ...        ...         ...         ...         ...           ...   \n150796   65.0000   -55.2500       316.2          72       278.4           NaN   \n150797   52.2500   -81.5000       303.3          48       288.4  2.117188e+00   \n150798   77.2500  -115.5000       387.1          75       272.9  2.656250e-01   \n150799   51.5000  -125.7500       311.3          53       286.0  1.808982e-09   \n150800   79.5000  -138.0000       361.1          82       296.2           NaN   \n\n        distance_km        date                     geometry  ignited  \\\n0          6.380693  2013-01-01    POINT (-0.25380 35.80730)     True   \n1         12.727889  2013-01-01    POINT (33.44660 47.85870)     True   \n2         10.702774  2013-01-01    POINT (18.66110 49.67280)     True   \n3         11.884926  2013-01-01    POINT (39.49020 37.39340)     True   \n4         14.682411  2013-01-01     POINT (6.93970 36.87290)     True   \n...             ...         ...                          ...      ...   \n150796  3966.472953  2013-03-15   POINT (-55.25000 65.00000)    False   \n150797  1146.862831  2013-05-11   POINT (-81.50000 52.25000)    False   \n150798  2849.523999  2013-11-21  POINT (-115.50000 77.25000)    False   \n150799   302.993555  2013-04-27  POINT (-125.75000 51.50000)    False   \n150800  2045.117228  2013-07-04  POINT (-138.00000 79.50000)    False   \n\n        index_right bc_id  id  distance  \n0                41  ZB22  44  0.000000  \n1                28  ZB09  31  0.000000  \n2                28  ZB09  31  0.000000  \n3                55  ZB19  41  0.000000  \n4                41  ZB22  44  0.000000  \n...             ...   ...  ..       ...  \n150796            1  ZA02   2  0.369872  \n150797            5  ZA06   6  0.000000  \n150798            1  ZA02   2  0.000000  \n150799           11  ZA12  12  0.000000  \n150800            0  ZA01   1  7.424456  \n\n[150801 rows x 14 columns]",
      "text/html": "<div>\n<style scoped>\n    .dataframe tbody tr th:only-of-type {\n        vertical-align: middle;\n    }\n\n    .dataframe tbody tr th {\n        vertical-align: top;\n    }\n\n    .dataframe thead th {\n        text-align: right;\n    }\n</style>\n<table border=\"1\" class=\"dataframe\">\n  <thead>\n    <tr style=\"text-align: right;\">\n      <th></th>\n      <th>latitude</th>\n      <th>longitude</th>\n      <th>brightness</th>\n      <th>confidence</th>\n      <th>bright_t31</th>\n      <th>fwi</th>\n      <th>distance_km</th>\n      <th>date</th>\n      <th>geometry</th>\n      <th>ignited</th>\n      <th>index_right</th>\n      <th>bc_id</th>\n      <th>id</th>\n      <th>distance</th>\n    </tr>\n  </thead>\n  <tbody>\n    <tr>\n      <th>0</th>\n      <td>35.8073</td>\n      <td>-0.2538</td>\n      <td>310.2</td>\n      <td>79</td>\n      <td>277.6</td>\n      <td>6.847656e+00</td>\n      <td>6.380693</td>\n      <td>2013-01-01</td>\n      <td>POINT (-0.25380 35.80730)</td>\n      <td>True</td>\n      <td>41</td>\n      <td>ZB22</td>\n      <td>44</td>\n      <td>0.000000</td>\n    </tr>\n    <tr>\n      <th>1</th>\n      <td>47.8587</td>\n      <td>33.4466</td>\n      <td>308.0</td>\n      <td>63</td>\n      <td>272.6</td>\n      <td>2.148438e-01</td>\n      <td>12.727889</td>\n      <td>2013-01-01</td>\n      <td>POINT (33.44660 47.85870)</td>\n      <td>True</td>\n      <td>28</td>\n      <td>ZB09</td>\n      <td>31</td>\n      <td>0.000000</td>\n    </tr>\n    <tr>\n      <th>2</th>\n      <td>49.6728</td>\n      <td>18.6611</td>\n      <td>307.4</td>\n      <td>57</td>\n      <td>276.5</td>\n      <td>1.417969e+00</td>\n      <td>10.702774</td>\n      <td>2013-01-01</td>\n      <td>POINT (18.66110 49.67280)</td>\n      <td>True</td>\n      <td>28</td>\n      <td>ZB09</td>\n      <td>31</td>\n      <td>0.000000</td>\n    </tr>\n    <tr>\n      <th>3</th>\n      <td>37.3934</td>\n      <td>39.4902</td>\n      <td>303.1</td>\n      <td>55</td>\n      <td>287.0</td>\n      <td>3.445312e+00</td>\n      <td>11.884926</td>\n      <td>2013-01-01</td>\n      <td>POINT (39.49020 37.39340)</td>\n      <td>True</td>\n      <td>55</td>\n      <td>ZB19</td>\n      <td>41</td>\n      <td>0.000000</td>\n    </tr>\n    <tr>\n      <th>4</th>\n      <td>36.8729</td>\n      <td>6.9397</td>\n      <td>320.8</td>\n      <td>75</td>\n      <td>286.9</td>\n      <td>3.714844e+00</td>\n      <td>14.682411</td>\n      <td>2013-01-01</td>\n      <td>POINT (6.93970 36.87290)</td>\n      <td>True</td>\n      <td>41</td>\n      <td>ZB22</td>\n      <td>44</td>\n      <td>0.000000</td>\n    </tr>\n    <tr>\n      <th>...</th>\n      <td>...</td>\n      <td>...</td>\n      <td>...</td>\n      <td>...</td>\n      <td>...</td>\n      <td>...</td>\n      <td>...</td>\n      <td>...</td>\n      <td>...</td>\n      <td>...</td>\n      <td>...</td>\n      <td>...</td>\n      <td>...</td>\n      <td>...</td>\n    </tr>\n    <tr>\n      <th>150796</th>\n      <td>65.0000</td>\n      <td>-55.2500</td>\n      <td>316.2</td>\n      <td>72</td>\n      <td>278.4</td>\n      <td>NaN</td>\n      <td>3966.472953</td>\n      <td>2013-03-15</td>\n      <td>POINT (-55.25000 65.00000)</td>\n      <td>False</td>\n      <td>1</td>\n      <td>ZA02</td>\n      <td>2</td>\n      <td>0.369872</td>\n    </tr>\n    <tr>\n      <th>150797</th>\n      <td>52.2500</td>\n      <td>-81.5000</td>\n      <td>303.3</td>\n      <td>48</td>\n      <td>288.4</td>\n      <td>2.117188e+00</td>\n      <td>1146.862831</td>\n      <td>2013-05-11</td>\n      <td>POINT (-81.50000 52.25000)</td>\n      <td>False</td>\n      <td>5</td>\n      <td>ZA06</td>\n      <td>6</td>\n      <td>0.000000</td>\n    </tr>\n    <tr>\n      <th>150798</th>\n      <td>77.2500</td>\n      <td>-115.5000</td>\n      <td>387.1</td>\n      <td>75</td>\n      <td>272.9</td>\n      <td>2.656250e-01</td>\n      <td>2849.523999</td>\n      <td>2013-11-21</td>\n      <td>POINT (-115.50000 77.25000)</td>\n      <td>False</td>\n      <td>1</td>\n      <td>ZA02</td>\n      <td>2</td>\n      <td>0.000000</td>\n    </tr>\n    <tr>\n      <th>150799</th>\n      <td>51.5000</td>\n      <td>-125.7500</td>\n      <td>311.3</td>\n      <td>53</td>\n      <td>286.0</td>\n      <td>1.808982e-09</td>\n      <td>302.993555</td>\n      <td>2013-04-27</td>\n      <td>POINT (-125.75000 51.50000)</td>\n      <td>False</td>\n      <td>11</td>\n      <td>ZA12</td>\n      <td>12</td>\n      <td>0.000000</td>\n    </tr>\n    <tr>\n      <th>150800</th>\n      <td>79.5000</td>\n      <td>-138.0000</td>\n      <td>361.1</td>\n      <td>82</td>\n      <td>296.2</td>\n      <td>NaN</td>\n      <td>2045.117228</td>\n      <td>2013-07-04</td>\n      <td>POINT (-138.00000 79.50000)</td>\n      <td>False</td>\n      <td>0</td>\n      <td>ZA01</td>\n      <td>1</td>\n      <td>7.424456</td>\n    </tr>\n  </tbody>\n</table>\n<p>150801 rows × 14 columns</p>\n</div>"
     },
     "execution_count": 101,
     "metadata": {},
     "output_type": "execute_result"
    }
   ],
   "source": [
    "# result_gdf = gpd.sjoin_nearest(gdf_concat, land_cover_gdf, how='left', distance_col='distance')\n",
    "# result_gdf "
   ],
   "metadata": {
    "collapsed": false,
    "ExecuteTime": {
     "end_time": "2024-07-02T19:33:10.365371Z",
     "start_time": "2024-07-02T19:17:42.230807Z"
    }
   },
   "id": "681c327f8575dac5",
   "execution_count": 101
  },
  {
   "cell_type": "code",
   "outputs": [
    {
     "data": {
      "text/plain": "count    150801.000000\nmean          0.295478\nstd           1.064557\nmin           0.000000\n25%           0.000000\n50%           0.000000\n75%           0.000000\nmax          11.305619\nName: distance, dtype: float64"
     },
     "execution_count": 105,
     "metadata": {},
     "output_type": "execute_result"
    }
   ],
   "source": [
    "# result_gdf['distance'].describe()"
   ],
   "metadata": {
    "collapsed": false,
    "ExecuteTime": {
     "end_time": "2024-07-02T19:50:04.367504Z",
     "start_time": "2024-07-02T19:50:04.353503Z"
    }
   },
   "id": "91ffcbd89a0c249f",
   "execution_count": 105
  },
  {
   "cell_type": "markdown",
   "source": [
    "## 2.2 for each pixel (1x1 for left and 31x31 for right), calculate the average probability of fire ignition according to Clamada Master thesis Table 2.1\n"
   ],
   "metadata": {
    "collapsed": false
   },
   "id": "4a500b00f55a514a"
  },
  {
   "cell_type": "code",
   "outputs": [],
   "source": [
    "# from shapely.geometry import Point, box\n",
    "# \n",
    "# # Create a new column 'geometry' that converts each point to a square polygon\n",
    "# # Assuming the points are in a projected coordinate system where units are meters\n",
    "# merged_eu_2013_gdf['geometry'] = merged_eu_2013_gdf.apply(\n",
    "#     lambda row: box(\n",
    "#         row['longitude'] - 500,  # Subtract 500 meters from the longitude\n",
    "#         row['latitude'] - 500,   # Subtract 500 meters from the latitude\n",
    "#         row['longitude'] + 500,  # Add 500 meters to the longitude\n",
    "#         row['latitude'] + 500    # Add 500 meters to the latitude\n",
    "#     ), axis=1\n",
    "# )\n",
    "# merged_eu_2013_gdf = gpd.GeoDataFrame(merged_eu_2013_gdf, geometry='geometry')\n",
    "# \n",
    "# import geopandas as gpd\n",
    "# \n",
    "# # Load the land cover shapefile\n",
    "# land_cover_gdf = gpd.read_file('/path/to/ProbaV_UTM_LC100_biome_clusters_V3_global.shp')\n",
    "# \n",
    "# # Ensure CRS match, reproject if necessary\n",
    "# if merged_eu_2013_gdf.crs != land_cover_gdf.crs:\n",
    "#     merged_eu_2013_gdf = merged_eu_2013_gdf.to_crs(land_cover_gdf.crs)\n",
    "# \n",
    "# # Perform spatial join\n",
    "# joined_gdf = gpd.sjoin(merged_eu_2013_gdf, land_cover_gdf, how='inner', op='intersects')\n",
    "# \n",
    "# import pandas as pd\n",
    "# \n",
    "# # Group by the index of the merged_eu_2013_gdf and find the most common land cover type\n",
    "# most_common_land_cover = joined_gdf.groupby('index_merged_eu_2013').apply(\n",
    "#     lambda g: g['bc_id'].value_counts().idxmax()\n",
    "# )\n",
    "# merged_eu_2013_gdf['most_frequent_land_cover'] = most_common_land_cover\n",
    "# \n",
    "# # Save the updated GeoDataFrame\n",
    "# merged_eu_2013_gdf.to_file('/path/to/save/updated_merged_eu_2013.gpkg', driver='GPKG')\n"
   ],
   "metadata": {
    "collapsed": false
   },
   "id": "33910451e2d3e94"
  },
  {
   "cell_type": "markdown",
   "source": [
    "# 3. Add elevation data to pixel according to lon and lat\n",
    "## 3.1 Load elevation shapefile and convert to geopandas dataframe"
   ],
   "metadata": {
    "collapsed": false
   },
   "id": "a9c62b3ecf2e731a"
  },
  {
   "cell_type": "markdown",
   "source": [
    "Create a Virtual Raster (VRT)\n",
    "You can use the GDAL command-line tools or rasterio's virtual raster capabilities in Python to combine your GeoTIFF files into a VRT.\n",
    "Using GDAL Command Line:\n",
    "gdalbuildvrt combined_elevation.vrt 50N000E_20101117_gmted_mea075.tif 50N030W_20101117_gmted_mea075.tif 50N030E_20101117_gmted_mea075.tif 30N030W_20101117_gmted_mea075.tif 30N000E_20101117_gmted_mea075.tif 30N030E_20101117_gmted_mea075.tif"
   ],
   "metadata": {
    "collapsed": false
   },
   "id": "febe9c8023892d3"
  },
  {
   "cell_type": "code",
   "outputs": [],
   "source": [
    "\n",
    "\n",
    "elevation_folder = '../../climada_petals/data/wildfire/elevation/'\n",
    "# List of your GeoTIFF files\n",
    "files = ['50N000E_20101117_gmted_mea075.tif', '50N030W_20101117_gmted_mea075.tif', '50N030E_20101117_gmted_mea075.tif', '30N030W_20101117_gmted_mea075.tif', '30N000E_20101117_gmted_mea075.tif', '30N030E_20101117_gmted_mea075.tif']\n",
    "\n",
    "\n",
    "# Open all files\n",
    "src_files = [rasterio.open(os.path.join(elevation_folder, f)) for f in files]\n",
    "\n",
    "# Create a virtual mosaic (in-memory, no VRT file written)\n",
    "mosaic, out_transform = merge(src_files)\n",
    "\n",
    "# Create a Virtual Raster (VRT) file in memory (alternative to writing to disk)\n",
    "with MemoryFile() as memfile:\n",
    "    with memfile.open(driver='GTiff', height=mosaic.shape[1], width=mosaic.shape[2],\n",
    "                      count=1, dtype=mosaic.dtype, transform=out_transform,\n",
    "                      crs=src_files[0].crs) as dataset:\n",
    "        dataset.write(mosaic[0], 1)\n",
    "        virtual_raster = dataset.name  # Path to the in-memory dataset"
   ],
   "metadata": {
    "collapsed": false,
    "ExecuteTime": {
     "end_time": "2024-07-02T23:38:11.656417Z",
     "start_time": "2024-07-02T23:37:12.853707Z"
    }
   },
   "id": "1e12cf786a78d979",
   "execution_count": 123
  },
  {
   "cell_type": "markdown",
   "source": [
    "## 3.2 for each pixel (1x1 for left and 31x31 for right), calculate the average elevation"
   ],
   "metadata": {
    "collapsed": false
   },
   "id": "7e403afd5dc1c48"
  },
  {
   "cell_type": "code",
   "outputs": [],
   "source": [
    "# Load the virtual raster\n",
    "elevation_raster = rasterio.open(os.path.join(elevation_folder, 'combined_elevation.vrt'))\n",
    "# Ensure CRS alignment\n",
    "if elevation_raster.crs != gdf_concat.crs:\n",
    "    elevation_gdf = elevation_raster.to_crs(gdf_concat.crs)"
   ],
   "metadata": {
    "collapsed": false,
    "ExecuteTime": {
     "end_time": "2024-07-02T23:38:11.751751Z",
     "start_time": "2024-07-02T23:38:11.692751Z"
    }
   },
   "id": "1432278b5c449e2e",
   "execution_count": 125
  },
  {
   "cell_type": "code",
   "outputs": [],
   "source": [
    "# Function to get elevation data from raster\n",
    "def get_elevation(lon, lat, raster):\n",
    "    for val in raster.sample([(lon, lat)]):\n",
    "        return val[0]  # Assuming elevation data is in the first band\n",
    "\n",
    "# Apply the function to each row in the geodataframe\n",
    "gdf_concat['elevation'] = gdf_concat.apply(\n",
    "    lambda row: get_elevation(row.geometry.x, row.geometry.y, elevation_raster), axis=1\n",
    ")"
   ],
   "metadata": {
    "collapsed": false,
    "ExecuteTime": {
     "end_time": "2024-07-02T23:38:27.137895Z",
     "start_time": "2024-07-02T23:38:11.760751Z"
    }
   },
   "id": "a1824e1b1f6e5a22",
   "execution_count": 126
  },
  {
   "cell_type": "code",
   "outputs": [
    {
     "data": {
      "text/plain": "        latitude  longitude  brightness  confidence  bright_t31           fwi  \\\n0        35.8073    -0.2538       310.2          79       277.6  6.847656e+00   \n1        47.8587    33.4466       308.0          63       272.6  2.148438e-01   \n2        49.6728    18.6611       307.4          57       276.5  1.417969e+00   \n3        37.3934    39.4902       303.1          55       287.0  3.445312e+00   \n4        36.8729     6.9397       320.8          75       286.9  3.714844e+00   \n...          ...        ...         ...         ...         ...           ...   \n150796   65.0000   -55.2500       316.2          72       278.4           NaN   \n150797   52.2500   -81.5000       303.3          48       288.4  2.117188e+00   \n150798   77.2500  -115.5000       387.1          75       272.9  2.656250e-01   \n150799   51.5000  -125.7500       311.3          53       286.0  1.808982e-09   \n150800   79.5000  -138.0000       361.1          82       296.2           NaN   \n\n        distance_km        date                     geometry  ignited  \\\n0          6.380693  2013-01-01    POINT (-0.25380 35.80730)     True   \n1         12.727889  2013-01-01    POINT (33.44660 47.85870)     True   \n2         10.702774  2013-01-01    POINT (18.66110 49.67280)     True   \n3         11.884926  2013-01-01    POINT (39.49020 37.39340)     True   \n4         14.682411  2013-01-01     POINT (6.93970 36.87290)     True   \n...             ...         ...                          ...      ...   \n150796  3966.472953  2013-03-15   POINT (-55.25000 65.00000)    False   \n150797  1146.862831  2013-05-11   POINT (-81.50000 52.25000)    False   \n150798  2849.523999  2013-11-21  POINT (-115.50000 77.25000)    False   \n150799   302.993555  2013-04-27  POINT (-125.75000 51.50000)    False   \n150800  2045.117228  2013-07-04  POINT (-138.00000 79.50000)    False   \n\n        land_cover  elevation  \n0               50         16  \n1               50        110  \n2               50        319  \n3               40        705  \n4               50          2  \n...            ...        ...  \n150796         200     -32768  \n150797         126     -32768  \n150798         200     -32768  \n150799          70     -32768  \n150800         200     -32768  \n\n[150801 rows x 12 columns]",
      "text/html": "<div>\n<style scoped>\n    .dataframe tbody tr th:only-of-type {\n        vertical-align: middle;\n    }\n\n    .dataframe tbody tr th {\n        vertical-align: top;\n    }\n\n    .dataframe thead th {\n        text-align: right;\n    }\n</style>\n<table border=\"1\" class=\"dataframe\">\n  <thead>\n    <tr style=\"text-align: right;\">\n      <th></th>\n      <th>latitude</th>\n      <th>longitude</th>\n      <th>brightness</th>\n      <th>confidence</th>\n      <th>bright_t31</th>\n      <th>fwi</th>\n      <th>distance_km</th>\n      <th>date</th>\n      <th>geometry</th>\n      <th>ignited</th>\n      <th>land_cover</th>\n      <th>elevation</th>\n    </tr>\n  </thead>\n  <tbody>\n    <tr>\n      <th>0</th>\n      <td>35.8073</td>\n      <td>-0.2538</td>\n      <td>310.2</td>\n      <td>79</td>\n      <td>277.6</td>\n      <td>6.847656e+00</td>\n      <td>6.380693</td>\n      <td>2013-01-01</td>\n      <td>POINT (-0.25380 35.80730)</td>\n      <td>True</td>\n      <td>50</td>\n      <td>16</td>\n    </tr>\n    <tr>\n      <th>1</th>\n      <td>47.8587</td>\n      <td>33.4466</td>\n      <td>308.0</td>\n      <td>63</td>\n      <td>272.6</td>\n      <td>2.148438e-01</td>\n      <td>12.727889</td>\n      <td>2013-01-01</td>\n      <td>POINT (33.44660 47.85870)</td>\n      <td>True</td>\n      <td>50</td>\n      <td>110</td>\n    </tr>\n    <tr>\n      <th>2</th>\n      <td>49.6728</td>\n      <td>18.6611</td>\n      <td>307.4</td>\n      <td>57</td>\n      <td>276.5</td>\n      <td>1.417969e+00</td>\n      <td>10.702774</td>\n      <td>2013-01-01</td>\n      <td>POINT (18.66110 49.67280)</td>\n      <td>True</td>\n      <td>50</td>\n      <td>319</td>\n    </tr>\n    <tr>\n      <th>3</th>\n      <td>37.3934</td>\n      <td>39.4902</td>\n      <td>303.1</td>\n      <td>55</td>\n      <td>287.0</td>\n      <td>3.445312e+00</td>\n      <td>11.884926</td>\n      <td>2013-01-01</td>\n      <td>POINT (39.49020 37.39340)</td>\n      <td>True</td>\n      <td>40</td>\n      <td>705</td>\n    </tr>\n    <tr>\n      <th>4</th>\n      <td>36.8729</td>\n      <td>6.9397</td>\n      <td>320.8</td>\n      <td>75</td>\n      <td>286.9</td>\n      <td>3.714844e+00</td>\n      <td>14.682411</td>\n      <td>2013-01-01</td>\n      <td>POINT (6.93970 36.87290)</td>\n      <td>True</td>\n      <td>50</td>\n      <td>2</td>\n    </tr>\n    <tr>\n      <th>...</th>\n      <td>...</td>\n      <td>...</td>\n      <td>...</td>\n      <td>...</td>\n      <td>...</td>\n      <td>...</td>\n      <td>...</td>\n      <td>...</td>\n      <td>...</td>\n      <td>...</td>\n      <td>...</td>\n      <td>...</td>\n    </tr>\n    <tr>\n      <th>150796</th>\n      <td>65.0000</td>\n      <td>-55.2500</td>\n      <td>316.2</td>\n      <td>72</td>\n      <td>278.4</td>\n      <td>NaN</td>\n      <td>3966.472953</td>\n      <td>2013-03-15</td>\n      <td>POINT (-55.25000 65.00000)</td>\n      <td>False</td>\n      <td>200</td>\n      <td>-32768</td>\n    </tr>\n    <tr>\n      <th>150797</th>\n      <td>52.2500</td>\n      <td>-81.5000</td>\n      <td>303.3</td>\n      <td>48</td>\n      <td>288.4</td>\n      <td>2.117188e+00</td>\n      <td>1146.862831</td>\n      <td>2013-05-11</td>\n      <td>POINT (-81.50000 52.25000)</td>\n      <td>False</td>\n      <td>126</td>\n      <td>-32768</td>\n    </tr>\n    <tr>\n      <th>150798</th>\n      <td>77.2500</td>\n      <td>-115.5000</td>\n      <td>387.1</td>\n      <td>75</td>\n      <td>272.9</td>\n      <td>2.656250e-01</td>\n      <td>2849.523999</td>\n      <td>2013-11-21</td>\n      <td>POINT (-115.50000 77.25000)</td>\n      <td>False</td>\n      <td>200</td>\n      <td>-32768</td>\n    </tr>\n    <tr>\n      <th>150799</th>\n      <td>51.5000</td>\n      <td>-125.7500</td>\n      <td>311.3</td>\n      <td>53</td>\n      <td>286.0</td>\n      <td>1.808982e-09</td>\n      <td>302.993555</td>\n      <td>2013-04-27</td>\n      <td>POINT (-125.75000 51.50000)</td>\n      <td>False</td>\n      <td>70</td>\n      <td>-32768</td>\n    </tr>\n    <tr>\n      <th>150800</th>\n      <td>79.5000</td>\n      <td>-138.0000</td>\n      <td>361.1</td>\n      <td>82</td>\n      <td>296.2</td>\n      <td>NaN</td>\n      <td>2045.117228</td>\n      <td>2013-07-04</td>\n      <td>POINT (-138.00000 79.50000)</td>\n      <td>False</td>\n      <td>200</td>\n      <td>-32768</td>\n    </tr>\n  </tbody>\n</table>\n<p>150801 rows × 12 columns</p>\n</div>"
     },
     "execution_count": 127,
     "metadata": {},
     "output_type": "execute_result"
    }
   ],
   "source": [
    "gdf_concat"
   ],
   "metadata": {
    "collapsed": false,
    "ExecuteTime": {
     "end_time": "2024-07-02T23:38:53.702705Z",
     "start_time": "2024-07-02T23:38:53.675724Z"
    }
   },
   "id": "ae2a3f7c645ed033",
   "execution_count": 127
  },
  {
   "cell_type": "code",
   "outputs": [],
   "source": [
    "# Save the updated GeoDataFrame\n",
    "gdf_concat.to_file(os.path.join(folder, 'ignited_eu_2013_gdf'), driver='GPKG')"
   ],
   "metadata": {
    "collapsed": false,
    "ExecuteTime": {
     "end_time": "2024-07-02T23:39:53.730124Z",
     "start_time": "2024-07-02T23:39:46.815937Z"
    }
   },
   "id": "4dcad304c4ff2895",
   "execution_count": 128
  },
  {
   "cell_type": "markdown",
   "source": [
    "# 4. Build ML models to predict whether a pixel is ignited"
   ],
   "metadata": {
    "collapsed": false
   },
   "id": "6b5cc27ea0a83e30"
  },
  {
   "cell_type": "code",
   "outputs": [],
   "source": [],
   "metadata": {
    "collapsed": false
   },
   "id": "45ed3d6f5fe52337"
  }
 ],
 "metadata": {
  "kernelspec": {
   "display_name": "Python 3",
   "language": "python",
   "name": "python3"
  },
  "language_info": {
   "codemirror_mode": {
    "name": "ipython",
    "version": 2
   },
   "file_extension": ".py",
   "mimetype": "text/x-python",
   "name": "python",
   "nbconvert_exporter": "python",
   "pygments_lexer": "ipython2",
   "version": "2.7.6"
  }
 },
 "nbformat": 4,
 "nbformat_minor": 5
}
