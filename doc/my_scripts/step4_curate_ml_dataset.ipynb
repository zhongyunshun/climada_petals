{
 "cells": [
  {
   "cell_type": "code",
   "execution_count": 8,
   "id": "initial_id",
   "metadata": {
    "collapsed": true,
    "ExecuteTime": {
     "end_time": "2024-07-02T13:49:12.111594Z",
     "start_time": "2024-07-02T13:49:12.103593Z"
    }
   },
   "outputs": [],
   "source": [
    "import os\n",
    "import pandas as pd\n",
    "import geopandas as gpd\n",
    "import xarray as xr\n",
    "import math"
   ]
  },
  {
   "cell_type": "markdown",
   "source": [
    "**Build ML models to predict fire ignition for a pixel**\n",
    "\n",
    "Features: FWI, lat, lon, elevation, landcover (2010), distance, month\n",
    "Label: ignited or not ignited\n",
    "Model: XGBoost\n",
    "Optimization Method: Beyas optimization using Optuna\n",
    "Data range: EU\n",
    "\n",
    "Steps:\n",
    "1. Merge positive and negative labels of fire intensity and FWi data\n",
    "    1.1 Load left join data (fire intensity left join FWI, resolution 1km) and count how many data points it has\n",
    "    1.2 Assign positive labels (ignited) to the data points with distance <= 31 * sqrt(2) / 2 and only keep rows with positive labels\n",
    "    1.3 Load right join data (fire intensity right join FWI, resolution 31km) and count how may data points it has\n",
    "    1.4 Down sampling the data to match the number of left join data\n",
    "    1.5 Assign negative labels (ignited) to the data points with distance > 31 * sqrt(2) / 2 and only keep rows with negative labels\n",
    "    1.6 Merge data and save the geo dataframe and save the dataframe\n",
    "2. Add land cover (aggregated) data to pixel according to lon and lat\n",
    "    2.1 Load land cover shapefile and convert to geopandas dataframe\n",
    "    2.2 for each pixel (1x1 for left and 31x31 for right), calculate the average probability of fire ignition according to Clamada Master thesis Table 2.1\n",
    "3. Add elevation data to pixel according to lon and lat\n",
    "    3.1 Load elevation shapefile and convert to geopandas dataframe\n",
    "    3.2 for each pixel (1x1 for left and 31x31 for right), calculate the average elevation\n",
    "4. Build ML models to predict whether a pixel is ignited\n",
    "5. Tune hyperparameters"
   ],
   "metadata": {
    "collapsed": false
   },
   "id": "5fe3253d5ff1073e"
  },
  {
   "cell_type": "markdown",
   "source": [
    "# 1. Merge positive and negative labels of fire intensity and FWi data"
   ],
   "metadata": {
    "collapsed": false
   },
   "id": "3d3aabccea4f94e7"
  },
  {
   "cell_type": "code",
   "outputs": [],
   "source": [
    "from geopy.distance import great_circle\n",
    "\n",
    "# Define a function to calculate the distance\n",
    "def calculate_distance(row):\n",
    "    coords_1 = (row['latitude_left'], row['longitude_left'])\n",
    "    coords_2 = (row['latitude_right'], row['longitude_right'])\n",
    "    return great_circle(coords_1, coords_2).kilometers\n",
    "\n",
    "folder = '../../climada_petals/data/wildfire/output/2013/'"
   ],
   "metadata": {
    "collapsed": false,
    "ExecuteTime": {
     "end_time": "2024-07-02T14:41:01.456352Z",
     "start_time": "2024-07-02T14:41:01.448352Z"
    }
   },
   "id": "b6a2992c413fe567",
   "execution_count": 24
  },
  {
   "cell_type": "markdown",
   "source": [
    "## 1.1 Load left join data (fire intensity left join FWI, resolution 1km)"
   ],
   "metadata": {
    "collapsed": false
   },
   "id": "f81472b45b28901b"
  },
  {
   "cell_type": "code",
   "outputs": [
    {
     "data": {
      "text/plain": "(78382, 17)"
     },
     "execution_count": 25,
     "metadata": {},
     "output_type": "execute_result"
    }
   ],
   "source": [
    "merged_eu_2013_left_gdf_filename = 'merged_eu_2013_left_gdf'\n",
    "df_left_join = gpd.read_file(os.path.join(folder, merged_eu_2013_left_gdf_filename))\n",
    "df_left_join.shape"
   ],
   "metadata": {
    "collapsed": false,
    "ExecuteTime": {
     "end_time": "2024-07-02T14:41:11.216926Z",
     "start_time": "2024-07-02T14:41:04.572435Z"
    }
   },
   "id": "cdd6820f25c1393e",
   "execution_count": 25
  },
  {
   "cell_type": "code",
   "outputs": [],
   "source": [
    "# Apply the function to each row in the GeoDataFrame and create a new column 'distance_km'\n",
    "df_left_join['distance_km'] = df_left_join.apply(calculate_distance, axis=1)"
   ],
   "metadata": {
    "collapsed": false,
    "ExecuteTime": {
     "end_time": "2024-07-02T14:41:12.123393Z",
     "start_time": "2024-07-02T14:41:11.217927Z"
    }
   },
   "id": "892df198804f701d",
   "execution_count": 26
  },
  {
   "cell_type": "code",
   "outputs": [
    {
     "data": {
      "text/plain": "count    78382.000000\nmean         9.123286\nstd          3.588911\nmin          0.035163\n25%          6.526173\n50%          9.238830\n75%         12.049334\nmax         17.695499\nName: distance_km, dtype: float64"
     },
     "execution_count": 27,
     "metadata": {},
     "output_type": "execute_result"
    }
   ],
   "source": [
    "df_left_join['distance_km'].describe()"
   ],
   "metadata": {
    "collapsed": false,
    "ExecuteTime": {
     "end_time": "2024-07-02T14:41:12.139393Z",
     "start_time": "2024-07-02T14:41:12.124393Z"
    }
   },
   "id": "17975093fd6b7dfc",
   "execution_count": 27
  },
  {
   "cell_type": "code",
   "outputs": [
    {
     "data": {
      "text/plain": "       latitude_left  longitude_left  brightness satellite instrument  \\\n0            35.8073         -0.2538       310.2      Aqua      MODIS   \n1            47.8587         33.4466       308.0     Terra      MODIS   \n2            49.6728         18.6611       307.4     Terra      MODIS   \n3            37.3934         39.4902       303.1      Aqua      MODIS   \n4            36.8729          6.9397       320.8     Terra      MODIS   \n...              ...             ...         ...       ...        ...   \n78377        52.1556         10.4051       307.4      Aqua      MODIS   \n78378        52.1535         10.3907       300.4      Aqua      MODIS   \n78379        35.8027         -0.2461       310.6      Aqua      MODIS   \n78380        54.5777         -1.1428       310.4     Terra      MODIS   \n78381        54.5803         -1.1271       306.4     Terra      MODIS   \n\n       confidence  bright_t31   frp daynight      index  latitude_right  \\\n0              79       277.6  25.0        N     313919           35.75   \n1              63       272.6  27.4        D     243494           47.75   \n2              57       276.5  12.8        D     231915           49.75   \n3              55       287.0  14.4        D     302558           37.50   \n4              75       286.9  32.9        D     306748           36.75   \n...           ...         ...   ...      ...        ...             ...   \n78377          65       276.4  10.9        D  378136842           52.25   \n78378          19       276.3   6.7        D  378136842           52.25   \n78379          29       283.8  43.8        D  378233279           35.75   \n78380          71       275.8  15.6        N  378125275           54.50   \n78381          44       275.5  12.7        N  378125275           54.50   \n\n       longitude_right  surface       fwi  distance        date  \\\n0                -0.25      0.0  6.847656  0.057426  2013-01-01   \n1                33.50      0.0  0.214844  0.121108  2013-01-01   \n2                18.75      0.0  1.417969  0.117741  2013-01-01   \n3                39.50      0.0  3.445312  0.107050  2013-01-01   \n4                 7.00      0.0  3.714844  0.136896  2013-01-01   \n...                ...      ...       ...       ...         ...   \n78377            10.50      0.0  0.230469  0.133856  2013-12-31   \n78378            10.50      0.0  0.230469  0.145804  2013-12-31   \n78379            -0.25      0.0  0.609375  0.052844  2013-12-31   \n78380            -1.25      0.0  0.085938  0.132398  2013-12-31   \n78381            -1.25      0.0  0.085938  0.146808  2013-12-31   \n\n                        geometry  distance_km  \n0      POINT (-0.25380 35.80730)     6.380693  \n1      POINT (33.44660 47.85870)    12.727889  \n2      POINT (18.66110 49.67280)    10.702774  \n3      POINT (39.49020 37.39340)    11.884926  \n4       POINT (6.93970 36.87290)    14.682411  \n...                          ...          ...  \n78377  POINT (10.40510 52.15560)    12.329164  \n78378  POINT (10.39070 52.15350)    13.062298  \n78379  POINT (-0.24610 35.80270)     5.870533  \n78380  POINT (-1.14280 54.57770)    11.066649  \n78381  POINT (-1.12710 54.58030)    11.940677  \n\n[78382 rows x 18 columns]",
      "text/html": "<div>\n<style scoped>\n    .dataframe tbody tr th:only-of-type {\n        vertical-align: middle;\n    }\n\n    .dataframe tbody tr th {\n        vertical-align: top;\n    }\n\n    .dataframe thead th {\n        text-align: right;\n    }\n</style>\n<table border=\"1\" class=\"dataframe\">\n  <thead>\n    <tr style=\"text-align: right;\">\n      <th></th>\n      <th>latitude_left</th>\n      <th>longitude_left</th>\n      <th>brightness</th>\n      <th>satellite</th>\n      <th>instrument</th>\n      <th>confidence</th>\n      <th>bright_t31</th>\n      <th>frp</th>\n      <th>daynight</th>\n      <th>index</th>\n      <th>latitude_right</th>\n      <th>longitude_right</th>\n      <th>surface</th>\n      <th>fwi</th>\n      <th>distance</th>\n      <th>date</th>\n      <th>geometry</th>\n      <th>distance_km</th>\n    </tr>\n  </thead>\n  <tbody>\n    <tr>\n      <th>0</th>\n      <td>35.8073</td>\n      <td>-0.2538</td>\n      <td>310.2</td>\n      <td>Aqua</td>\n      <td>MODIS</td>\n      <td>79</td>\n      <td>277.6</td>\n      <td>25.0</td>\n      <td>N</td>\n      <td>313919</td>\n      <td>35.75</td>\n      <td>-0.25</td>\n      <td>0.0</td>\n      <td>6.847656</td>\n      <td>0.057426</td>\n      <td>2013-01-01</td>\n      <td>POINT (-0.25380 35.80730)</td>\n      <td>6.380693</td>\n    </tr>\n    <tr>\n      <th>1</th>\n      <td>47.8587</td>\n      <td>33.4466</td>\n      <td>308.0</td>\n      <td>Terra</td>\n      <td>MODIS</td>\n      <td>63</td>\n      <td>272.6</td>\n      <td>27.4</td>\n      <td>D</td>\n      <td>243494</td>\n      <td>47.75</td>\n      <td>33.50</td>\n      <td>0.0</td>\n      <td>0.214844</td>\n      <td>0.121108</td>\n      <td>2013-01-01</td>\n      <td>POINT (33.44660 47.85870)</td>\n      <td>12.727889</td>\n    </tr>\n    <tr>\n      <th>2</th>\n      <td>49.6728</td>\n      <td>18.6611</td>\n      <td>307.4</td>\n      <td>Terra</td>\n      <td>MODIS</td>\n      <td>57</td>\n      <td>276.5</td>\n      <td>12.8</td>\n      <td>D</td>\n      <td>231915</td>\n      <td>49.75</td>\n      <td>18.75</td>\n      <td>0.0</td>\n      <td>1.417969</td>\n      <td>0.117741</td>\n      <td>2013-01-01</td>\n      <td>POINT (18.66110 49.67280)</td>\n      <td>10.702774</td>\n    </tr>\n    <tr>\n      <th>3</th>\n      <td>37.3934</td>\n      <td>39.4902</td>\n      <td>303.1</td>\n      <td>Aqua</td>\n      <td>MODIS</td>\n      <td>55</td>\n      <td>287.0</td>\n      <td>14.4</td>\n      <td>D</td>\n      <td>302558</td>\n      <td>37.50</td>\n      <td>39.50</td>\n      <td>0.0</td>\n      <td>3.445312</td>\n      <td>0.107050</td>\n      <td>2013-01-01</td>\n      <td>POINT (39.49020 37.39340)</td>\n      <td>11.884926</td>\n    </tr>\n    <tr>\n      <th>4</th>\n      <td>36.8729</td>\n      <td>6.9397</td>\n      <td>320.8</td>\n      <td>Terra</td>\n      <td>MODIS</td>\n      <td>75</td>\n      <td>286.9</td>\n      <td>32.9</td>\n      <td>D</td>\n      <td>306748</td>\n      <td>36.75</td>\n      <td>7.00</td>\n      <td>0.0</td>\n      <td>3.714844</td>\n      <td>0.136896</td>\n      <td>2013-01-01</td>\n      <td>POINT (6.93970 36.87290)</td>\n      <td>14.682411</td>\n    </tr>\n    <tr>\n      <th>...</th>\n      <td>...</td>\n      <td>...</td>\n      <td>...</td>\n      <td>...</td>\n      <td>...</td>\n      <td>...</td>\n      <td>...</td>\n      <td>...</td>\n      <td>...</td>\n      <td>...</td>\n      <td>...</td>\n      <td>...</td>\n      <td>...</td>\n      <td>...</td>\n      <td>...</td>\n      <td>...</td>\n      <td>...</td>\n      <td>...</td>\n    </tr>\n    <tr>\n      <th>78377</th>\n      <td>52.1556</td>\n      <td>10.4051</td>\n      <td>307.4</td>\n      <td>Aqua</td>\n      <td>MODIS</td>\n      <td>65</td>\n      <td>276.4</td>\n      <td>10.9</td>\n      <td>D</td>\n      <td>378136842</td>\n      <td>52.25</td>\n      <td>10.50</td>\n      <td>0.0</td>\n      <td>0.230469</td>\n      <td>0.133856</td>\n      <td>2013-12-31</td>\n      <td>POINT (10.40510 52.15560)</td>\n      <td>12.329164</td>\n    </tr>\n    <tr>\n      <th>78378</th>\n      <td>52.1535</td>\n      <td>10.3907</td>\n      <td>300.4</td>\n      <td>Aqua</td>\n      <td>MODIS</td>\n      <td>19</td>\n      <td>276.3</td>\n      <td>6.7</td>\n      <td>D</td>\n      <td>378136842</td>\n      <td>52.25</td>\n      <td>10.50</td>\n      <td>0.0</td>\n      <td>0.230469</td>\n      <td>0.145804</td>\n      <td>2013-12-31</td>\n      <td>POINT (10.39070 52.15350)</td>\n      <td>13.062298</td>\n    </tr>\n    <tr>\n      <th>78379</th>\n      <td>35.8027</td>\n      <td>-0.2461</td>\n      <td>310.6</td>\n      <td>Aqua</td>\n      <td>MODIS</td>\n      <td>29</td>\n      <td>283.8</td>\n      <td>43.8</td>\n      <td>D</td>\n      <td>378233279</td>\n      <td>35.75</td>\n      <td>-0.25</td>\n      <td>0.0</td>\n      <td>0.609375</td>\n      <td>0.052844</td>\n      <td>2013-12-31</td>\n      <td>POINT (-0.24610 35.80270)</td>\n      <td>5.870533</td>\n    </tr>\n    <tr>\n      <th>78380</th>\n      <td>54.5777</td>\n      <td>-1.1428</td>\n      <td>310.4</td>\n      <td>Terra</td>\n      <td>MODIS</td>\n      <td>71</td>\n      <td>275.8</td>\n      <td>15.6</td>\n      <td>N</td>\n      <td>378125275</td>\n      <td>54.50</td>\n      <td>-1.25</td>\n      <td>0.0</td>\n      <td>0.085938</td>\n      <td>0.132398</td>\n      <td>2013-12-31</td>\n      <td>POINT (-1.14280 54.57770)</td>\n      <td>11.066649</td>\n    </tr>\n    <tr>\n      <th>78381</th>\n      <td>54.5803</td>\n      <td>-1.1271</td>\n      <td>306.4</td>\n      <td>Terra</td>\n      <td>MODIS</td>\n      <td>44</td>\n      <td>275.5</td>\n      <td>12.7</td>\n      <td>N</td>\n      <td>378125275</td>\n      <td>54.50</td>\n      <td>-1.25</td>\n      <td>0.0</td>\n      <td>0.085938</td>\n      <td>0.146808</td>\n      <td>2013-12-31</td>\n      <td>POINT (-1.12710 54.58030)</td>\n      <td>11.940677</td>\n    </tr>\n  </tbody>\n</table>\n<p>78382 rows × 18 columns</p>\n</div>"
     },
     "execution_count": 28,
     "metadata": {},
     "output_type": "execute_result"
    }
   ],
   "source": [
    "df_left_join"
   ],
   "metadata": {
    "collapsed": false,
    "ExecuteTime": {
     "end_time": "2024-07-02T14:41:12.185393Z",
     "start_time": "2024-07-02T14:41:12.140393Z"
    }
   },
   "id": "dfeaf18980238e88",
   "execution_count": 28
  },
  {
   "cell_type": "code",
   "outputs": [],
   "source": [
    "# only keep the relevant rows\n",
    "df_left_join = df_left_join[['latitude_left', 'longitude_left', 'brightness', 'confidence', 'bright_t31', 'fwi', 'distance_km', 'geometry']]"
   ],
   "metadata": {
    "collapsed": false,
    "ExecuteTime": {
     "end_time": "2024-07-02T14:41:18.550698Z",
     "start_time": "2024-07-02T14:41:18.538697Z"
    }
   },
   "id": "1ccd6d6e394a3657",
   "execution_count": 30
  },
  {
   "cell_type": "markdown",
   "source": [
    "## 1.2 Assign positive labels (ignited) to the data points with distance <= 31 * sqrt(2) / 2 and only keep rows with positive labels"
   ],
   "metadata": {
    "collapsed": false
   },
   "id": "c6cae0624cbc5d67"
  },
  {
   "cell_type": "code",
   "outputs": [],
   "source": [
    "# Drop rows with distance_km > 31 km\n",
    "df_left_join = df_left_join[df_left_join['distance_km'] <= 31 * math.sqrt(2) / 2 ]\n",
    "# Drop rows with confidence < 30\n",
    "df_left_join = df_left_join[df_left_join['confidence'] >= 30]"
   ],
   "metadata": {
    "collapsed": false,
    "ExecuteTime": {
     "end_time": "2024-07-02T14:41:20.511574Z",
     "start_time": "2024-07-02T14:41:20.488574Z"
    }
   },
   "id": "ff2f339d9beb90a2",
   "execution_count": 31
  },
  {
   "cell_type": "code",
   "outputs": [
    {
     "data": {
      "text/plain": "(73505, 8)"
     },
     "execution_count": 32,
     "metadata": {},
     "output_type": "execute_result"
    }
   ],
   "source": [
    "df_left_join.shape"
   ],
   "metadata": {
    "collapsed": false,
    "ExecuteTime": {
     "end_time": "2024-07-02T14:41:21.046251Z",
     "start_time": "2024-07-02T14:41:21.032252Z"
    }
   },
   "id": "fbe5f1a8bf791bde",
   "execution_count": 32
  },
  {
   "cell_type": "code",
   "outputs": [],
   "source": [
    "df_left_join['ignited'] = True"
   ],
   "metadata": {
    "collapsed": false,
    "ExecuteTime": {
     "end_time": "2024-07-02T14:44:17.836018Z",
     "start_time": "2024-07-02T14:44:17.833385Z"
    }
   },
   "id": "b6a70e685c23b146",
   "execution_count": 50
  },
  {
   "cell_type": "markdown",
   "source": [
    "## 1.3 Load and down sampling right join data (fire intensity right join FWI, resolution 31km)"
   ],
   "metadata": {
    "collapsed": false
   },
   "id": "be3e070159861638"
  },
  {
   "cell_type": "code",
   "outputs": [
    {
     "data": {
      "text/plain": "(15210699, 17)"
     },
     "execution_count": 13,
     "metadata": {},
     "output_type": "execute_result"
    }
   ],
   "source": [
    "folder = '../../climada_petals/data/wildfire/output/2013/'\n",
    "# only NetCDF works for interpolated data\n",
    "file = 'merged_eu_2013_right_gdf'\n",
    "df = gpd.read_file(os.path.join(folder, file))\n",
    "\n",
    "df.shape"
   ],
   "metadata": {
    "collapsed": false,
    "ExecuteTime": {
     "end_time": "2024-07-02T14:19:13.699974Z",
     "start_time": "2024-07-02T13:57:17.768384Z"
    }
   },
   "id": "98a56b8b13abca19",
   "execution_count": 13
  },
  {
   "cell_type": "markdown",
   "source": [
    "## 1.4 Down sampling the data to match the number of left join data"
   ],
   "metadata": {
    "collapsed": false
   },
   "id": "3d8ae16960663147"
  },
  {
   "cell_type": "code",
   "outputs": [],
   "source": [
    "# Randomly sample 100,000 rows without replacement\n",
    "df_right_join = df.sample(n=100000, replace=False)"
   ],
   "metadata": {
    "collapsed": false,
    "ExecuteTime": {
     "end_time": "2024-07-02T14:42:53.653173Z",
     "start_time": "2024-07-02T14:42:52.957517Z"
    }
   },
   "id": "4b71e76804b0be06",
   "execution_count": 41
  },
  {
   "cell_type": "code",
   "outputs": [],
   "source": [
    "# Apply the function to each row in the GeoDataFrame and create a new column 'distance_km'\n",
    "df_right_join['distance_km'] = df_right_join.apply(calculate_distance, axis=1)"
   ],
   "metadata": {
    "collapsed": false,
    "ExecuteTime": {
     "end_time": "2024-07-02T14:42:55.333027Z",
     "start_time": "2024-07-02T14:42:54.153365Z"
    }
   },
   "id": "b3ed839d3dc76728",
   "execution_count": 42
  },
  {
   "cell_type": "code",
   "outputs": [
    {
     "data": {
      "text/plain": "count    100000.000000\nmean       1828.264519\nstd        1066.731837\nmin           0.170296\n25%         910.516072\n50%        1813.205400\n75%        2691.196643\nmax        4886.774212\nName: distance_km, dtype: float64"
     },
     "execution_count": 16,
     "metadata": {},
     "output_type": "execute_result"
    }
   ],
   "source": [
    "df_right_join['distance_km'].describe()"
   ],
   "metadata": {
    "collapsed": false,
    "ExecuteTime": {
     "end_time": "2024-07-02T14:34:36.644980Z",
     "start_time": "2024-07-02T14:34:36.632473Z"
    }
   },
   "id": "be3e018f0d01125c",
   "execution_count": 16
  },
  {
   "cell_type": "code",
   "outputs": [
    {
     "data": {
      "text/plain": "          latitude_left  longitude_left  brightness satellite instrument  \\\n7997239         61.7665       -120.8940       317.0      Aqua      MODIS   \n1918428         56.5077       -115.2732       314.3      Aqua      MODIS   \n8040262         50.3483        -66.3058       301.0     Terra      MODIS   \n15028115        54.2980       -115.2340       313.1     Terra      MODIS   \n11554887        50.9914        -98.4281       300.6     Terra      MODIS   \n...                 ...             ...         ...       ...        ...   \n12716780        58.3739       -115.5485       305.4      Aqua      MODIS   \n14641135        49.0483       -124.0786       313.8      Aqua      MODIS   \n13632324        49.8492       -115.6591       322.0      Aqua      MODIS   \n13043849        54.6503       -106.4851       305.0     Terra      MODIS   \n7892592         59.5656       -123.5786       306.0      Aqua      MODIS   \n\n          confidence  bright_t31   frp daynight      index  latitude_right  \\\n7997239           94       285.6  23.3        N  209866558           65.50   \n1918428            0       272.1  18.2        D   62379063           75.50   \n8040262           22       285.8  11.0        D  210880501           69.75   \n15028115           0       265.8  33.2        D  363477236           74.00   \n11554887          31       277.8  31.6        N  285606381           74.50   \n...              ...         ...   ...      ...        ...             ...   \n12716780          22       267.0  11.6        N  310476479           82.75   \n14641135           0       265.6  16.9        D  353112124           71.00   \n13632324          53       281.6  47.1        D  329306115           58.25   \n13043849          53       274.8  24.7        D  316841336           59.25   \n7892592           41       290.7   5.1        D  207762672           70.25   \n\n          longitude_right  surface       fwi   distance        date  \\\n7997239           -120.50      0.0  4.015625   3.754232  2013-07-22   \n1918428            -74.25      0.0       NaN  45.206309  2013-03-02   \n8040262            -74.75      0.0  3.699219  21.159643  2013-07-23   \n15028115           -91.00      0.0  0.671875  31.232284  2013-12-17   \n11554887           -84.75      0.0  0.699219  27.198248  2013-10-03   \n...                   ...      ...       ...        ...         ...   \n12716780          -120.25      0.0       NaN  24.825357  2013-10-27   \n14641135           -89.00      0.0  0.316406  41.380978  2013-12-07   \n13632324           -71.25      0.0  0.183594  45.196699  2013-11-14   \n13043849          -106.00      0.0  0.207031   4.625209  2013-11-02   \n7892592           -132.00      0.0       NaN  13.604278  2013-07-20   \n\n                             geometry  distance_km  \n7997239   POINT (-120.50000 65.50000)   415.600420  \n1918428    POINT (-74.25000 75.50000)  2698.453412  \n8040262    POINT (-74.75000 69.75000)  2202.833648  \n15028115   POINT (-91.00000 74.00000)  2444.590971  \n11554887   POINT (-84.75000 74.50000)  2689.217168  \n...                               ...          ...  \n12716780  POINT (-120.25000 82.75000)  2713.937588  \n14641135   POINT (-89.00000 71.00000)  3033.905276  \n13632324   POINT (-71.25000 58.25000)  2983.328388  \n13043849  POINT (-106.00000 59.25000)   512.305651  \n7892592   POINT (-132.00000 70.25000)  1249.886125  \n\n[100000 rows x 18 columns]",
      "text/html": "<div>\n<style scoped>\n    .dataframe tbody tr th:only-of-type {\n        vertical-align: middle;\n    }\n\n    .dataframe tbody tr th {\n        vertical-align: top;\n    }\n\n    .dataframe thead th {\n        text-align: right;\n    }\n</style>\n<table border=\"1\" class=\"dataframe\">\n  <thead>\n    <tr style=\"text-align: right;\">\n      <th></th>\n      <th>latitude_left</th>\n      <th>longitude_left</th>\n      <th>brightness</th>\n      <th>satellite</th>\n      <th>instrument</th>\n      <th>confidence</th>\n      <th>bright_t31</th>\n      <th>frp</th>\n      <th>daynight</th>\n      <th>index</th>\n      <th>latitude_right</th>\n      <th>longitude_right</th>\n      <th>surface</th>\n      <th>fwi</th>\n      <th>distance</th>\n      <th>date</th>\n      <th>geometry</th>\n      <th>distance_km</th>\n    </tr>\n  </thead>\n  <tbody>\n    <tr>\n      <th>7997239</th>\n      <td>61.7665</td>\n      <td>-120.8940</td>\n      <td>317.0</td>\n      <td>Aqua</td>\n      <td>MODIS</td>\n      <td>94</td>\n      <td>285.6</td>\n      <td>23.3</td>\n      <td>N</td>\n      <td>209866558</td>\n      <td>65.50</td>\n      <td>-120.50</td>\n      <td>0.0</td>\n      <td>4.015625</td>\n      <td>3.754232</td>\n      <td>2013-07-22</td>\n      <td>POINT (-120.50000 65.50000)</td>\n      <td>415.600420</td>\n    </tr>\n    <tr>\n      <th>1918428</th>\n      <td>56.5077</td>\n      <td>-115.2732</td>\n      <td>314.3</td>\n      <td>Aqua</td>\n      <td>MODIS</td>\n      <td>0</td>\n      <td>272.1</td>\n      <td>18.2</td>\n      <td>D</td>\n      <td>62379063</td>\n      <td>75.50</td>\n      <td>-74.25</td>\n      <td>0.0</td>\n      <td>NaN</td>\n      <td>45.206309</td>\n      <td>2013-03-02</td>\n      <td>POINT (-74.25000 75.50000)</td>\n      <td>2698.453412</td>\n    </tr>\n    <tr>\n      <th>8040262</th>\n      <td>50.3483</td>\n      <td>-66.3058</td>\n      <td>301.0</td>\n      <td>Terra</td>\n      <td>MODIS</td>\n      <td>22</td>\n      <td>285.8</td>\n      <td>11.0</td>\n      <td>D</td>\n      <td>210880501</td>\n      <td>69.75</td>\n      <td>-74.75</td>\n      <td>0.0</td>\n      <td>3.699219</td>\n      <td>21.159643</td>\n      <td>2013-07-23</td>\n      <td>POINT (-74.75000 69.75000)</td>\n      <td>2202.833648</td>\n    </tr>\n    <tr>\n      <th>15028115</th>\n      <td>54.2980</td>\n      <td>-115.2340</td>\n      <td>313.1</td>\n      <td>Terra</td>\n      <td>MODIS</td>\n      <td>0</td>\n      <td>265.8</td>\n      <td>33.2</td>\n      <td>D</td>\n      <td>363477236</td>\n      <td>74.00</td>\n      <td>-91.00</td>\n      <td>0.0</td>\n      <td>0.671875</td>\n      <td>31.232284</td>\n      <td>2013-12-17</td>\n      <td>POINT (-91.00000 74.00000)</td>\n      <td>2444.590971</td>\n    </tr>\n    <tr>\n      <th>11554887</th>\n      <td>50.9914</td>\n      <td>-98.4281</td>\n      <td>300.6</td>\n      <td>Terra</td>\n      <td>MODIS</td>\n      <td>31</td>\n      <td>277.8</td>\n      <td>31.6</td>\n      <td>N</td>\n      <td>285606381</td>\n      <td>74.50</td>\n      <td>-84.75</td>\n      <td>0.0</td>\n      <td>0.699219</td>\n      <td>27.198248</td>\n      <td>2013-10-03</td>\n      <td>POINT (-84.75000 74.50000)</td>\n      <td>2689.217168</td>\n    </tr>\n    <tr>\n      <th>...</th>\n      <td>...</td>\n      <td>...</td>\n      <td>...</td>\n      <td>...</td>\n      <td>...</td>\n      <td>...</td>\n      <td>...</td>\n      <td>...</td>\n      <td>...</td>\n      <td>...</td>\n      <td>...</td>\n      <td>...</td>\n      <td>...</td>\n      <td>...</td>\n      <td>...</td>\n      <td>...</td>\n      <td>...</td>\n      <td>...</td>\n    </tr>\n    <tr>\n      <th>12716780</th>\n      <td>58.3739</td>\n      <td>-115.5485</td>\n      <td>305.4</td>\n      <td>Aqua</td>\n      <td>MODIS</td>\n      <td>22</td>\n      <td>267.0</td>\n      <td>11.6</td>\n      <td>N</td>\n      <td>310476479</td>\n      <td>82.75</td>\n      <td>-120.25</td>\n      <td>0.0</td>\n      <td>NaN</td>\n      <td>24.825357</td>\n      <td>2013-10-27</td>\n      <td>POINT (-120.25000 82.75000)</td>\n      <td>2713.937588</td>\n    </tr>\n    <tr>\n      <th>14641135</th>\n      <td>49.0483</td>\n      <td>-124.0786</td>\n      <td>313.8</td>\n      <td>Aqua</td>\n      <td>MODIS</td>\n      <td>0</td>\n      <td>265.6</td>\n      <td>16.9</td>\n      <td>D</td>\n      <td>353112124</td>\n      <td>71.00</td>\n      <td>-89.00</td>\n      <td>0.0</td>\n      <td>0.316406</td>\n      <td>41.380978</td>\n      <td>2013-12-07</td>\n      <td>POINT (-89.00000 71.00000)</td>\n      <td>3033.905276</td>\n    </tr>\n    <tr>\n      <th>13632324</th>\n      <td>49.8492</td>\n      <td>-115.6591</td>\n      <td>322.0</td>\n      <td>Aqua</td>\n      <td>MODIS</td>\n      <td>53</td>\n      <td>281.6</td>\n      <td>47.1</td>\n      <td>D</td>\n      <td>329306115</td>\n      <td>58.25</td>\n      <td>-71.25</td>\n      <td>0.0</td>\n      <td>0.183594</td>\n      <td>45.196699</td>\n      <td>2013-11-14</td>\n      <td>POINT (-71.25000 58.25000)</td>\n      <td>2983.328388</td>\n    </tr>\n    <tr>\n      <th>13043849</th>\n      <td>54.6503</td>\n      <td>-106.4851</td>\n      <td>305.0</td>\n      <td>Terra</td>\n      <td>MODIS</td>\n      <td>53</td>\n      <td>274.8</td>\n      <td>24.7</td>\n      <td>D</td>\n      <td>316841336</td>\n      <td>59.25</td>\n      <td>-106.00</td>\n      <td>0.0</td>\n      <td>0.207031</td>\n      <td>4.625209</td>\n      <td>2013-11-02</td>\n      <td>POINT (-106.00000 59.25000)</td>\n      <td>512.305651</td>\n    </tr>\n    <tr>\n      <th>7892592</th>\n      <td>59.5656</td>\n      <td>-123.5786</td>\n      <td>306.0</td>\n      <td>Aqua</td>\n      <td>MODIS</td>\n      <td>41</td>\n      <td>290.7</td>\n      <td>5.1</td>\n      <td>D</td>\n      <td>207762672</td>\n      <td>70.25</td>\n      <td>-132.00</td>\n      <td>0.0</td>\n      <td>NaN</td>\n      <td>13.604278</td>\n      <td>2013-07-20</td>\n      <td>POINT (-132.00000 70.25000)</td>\n      <td>1249.886125</td>\n    </tr>\n  </tbody>\n</table>\n<p>100000 rows × 18 columns</p>\n</div>"
     },
     "execution_count": 17,
     "metadata": {},
     "output_type": "execute_result"
    }
   ],
   "source": [
    "df_right_join"
   ],
   "metadata": {
    "collapsed": false,
    "ExecuteTime": {
     "end_time": "2024-07-02T14:34:43.322096Z",
     "start_time": "2024-07-02T14:34:43.295163Z"
    }
   },
   "id": "2965490f811796a0",
   "execution_count": 17
  },
  {
   "cell_type": "code",
   "outputs": [],
   "source": [
    "# only keep the relevant rows\n",
    "df_right_join = df_right_join[['latitude_right', 'longitude_right', 'brightness', 'confidence', 'bright_t31', 'fwi', 'distance_km', 'geometry']]"
   ],
   "metadata": {
    "collapsed": false,
    "ExecuteTime": {
     "end_time": "2024-07-02T14:43:00.743326Z",
     "start_time": "2024-07-02T14:43:00.716327Z"
    }
   },
   "id": "d6ab750db5a8cec3",
   "execution_count": 43
  },
  {
   "cell_type": "code",
   "outputs": [],
   "source": [
    "df_right_join.to_file(os.path.join(folder, f'merged_eu_2013_right_downsampled_gdf'), driver='GPKG')"
   ],
   "metadata": {
    "collapsed": false,
    "ExecuteTime": {
     "end_time": "2024-07-02T14:43:27.526488Z",
     "start_time": "2024-07-02T14:43:24.065928Z"
    }
   },
   "id": "9a2a54e16379f939",
   "execution_count": 46
  },
  {
   "cell_type": "code",
   "outputs": [],
   "source": [
    "df_right_join = gpd.read_file(os.path.join(folder, 'merged_eu_2013_right_downsampled_gdf'))"
   ],
   "metadata": {
    "collapsed": false
   },
   "id": "3c94b0375333ca29"
  },
  {
   "cell_type": "markdown",
   "source": [
    "## 1.5 Assign negative labels (ignited) to the data points with distance > 31 * sqrt(2) / 2 and only keep rows with negative labels"
   ],
   "metadata": {
    "collapsed": false
   },
   "id": "3cfc13d95946f7e1"
  },
  {
   "cell_type": "code",
   "outputs": [],
   "source": [
    "# Drop rows with distance_km > 31 km\n",
    "df_right_join = df_right_join[df_right_join['distance_km'] > 31 * math.sqrt(2) / 2 ]\n",
    "# Drop rows with confidence < 30\n",
    "df_right_join = df_right_join[df_right_join['confidence'] >= 30]"
   ],
   "metadata": {
    "collapsed": false,
    "ExecuteTime": {
     "end_time": "2024-07-02T14:43:11.491144Z",
     "start_time": "2024-07-02T14:43:11.455145Z"
    }
   },
   "id": "221f3f8668ac0213",
   "execution_count": 44
  },
  {
   "cell_type": "code",
   "outputs": [
    {
     "data": {
      "text/plain": "(77314, 8)"
     },
     "execution_count": 45,
     "metadata": {},
     "output_type": "execute_result"
    }
   ],
   "source": [
    "df_right_join.shape"
   ],
   "metadata": {
    "collapsed": false,
    "ExecuteTime": {
     "end_time": "2024-07-02T14:43:17.462313Z",
     "start_time": "2024-07-02T14:43:17.454314Z"
    }
   },
   "id": "f7c71013a5d84d35",
   "execution_count": 45
  },
  {
   "cell_type": "code",
   "outputs": [],
   "source": [
    "df_right_join['ignited'] = False"
   ],
   "metadata": {
    "collapsed": false,
    "ExecuteTime": {
     "end_time": "2024-07-02T14:44:03.179653Z",
     "start_time": "2024-07-02T14:44:03.164653Z"
    }
   },
   "id": "57008c4baa48b37c",
   "execution_count": 48
  },
  {
   "cell_type": "code",
   "outputs": [],
   "source": [],
   "metadata": {
    "collapsed": false
   },
   "id": "14b9c68a7fedb9e"
  },
  {
   "cell_type": "markdown",
   "source": [
    "## 1.6 Merge data and save the geo dataframe and save the dataframe"
   ],
   "metadata": {
    "collapsed": false
   },
   "id": "9b57261879a2eb92"
  },
  {
   "cell_type": "code",
   "outputs": [
    {
     "data": {
      "text/plain": "          latitude_right  longitude_right  brightness  confidence  bright_t31  \\\n249533             79.75           -54.25       305.6          62       267.2   \n7789791            73.75          -128.25       304.3          60       283.7   \n2595121            81.00          -119.00       323.8          62       272.7   \n1047826            68.50          -133.25       308.5          63       270.9   \n2752567            73.50          -116.75       308.4          74       268.2   \n...                  ...              ...         ...         ...         ...   \n12693671           64.75           -96.25       305.7          62       271.0   \n6937636            54.00          -127.25       324.6          72       301.6   \n7178516            56.75           -61.75       320.5          56       290.8   \n9944033            72.25          -102.25       322.1          81       281.8   \n14434194           79.00           -59.25       332.1          83       267.2   \n\n               fwi  distance_km                     geometry  ignited  \n249533    0.273438  3520.446998   POINT (-54.25000 79.75000)    False  \n7789791        NaN  1339.569774  POINT (-128.25000 73.75000)    False  \n2595121        NaN  2710.101566  POINT (-119.00000 81.00000)    False  \n1047826   0.113281  1540.044702  POINT (-133.25000 68.50000)    False  \n2752567   0.492188  1885.285524  POINT (-116.75000 73.50000)    False  \n...            ...          ...                          ...      ...  \n12693671  0.425781  1529.782090   POINT (-96.25000 64.75000)    False  \n6937636   0.500000   696.592985  POINT (-127.25000 54.00000)    False  \n7178516   0.003906   513.893917   POINT (-61.75000 56.75000)    False  \n9944033   0.289062  1687.857051  POINT (-102.25000 72.25000)    False  \n14434194  0.757812  4147.198734   POINT (-59.25000 79.00000)    False  \n\n[77314 rows x 9 columns]",
      "text/html": "<div>\n<style scoped>\n    .dataframe tbody tr th:only-of-type {\n        vertical-align: middle;\n    }\n\n    .dataframe tbody tr th {\n        vertical-align: top;\n    }\n\n    .dataframe thead th {\n        text-align: right;\n    }\n</style>\n<table border=\"1\" class=\"dataframe\">\n  <thead>\n    <tr style=\"text-align: right;\">\n      <th></th>\n      <th>latitude_right</th>\n      <th>longitude_right</th>\n      <th>brightness</th>\n      <th>confidence</th>\n      <th>bright_t31</th>\n      <th>fwi</th>\n      <th>distance_km</th>\n      <th>geometry</th>\n      <th>ignited</th>\n    </tr>\n  </thead>\n  <tbody>\n    <tr>\n      <th>249533</th>\n      <td>79.75</td>\n      <td>-54.25</td>\n      <td>305.6</td>\n      <td>62</td>\n      <td>267.2</td>\n      <td>0.273438</td>\n      <td>3520.446998</td>\n      <td>POINT (-54.25000 79.75000)</td>\n      <td>False</td>\n    </tr>\n    <tr>\n      <th>7789791</th>\n      <td>73.75</td>\n      <td>-128.25</td>\n      <td>304.3</td>\n      <td>60</td>\n      <td>283.7</td>\n      <td>NaN</td>\n      <td>1339.569774</td>\n      <td>POINT (-128.25000 73.75000)</td>\n      <td>False</td>\n    </tr>\n    <tr>\n      <th>2595121</th>\n      <td>81.00</td>\n      <td>-119.00</td>\n      <td>323.8</td>\n      <td>62</td>\n      <td>272.7</td>\n      <td>NaN</td>\n      <td>2710.101566</td>\n      <td>POINT (-119.00000 81.00000)</td>\n      <td>False</td>\n    </tr>\n    <tr>\n      <th>1047826</th>\n      <td>68.50</td>\n      <td>-133.25</td>\n      <td>308.5</td>\n      <td>63</td>\n      <td>270.9</td>\n      <td>0.113281</td>\n      <td>1540.044702</td>\n      <td>POINT (-133.25000 68.50000)</td>\n      <td>False</td>\n    </tr>\n    <tr>\n      <th>2752567</th>\n      <td>73.50</td>\n      <td>-116.75</td>\n      <td>308.4</td>\n      <td>74</td>\n      <td>268.2</td>\n      <td>0.492188</td>\n      <td>1885.285524</td>\n      <td>POINT (-116.75000 73.50000)</td>\n      <td>False</td>\n    </tr>\n    <tr>\n      <th>...</th>\n      <td>...</td>\n      <td>...</td>\n      <td>...</td>\n      <td>...</td>\n      <td>...</td>\n      <td>...</td>\n      <td>...</td>\n      <td>...</td>\n      <td>...</td>\n    </tr>\n    <tr>\n      <th>12693671</th>\n      <td>64.75</td>\n      <td>-96.25</td>\n      <td>305.7</td>\n      <td>62</td>\n      <td>271.0</td>\n      <td>0.425781</td>\n      <td>1529.782090</td>\n      <td>POINT (-96.25000 64.75000)</td>\n      <td>False</td>\n    </tr>\n    <tr>\n      <th>6937636</th>\n      <td>54.00</td>\n      <td>-127.25</td>\n      <td>324.6</td>\n      <td>72</td>\n      <td>301.6</td>\n      <td>0.500000</td>\n      <td>696.592985</td>\n      <td>POINT (-127.25000 54.00000)</td>\n      <td>False</td>\n    </tr>\n    <tr>\n      <th>7178516</th>\n      <td>56.75</td>\n      <td>-61.75</td>\n      <td>320.5</td>\n      <td>56</td>\n      <td>290.8</td>\n      <td>0.003906</td>\n      <td>513.893917</td>\n      <td>POINT (-61.75000 56.75000)</td>\n      <td>False</td>\n    </tr>\n    <tr>\n      <th>9944033</th>\n      <td>72.25</td>\n      <td>-102.25</td>\n      <td>322.1</td>\n      <td>81</td>\n      <td>281.8</td>\n      <td>0.289062</td>\n      <td>1687.857051</td>\n      <td>POINT (-102.25000 72.25000)</td>\n      <td>False</td>\n    </tr>\n    <tr>\n      <th>14434194</th>\n      <td>79.00</td>\n      <td>-59.25</td>\n      <td>332.1</td>\n      <td>83</td>\n      <td>267.2</td>\n      <td>0.757812</td>\n      <td>4147.198734</td>\n      <td>POINT (-59.25000 79.00000)</td>\n      <td>False</td>\n    </tr>\n  </tbody>\n</table>\n<p>77314 rows × 9 columns</p>\n</div>"
     },
     "execution_count": 58,
     "metadata": {},
     "output_type": "execute_result"
    }
   ],
   "source": [
    "df_right_join"
   ],
   "metadata": {
    "collapsed": false,
    "ExecuteTime": {
     "end_time": "2024-07-02T15:08:18.685201Z",
     "start_time": "2024-07-02T15:08:18.673201Z"
    }
   },
   "id": "38d270a7fe274e42",
   "execution_count": 58
  },
  {
   "cell_type": "code",
   "outputs": [
    {
     "data": {
      "text/plain": "        latitude  longitude  brightness  confidence  bright_t31       fwi  \\\n0        35.8073    -0.2538       310.2          79       277.6  6.847656   \n1        47.8587    33.4466       308.0          63       272.6  0.214844   \n2        49.6728    18.6611       307.4          57       276.5  1.417969   \n3        37.3934    39.4902       303.1          55       287.0  3.445312   \n4        36.8729     6.9397       320.8          75       286.9  3.714844   \n...          ...        ...         ...         ...         ...       ...   \n150814   64.7500   -96.2500       305.7          62       271.0  0.425781   \n150815   54.0000  -127.2500       324.6          72       301.6  0.500000   \n150816   56.7500   -61.7500       320.5          56       290.8  0.003906   \n150817   72.2500  -102.2500       322.1          81       281.8  0.289062   \n150818   79.0000   -59.2500       332.1          83       267.2  0.757812   \n\n        distance_km                     geometry  ignited  \n0          6.380693    POINT (-0.25380 35.80730)     True  \n1         12.727889    POINT (33.44660 47.85870)     True  \n2         10.702774    POINT (18.66110 49.67280)     True  \n3         11.884926    POINT (39.49020 37.39340)     True  \n4         14.682411     POINT (6.93970 36.87290)     True  \n...             ...                          ...      ...  \n150814  1529.782090   POINT (-96.25000 64.75000)    False  \n150815   696.592985  POINT (-127.25000 54.00000)    False  \n150816   513.893917   POINT (-61.75000 56.75000)    False  \n150817  1687.857051  POINT (-102.25000 72.25000)    False  \n150818  4147.198734   POINT (-59.25000 79.00000)    False  \n\n[150819 rows x 9 columns]",
      "text/html": "<div>\n<style scoped>\n    .dataframe tbody tr th:only-of-type {\n        vertical-align: middle;\n    }\n\n    .dataframe tbody tr th {\n        vertical-align: top;\n    }\n\n    .dataframe thead th {\n        text-align: right;\n    }\n</style>\n<table border=\"1\" class=\"dataframe\">\n  <thead>\n    <tr style=\"text-align: right;\">\n      <th></th>\n      <th>latitude</th>\n      <th>longitude</th>\n      <th>brightness</th>\n      <th>confidence</th>\n      <th>bright_t31</th>\n      <th>fwi</th>\n      <th>distance_km</th>\n      <th>geometry</th>\n      <th>ignited</th>\n    </tr>\n  </thead>\n  <tbody>\n    <tr>\n      <th>0</th>\n      <td>35.8073</td>\n      <td>-0.2538</td>\n      <td>310.2</td>\n      <td>79</td>\n      <td>277.6</td>\n      <td>6.847656</td>\n      <td>6.380693</td>\n      <td>POINT (-0.25380 35.80730)</td>\n      <td>True</td>\n    </tr>\n    <tr>\n      <th>1</th>\n      <td>47.8587</td>\n      <td>33.4466</td>\n      <td>308.0</td>\n      <td>63</td>\n      <td>272.6</td>\n      <td>0.214844</td>\n      <td>12.727889</td>\n      <td>POINT (33.44660 47.85870)</td>\n      <td>True</td>\n    </tr>\n    <tr>\n      <th>2</th>\n      <td>49.6728</td>\n      <td>18.6611</td>\n      <td>307.4</td>\n      <td>57</td>\n      <td>276.5</td>\n      <td>1.417969</td>\n      <td>10.702774</td>\n      <td>POINT (18.66110 49.67280)</td>\n      <td>True</td>\n    </tr>\n    <tr>\n      <th>3</th>\n      <td>37.3934</td>\n      <td>39.4902</td>\n      <td>303.1</td>\n      <td>55</td>\n      <td>287.0</td>\n      <td>3.445312</td>\n      <td>11.884926</td>\n      <td>POINT (39.49020 37.39340)</td>\n      <td>True</td>\n    </tr>\n    <tr>\n      <th>4</th>\n      <td>36.8729</td>\n      <td>6.9397</td>\n      <td>320.8</td>\n      <td>75</td>\n      <td>286.9</td>\n      <td>3.714844</td>\n      <td>14.682411</td>\n      <td>POINT (6.93970 36.87290)</td>\n      <td>True</td>\n    </tr>\n    <tr>\n      <th>...</th>\n      <td>...</td>\n      <td>...</td>\n      <td>...</td>\n      <td>...</td>\n      <td>...</td>\n      <td>...</td>\n      <td>...</td>\n      <td>...</td>\n      <td>...</td>\n    </tr>\n    <tr>\n      <th>150814</th>\n      <td>64.7500</td>\n      <td>-96.2500</td>\n      <td>305.7</td>\n      <td>62</td>\n      <td>271.0</td>\n      <td>0.425781</td>\n      <td>1529.782090</td>\n      <td>POINT (-96.25000 64.75000)</td>\n      <td>False</td>\n    </tr>\n    <tr>\n      <th>150815</th>\n      <td>54.0000</td>\n      <td>-127.2500</td>\n      <td>324.6</td>\n      <td>72</td>\n      <td>301.6</td>\n      <td>0.500000</td>\n      <td>696.592985</td>\n      <td>POINT (-127.25000 54.00000)</td>\n      <td>False</td>\n    </tr>\n    <tr>\n      <th>150816</th>\n      <td>56.7500</td>\n      <td>-61.7500</td>\n      <td>320.5</td>\n      <td>56</td>\n      <td>290.8</td>\n      <td>0.003906</td>\n      <td>513.893917</td>\n      <td>POINT (-61.75000 56.75000)</td>\n      <td>False</td>\n    </tr>\n    <tr>\n      <th>150817</th>\n      <td>72.2500</td>\n      <td>-102.2500</td>\n      <td>322.1</td>\n      <td>81</td>\n      <td>281.8</td>\n      <td>0.289062</td>\n      <td>1687.857051</td>\n      <td>POINT (-102.25000 72.25000)</td>\n      <td>False</td>\n    </tr>\n    <tr>\n      <th>150818</th>\n      <td>79.0000</td>\n      <td>-59.2500</td>\n      <td>332.1</td>\n      <td>83</td>\n      <td>267.2</td>\n      <td>0.757812</td>\n      <td>4147.198734</td>\n      <td>POINT (-59.25000 79.00000)</td>\n      <td>False</td>\n    </tr>\n  </tbody>\n</table>\n<p>150819 rows × 9 columns</p>\n</div>"
     },
     "execution_count": 59,
     "metadata": {},
     "output_type": "execute_result"
    }
   ],
   "source": [
    "# Rename the columns to match\n",
    "df_left_join = df_left_join.rename(columns={'latitude_left': 'latitude', 'longitude_left': 'longitude'})\n",
    "df_right_join = df_right_join.rename(columns={'latitude_right': 'latitude', 'longitude_right': 'longitude'})\n",
    "\n",
    "# Concatenate the GeoDataFrames\n",
    "gdf_concat = pd.concat([df_left_join, df_right_join], ignore_index=True)\n",
    "\n",
    "# Ensure the concatenated DataFrame is still a GeoDataFrame\n",
    "gdf_concat = gpd.GeoDataFrame(gdf_concat, geometry='geometry')\n",
    "gdf_concat"
   ],
   "metadata": {
    "collapsed": false,
    "ExecuteTime": {
     "end_time": "2024-07-02T15:08:50.942996Z",
     "start_time": "2024-07-02T15:08:50.902830Z"
    }
   },
   "id": "6f74ef6e588b7e2f",
   "execution_count": 59
  },
  {
   "cell_type": "code",
   "outputs": [],
   "source": [
    "gdf_concat.to_file(os.path.join(folder, f'merged_eu_2013_gdf'), driver='GPKG')"
   ],
   "metadata": {
    "collapsed": false,
    "ExecuteTime": {
     "end_time": "2024-07-02T15:09:05.018119Z",
     "start_time": "2024-07-02T15:08:58.412021Z"
    }
   },
   "id": "11d22f6cd846293f",
   "execution_count": 60
  },
  {
   "cell_type": "code",
   "outputs": [],
   "source": [],
   "metadata": {
    "collapsed": false
   },
   "id": "7dd85fe6df4ff6a4"
  },
  {
   "cell_type": "code",
   "outputs": [],
   "source": [],
   "metadata": {
    "collapsed": false
   },
   "id": "6e219af03591a99d"
  },
  {
   "cell_type": "markdown",
   "source": [
    "# 2. Add land cover (aggregated) data to pixel according to lon and lat\n",
    "\n",
    "## 2.1 Load land cover shapefile and convert to geopandas dataframe"
   ],
   "metadata": {
    "collapsed": false
   },
   "id": "bec6c18cf5ad65f6"
  },
  {
   "cell_type": "code",
   "outputs": [],
   "source": [
    "merged_eu_2013_gdf = gpd.read_file(os.path.join(folder, f'merged_eu_2013_gdf'))"
   ],
   "metadata": {
    "collapsed": false
   },
   "id": "e761f62287de9663"
  },
  {
   "cell_type": "code",
   "outputs": [],
   "source": [],
   "metadata": {
    "collapsed": false
   },
   "id": "d5858d89a8636ebd"
  },
  {
   "cell_type": "markdown",
   "source": [
    "## 2.2 for each pixel (1x1 for left and 31x31 for right), calculate the average probability of fire ignition according to Clamada Master thesis Table 2.1\n"
   ],
   "metadata": {
    "collapsed": false
   },
   "id": "4a500b00f55a514a"
  },
  {
   "cell_type": "code",
   "outputs": [],
   "source": [],
   "metadata": {
    "collapsed": false
   },
   "id": "f815732cc196185d"
  },
  {
   "cell_type": "code",
   "outputs": [],
   "source": [],
   "metadata": {
    "collapsed": false
   },
   "id": "33910451e2d3e94"
  },
  {
   "cell_type": "markdown",
   "source": [
    "# 3. Add elevation data to pixel according to lon and lat\n",
    "## 3.1 Load elevation shapefile and convert to geopandas dataframe"
   ],
   "metadata": {
    "collapsed": false
   },
   "id": "a9c62b3ecf2e731a"
  },
  {
   "cell_type": "markdown",
   "source": [
    "Create a Virtual Raster (VRT)\n",
    "You can use the GDAL command-line tools or rasterio's virtual raster capabilities in Python to combine your GeoTIFF files into a VRT.\n",
    "Using GDAL Command Line:\n",
    "gdalbuildvrt combined_elevation.vrt 50N000E_20101117_gmted_mea075.tif 50N030W_20101117_gmted_mea075.tif 50N030E_20101117_gmted_mea075.tif 30N030W_20101117_gmted_mea075.tif 30N000E_20101117_gmted_mea075.tif 30N030E_20101117_gmted_mea075.tif"
   ],
   "metadata": {
    "collapsed": false
   },
   "id": "febe9c8023892d3"
  },
  {
   "cell_type": "code",
   "outputs": [],
   "source": [
    "import rasterio\n",
    "from rasterio.merge import merge\n",
    "from rasterio.io import MemoryFile\n",
    "\n",
    "elevation_folder = '../../climada_petals/data/wildfire/elevation/'\n",
    "# List of your GeoTIFF files\n",
    "files = ['50N000E_20101117_gmted_mea075.tif', '50N030W_20101117_gmted_mea075.tif', '50N030E_20101117_gmted_mea075.tif', '30N030W_20101117_gmted_mea075.tif', '30N000E_20101117_gmted_mea075.tif', '30N030E_20101117_gmted_mea075.tif']\n",
    "\n",
    "\n",
    "# Open all files\n",
    "src_files = [rasterio.open(os.path.join(elevation_folder, f)) for f in files]\n",
    "\n",
    "# Create a virtual mosaic (in-memory, no VRT file written)\n",
    "mosaic, out_transform = merge(src_files)\n",
    "\n",
    "# Create a Virtual Raster (VRT) file in memory (alternative to writing to disk)\n",
    "with MemoryFile() as memfile:\n",
    "    with memfile.open(driver='GTiff', height=mosaic.shape[1], width=mosaic.shape[2],\n",
    "                      count=1, dtype=mosaic.dtype, transform=out_transform,\n",
    "                      crs=src_files[0].crs) as dataset:\n",
    "        dataset.write(mosaic[0], 1)\n",
    "        virtual_raster = dataset.name  # Path to the in-memory dataset"
   ],
   "metadata": {
    "collapsed": false,
    "ExecuteTime": {
     "end_time": "2024-07-02T17:32:43.026605Z",
     "start_time": "2024-07-02T17:32:32.485102Z"
    }
   },
   "id": "1e12cf786a78d979",
   "execution_count": 71
  },
  {
   "cell_type": "markdown",
   "source": [
    "## 3.2 for each pixel (1x1 for left and 31x31 for right), calculate the average elevation"
   ],
   "metadata": {
    "collapsed": false
   },
   "id": "7e403afd5dc1c48"
  },
  {
   "cell_type": "code",
   "outputs": [],
   "source": [
    "merged_eu_2013_gdf = gdf_concat"
   ],
   "metadata": {
    "collapsed": false,
    "ExecuteTime": {
     "end_time": "2024-07-02T15:20:19.039473Z",
     "start_time": "2024-07-02T15:20:19.033360Z"
    }
   },
   "id": "ef82aec5f942db21",
   "execution_count": 62
  },
  {
   "cell_type": "code",
   "outputs": [],
   "source": [
    "# Load the virtual raster\n",
    "elevation_raster = rasterio.open(os.path.join(elevation_folder, 'combined_elevation.vrt'))\n",
    "# Ensure CRS alignment\n",
    "if elevation_raster.crs != merged_eu_2013_gdf.crs:\n",
    "    elevation_gdf = elevation_raster.to_crs(merged_eu_2013_gdf.crs)"
   ],
   "metadata": {
    "collapsed": false,
    "ExecuteTime": {
     "end_time": "2024-07-02T17:37:03.583650Z",
     "start_time": "2024-07-02T17:37:03.572648Z"
    }
   },
   "id": "1432278b5c449e2e",
   "execution_count": 73
  },
  {
   "cell_type": "code",
   "outputs": [],
   "source": [
    "# Function to get elevation data from raster\n",
    "def get_elevation(lon, lat, raster):\n",
    "    for val in raster.sample([(lon, lat)]):\n",
    "        return val[0]  # Assuming elevation data is in the first band\n",
    "\n",
    "# Apply the function to each row in the geodataframe\n",
    "merged_eu_2013_gdf['elevation'] = merged_eu_2013_gdf.apply(\n",
    "    lambda row: get_elevation(row.geometry.x, row.geometry.y, elevation_raster), axis=1\n",
    ")"
   ],
   "metadata": {
    "collapsed": false,
    "ExecuteTime": {
     "end_time": "2024-07-02T17:43:51.592911Z",
     "start_time": "2024-07-02T17:43:41.500424Z"
    }
   },
   "id": "a1824e1b1f6e5a22",
   "execution_count": 74
  },
  {
   "cell_type": "markdown",
   "source": [
    "# 4. Build ML models to predict whether a pixel is ignited"
   ],
   "metadata": {
    "collapsed": false
   },
   "id": "6b5cc27ea0a83e30"
  },
  {
   "cell_type": "code",
   "outputs": [],
   "source": [],
   "metadata": {
    "collapsed": false
   },
   "id": "45ed3d6f5fe52337"
  }
 ],
 "metadata": {
  "kernelspec": {
   "display_name": "Python 3",
   "language": "python",
   "name": "python3"
  },
  "language_info": {
   "codemirror_mode": {
    "name": "ipython",
    "version": 2
   },
   "file_extension": ".py",
   "mimetype": "text/x-python",
   "name": "python",
   "nbconvert_exporter": "python",
   "pygments_lexer": "ipython2",
   "version": "2.7.6"
  }
 },
 "nbformat": 4,
 "nbformat_minor": 5
}
