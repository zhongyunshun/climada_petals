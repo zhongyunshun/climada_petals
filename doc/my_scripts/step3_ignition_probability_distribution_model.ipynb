{
 "cells": [
  {
   "cell_type": "code",
   "execution_count": 2,
   "id": "initial_id",
   "metadata": {
    "collapsed": true,
    "ExecuteTime": {
     "end_time": "2024-06-20T19:26:01.131481Z",
     "start_time": "2024-06-20T19:26:00.895346Z"
    }
   },
   "outputs": [],
   "source": [
    "import xarray as xr\n",
    "import numpy as np\n",
    "import pandas as pd\n",
    "import geopandas as gpd\n",
    "import matplotlib.pyplot as plt\n",
    "import contextily as ctx\n",
    "import os"
   ]
  },
  {
   "cell_type": "markdown",
   "source": [
    "# Load data"
   ],
   "metadata": {
    "collapsed": false
   },
   "id": "65e3173d2513c213"
  },
  {
   "cell_type": "code",
   "outputs": [
    {
     "data": {
      "text/plain": "         latitude_left  longitude_left  brightness satellite instrument  \\\n0              51.2415         23.0096       301.8     Terra      MODIS   \n1              50.6740         25.4001       302.9     Terra      MODIS   \n2              49.8929         29.2202       309.6     Terra      MODIS   \n3              50.5311         25.5214       304.6     Terra      MODIS   \n4              50.6798         24.3879       307.5     Terra      MODIS   \n...                ...             ...         ...       ...        ...   \n1409775        42.3003         -6.5988       366.0      Aqua      MODIS   \n1409776        44.5971         20.9679       304.1     Terra      MODIS   \n1409777        44.5938         20.9739       307.4     Terra      MODIS   \n1409778        45.1455          9.9422       306.4     Terra      MODIS   \n1409779        51.4838          6.7015       305.9     Terra      MODIS   \n\n         confidence  bright_t31    frp daynight  values  surface  \\\n0                49       281.3    5.4        D   60528      0.0   \n1                 0       287.9    5.9        D   62262      0.0   \n2                69       286.2   18.2        D   64863      0.0   \n3                59       288.1    6.7        D   63126      0.0   \n4                66       285.1    8.6        D   62260      0.0   \n...             ...         ...    ...      ...     ...      ...   \n1409775         100       286.8  139.9        D   89861      0.0   \n1409776          59       271.2   31.1        N   82225      0.0   \n1409777          71       271.3   36.4        N   82225      0.0   \n1409778          68       274.2   14.6        N   80276      0.0   \n1409779          66       276.4   13.8        N   59625      0.0   \n\n         latitude_right  longitude_right        fwi  distance        date  \\\n0             51.288034        22.916667   8.585938  0.103933  2000-11-01   \n1             50.725974        25.416667   9.941406  0.054550  2000-11-01   \n2             49.882883        29.166667  11.226562  0.054462  2000-11-01   \n3             50.444944        25.416667  11.703125  0.135617  2000-11-01   \n4             50.725974        24.583333  12.222656  0.200814  2000-11-01   \n...                 ...              ...        ...       ...         ...   \n1409775       42.295066         0.000000   0.910156  6.598802  2023-01-31   \n1409776       44.543308        21.000000   0.277344  0.062641  2023-01-31   \n1409777       44.543308        21.000000   0.277344  0.056839  2023-01-31   \n1409778       45.105369        10.125000   0.449219  0.187153  2023-01-31   \n1409779       51.569065         6.666667   0.554688  0.092105  2023-01-31   \n\n                          geometry  \n0        POINT (23.00960 51.24150)  \n1        POINT (25.40010 50.67400)  \n2        POINT (29.22020 49.89290)  \n3        POINT (25.52140 50.53110)  \n4        POINT (24.38790 50.67980)  \n...                            ...  \n1409775  POINT (-6.59880 42.30030)  \n1409776  POINT (20.96790 44.59710)  \n1409777  POINT (20.97390 44.59380)  \n1409778   POINT (9.94220 45.14550)  \n1409779   POINT (6.70150 51.48380)  \n\n[1409780 rows x 17 columns]",
      "text/html": "<div>\n<style scoped>\n    .dataframe tbody tr th:only-of-type {\n        vertical-align: middle;\n    }\n\n    .dataframe tbody tr th {\n        vertical-align: top;\n    }\n\n    .dataframe thead th {\n        text-align: right;\n    }\n</style>\n<table border=\"1\" class=\"dataframe\">\n  <thead>\n    <tr style=\"text-align: right;\">\n      <th></th>\n      <th>latitude_left</th>\n      <th>longitude_left</th>\n      <th>brightness</th>\n      <th>satellite</th>\n      <th>instrument</th>\n      <th>confidence</th>\n      <th>bright_t31</th>\n      <th>frp</th>\n      <th>daynight</th>\n      <th>values</th>\n      <th>surface</th>\n      <th>latitude_right</th>\n      <th>longitude_right</th>\n      <th>fwi</th>\n      <th>distance</th>\n      <th>date</th>\n      <th>geometry</th>\n    </tr>\n  </thead>\n  <tbody>\n    <tr>\n      <th>0</th>\n      <td>51.2415</td>\n      <td>23.0096</td>\n      <td>301.8</td>\n      <td>Terra</td>\n      <td>MODIS</td>\n      <td>49</td>\n      <td>281.3</td>\n      <td>5.4</td>\n      <td>D</td>\n      <td>60528</td>\n      <td>0.0</td>\n      <td>51.288034</td>\n      <td>22.916667</td>\n      <td>8.585938</td>\n      <td>0.103933</td>\n      <td>2000-11-01</td>\n      <td>POINT (23.00960 51.24150)</td>\n    </tr>\n    <tr>\n      <th>1</th>\n      <td>50.6740</td>\n      <td>25.4001</td>\n      <td>302.9</td>\n      <td>Terra</td>\n      <td>MODIS</td>\n      <td>0</td>\n      <td>287.9</td>\n      <td>5.9</td>\n      <td>D</td>\n      <td>62262</td>\n      <td>0.0</td>\n      <td>50.725974</td>\n      <td>25.416667</td>\n      <td>9.941406</td>\n      <td>0.054550</td>\n      <td>2000-11-01</td>\n      <td>POINT (25.40010 50.67400)</td>\n    </tr>\n    <tr>\n      <th>2</th>\n      <td>49.8929</td>\n      <td>29.2202</td>\n      <td>309.6</td>\n      <td>Terra</td>\n      <td>MODIS</td>\n      <td>69</td>\n      <td>286.2</td>\n      <td>18.2</td>\n      <td>D</td>\n      <td>64863</td>\n      <td>0.0</td>\n      <td>49.882883</td>\n      <td>29.166667</td>\n      <td>11.226562</td>\n      <td>0.054462</td>\n      <td>2000-11-01</td>\n      <td>POINT (29.22020 49.89290)</td>\n    </tr>\n    <tr>\n      <th>3</th>\n      <td>50.5311</td>\n      <td>25.5214</td>\n      <td>304.6</td>\n      <td>Terra</td>\n      <td>MODIS</td>\n      <td>59</td>\n      <td>288.1</td>\n      <td>6.7</td>\n      <td>D</td>\n      <td>63126</td>\n      <td>0.0</td>\n      <td>50.444944</td>\n      <td>25.416667</td>\n      <td>11.703125</td>\n      <td>0.135617</td>\n      <td>2000-11-01</td>\n      <td>POINT (25.52140 50.53110)</td>\n    </tr>\n    <tr>\n      <th>4</th>\n      <td>50.6798</td>\n      <td>24.3879</td>\n      <td>307.5</td>\n      <td>Terra</td>\n      <td>MODIS</td>\n      <td>66</td>\n      <td>285.1</td>\n      <td>8.6</td>\n      <td>D</td>\n      <td>62260</td>\n      <td>0.0</td>\n      <td>50.725974</td>\n      <td>24.583333</td>\n      <td>12.222656</td>\n      <td>0.200814</td>\n      <td>2000-11-01</td>\n      <td>POINT (24.38790 50.67980)</td>\n    </tr>\n    <tr>\n      <th>...</th>\n      <td>...</td>\n      <td>...</td>\n      <td>...</td>\n      <td>...</td>\n      <td>...</td>\n      <td>...</td>\n      <td>...</td>\n      <td>...</td>\n      <td>...</td>\n      <td>...</td>\n      <td>...</td>\n      <td>...</td>\n      <td>...</td>\n      <td>...</td>\n      <td>...</td>\n      <td>...</td>\n      <td>...</td>\n    </tr>\n    <tr>\n      <th>1409775</th>\n      <td>42.3003</td>\n      <td>-6.5988</td>\n      <td>366.0</td>\n      <td>Aqua</td>\n      <td>MODIS</td>\n      <td>100</td>\n      <td>286.8</td>\n      <td>139.9</td>\n      <td>D</td>\n      <td>89861</td>\n      <td>0.0</td>\n      <td>42.295066</td>\n      <td>0.000000</td>\n      <td>0.910156</td>\n      <td>6.598802</td>\n      <td>2023-01-31</td>\n      <td>POINT (-6.59880 42.30030)</td>\n    </tr>\n    <tr>\n      <th>1409776</th>\n      <td>44.5971</td>\n      <td>20.9679</td>\n      <td>304.1</td>\n      <td>Terra</td>\n      <td>MODIS</td>\n      <td>59</td>\n      <td>271.2</td>\n      <td>31.1</td>\n      <td>N</td>\n      <td>82225</td>\n      <td>0.0</td>\n      <td>44.543308</td>\n      <td>21.000000</td>\n      <td>0.277344</td>\n      <td>0.062641</td>\n      <td>2023-01-31</td>\n      <td>POINT (20.96790 44.59710)</td>\n    </tr>\n    <tr>\n      <th>1409777</th>\n      <td>44.5938</td>\n      <td>20.9739</td>\n      <td>307.4</td>\n      <td>Terra</td>\n      <td>MODIS</td>\n      <td>71</td>\n      <td>271.3</td>\n      <td>36.4</td>\n      <td>N</td>\n      <td>82225</td>\n      <td>0.0</td>\n      <td>44.543308</td>\n      <td>21.000000</td>\n      <td>0.277344</td>\n      <td>0.056839</td>\n      <td>2023-01-31</td>\n      <td>POINT (20.97390 44.59380)</td>\n    </tr>\n    <tr>\n      <th>1409778</th>\n      <td>45.1455</td>\n      <td>9.9422</td>\n      <td>306.4</td>\n      <td>Terra</td>\n      <td>MODIS</td>\n      <td>68</td>\n      <td>274.2</td>\n      <td>14.6</td>\n      <td>N</td>\n      <td>80276</td>\n      <td>0.0</td>\n      <td>45.105369</td>\n      <td>10.125000</td>\n      <td>0.449219</td>\n      <td>0.187153</td>\n      <td>2023-01-31</td>\n      <td>POINT (9.94220 45.14550)</td>\n    </tr>\n    <tr>\n      <th>1409779</th>\n      <td>51.4838</td>\n      <td>6.7015</td>\n      <td>305.9</td>\n      <td>Terra</td>\n      <td>MODIS</td>\n      <td>66</td>\n      <td>276.4</td>\n      <td>13.8</td>\n      <td>N</td>\n      <td>59625</td>\n      <td>0.0</td>\n      <td>51.569065</td>\n      <td>6.666667</td>\n      <td>0.554688</td>\n      <td>0.092105</td>\n      <td>2023-01-31</td>\n      <td>POINT (6.70150 51.48380)</td>\n    </tr>\n  </tbody>\n</table>\n<p>1409780 rows × 17 columns</p>\n</div>"
     },
     "execution_count": 3,
     "metadata": {},
     "output_type": "execute_result"
    }
   ],
   "source": [
    "save_path = '../../climada_petals/data/wildfire/output/'\n",
    "merged_gdf = gpd.read_file(os.path.join(save_path, 'merged_eu_gdf'))\n",
    "# The distance does not consider the curvature of the Earth and is in degree not km\n",
    "# Ex. distance of the first row is calculated by \n",
    "# np.sqrt((merged_gdf['latitude_left'][0] - merged_gdf['latitude_right'][0])**2 + (merged_gdf['longitude_left'][0] - merged_gdf['longitude_right'][0])**2)\n",
    "merged_gdf"
   ],
   "metadata": {
    "collapsed": false,
    "ExecuteTime": {
     "end_time": "2024-06-20T19:29:49.835369Z",
     "start_time": "2024-06-20T19:27:48.115705Z"
    }
   },
   "id": "cd4316d228d0daa1",
   "execution_count": 3
  },
  {
   "cell_type": "code",
   "outputs": [
    {
     "name": "stdout",
     "output_type": "stream",
     "text": [
      "(1409780, 17)\n"
     ]
    }
   ],
   "source": [
    "print(merged_gdf.shape)"
   ],
   "metadata": {
    "collapsed": false,
    "ExecuteTime": {
     "end_time": "2024-06-20T19:29:49.851399Z",
     "start_time": "2024-06-20T19:29:49.836369Z"
    }
   },
   "id": "72ba6e8780783ce6",
   "execution_count": 4
  },
  {
   "cell_type": "code",
   "outputs": [
    {
     "data": {
      "text/plain": "         latitude_left  longitude_left  brightness satellite instrument  \\\n0              51.2415         23.0096       301.8     Terra      MODIS   \n1              50.6740         25.4001       302.9     Terra      MODIS   \n2              49.8929         29.2202       309.6     Terra      MODIS   \n3              50.5311         25.5214       304.6     Terra      MODIS   \n4              50.6798         24.3879       307.5     Terra      MODIS   \n...                ...             ...         ...       ...        ...   \n1409775        42.3003         -6.5988       366.0      Aqua      MODIS   \n1409776        44.5971         20.9679       304.1     Terra      MODIS   \n1409777        44.5938         20.9739       307.4     Terra      MODIS   \n1409778        45.1455          9.9422       306.4     Terra      MODIS   \n1409779        51.4838          6.7015       305.9     Terra      MODIS   \n\n         confidence  bright_t31    frp daynight  values  surface  \\\n0                49       281.3    5.4        D   60528      0.0   \n1                 0       287.9    5.9        D   62262      0.0   \n2                69       286.2   18.2        D   64863      0.0   \n3                59       288.1    6.7        D   63126      0.0   \n4                66       285.1    8.6        D   62260      0.0   \n...             ...         ...    ...      ...     ...      ...   \n1409775         100       286.8  139.9        D   89861      0.0   \n1409776          59       271.2   31.1        N   82225      0.0   \n1409777          71       271.3   36.4        N   82225      0.0   \n1409778          68       274.2   14.6        N   80276      0.0   \n1409779          66       276.4   13.8        N   59625      0.0   \n\n         latitude_right  longitude_right        fwi  distance        date  \\\n0             51.288034        22.916667   8.585938  0.103933  2000-11-01   \n1             50.725974        25.416667   9.941406  0.054550  2000-11-01   \n2             49.882883        29.166667  11.226562  0.054462  2000-11-01   \n3             50.444944        25.416667  11.703125  0.135617  2000-11-01   \n4             50.725974        24.583333  12.222656  0.200814  2000-11-01   \n...                 ...              ...        ...       ...         ...   \n1409775       42.295066         0.000000   0.910156  6.598802  2023-01-31   \n1409776       44.543308        21.000000   0.277344  0.062641  2023-01-31   \n1409777       44.543308        21.000000   0.277344  0.056839  2023-01-31   \n1409778       45.105369        10.125000   0.449219  0.187153  2023-01-31   \n1409779       51.569065         6.666667   0.554688  0.092105  2023-01-31   \n\n                          geometry  distance_km  \n0        POINT (23.00960 51.24150)     8.281555  \n1        POINT (25.40010 50.67400)     5.895853  \n2        POINT (29.22020 49.89290)     3.993662  \n3        POINT (25.52140 50.53110)    12.111174  \n4        POINT (24.38790 50.67980)    14.689771  \n...                            ...          ...  \n1409775  POINT (-6.59880 42.30030)   542.591703  \n1409776  POINT (20.96790 44.59710)     6.499423  \n1409777  POINT (20.97390 44.59380)     5.983020  \n1409778   POINT (9.94220 45.14550)    15.019678  \n1409779   POINT (6.70150 51.48380)     9.782464  \n\n[1409780 rows x 18 columns]",
      "text/html": "<div>\n<style scoped>\n    .dataframe tbody tr th:only-of-type {\n        vertical-align: middle;\n    }\n\n    .dataframe tbody tr th {\n        vertical-align: top;\n    }\n\n    .dataframe thead th {\n        text-align: right;\n    }\n</style>\n<table border=\"1\" class=\"dataframe\">\n  <thead>\n    <tr style=\"text-align: right;\">\n      <th></th>\n      <th>latitude_left</th>\n      <th>longitude_left</th>\n      <th>brightness</th>\n      <th>satellite</th>\n      <th>instrument</th>\n      <th>confidence</th>\n      <th>bright_t31</th>\n      <th>frp</th>\n      <th>daynight</th>\n      <th>values</th>\n      <th>surface</th>\n      <th>latitude_right</th>\n      <th>longitude_right</th>\n      <th>fwi</th>\n      <th>distance</th>\n      <th>date</th>\n      <th>geometry</th>\n      <th>distance_km</th>\n    </tr>\n  </thead>\n  <tbody>\n    <tr>\n      <th>0</th>\n      <td>51.2415</td>\n      <td>23.0096</td>\n      <td>301.8</td>\n      <td>Terra</td>\n      <td>MODIS</td>\n      <td>49</td>\n      <td>281.3</td>\n      <td>5.4</td>\n      <td>D</td>\n      <td>60528</td>\n      <td>0.0</td>\n      <td>51.288034</td>\n      <td>22.916667</td>\n      <td>8.585938</td>\n      <td>0.103933</td>\n      <td>2000-11-01</td>\n      <td>POINT (23.00960 51.24150)</td>\n      <td>8.281555</td>\n    </tr>\n    <tr>\n      <th>1</th>\n      <td>50.6740</td>\n      <td>25.4001</td>\n      <td>302.9</td>\n      <td>Terra</td>\n      <td>MODIS</td>\n      <td>0</td>\n      <td>287.9</td>\n      <td>5.9</td>\n      <td>D</td>\n      <td>62262</td>\n      <td>0.0</td>\n      <td>50.725974</td>\n      <td>25.416667</td>\n      <td>9.941406</td>\n      <td>0.054550</td>\n      <td>2000-11-01</td>\n      <td>POINT (25.40010 50.67400)</td>\n      <td>5.895853</td>\n    </tr>\n    <tr>\n      <th>2</th>\n      <td>49.8929</td>\n      <td>29.2202</td>\n      <td>309.6</td>\n      <td>Terra</td>\n      <td>MODIS</td>\n      <td>69</td>\n      <td>286.2</td>\n      <td>18.2</td>\n      <td>D</td>\n      <td>64863</td>\n      <td>0.0</td>\n      <td>49.882883</td>\n      <td>29.166667</td>\n      <td>11.226562</td>\n      <td>0.054462</td>\n      <td>2000-11-01</td>\n      <td>POINT (29.22020 49.89290)</td>\n      <td>3.993662</td>\n    </tr>\n    <tr>\n      <th>3</th>\n      <td>50.5311</td>\n      <td>25.5214</td>\n      <td>304.6</td>\n      <td>Terra</td>\n      <td>MODIS</td>\n      <td>59</td>\n      <td>288.1</td>\n      <td>6.7</td>\n      <td>D</td>\n      <td>63126</td>\n      <td>0.0</td>\n      <td>50.444944</td>\n      <td>25.416667</td>\n      <td>11.703125</td>\n      <td>0.135617</td>\n      <td>2000-11-01</td>\n      <td>POINT (25.52140 50.53110)</td>\n      <td>12.111174</td>\n    </tr>\n    <tr>\n      <th>4</th>\n      <td>50.6798</td>\n      <td>24.3879</td>\n      <td>307.5</td>\n      <td>Terra</td>\n      <td>MODIS</td>\n      <td>66</td>\n      <td>285.1</td>\n      <td>8.6</td>\n      <td>D</td>\n      <td>62260</td>\n      <td>0.0</td>\n      <td>50.725974</td>\n      <td>24.583333</td>\n      <td>12.222656</td>\n      <td>0.200814</td>\n      <td>2000-11-01</td>\n      <td>POINT (24.38790 50.67980)</td>\n      <td>14.689771</td>\n    </tr>\n    <tr>\n      <th>...</th>\n      <td>...</td>\n      <td>...</td>\n      <td>...</td>\n      <td>...</td>\n      <td>...</td>\n      <td>...</td>\n      <td>...</td>\n      <td>...</td>\n      <td>...</td>\n      <td>...</td>\n      <td>...</td>\n      <td>...</td>\n      <td>...</td>\n      <td>...</td>\n      <td>...</td>\n      <td>...</td>\n      <td>...</td>\n      <td>...</td>\n    </tr>\n    <tr>\n      <th>1409775</th>\n      <td>42.3003</td>\n      <td>-6.5988</td>\n      <td>366.0</td>\n      <td>Aqua</td>\n      <td>MODIS</td>\n      <td>100</td>\n      <td>286.8</td>\n      <td>139.9</td>\n      <td>D</td>\n      <td>89861</td>\n      <td>0.0</td>\n      <td>42.295066</td>\n      <td>0.000000</td>\n      <td>0.910156</td>\n      <td>6.598802</td>\n      <td>2023-01-31</td>\n      <td>POINT (-6.59880 42.30030)</td>\n      <td>542.591703</td>\n    </tr>\n    <tr>\n      <th>1409776</th>\n      <td>44.5971</td>\n      <td>20.9679</td>\n      <td>304.1</td>\n      <td>Terra</td>\n      <td>MODIS</td>\n      <td>59</td>\n      <td>271.2</td>\n      <td>31.1</td>\n      <td>N</td>\n      <td>82225</td>\n      <td>0.0</td>\n      <td>44.543308</td>\n      <td>21.000000</td>\n      <td>0.277344</td>\n      <td>0.062641</td>\n      <td>2023-01-31</td>\n      <td>POINT (20.96790 44.59710)</td>\n      <td>6.499423</td>\n    </tr>\n    <tr>\n      <th>1409777</th>\n      <td>44.5938</td>\n      <td>20.9739</td>\n      <td>307.4</td>\n      <td>Terra</td>\n      <td>MODIS</td>\n      <td>71</td>\n      <td>271.3</td>\n      <td>36.4</td>\n      <td>N</td>\n      <td>82225</td>\n      <td>0.0</td>\n      <td>44.543308</td>\n      <td>21.000000</td>\n      <td>0.277344</td>\n      <td>0.056839</td>\n      <td>2023-01-31</td>\n      <td>POINT (20.97390 44.59380)</td>\n      <td>5.983020</td>\n    </tr>\n    <tr>\n      <th>1409778</th>\n      <td>45.1455</td>\n      <td>9.9422</td>\n      <td>306.4</td>\n      <td>Terra</td>\n      <td>MODIS</td>\n      <td>68</td>\n      <td>274.2</td>\n      <td>14.6</td>\n      <td>N</td>\n      <td>80276</td>\n      <td>0.0</td>\n      <td>45.105369</td>\n      <td>10.125000</td>\n      <td>0.449219</td>\n      <td>0.187153</td>\n      <td>2023-01-31</td>\n      <td>POINT (9.94220 45.14550)</td>\n      <td>15.019678</td>\n    </tr>\n    <tr>\n      <th>1409779</th>\n      <td>51.4838</td>\n      <td>6.7015</td>\n      <td>305.9</td>\n      <td>Terra</td>\n      <td>MODIS</td>\n      <td>66</td>\n      <td>276.4</td>\n      <td>13.8</td>\n      <td>N</td>\n      <td>59625</td>\n      <td>0.0</td>\n      <td>51.569065</td>\n      <td>6.666667</td>\n      <td>0.554688</td>\n      <td>0.092105</td>\n      <td>2023-01-31</td>\n      <td>POINT (6.70150 51.48380)</td>\n      <td>9.782464</td>\n    </tr>\n  </tbody>\n</table>\n<p>1409780 rows × 18 columns</p>\n</div>"
     },
     "execution_count": 5,
     "metadata": {},
     "output_type": "execute_result"
    }
   ],
   "source": [
    "from geopy.distance import great_circle\n",
    "\n",
    "# Define a function to calculate the distance\n",
    "def calculate_distance(row):\n",
    "    coords_1 = (row['latitude_left'], row['longitude_left'])\n",
    "    coords_2 = (row['latitude_right'], row['longitude_right'])\n",
    "    return great_circle(coords_1, coords_2).kilometers\n",
    "\n",
    "# Apply the function to each row in the GeoDataFrame and create a new column 'distance_km'\n",
    "merged_gdf['distance_km'] = merged_gdf.apply(calculate_distance, axis=1)\n",
    "merged_gdf\n"
   ],
   "metadata": {
    "collapsed": false,
    "ExecuteTime": {
     "end_time": "2024-06-20T19:30:05.772152Z",
     "start_time": "2024-06-20T19:29:49.852396Z"
    }
   },
   "id": "a73091450bd906f6",
   "execution_count": 5
  },
  {
   "cell_type": "code",
   "outputs": [
    {
     "data": {
      "text/plain": "         latitude_left  longitude_left  brightness satellite instrument  \\\n0              51.2415         23.0096       301.8     Terra      MODIS   \n2              49.8929         29.2202       309.6     Terra      MODIS   \n3              50.5311         25.5214       304.6     Terra      MODIS   \n4              50.6798         24.3879       307.5     Terra      MODIS   \n5              51.0532         25.4886       353.8     Terra      MODIS   \n...                ...             ...         ...       ...        ...   \n1409763        35.8092         -0.2537       324.5      Aqua      MODIS   \n1409776        44.5971         20.9679       304.1     Terra      MODIS   \n1409777        44.5938         20.9739       307.4     Terra      MODIS   \n1409778        45.1455          9.9422       306.4     Terra      MODIS   \n1409779        51.4838          6.7015       305.9     Terra      MODIS   \n\n         confidence  bright_t31   frp daynight  values  surface  \\\n0                49       281.3   5.4        D   60528      0.0   \n2                69       286.2  18.2        D   64863      0.0   \n3                59       288.1   6.7        D   63126      0.0   \n4                66       285.1   8.6        D   62260      0.0   \n5                97       290.0  76.4        D   61398      0.0   \n...             ...         ...   ...      ...     ...      ...   \n1409763          63       290.6  20.9        D  113617      0.0   \n1409776          59       271.2  31.1        N   82225      0.0   \n1409777          71       271.3  36.4        N   82225      0.0   \n1409778          68       274.2  14.6        N   80276      0.0   \n1409779          66       276.4  13.8        N   59625      0.0   \n\n         latitude_right  longitude_right        fwi  distance        date  \\\n0             51.288034        22.916667   8.585938  0.103933  2000-11-01   \n2             49.882883        29.166667  11.226562  0.054462  2000-11-01   \n3             50.444944        25.416667  11.703125  0.135617  2000-11-01   \n4             50.725974        24.583333  12.222656  0.200814  2000-11-01   \n5             51.007004        25.416667   9.933594  0.085490  2000-11-01   \n...                 ...              ...        ...       ...         ...   \n1409763       35.831369         0.000000   0.332031  0.254667  2023-01-31   \n1409776       44.543308        21.000000   0.277344  0.062641  2023-01-31   \n1409777       44.543308        21.000000   0.277344  0.056839  2023-01-31   \n1409778       45.105369        10.125000   0.449219  0.187153  2023-01-31   \n1409779       51.569065         6.666667   0.554688  0.092105  2023-01-31   \n\n                          geometry  distance_km  \n0        POINT (23.00960 51.24150)     8.281555  \n2        POINT (29.22020 49.89290)     3.993662  \n3        POINT (25.52140 50.53110)    12.111174  \n4        POINT (24.38790 50.67980)    14.689771  \n5        POINT (25.48860 51.05320)     7.189676  \n...                            ...          ...  \n1409763  POINT (-0.25370 35.80920)    23.006860  \n1409776  POINT (20.96790 44.59710)     6.499423  \n1409777  POINT (20.97390 44.59380)     5.983020  \n1409778   POINT (9.94220 45.14550)    15.019678  \n1409779   POINT (6.70150 51.48380)     9.782464  \n\n[1158546 rows x 18 columns]",
      "text/html": "<div>\n<style scoped>\n    .dataframe tbody tr th:only-of-type {\n        vertical-align: middle;\n    }\n\n    .dataframe tbody tr th {\n        vertical-align: top;\n    }\n\n    .dataframe thead th {\n        text-align: right;\n    }\n</style>\n<table border=\"1\" class=\"dataframe\">\n  <thead>\n    <tr style=\"text-align: right;\">\n      <th></th>\n      <th>latitude_left</th>\n      <th>longitude_left</th>\n      <th>brightness</th>\n      <th>satellite</th>\n      <th>instrument</th>\n      <th>confidence</th>\n      <th>bright_t31</th>\n      <th>frp</th>\n      <th>daynight</th>\n      <th>values</th>\n      <th>surface</th>\n      <th>latitude_right</th>\n      <th>longitude_right</th>\n      <th>fwi</th>\n      <th>distance</th>\n      <th>date</th>\n      <th>geometry</th>\n      <th>distance_km</th>\n    </tr>\n  </thead>\n  <tbody>\n    <tr>\n      <th>0</th>\n      <td>51.2415</td>\n      <td>23.0096</td>\n      <td>301.8</td>\n      <td>Terra</td>\n      <td>MODIS</td>\n      <td>49</td>\n      <td>281.3</td>\n      <td>5.4</td>\n      <td>D</td>\n      <td>60528</td>\n      <td>0.0</td>\n      <td>51.288034</td>\n      <td>22.916667</td>\n      <td>8.585938</td>\n      <td>0.103933</td>\n      <td>2000-11-01</td>\n      <td>POINT (23.00960 51.24150)</td>\n      <td>8.281555</td>\n    </tr>\n    <tr>\n      <th>2</th>\n      <td>49.8929</td>\n      <td>29.2202</td>\n      <td>309.6</td>\n      <td>Terra</td>\n      <td>MODIS</td>\n      <td>69</td>\n      <td>286.2</td>\n      <td>18.2</td>\n      <td>D</td>\n      <td>64863</td>\n      <td>0.0</td>\n      <td>49.882883</td>\n      <td>29.166667</td>\n      <td>11.226562</td>\n      <td>0.054462</td>\n      <td>2000-11-01</td>\n      <td>POINT (29.22020 49.89290)</td>\n      <td>3.993662</td>\n    </tr>\n    <tr>\n      <th>3</th>\n      <td>50.5311</td>\n      <td>25.5214</td>\n      <td>304.6</td>\n      <td>Terra</td>\n      <td>MODIS</td>\n      <td>59</td>\n      <td>288.1</td>\n      <td>6.7</td>\n      <td>D</td>\n      <td>63126</td>\n      <td>0.0</td>\n      <td>50.444944</td>\n      <td>25.416667</td>\n      <td>11.703125</td>\n      <td>0.135617</td>\n      <td>2000-11-01</td>\n      <td>POINT (25.52140 50.53110)</td>\n      <td>12.111174</td>\n    </tr>\n    <tr>\n      <th>4</th>\n      <td>50.6798</td>\n      <td>24.3879</td>\n      <td>307.5</td>\n      <td>Terra</td>\n      <td>MODIS</td>\n      <td>66</td>\n      <td>285.1</td>\n      <td>8.6</td>\n      <td>D</td>\n      <td>62260</td>\n      <td>0.0</td>\n      <td>50.725974</td>\n      <td>24.583333</td>\n      <td>12.222656</td>\n      <td>0.200814</td>\n      <td>2000-11-01</td>\n      <td>POINT (24.38790 50.67980)</td>\n      <td>14.689771</td>\n    </tr>\n    <tr>\n      <th>5</th>\n      <td>51.0532</td>\n      <td>25.4886</td>\n      <td>353.8</td>\n      <td>Terra</td>\n      <td>MODIS</td>\n      <td>97</td>\n      <td>290.0</td>\n      <td>76.4</td>\n      <td>D</td>\n      <td>61398</td>\n      <td>0.0</td>\n      <td>51.007004</td>\n      <td>25.416667</td>\n      <td>9.933594</td>\n      <td>0.085490</td>\n      <td>2000-11-01</td>\n      <td>POINT (25.48860 51.05320)</td>\n      <td>7.189676</td>\n    </tr>\n    <tr>\n      <th>...</th>\n      <td>...</td>\n      <td>...</td>\n      <td>...</td>\n      <td>...</td>\n      <td>...</td>\n      <td>...</td>\n      <td>...</td>\n      <td>...</td>\n      <td>...</td>\n      <td>...</td>\n      <td>...</td>\n      <td>...</td>\n      <td>...</td>\n      <td>...</td>\n      <td>...</td>\n      <td>...</td>\n      <td>...</td>\n      <td>...</td>\n    </tr>\n    <tr>\n      <th>1409763</th>\n      <td>35.8092</td>\n      <td>-0.2537</td>\n      <td>324.5</td>\n      <td>Aqua</td>\n      <td>MODIS</td>\n      <td>63</td>\n      <td>290.6</td>\n      <td>20.9</td>\n      <td>D</td>\n      <td>113617</td>\n      <td>0.0</td>\n      <td>35.831369</td>\n      <td>0.000000</td>\n      <td>0.332031</td>\n      <td>0.254667</td>\n      <td>2023-01-31</td>\n      <td>POINT (-0.25370 35.80920)</td>\n      <td>23.006860</td>\n    </tr>\n    <tr>\n      <th>1409776</th>\n      <td>44.5971</td>\n      <td>20.9679</td>\n      <td>304.1</td>\n      <td>Terra</td>\n      <td>MODIS</td>\n      <td>59</td>\n      <td>271.2</td>\n      <td>31.1</td>\n      <td>N</td>\n      <td>82225</td>\n      <td>0.0</td>\n      <td>44.543308</td>\n      <td>21.000000</td>\n      <td>0.277344</td>\n      <td>0.062641</td>\n      <td>2023-01-31</td>\n      <td>POINT (20.96790 44.59710)</td>\n      <td>6.499423</td>\n    </tr>\n    <tr>\n      <th>1409777</th>\n      <td>44.5938</td>\n      <td>20.9739</td>\n      <td>307.4</td>\n      <td>Terra</td>\n      <td>MODIS</td>\n      <td>71</td>\n      <td>271.3</td>\n      <td>36.4</td>\n      <td>N</td>\n      <td>82225</td>\n      <td>0.0</td>\n      <td>44.543308</td>\n      <td>21.000000</td>\n      <td>0.277344</td>\n      <td>0.056839</td>\n      <td>2023-01-31</td>\n      <td>POINT (20.97390 44.59380)</td>\n      <td>5.983020</td>\n    </tr>\n    <tr>\n      <th>1409778</th>\n      <td>45.1455</td>\n      <td>9.9422</td>\n      <td>306.4</td>\n      <td>Terra</td>\n      <td>MODIS</td>\n      <td>68</td>\n      <td>274.2</td>\n      <td>14.6</td>\n      <td>N</td>\n      <td>80276</td>\n      <td>0.0</td>\n      <td>45.105369</td>\n      <td>10.125000</td>\n      <td>0.449219</td>\n      <td>0.187153</td>\n      <td>2023-01-31</td>\n      <td>POINT (9.94220 45.14550)</td>\n      <td>15.019678</td>\n    </tr>\n    <tr>\n      <th>1409779</th>\n      <td>51.4838</td>\n      <td>6.7015</td>\n      <td>305.9</td>\n      <td>Terra</td>\n      <td>MODIS</td>\n      <td>66</td>\n      <td>276.4</td>\n      <td>13.8</td>\n      <td>N</td>\n      <td>59625</td>\n      <td>0.0</td>\n      <td>51.569065</td>\n      <td>6.666667</td>\n      <td>0.554688</td>\n      <td>0.092105</td>\n      <td>2023-01-31</td>\n      <td>POINT (6.70150 51.48380)</td>\n      <td>9.782464</td>\n    </tr>\n  </tbody>\n</table>\n<p>1158546 rows × 18 columns</p>\n</div>"
     },
     "execution_count": 6,
     "metadata": {},
     "output_type": "execute_result"
    }
   ],
   "source": [
    "# Drop FWI and brightness rows with missing values\n",
    "filtered_gdf = merged_gdf.dropna(subset=['fwi', 'brightness'])\n",
    "# Drop rows with distance_km > 31 km\n",
    "filtered_gdf = filtered_gdf[filtered_gdf['distance_km'] <= 31]\n",
    "# Drop rows with confidence < 30\n",
    "filtered_gdf = filtered_gdf[filtered_gdf['confidence'] >= 30]\n",
    "\n",
    "filtered_gdf"
   ],
   "metadata": {
    "collapsed": false,
    "ExecuteTime": {
     "end_time": "2024-06-20T19:30:06.342207Z",
     "start_time": "2024-06-20T19:30:05.773153Z"
    }
   },
   "id": "4271aa9b05ffa2c7",
   "execution_count": 6
  },
  {
   "cell_type": "code",
   "outputs": [],
   "source": [],
   "metadata": {
    "collapsed": false
   },
   "id": "67005c11fb48f0fa"
  }
 ],
 "metadata": {
  "kernelspec": {
   "display_name": "Python 3",
   "language": "python",
   "name": "python3"
  },
  "language_info": {
   "codemirror_mode": {
    "name": "ipython",
    "version": 2
   },
   "file_extension": ".py",
   "mimetype": "text/x-python",
   "name": "python",
   "nbconvert_exporter": "python",
   "pygments_lexer": "ipython2",
   "version": "2.7.6"
  }
 },
 "nbformat": 4,
 "nbformat_minor": 5
}
