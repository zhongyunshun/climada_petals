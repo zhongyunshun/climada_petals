{
 "cells": [
  {
   "cell_type": "code",
   "execution_count": 1,
   "id": "initial_id",
   "metadata": {
    "collapsed": true,
    "ExecuteTime": {
     "end_time": "2024-07-16T13:15:24.954499Z",
     "start_time": "2024-07-16T13:15:24.892500Z"
    }
   },
   "outputs": [],
   "source": [
    "import os\n",
    "import geopandas as gpd\n",
    "import numpy as np\n"
   ]
  },
  {
   "cell_type": "code",
   "outputs": [],
   "source": [
    "from climada_petals.hazard import WildFire\n",
    "from climada.hazard import Centroids\n",
    "from climada.util.constants import ONE_LAT_KM\n",
    "from climada.entity import ImpactFuncSet\n",
    "from climada_petals.entity.impact_funcs.wildfire import ImpfWildfire\n",
    "from climada.entity import LitPop\n",
    "from climada.engine import Impact\n",
    "from climada.engine import ImpactCalc"
   ],
   "metadata": {
    "collapsed": false,
    "ExecuteTime": {
     "end_time": "2024-07-16T13:15:26.325180Z",
     "start_time": "2024-07-16T13:15:24.954499Z"
    }
   },
   "id": "272f5be56442700d",
   "execution_count": 2
  },
  {
   "cell_type": "code",
   "outputs": [],
   "source": [
    "# please make sure you run this line so that your results are reproducible\n",
    "np.random.seed(42)\n",
    "\n",
    "WF_RESOLUTION_KM = 1.0  # set resolution to 4 km\n",
    "WF_RESOLUTION_ARCSEC = 30  # 120 arcsec ~ 4 km\n",
    "\n",
    "# geographic boundaries for cities. format: (lon_min, lat_min, lon_max, lat_max)\n",
    "GEO_BOUND_EU = (-31, 34, 40, 72)\n",
    "GEO_BOUND_FRANCE = (-5, 41, 10, 51)"
   ],
   "metadata": {
    "collapsed": false,
    "ExecuteTime": {
     "end_time": "2024-07-16T13:49:00.384637Z",
     "start_time": "2024-07-16T13:49:00.375637Z"
    }
   },
   "id": "d3d22e85fcfd7af9",
   "execution_count": 11
  },
  {
   "cell_type": "markdown",
   "source": [
    "# 1. Group historical fire events using Climada\n",
    "\n",
    "## 1.1 Load the left joined data"
   ],
   "metadata": {
    "collapsed": false
   },
   "id": "d0b1fa35fd12ed41"
  },
  {
   "cell_type": "code",
   "outputs": [
    {
     "data": {
      "text/plain": "   latitude_left  longitude_left  brightness satellite instrument  confidence  \\\n0        35.8073         -0.2538       310.2      Aqua      MODIS          79   \n1        47.8587         33.4466       308.0     Terra      MODIS          63   \n2        49.6728         18.6611       307.4     Terra      MODIS          57   \n3        37.3934         39.4902       303.1      Aqua      MODIS          55   \n4        36.8729          6.9397       320.8     Terra      MODIS          75   \n\n   bright_t31   frp daynight   index  latitude_right  longitude_right  \\\n0       277.6  25.0        N  313919           35.75            -0.25   \n1       272.6  27.4        D  243494           47.75            33.50   \n2       276.5  12.8        D  231915           49.75            18.75   \n3       287.0  14.4        D  302558           37.50            39.50   \n4       286.9  32.9        D  306748           36.75             7.00   \n\n   surface       fwi  distance        date                   geometry  \n0      0.0  6.847656  0.057426  2013-01-01  POINT (-0.25380 35.80730)  \n1      0.0  0.214844  0.121108  2013-01-01  POINT (33.44660 47.85870)  \n2      0.0  1.417969  0.117741  2013-01-01  POINT (18.66110 49.67280)  \n3      0.0  3.445312  0.107050  2013-01-01  POINT (39.49020 37.39340)  \n4      0.0  3.714844  0.136896  2013-01-01   POINT (6.93970 36.87290)  ",
      "text/html": "<div>\n<style scoped>\n    .dataframe tbody tr th:only-of-type {\n        vertical-align: middle;\n    }\n\n    .dataframe tbody tr th {\n        vertical-align: top;\n    }\n\n    .dataframe thead th {\n        text-align: right;\n    }\n</style>\n<table border=\"1\" class=\"dataframe\">\n  <thead>\n    <tr style=\"text-align: right;\">\n      <th></th>\n      <th>latitude_left</th>\n      <th>longitude_left</th>\n      <th>brightness</th>\n      <th>satellite</th>\n      <th>instrument</th>\n      <th>confidence</th>\n      <th>bright_t31</th>\n      <th>frp</th>\n      <th>daynight</th>\n      <th>index</th>\n      <th>latitude_right</th>\n      <th>longitude_right</th>\n      <th>surface</th>\n      <th>fwi</th>\n      <th>distance</th>\n      <th>date</th>\n      <th>geometry</th>\n    </tr>\n  </thead>\n  <tbody>\n    <tr>\n      <th>0</th>\n      <td>35.8073</td>\n      <td>-0.2538</td>\n      <td>310.2</td>\n      <td>Aqua</td>\n      <td>MODIS</td>\n      <td>79</td>\n      <td>277.6</td>\n      <td>25.0</td>\n      <td>N</td>\n      <td>313919</td>\n      <td>35.75</td>\n      <td>-0.25</td>\n      <td>0.0</td>\n      <td>6.847656</td>\n      <td>0.057426</td>\n      <td>2013-01-01</td>\n      <td>POINT (-0.25380 35.80730)</td>\n    </tr>\n    <tr>\n      <th>1</th>\n      <td>47.8587</td>\n      <td>33.4466</td>\n      <td>308.0</td>\n      <td>Terra</td>\n      <td>MODIS</td>\n      <td>63</td>\n      <td>272.6</td>\n      <td>27.4</td>\n      <td>D</td>\n      <td>243494</td>\n      <td>47.75</td>\n      <td>33.50</td>\n      <td>0.0</td>\n      <td>0.214844</td>\n      <td>0.121108</td>\n      <td>2013-01-01</td>\n      <td>POINT (33.44660 47.85870)</td>\n    </tr>\n    <tr>\n      <th>2</th>\n      <td>49.6728</td>\n      <td>18.6611</td>\n      <td>307.4</td>\n      <td>Terra</td>\n      <td>MODIS</td>\n      <td>57</td>\n      <td>276.5</td>\n      <td>12.8</td>\n      <td>D</td>\n      <td>231915</td>\n      <td>49.75</td>\n      <td>18.75</td>\n      <td>0.0</td>\n      <td>1.417969</td>\n      <td>0.117741</td>\n      <td>2013-01-01</td>\n      <td>POINT (18.66110 49.67280)</td>\n    </tr>\n    <tr>\n      <th>3</th>\n      <td>37.3934</td>\n      <td>39.4902</td>\n      <td>303.1</td>\n      <td>Aqua</td>\n      <td>MODIS</td>\n      <td>55</td>\n      <td>287.0</td>\n      <td>14.4</td>\n      <td>D</td>\n      <td>302558</td>\n      <td>37.50</td>\n      <td>39.50</td>\n      <td>0.0</td>\n      <td>3.445312</td>\n      <td>0.107050</td>\n      <td>2013-01-01</td>\n      <td>POINT (39.49020 37.39340)</td>\n    </tr>\n    <tr>\n      <th>4</th>\n      <td>36.8729</td>\n      <td>6.9397</td>\n      <td>320.8</td>\n      <td>Terra</td>\n      <td>MODIS</td>\n      <td>75</td>\n      <td>286.9</td>\n      <td>32.9</td>\n      <td>D</td>\n      <td>306748</td>\n      <td>36.75</td>\n      <td>7.00</td>\n      <td>0.0</td>\n      <td>3.714844</td>\n      <td>0.136896</td>\n      <td>2013-01-01</td>\n      <td>POINT (6.93970 36.87290)</td>\n    </tr>\n  </tbody>\n</table>\n</div>"
     },
     "execution_count": 4,
     "metadata": {},
     "output_type": "execute_result"
    }
   ],
   "source": [
    "folder = '../../climada_petals/data/wildfire/output/2013/'\n",
    "df = gpd.read_file(os.path.join(folder, 'merged_eu_2013_left_gdf'))\n",
    "df.head()"
   ],
   "metadata": {
    "collapsed": false,
    "ExecuteTime": {
     "end_time": "2024-07-16T13:15:33.396949Z",
     "start_time": "2024-07-16T13:15:26.342181Z"
    }
   },
   "id": "ba07a1fbcb922930",
   "execution_count": 4
  },
  {
   "cell_type": "markdown",
   "source": [
    "## 1.2 Group data by fire event"
   ],
   "metadata": {
    "collapsed": false
   },
   "id": "9e7ac0b2fb24a4ae"
  },
  {
   "cell_type": "code",
   "outputs": [],
   "source": [
    "# Select region to group\n",
    "def select_region(df, bound):\n",
    "    \"\"\"\n",
    "    Select the region of interest from the dataframe.\n",
    "    df: hazard dataframe\n",
    "    bound: tuple in format (lon_min, lat_min, lon_max, lat_max)\n",
    "    \"\"\"\n",
    "    return df[(df['longitude'] >= bound[0]) & \n",
    "              (df['latitude'] >= bound[1]) & \n",
    "              (df['longitude'] <= bound[2]) & \n",
    "              (df['latitude'] <= bound[3])]"
   ],
   "metadata": {
    "collapsed": false,
    "ExecuteTime": {
     "end_time": "2024-07-16T13:15:33.412949Z",
     "start_time": "2024-07-16T13:15:33.397949Z"
    }
   },
   "id": "224833b31a51af8",
   "execution_count": 5
  },
  {
   "cell_type": "code",
   "outputs": [],
   "source": [
    "# rename columns to match the required format in Climada\n",
    "df.rename(columns={'date': 'acq_date', 'latitude_left': 'latitude', 'longitude_left': 'longitude'}, inplace=True)"
   ],
   "metadata": {
    "collapsed": false,
    "ExecuteTime": {
     "end_time": "2024-07-16T13:15:33.427949Z",
     "start_time": "2024-07-16T13:15:33.413949Z"
    }
   },
   "id": "ef908f4ad8d037ec",
   "execution_count": 6
  },
  {
   "cell_type": "code",
   "outputs": [
    {
     "data": {
      "text/plain": "      latitude  longitude  brightness satellite instrument  confidence  \\\n0      43.4464     4.9050       300.8     Terra      MODIS          36   \n1      41.5108     0.3551       305.3     Terra      MODIS          61   \n2      41.4809    -1.3036       313.8     Terra      MODIS          74   \n3      43.4464     4.8978       304.7     Terra      MODIS          61   \n4      41.1776     1.2359       313.7      Aqua      MODIS          88   \n...        ...        ...         ...       ...        ...         ...   \n2809   43.4491     4.8967       304.4      Aqua      MODIS          44   \n2810   41.1857     1.2423       300.8      Aqua      MODIS          34   \n2811   43.4443     4.9006       300.8     Terra      MODIS          32   \n2812   43.3770     5.0217       324.1     Terra      MODIS          63   \n2813   49.3557     6.7315       300.3      Aqua      MODIS          35   \n\n      bright_t31   frp daynight      index  latitude_right  longitude_right  \\\n0          282.6   6.9        D    1306100           43.50             5.00   \n1          271.6  10.6        D    1317601           41.50             0.25   \n2          275.0  22.8        D    1319035           41.50            -1.25   \n3          277.1  14.3        N    1306100           43.50             5.00   \n4          274.9  18.5        N    2357285           41.25             1.25   \n...          ...   ...      ...        ...             ...              ...   \n2809       283.6  14.4        D  377148980           43.50             5.00   \n2810       273.4  46.0        N  378200165           41.25             1.25   \n2811       283.3   8.2        D  378187220           43.50             5.00   \n2812       283.6  29.3        D  378187220           43.50             5.00   \n2813       273.4  10.3        D  378154107           49.25             6.75   \n\n      surface        fwi  distance    acq_date                   geometry  \n0         0.0   5.964844  0.109078  2013-01-02   POINT (4.90500 43.44640)  \n1         0.0  10.453125  0.105653  2013-01-02   POINT (0.35510 41.51080)  \n2         0.0   4.707031  0.056901  2013-01-02  POINT (-1.30360 41.48090)  \n3         0.0   5.964844  0.115403  2013-01-02   POINT (4.89780 43.44640)  \n4         0.0   5.550781  0.073760  2013-01-03   POINT (1.23590 41.17760)  \n...       ...        ...       ...         ...                        ...  \n2809      0.0   0.398438  0.115159  2013-12-30   POINT (4.89670 43.44910)  \n2810      0.0   3.453125  0.064759  2013-12-31   POINT (1.24230 41.18570)  \n2811      0.0   1.363281  0.113942  2013-12-31   POINT (4.90060 43.44430)  \n2812      0.0   1.363281  0.124900  2013-12-31   POINT (5.02170 43.37700)  \n2813      0.0   0.082031  0.107307  2013-12-31   POINT (6.73150 49.35570)  \n\n[2814 rows x 17 columns]",
      "text/html": "<div>\n<style scoped>\n    .dataframe tbody tr th:only-of-type {\n        vertical-align: middle;\n    }\n\n    .dataframe tbody tr th {\n        vertical-align: top;\n    }\n\n    .dataframe thead th {\n        text-align: right;\n    }\n</style>\n<table border=\"1\" class=\"dataframe\">\n  <thead>\n    <tr style=\"text-align: right;\">\n      <th></th>\n      <th>latitude</th>\n      <th>longitude</th>\n      <th>brightness</th>\n      <th>satellite</th>\n      <th>instrument</th>\n      <th>confidence</th>\n      <th>bright_t31</th>\n      <th>frp</th>\n      <th>daynight</th>\n      <th>index</th>\n      <th>latitude_right</th>\n      <th>longitude_right</th>\n      <th>surface</th>\n      <th>fwi</th>\n      <th>distance</th>\n      <th>acq_date</th>\n      <th>geometry</th>\n    </tr>\n  </thead>\n  <tbody>\n    <tr>\n      <th>0</th>\n      <td>43.4464</td>\n      <td>4.9050</td>\n      <td>300.8</td>\n      <td>Terra</td>\n      <td>MODIS</td>\n      <td>36</td>\n      <td>282.6</td>\n      <td>6.9</td>\n      <td>D</td>\n      <td>1306100</td>\n      <td>43.50</td>\n      <td>5.00</td>\n      <td>0.0</td>\n      <td>5.964844</td>\n      <td>0.109078</td>\n      <td>2013-01-02</td>\n      <td>POINT (4.90500 43.44640)</td>\n    </tr>\n    <tr>\n      <th>1</th>\n      <td>41.5108</td>\n      <td>0.3551</td>\n      <td>305.3</td>\n      <td>Terra</td>\n      <td>MODIS</td>\n      <td>61</td>\n      <td>271.6</td>\n      <td>10.6</td>\n      <td>D</td>\n      <td>1317601</td>\n      <td>41.50</td>\n      <td>0.25</td>\n      <td>0.0</td>\n      <td>10.453125</td>\n      <td>0.105653</td>\n      <td>2013-01-02</td>\n      <td>POINT (0.35510 41.51080)</td>\n    </tr>\n    <tr>\n      <th>2</th>\n      <td>41.4809</td>\n      <td>-1.3036</td>\n      <td>313.8</td>\n      <td>Terra</td>\n      <td>MODIS</td>\n      <td>74</td>\n      <td>275.0</td>\n      <td>22.8</td>\n      <td>D</td>\n      <td>1319035</td>\n      <td>41.50</td>\n      <td>-1.25</td>\n      <td>0.0</td>\n      <td>4.707031</td>\n      <td>0.056901</td>\n      <td>2013-01-02</td>\n      <td>POINT (-1.30360 41.48090)</td>\n    </tr>\n    <tr>\n      <th>3</th>\n      <td>43.4464</td>\n      <td>4.8978</td>\n      <td>304.7</td>\n      <td>Terra</td>\n      <td>MODIS</td>\n      <td>61</td>\n      <td>277.1</td>\n      <td>14.3</td>\n      <td>N</td>\n      <td>1306100</td>\n      <td>43.50</td>\n      <td>5.00</td>\n      <td>0.0</td>\n      <td>5.964844</td>\n      <td>0.115403</td>\n      <td>2013-01-02</td>\n      <td>POINT (4.89780 43.44640)</td>\n    </tr>\n    <tr>\n      <th>4</th>\n      <td>41.1776</td>\n      <td>1.2359</td>\n      <td>313.7</td>\n      <td>Aqua</td>\n      <td>MODIS</td>\n      <td>88</td>\n      <td>274.9</td>\n      <td>18.5</td>\n      <td>N</td>\n      <td>2357285</td>\n      <td>41.25</td>\n      <td>1.25</td>\n      <td>0.0</td>\n      <td>5.550781</td>\n      <td>0.073760</td>\n      <td>2013-01-03</td>\n      <td>POINT (1.23590 41.17760)</td>\n    </tr>\n    <tr>\n      <th>...</th>\n      <td>...</td>\n      <td>...</td>\n      <td>...</td>\n      <td>...</td>\n      <td>...</td>\n      <td>...</td>\n      <td>...</td>\n      <td>...</td>\n      <td>...</td>\n      <td>...</td>\n      <td>...</td>\n      <td>...</td>\n      <td>...</td>\n      <td>...</td>\n      <td>...</td>\n      <td>...</td>\n      <td>...</td>\n    </tr>\n    <tr>\n      <th>2809</th>\n      <td>43.4491</td>\n      <td>4.8967</td>\n      <td>304.4</td>\n      <td>Aqua</td>\n      <td>MODIS</td>\n      <td>44</td>\n      <td>283.6</td>\n      <td>14.4</td>\n      <td>D</td>\n      <td>377148980</td>\n      <td>43.50</td>\n      <td>5.00</td>\n      <td>0.0</td>\n      <td>0.398438</td>\n      <td>0.115159</td>\n      <td>2013-12-30</td>\n      <td>POINT (4.89670 43.44910)</td>\n    </tr>\n    <tr>\n      <th>2810</th>\n      <td>41.1857</td>\n      <td>1.2423</td>\n      <td>300.8</td>\n      <td>Aqua</td>\n      <td>MODIS</td>\n      <td>34</td>\n      <td>273.4</td>\n      <td>46.0</td>\n      <td>N</td>\n      <td>378200165</td>\n      <td>41.25</td>\n      <td>1.25</td>\n      <td>0.0</td>\n      <td>3.453125</td>\n      <td>0.064759</td>\n      <td>2013-12-31</td>\n      <td>POINT (1.24230 41.18570)</td>\n    </tr>\n    <tr>\n      <th>2811</th>\n      <td>43.4443</td>\n      <td>4.9006</td>\n      <td>300.8</td>\n      <td>Terra</td>\n      <td>MODIS</td>\n      <td>32</td>\n      <td>283.3</td>\n      <td>8.2</td>\n      <td>D</td>\n      <td>378187220</td>\n      <td>43.50</td>\n      <td>5.00</td>\n      <td>0.0</td>\n      <td>1.363281</td>\n      <td>0.113942</td>\n      <td>2013-12-31</td>\n      <td>POINT (4.90060 43.44430)</td>\n    </tr>\n    <tr>\n      <th>2812</th>\n      <td>43.3770</td>\n      <td>5.0217</td>\n      <td>324.1</td>\n      <td>Terra</td>\n      <td>MODIS</td>\n      <td>63</td>\n      <td>283.6</td>\n      <td>29.3</td>\n      <td>D</td>\n      <td>378187220</td>\n      <td>43.50</td>\n      <td>5.00</td>\n      <td>0.0</td>\n      <td>1.363281</td>\n      <td>0.124900</td>\n      <td>2013-12-31</td>\n      <td>POINT (5.02170 43.37700)</td>\n    </tr>\n    <tr>\n      <th>2813</th>\n      <td>49.3557</td>\n      <td>6.7315</td>\n      <td>300.3</td>\n      <td>Aqua</td>\n      <td>MODIS</td>\n      <td>35</td>\n      <td>273.4</td>\n      <td>10.3</td>\n      <td>D</td>\n      <td>378154107</td>\n      <td>49.25</td>\n      <td>6.75</td>\n      <td>0.0</td>\n      <td>0.082031</td>\n      <td>0.107307</td>\n      <td>2013-12-31</td>\n      <td>POINT (6.73150 49.35570)</td>\n    </tr>\n  </tbody>\n</table>\n<p>2814 rows × 17 columns</p>\n</div>"
     },
     "execution_count": 7,
     "metadata": {},
     "output_type": "execute_result"
    }
   ],
   "source": [
    "df_fr = select_region(df, GEO_BOUND_FRANCE)\n",
    "\n",
    "'''\n",
    "Convert\n",
    "Index([   22,    26,    27,    32,    34,    58,    59,    60,    66,    67,\n",
    "       ...\n",
    "       78325, 78327, 78339, 78351, 78353, 78357, 78366, 78368, 78369, 78375],\n",
    "      dtype='int64', length=2814)\n",
    "To\n",
    "RangeIndex(start=0, stop=5224, step=1)\n",
    "because Climada requires the index to be a RangeIndex\n",
    "'''\n",
    "df_fr.reset_index(drop=True, inplace=True)\n",
    "\n",
    "df_fr"
   ],
   "metadata": {
    "collapsed": false,
    "ExecuteTime": {
     "end_time": "2024-07-16T13:15:33.443949Z",
     "start_time": "2024-07-16T13:15:33.428949Z"
    }
   },
   "id": "ed7a744f99164c2a",
   "execution_count": 7
  },
  {
   "cell_type": "code",
   "outputs": [
    {
     "data": {
      "text/plain": "RangeIndex(start=0, stop=2814, step=1)"
     },
     "execution_count": 8,
     "metadata": {},
     "output_type": "execute_result"
    }
   ],
   "source": [
    "df_fr.index"
   ],
   "metadata": {
    "collapsed": false,
    "ExecuteTime": {
     "end_time": "2024-07-16T13:15:33.489950Z",
     "start_time": "2024-07-16T13:15:33.444949Z"
    }
   },
   "id": "25b71c6b8d27e3db",
   "execution_count": 8
  },
  {
   "cell_type": "code",
   "outputs": [
    {
     "name": "stdout",
     "output_type": "stream",
     "text": [
      "2024-07-16 09:49:03,404 - climada_petals.hazard.wildfire - WARNING - The use of WildFire.set_hist_fire_FIRMS is deprecated.Use WildFire.from_hist_fire_FIRMS .\n",
      "2024-07-16 09:49:03,415 - climada.hazard.centroids.centr - INFO - Convert centroids to GeoSeries of Point shapes.\n",
      "2024-07-16 09:49:05,151 - climada_petals.hazard.wildfire - INFO - Remaining fires to identify: 1282.\n",
      "2024-07-16 09:49:06,954 - climada_petals.hazard.wildfire - INFO - Remaining fires to identify: 9.\n",
      "2024-07-16 09:49:07,051 - climada_petals.hazard.wildfire - INFO - Remaining fires to identify: 0.\n",
      "2024-07-16 09:49:07,855 - climada_petals.hazard.wildfire - INFO - Computing intensity of 218 fires.\n",
      "2024-07-16 09:49:08,189 - climada_petals.hazard.wildfire - INFO - Returning 218 fires that impacted the defined centroids.\n"
     ]
    }
   ],
   "source": [
    "# Set up wildfire using Climada\n",
    "wf_fr = WildFire()\n",
    "\n",
    "# Set the hazard resolution to 4 km. The provided data is at 1 km. Need a scaling factor of 1/4:\n",
    "res_factor = 1./WF_RESOLUTION_KM\n",
    "wf_fr.set_hist_fire_FIRMS(df_fr, centr_res_factor=0.25) "
   ],
   "metadata": {
    "collapsed": false,
    "ExecuteTime": {
     "end_time": "2024-07-16T13:49:08.869053Z",
     "start_time": "2024-07-16T13:49:03.402329Z"
    }
   },
   "id": "29c4e55caaa7a433",
   "execution_count": 12
  },
  {
   "cell_type": "code",
   "outputs": [
    {
     "data": {
      "text/plain": "(218, 115648)"
     },
     "execution_count": 13,
     "metadata": {},
     "output_type": "execute_result"
    }
   ],
   "source": [
    "wf_fr.intensity.shape"
   ],
   "metadata": {
    "collapsed": false,
    "ExecuteTime": {
     "end_time": "2024-07-16T13:49:15.316994Z",
     "start_time": "2024-07-16T13:49:15.305993Z"
    }
   },
   "id": "53f83ba3bcf645e8",
   "execution_count": 13
  },
  {
   "cell_type": "code",
   "outputs": [
    {
     "name": "stdout",
     "output_type": "stream",
     "text": [
      "   latitude  longitude  brightness   datenum\n",
      "0        10        100         250  20200101\n",
      "3        40        400         280  20200404\n",
      "   latitude  longitude  brightness   datenum\n",
      "0        10        100         250  20200101\n",
      "3        40        400         280  20200404\n",
      "True\n"
     ]
    }
   ],
   "source": [
    "import pandas as pd\n",
    "import numpy as np\n",
    "\n",
    "# Sample DataFrame\n",
    "data = {\n",
    "    'event_id': [1, 2, 3, 1, 2],\n",
    "    'latitude': [10, 20, 30, 40, 50],\n",
    "    'longitude': [100, 200, 300, 400, 500],\n",
    "    'brightness': [250, 260, 270, 280, 290],\n",
    "    'datenum': [20200101, 20200202, 20200303, 20200404, 20200505]\n",
    "}\n",
    "df_firms = pd.DataFrame(data)\n",
    "ev_id = 1\n",
    "\n",
    "# Code2\n",
    "temp_firms2 = df_firms.reindex(\n",
    "    index=(np.argwhere(df_firms['event_id'].values == ev_id).reshape(-1,)),\n",
    "    columns=['latitude', 'longitude', 'brightness', 'datenum']\n",
    ")\n",
    "\n",
    "# Modified Code1\n",
    "filtered_indices = np.argwhere(df_firms['event_id'].values == ev_id).reshape(-1,)\n",
    "temp_firms1 = df_firms.loc[filtered_indices, ['latitude', 'longitude', 'brightness', 'datenum']]\n",
    "\n",
    "# Comparison\n",
    "print(temp_firms1)\n",
    "print(temp_firms2)\n",
    "print(temp_firms1.equals(temp_firms2))  # Should print True\n"
   ],
   "metadata": {
    "collapsed": false,
    "ExecuteTime": {
     "end_time": "2024-07-16T17:03:57.287386Z",
     "start_time": "2024-07-16T17:03:57.276790Z"
    }
   },
   "id": "77f6c365bc0e9dba",
   "execution_count": 15
  },
  {
   "cell_type": "code",
   "outputs": [],
   "source": [],
   "metadata": {
    "collapsed": false
   },
   "id": "629e467fd5ce0c71"
  }
 ],
 "metadata": {
  "kernelspec": {
   "display_name": "Python 3",
   "language": "python",
   "name": "python3"
  },
  "language_info": {
   "codemirror_mode": {
    "name": "ipython",
    "version": 2
   },
   "file_extension": ".py",
   "mimetype": "text/x-python",
   "name": "python",
   "nbconvert_exporter": "python",
   "pygments_lexer": "ipython2",
   "version": "2.7.6"
  }
 },
 "nbformat": 4,
 "nbformat_minor": 5
}
