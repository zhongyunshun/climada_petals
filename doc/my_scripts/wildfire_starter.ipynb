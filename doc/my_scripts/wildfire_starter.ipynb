{
 "cells": [
  {
   "cell_type": "markdown",
   "metadata": {
    "collapsed": false
   },
   "source": [
    "# RSM 6301 Group Project #1: Physical Risk Wildfire"
   ]
  },
  {
   "cell_type": "markdown",
   "metadata": {
    "collapsed": false
   },
   "source": [
    "# Data\n",
    "\n",
    "Two historical US wildfire files from FIRMS:\n",
    "\n",
    "   + [A] Monthly file: Wildfire_US2018Nov.csv\n",
    "   + [B] Annual file: Wildfire_US2018.csv\n",
    "    \n",
    "An economic exposure file, available on Quercus\n",
    "\n",
    "   + [C] gpw-v4-population-count-rev11_2020_30_sec_tif.zip\n",
    "    \n",
    "   + Please unzip this file and put the unzipped folder 'gpw-v4-population-count-rev11_2020_30_sec_tif' in the directory: \n",
    "    ./Users/<username>/climada/data \n"
   ]
  },
  {
   "cell_type": "markdown",
   "metadata": {
    "collapsed": false
   },
   "source": [
    "# Software: \n",
    "### Instructions for the installation of the Climada package:\n",
    "\n",
    "+ Please install the CLIMADA package by following the instructions on the website: https://climada-petals.readthedocs.io/en/stable/\n",
    "+ Please follow the sections: \"Advanced Instructions\" and \"Install CLIMADA Petals\"\n",
    "\n",
    "### Tutorial:\n",
    "+ Please refer to the CLIMADA official tutorial: https://climada-petals.readthedocs.io/en/stable/tutorial/climada_hazard_Wildfire.html\n",
    "\n",
    "### [IMPORTANT]:\n",
    "+ The CLIMADA package is continuously evolving. We have corrected some bugs in the wildfire module.\n",
    "+ Please replace the following two files with the ones you have downloaded from Quercus.\n",
    "    + ./climada_petals/climada_petals/hazard/wildfire.py\n",
    "    + ./climada_petals/climada_petals/entity/impact_funcs/wildfire.py\n",
    "+ The available packages in the installed environment should suffice for this project. \n",
    "+ It is not recommended to install further packages or upgrade the existing packages. "
   ]
  },
  {
   "cell_type": "markdown",
   "metadata": {
    "collapsed": false
   },
   "source": [
    "# Requirements\n",
    "+ You are required to fill in the missing parts of the Python codes and answer the questions below.\n",
    "+ Please submit the completed Jupyter Notebook file (.ipynb) on Quercus. You do not need to submit any other files.\n",
    "+ Please make sure that the output results of your notebook are reproducible by running the whole notebook from the beginning to the end. To achieve this, please run the whole code from the beginning to the end again once you finish. Double check that the order of cells is correct. The TA will run your code again during marking. How can output results be non-reproducible? \n",
    "    + For example, if you run some cells in a different order, the output results may be different. \n",
    "    + If you run some cells multiple times, the output results may be different. \n",
    "+ Please use a resolution of 4 km x 4 km throughout the analysis."
   ]
  },
  {
   "cell_type": "markdown",
   "metadata": {
    "collapsed": false
   },
   "source": [
    "# Questions"
   ]
  },
  {
   "cell_type": "code",
   "metadata": {
    "collapsed": false,
    "ExecuteTime": {
     "end_time": "2024-05-15T14:07:24.480862Z",
     "start_time": "2024-05-15T14:07:22.707530Z"
    }
   },
   "source": [
    "# Please always run this cell at the beginning of your notebook!\n",
    "import os\n",
    "import pandas as pd\n",
    "import numpy as np\n",
    "import matplotlib.pyplot as plt\n",
    "\n",
    "np.random.seed(0)  # please make sure you run this line so that your results are reproducible\n",
    "\n",
    "WF_NOV_FILE = 'Wildfire_US2018Nov.csv'\n",
    "WF_YEAR_FILE = 'Wildfire_US2018.csv'\n",
    "WF_RESOLUTION_KM = 4.0  # set resolution to 4 km\n",
    "WF_RESOLUTION_ARCSEC = 120  # 120 arcsec ~ 4 km\n",
    "\n",
    "# geographic boundaries for cities. format: (lon_min, lat_min, lon_max, lat_max)\n",
    "GEO_BOUNDS_CITY = {'Paradise': (-121.64, 39.75, -121.58, 39.81),\n",
    "              'San Jose': (-122., 37.1, -121., 38.),\n",
    "              'Los Angeles': (-118.67, 33.7, -118.19, 34.34)}\n",
    "GEO_BOUND_CALIFORNIA = (-124.5, 32.5, -114.1, 42)\n"
   ],
   "outputs": [],
   "execution_count": 1
  },
  {
   "cell_type": "code",
   "metadata": {
    "collapsed": false,
    "ExecuteTime": {
     "end_time": "2024-05-15T14:07:39.824436Z",
     "start_time": "2024-05-15T14:07:30.606587Z"
    }
   },
   "source": [
    "from climada_petals.hazard import WildFire\n",
    "from climada.hazard import Centroids\n",
    "from climada.util.constants import ONE_LAT_KM\n",
    "from climada.entity import ImpactFuncSet\n",
    "from climada_petals.entity.impact_funcs.wildfire import ImpfWildfire\n",
    "from climada.entity import LitPop\n",
    "from climada.engine import Impact\n",
    "from climada.engine import ImpactCalc\n",
    "\n",
    "# You would get a FutureWarning here. You can ignore it.\n",
    "# Please do not change the dependencies of CLIMADA. \n",
    "# They are very complex and may not work properly if you change them."
   ],
   "outputs": [
    {
     "name": "stderr",
     "output_type": "stream",
     "text": [
      "C:\\Users\\yunzhong\\AppData\\Local\\anaconda3\\envs\\climada_env\\lib\\site-packages\\dask\\dataframe\\_pyarrow_compat.py:17: FutureWarning: Minimal version of pyarrow will soon be increased to 14.0.1. You are using 10.0.1. Please consider upgrading.\n",
      "  warnings.warn(\n"
     ]
    }
   ],
   "execution_count": 2
  },
  {
   "cell_type": "markdown",
   "metadata": {
    "collapsed": false
   },
   "source": [
    "# Q1 Analysis of a historical single event. Please use the wildfire data in Nov 2018 in data [A] for this question."
   ]
  },
  {
   "cell_type": "markdown",
   "metadata": {
    "collapsed": false
   },
   "source": [
    "## 1.1 How is a fire defined conceptually in CLIMADA?"
   ]
  },
  {
   "cell_type": "markdown",
   "metadata": {
    "collapsed": false
   },
   "source": "Please provide your answer here: A fire is defined as an event when the temporal and spatial distance of the burning centroids is close enough."
  },
  {
   "cell_type": "markdown",
   "metadata": {
    "collapsed": false
   },
   "source": [
    "Hint: see the tutorial https://climada-petals.readthedocs.io/en/stable/tutorial/climada_hazard_Wildfire.html\n",
    "and the method set_hist_fire_FIRMS. "
   ]
  },
  {
   "cell_type": "markdown",
   "metadata": {
    "collapsed": false
   },
   "source": [
    "## 1.2 Load the historical event data in Nov 2018 from the dataset [A]. Use CLIMADA to visualize the event data in a map. "
   ]
  },
  {
   "cell_type": "code",
   "metadata": {
    "collapsed": false,
    "ExecuteTime": {
     "end_time": "2024-05-15T14:10:16.457418Z",
     "start_time": "2024-05-15T14:10:16.392704Z"
    }
   },
   "source": [
    "### load fires in USA Nov 2018\n",
    "df_firms_nov = pd.read_csv(WF_NOV_FILE) # FIRMS data as pandas dataframe\n",
    "df_firms_nov.head()"
   ],
   "outputs": [
    {
     "data": {
      "text/plain": [
       "   latitude  longitude  brightness  scan  track  acq_time satellite  \\\n",
       "0   33.4123  -110.8676       305.4   2.6    1.5       606     Terra   \n",
       "1   37.1644  -119.2806       314.3   1.0    1.0       607     Terra   \n",
       "2   45.8674  -121.2274       304.4   1.1    1.0       610     Terra   \n",
       "3   26.4879   -80.7354       302.3   1.1    1.0       706      Aqua   \n",
       "4   45.8697  -121.2302       306.8   1.0    1.0      1019      Aqua   \n",
       "\n",
       "  instrument  confidence  version  bright_t31   frp daynight  type    acq_date  \n",
       "0      MODIS          64     6.03       280.1  42.3        N     2  2018-11-01  \n",
       "1      MODIS          89     6.03       273.5  18.0        N     0  2018-11-01  \n",
       "2      MODIS          60     6.03       279.0  10.7        N     0  2018-11-01  \n",
       "3      MODIS          48     6.03       290.2   7.1        N     0  2018-11-01  \n",
       "4      MODIS          48     6.03       275.2  12.5        N     0  2018-11-01  "
      ],
      "text/html": [
       "<div>\n",
       "<style scoped>\n",
       "    .dataframe tbody tr th:only-of-type {\n",
       "        vertical-align: middle;\n",
       "    }\n",
       "\n",
       "    .dataframe tbody tr th {\n",
       "        vertical-align: top;\n",
       "    }\n",
       "\n",
       "    .dataframe thead th {\n",
       "        text-align: right;\n",
       "    }\n",
       "</style>\n",
       "<table border=\"1\" class=\"dataframe\">\n",
       "  <thead>\n",
       "    <tr style=\"text-align: right;\">\n",
       "      <th></th>\n",
       "      <th>latitude</th>\n",
       "      <th>longitude</th>\n",
       "      <th>brightness</th>\n",
       "      <th>scan</th>\n",
       "      <th>track</th>\n",
       "      <th>acq_time</th>\n",
       "      <th>satellite</th>\n",
       "      <th>instrument</th>\n",
       "      <th>confidence</th>\n",
       "      <th>version</th>\n",
       "      <th>bright_t31</th>\n",
       "      <th>frp</th>\n",
       "      <th>daynight</th>\n",
       "      <th>type</th>\n",
       "      <th>acq_date</th>\n",
       "    </tr>\n",
       "  </thead>\n",
       "  <tbody>\n",
       "    <tr>\n",
       "      <th>0</th>\n",
       "      <td>33.4123</td>\n",
       "      <td>-110.8676</td>\n",
       "      <td>305.4</td>\n",
       "      <td>2.6</td>\n",
       "      <td>1.5</td>\n",
       "      <td>606</td>\n",
       "      <td>Terra</td>\n",
       "      <td>MODIS</td>\n",
       "      <td>64</td>\n",
       "      <td>6.03</td>\n",
       "      <td>280.1</td>\n",
       "      <td>42.3</td>\n",
       "      <td>N</td>\n",
       "      <td>2</td>\n",
       "      <td>2018-11-01</td>\n",
       "    </tr>\n",
       "    <tr>\n",
       "      <th>1</th>\n",
       "      <td>37.1644</td>\n",
       "      <td>-119.2806</td>\n",
       "      <td>314.3</td>\n",
       "      <td>1.0</td>\n",
       "      <td>1.0</td>\n",
       "      <td>607</td>\n",
       "      <td>Terra</td>\n",
       "      <td>MODIS</td>\n",
       "      <td>89</td>\n",
       "      <td>6.03</td>\n",
       "      <td>273.5</td>\n",
       "      <td>18.0</td>\n",
       "      <td>N</td>\n",
       "      <td>0</td>\n",
       "      <td>2018-11-01</td>\n",
       "    </tr>\n",
       "    <tr>\n",
       "      <th>2</th>\n",
       "      <td>45.8674</td>\n",
       "      <td>-121.2274</td>\n",
       "      <td>304.4</td>\n",
       "      <td>1.1</td>\n",
       "      <td>1.0</td>\n",
       "      <td>610</td>\n",
       "      <td>Terra</td>\n",
       "      <td>MODIS</td>\n",
       "      <td>60</td>\n",
       "      <td>6.03</td>\n",
       "      <td>279.0</td>\n",
       "      <td>10.7</td>\n",
       "      <td>N</td>\n",
       "      <td>0</td>\n",
       "      <td>2018-11-01</td>\n",
       "    </tr>\n",
       "    <tr>\n",
       "      <th>3</th>\n",
       "      <td>26.4879</td>\n",
       "      <td>-80.7354</td>\n",
       "      <td>302.3</td>\n",
       "      <td>1.1</td>\n",
       "      <td>1.0</td>\n",
       "      <td>706</td>\n",
       "      <td>Aqua</td>\n",
       "      <td>MODIS</td>\n",
       "      <td>48</td>\n",
       "      <td>6.03</td>\n",
       "      <td>290.2</td>\n",
       "      <td>7.1</td>\n",
       "      <td>N</td>\n",
       "      <td>0</td>\n",
       "      <td>2018-11-01</td>\n",
       "    </tr>\n",
       "    <tr>\n",
       "      <th>4</th>\n",
       "      <td>45.8697</td>\n",
       "      <td>-121.2302</td>\n",
       "      <td>306.8</td>\n",
       "      <td>1.0</td>\n",
       "      <td>1.0</td>\n",
       "      <td>1019</td>\n",
       "      <td>Aqua</td>\n",
       "      <td>MODIS</td>\n",
       "      <td>48</td>\n",
       "      <td>6.03</td>\n",
       "      <td>275.2</td>\n",
       "      <td>12.5</td>\n",
       "      <td>N</td>\n",
       "      <td>0</td>\n",
       "      <td>2018-11-01</td>\n",
       "    </tr>\n",
       "  </tbody>\n",
       "</table>\n",
       "</div>"
      ]
     },
     "execution_count": 3,
     "metadata": {},
     "output_type": "execute_result"
    }
   ],
   "execution_count": 3
  },
  {
   "cell_type": "code",
   "metadata": {
    "collapsed": false,
    "ExecuteTime": {
     "end_time": "2024-05-15T14:17:28.328221Z",
     "start_time": "2024-05-15T14:16:01.558597Z"
    }
   },
   "source": [
    "### set up wildfire using CLIMADA. \n",
    "# this will take some time.\n",
    "wf_pt = WildFire()\n",
    "# set the hazard resolution to 4 km. The provided data is at 1 km. Need a scaling factor of 1/4:\n",
    "res_factor = 1./WF_RESOLUTION_KM\n",
    "\n",
    "# TODO: set the historical fire event using the method set_hist_fire_FIRMS\n",
    "wf_pt.set_hist_fire_FIRMS(df_firms_nov, centr_res_factor=res_factor)\n",
    "# You will see a warning if you follow the tutorial and use WildFire.set_hist_fire_FIRMS. \n",
    "# It will ask you to use WildFire.from_hist_fire_FIRMS.\n",
    "# The tutorial is not updated. You can ignore the warning.\n",
    "# Feel free to use either one as long as they work.\n",
    "# Same for similar future warnings in later cells.\n"
   ],
   "outputs": [
    {
     "name": "stdout",
     "output_type": "stream",
     "text": [
      "2024-05-15 10:16:01,566 - climada_petals.hazard.wildfire - WARNING - The use of WildFire.set_hist_fire_FIRMS is deprecated.Use WildFire.from_hist_fire_FIRMS .\n",
      "2024-05-15 10:16:01,659 - climada.hazard.centroids.centr - INFO - Convert centroids to GeoSeries of Point shapes.\n",
      "2024-05-15 10:16:11,388 - climada_petals.hazard.wildfire - INFO - Remaining fires to identify: 2014.\n",
      "2024-05-15 10:16:15,424 - climada_petals.hazard.wildfire - INFO - Remaining fires to identify: 69.\n",
      "2024-05-15 10:16:15,658 - climada_petals.hazard.wildfire - INFO - Remaining fires to identify: 0.\n",
      "2024-05-15 10:16:17,307 - climada_petals.hazard.wildfire - INFO - Computing intensity of 379 fires.\n",
      "2024-05-15 10:16:29,916 - climada_petals.hazard.wildfire - INFO - Returning 379 fires that impacted the defined centroids.\n"
     ]
    }
   ],
   "execution_count": 4
  },
  {
   "cell_type": "code",
   "metadata": {
    "collapsed": false,
    "ExecuteTime": {
     "end_time": "2024-05-15T14:40:02.718434Z",
     "start_time": "2024-05-15T14:37:04.992248Z"
    }
   },
   "source": [
    "### visualize the event intensity in a map:\n",
    "\n",
    "# TODO: use the method plot_intensity for visualization\n",
    "wf_pt.plot_intensity(event=0)"
   ],
   "outputs": [
    {
     "data": {
      "text/plain": [
       "<GeoAxes: title={'center': 'WFsingle max intensity at each point'}>"
      ]
     },
     "execution_count": 5,
     "metadata": {},
     "output_type": "execute_result"
    },
    {
     "data": {
      "text/plain": [
       "<Figure size 900x1300 with 2 Axes>"
      ],
      "image/png": "[encoded data removed]"
     },
     "metadata": {},
     "output_type": "display_data"
    }
   ],
   "execution_count": 5
  },
  {
   "cell_type": "markdown",
   "metadata": {
    "collapsed": false
   },
   "source": [
    "## 1.3 Identify the corresponding real fire event in California during the historical period. "
   ]
  },
  {
   "cell_type": "markdown",
   "metadata": {
    "collapsed": false
   },
   "source": [
    "### 1.3.1 Which city has the highest wildfire intensity among the following cities?\n",
    " + Paradise (latitude: 39.75°N to 39.81°N; longitude: 121.58° W to 121.64° W)\n",
    " + San Jose (latitude: 37.1°N to 38°N; longitude: 121° W to 122° W)\n",
    " + Los Angeles (latitude: 33.70°N to 34.34°N; longitude: 118.19° W to 118.67° W)"
   ]
  },
  {
   "cell_type": "code",
   "metadata": {
    "collapsed": false,
    "ExecuteTime": {
     "end_time": "2024-05-15T15:03:20.565518Z",
     "start_time": "2024-05-15T15:03:20.546556Z"
    }
   },
   "source": [
    "# This function is provided for you.\n",
    "def select_region(df, bound):\n",
    "    \"\"\"\n",
    "    Select the region of interest from the dataframe.\n",
    "    df: hazard dataframe\n",
    "    bound: tuple in format (lon_min, lat_min, lon_max, lat_max)\n",
    "    \"\"\"\n",
    "    return df[(df['longitude'] >= bound[0]) & \n",
    "              (df['latitude'] >= bound[1]) & \n",
    "              (df['longitude'] <= bound[2]) & \n",
    "              (df['latitude'] <= bound[3])]"
   ],
   "outputs": [],
   "execution_count": 8
  },
  {
   "cell_type": "code",
   "metadata": {
    "collapsed": false,
    "ExecuteTime": {
     "end_time": "2024-05-15T14:55:17.201220Z",
     "start_time": "2024-05-15T14:55:17.191247Z"
    }
   },
   "source": [
    "### define resolution\n",
    "# Hint: from_pnt_bounds method requires resolution in degrees.\n",
    "# Hint: ONE_LAT_KM is one latitude (in degrees) to km\n",
    "from climada.hazard import Centroids\n",
    "from climada.util.constants import ONE_LAT_KM\n",
    "\n",
    "res_deg = 4.0/ONE_LAT_KM  # TODO: calculate the resolution in degrees\n",
    "print(f\"Resolution in degrees: {res_deg} deg\")\n",
    "# do a sanity check on the resolution by converting degree to km. You may use: https://www.nhc.noaa.gov/gccalc.shtml\n"
   ],
   "outputs": [
    {
     "name": "stdout",
     "output_type": "stream",
     "text": [
      "Resolution in degrees: 0.03599712023038157 deg\n"
     ]
    }
   ],
   "execution_count": 6
  },
  {
   "cell_type": "code",
   "metadata": {
    "collapsed": false,
    "ExecuteTime": {
     "end_time": "2024-05-15T15:03:24.177955Z",
     "start_time": "2024-05-15T15:03:23.938940Z"
    }
   },
   "source": [
    "# TODO: set up the wildfire for each city and calculate the maximum intensity.\n",
    "\n",
    "# Hint 1: use the function select_region to select the region of interest.\n",
    "# Hint 2: use the method from_pnt_bounds to set the centroids.\n",
    "# Hint 3: use the method set_hist_fire_FIRMS to set the historical fire event.\n",
    "\n",
    "# Paradise\n",
    "df_paradise = select_region(df_firms_nov, GEO_BOUNDS_CITY[\"Paradise\"])\n",
    "centr_zoom_paradise = Centroids.from_pnt_bounds(GEO_BOUNDS_CITY[\"Paradise\"], res_deg)\n",
    "wf_paradise = WildFire()\n",
    "wf_paradise.set_hist_fire_FIRMS(df_paradise, centroids=centr_zoom_paradise)\n",
    "\n",
    "# San Jose\n",
    "df_sanjose = select_region(df_firms_nov, GEO_BOUNDS_CITY[\"San Jose\"])\n",
    "centr_zoom_sanjose = Centroids.from_pnt_bounds(GEO_BOUNDS_CITY[\"San Jose\"], res_deg)\n",
    "wf_sanjose = WildFire()\n",
    "wf_sanjose.set_hist_fire_FIRMS(df_sanjose, centroids=centr_zoom_sanjose)\n",
    "\n",
    "# Los Angeles\n",
    "df_la = select_region(df_firms_nov, GEO_BOUNDS_CITY[\"Los Angeles\"])\n",
    "centr_zoom_la = Centroids.from_pnt_bounds(GEO_BOUNDS_CITY[\"Los Angeles\"], res_deg)\n",
    "wf_la = WildFire()\n",
    "wf_la.set_hist_fire_FIRMS(df_la, centroids=centr_zoom_la)\n",
    "\n",
    "print(f\"max WF intensity in Paradise: {wf_paradise.intensity.data.max()}K\")\n",
    "print(f\"max WF intensity in San Jose: {wf_sanjose.intensity.data.max()}K\")\n",
    "print(f\"max WF intensity in Los Angeles: {wf_paradise.intensity.data.max()}K\")"
   ],
   "outputs": [
    {
     "name": "stdout",
     "output_type": "stream",
     "text": [
      "2024-05-15 11:03:23,964 - climada_petals.hazard.wildfire - WARNING - The use of WildFire.set_hist_fire_FIRMS is deprecated.Use WildFire.from_hist_fire_FIRMS .\n",
      "2024-05-15 11:03:24,005 - climada_petals.hazard.wildfire - INFO - Remaining fires to identify: 0.\n",
      "2024-05-15 11:03:24,009 - climada_petals.hazard.wildfire - INFO - Computing intensity of 1 fires.\n",
      "2024-05-15 11:03:24,019 - climada_petals.hazard.wildfire - INFO - Returning 1 fires that impacted the defined centroids.\n",
      "2024-05-15 11:03:24,031 - climada_petals.hazard.wildfire - WARNING - The use of WildFire.set_hist_fire_FIRMS is deprecated.Use WildFire.from_hist_fire_FIRMS .\n",
      "2024-05-15 11:03:24,085 - climada_petals.hazard.wildfire - INFO - Remaining fires to identify: 0.\n",
      "2024-05-15 11:03:24,094 - climada_petals.hazard.wildfire - INFO - Computing intensity of 1 fires.\n",
      "2024-05-15 11:03:24,101 - climada_petals.hazard.wildfire - INFO - Returning 1 fires that impacted the defined centroids.\n",
      "2024-05-15 11:03:24,112 - climada_petals.hazard.wildfire - WARNING - The use of WildFire.set_hist_fire_FIRMS is deprecated.Use WildFire.from_hist_fire_FIRMS .\n",
      "2024-05-15 11:03:24,148 - climada_petals.hazard.wildfire - INFO - Remaining fires to identify: 0.\n",
      "2024-05-15 11:03:24,153 - climada_petals.hazard.wildfire - INFO - Computing intensity of 1 fires.\n",
      "2024-05-15 11:03:24,158 - climada_petals.hazard.wildfire - INFO - Returning 1 fires that impacted the defined centroids.\n",
      "max WF intensity in Paradise: 435.3K\n",
      "max WF intensity in San Jose: 315.4K\n",
      "max WF intensity in Los Angeles: 435.3K\n"
     ]
    }
   ],
   "execution_count": 9
  },
  {
   "metadata": {},
   "cell_type": "markdown",
   "source": "Paradise and LA has the highest wildfire intensity"
  },
  {
   "cell_type": "markdown",
   "metadata": {},
   "source": [
    "### 1.3.2 How many longest consecutive days did the wildfire last in Nov 2018 for this city? "
   ]
  },
  {
   "cell_type": "code",
   "metadata": {
    "collapsed": false,
    "ExecuteTime": {
     "end_time": "2024-05-15T15:16:26.190489Z",
     "start_time": "2024-05-15T15:16:26.178522Z"
    }
   },
   "source": [
    "# TODO: calculate the longest number of consecutive days for the city with the highest wildfire intensity.\n",
    "# Hint: use the attribute date and date_end to calculate the number of consecutive days.\n",
    "# Hint: There might be multiple events in the same month. \n",
    "#       Take the longest consecutive days.\n",
    "\n",
    "# Paradise\n",
    "days_paradise = max(wf_paradise.date_end - wf_paradise.date)\n",
    "\n",
    "# Los Angeles\n",
    "days_la = max(wf_la.date_end - wf_la.date)\n",
    "\n",
    "print(f\"longest consecutive days of fire in Nov 2018: {days_paradise.max()}\")\n",
    "print(f\"longest consecutive days of fire in Nov 2018: {days_la.max()}\")"
   ],
   "outputs": [
    {
     "name": "stdout",
     "output_type": "stream",
     "text": [
      "longest consecutive days of fire in Nov 2018: 3\n",
      "longest consecutive days of fire in Nov 2018: 3\n"
     ]
    }
   ],
   "execution_count": 15
  },
  {
   "cell_type": "markdown",
   "metadata": {
    "collapsed": false
   },
   "source": [
    "# Q2 Historical fire season analysis. Please use the yearly wildfire data in 2018 in data [B] for this question."
   ]
  },
  {
   "cell_type": "markdown",
   "metadata": {
    "collapsed": false
   },
   "source": [
    "## 2.1 Conceptually, what is the definition of a fire season in CLIMADA?"
   ]
  },
  {
   "cell_type": "markdown",
   "metadata": {
    "collapsed": false
   },
   "source": [
    "Please provide your answer here:\n",
    "\n",
    "Wildfires comprise the challenge that the definition of an event is unclear.\n",
    "    Reporting standards vary accross regions and over time. Hence, to have\n",
    "    consistency, we consider an event as a whole fire season. A fire season\n",
    "    is defined as a whole year (Jan-Dec in the NHS, Jul-Jun in SHS). This allows\n",
    "    consistent risk assessment across the globe and over time."
   ]
  },
  {
   "cell_type": "markdown",
   "metadata": {
    "collapsed": false
   },
   "source": [
    "Hint: read method set_hist_fire_seasons_FIRMS."
   ]
  },
  {
   "cell_type": "markdown",
   "metadata": {},
   "source": [
    "## 2.2 Visualize a fire season in a map, using the 2018 yearly historical data [B]. "
   ]
  },
  {
   "cell_type": "code",
   "metadata": {
    "collapsed": false,
    "ExecuteTime": {
     "end_time": "2024-05-15T15:25:02.665773Z",
     "start_time": "2024-05-15T15:25:02.426372Z"
    }
   },
   "source": [
    "### load the year data\n",
    "df_firms_year = pd.read_csv(WF_YEAR_FILE)\n",
    "# focus on California region\n",
    "df_firms_year_ca = select_region(df_firms_year, GEO_BOUND_CALIFORNIA)\n",
    "df_firms_year_ca.head()"
   ],
   "outputs": [
    {
     "data": {
      "text/plain": [
       "     latitude  longitude  brightness  scan  track  acq_time satellite  \\\n",
       "40    38.8238  -122.6829       302.0   2.7    1.6      1946     Terra   \n",
       "41    38.8155  -122.6807       309.0   1.0    1.0      2125      Aqua   \n",
       "42    38.8140  -122.6923       304.8   1.0    1.0      2125      Aqua   \n",
       "116   32.6642  -115.0782       328.0   1.5    1.2      1852     Terra   \n",
       "117   32.6611  -115.0622       328.5   1.5    1.2      1852     Terra   \n",
       "\n",
       "    instrument  confidence  version  bright_t31   frp daynight  type  \\\n",
       "40       MODIS          50     6.03       280.2  26.9        D     0   \n",
       "41       MODIS          68     6.03       284.6   9.3        D     0   \n",
       "42       MODIS          55     6.03       286.8   6.5        D     0   \n",
       "116      MODIS          83     6.03       298.4  40.0        D     0   \n",
       "117      MODIS          83     6.03       298.0  42.0        D     0   \n",
       "\n",
       "       acq_date  \n",
       "40   2018-01-01  \n",
       "41   2018-01-01  \n",
       "42   2018-01-01  \n",
       "116  2018-01-02  \n",
       "117  2018-01-02  "
      ],
      "text/html": [
       "<div>\n",
       "<style scoped>\n",
       "    .dataframe tbody tr th:only-of-type {\n",
       "        vertical-align: middle;\n",
       "    }\n",
       "\n",
       "    .dataframe tbody tr th {\n",
       "        vertical-align: top;\n",
       "    }\n",
       "\n",
       "    .dataframe thead th {\n",
       "        text-align: right;\n",
       "    }\n",
       "</style>\n",
       "<table border=\"1\" class=\"dataframe\">\n",
       "  <thead>\n",
       "    <tr style=\"text-align: right;\">\n",
       "      <th></th>\n",
       "      <th>latitude</th>\n",
       "      <th>longitude</th>\n",
       "      <th>brightness</th>\n",
       "      <th>scan</th>\n",
       "      <th>track</th>\n",
       "      <th>acq_time</th>\n",
       "      <th>satellite</th>\n",
       "      <th>instrument</th>\n",
       "      <th>confidence</th>\n",
       "      <th>version</th>\n",
       "      <th>bright_t31</th>\n",
       "      <th>frp</th>\n",
       "      <th>daynight</th>\n",
       "      <th>type</th>\n",
       "      <th>acq_date</th>\n",
       "    </tr>\n",
       "  </thead>\n",
       "  <tbody>\n",
       "    <tr>\n",
       "      <th>40</th>\n",
       "      <td>38.8238</td>\n",
       "      <td>-122.6829</td>\n",
       "      <td>302.0</td>\n",
       "      <td>2.7</td>\n",
       "      <td>1.6</td>\n",
       "      <td>1946</td>\n",
       "      <td>Terra</td>\n",
       "      <td>MODIS</td>\n",
       "      <td>50</td>\n",
       "      <td>6.03</td>\n",
       "      <td>280.2</td>\n",
       "      <td>26.9</td>\n",
       "      <td>D</td>\n",
       "      <td>0</td>\n",
       "      <td>2018-01-01</td>\n",
       "    </tr>\n",
       "    <tr>\n",
       "      <th>41</th>\n",
       "      <td>38.8155</td>\n",
       "      <td>-122.6807</td>\n",
       "      <td>309.0</td>\n",
       "      <td>1.0</td>\n",
       "      <td>1.0</td>\n",
       "      <td>2125</td>\n",
       "      <td>Aqua</td>\n",
       "      <td>MODIS</td>\n",
       "      <td>68</td>\n",
       "      <td>6.03</td>\n",
       "      <td>284.6</td>\n",
       "      <td>9.3</td>\n",
       "      <td>D</td>\n",
       "      <td>0</td>\n",
       "      <td>2018-01-01</td>\n",
       "    </tr>\n",
       "    <tr>\n",
       "      <th>42</th>\n",
       "      <td>38.8140</td>\n",
       "      <td>-122.6923</td>\n",
       "      <td>304.8</td>\n",
       "      <td>1.0</td>\n",
       "      <td>1.0</td>\n",
       "      <td>2125</td>\n",
       "      <td>Aqua</td>\n",
       "      <td>MODIS</td>\n",
       "      <td>55</td>\n",
       "      <td>6.03</td>\n",
       "      <td>286.8</td>\n",
       "      <td>6.5</td>\n",
       "      <td>D</td>\n",
       "      <td>0</td>\n",
       "      <td>2018-01-01</td>\n",
       "    </tr>\n",
       "    <tr>\n",
       "      <th>116</th>\n",
       "      <td>32.6642</td>\n",
       "      <td>-115.0782</td>\n",
       "      <td>328.0</td>\n",
       "      <td>1.5</td>\n",
       "      <td>1.2</td>\n",
       "      <td>1852</td>\n",
       "      <td>Terra</td>\n",
       "      <td>MODIS</td>\n",
       "      <td>83</td>\n",
       "      <td>6.03</td>\n",
       "      <td>298.4</td>\n",
       "      <td>40.0</td>\n",
       "      <td>D</td>\n",
       "      <td>0</td>\n",
       "      <td>2018-01-02</td>\n",
       "    </tr>\n",
       "    <tr>\n",
       "      <th>117</th>\n",
       "      <td>32.6611</td>\n",
       "      <td>-115.0622</td>\n",
       "      <td>328.5</td>\n",
       "      <td>1.5</td>\n",
       "      <td>1.2</td>\n",
       "      <td>1852</td>\n",
       "      <td>Terra</td>\n",
       "      <td>MODIS</td>\n",
       "      <td>83</td>\n",
       "      <td>6.03</td>\n",
       "      <td>298.0</td>\n",
       "      <td>42.0</td>\n",
       "      <td>D</td>\n",
       "      <td>0</td>\n",
       "      <td>2018-01-02</td>\n",
       "    </tr>\n",
       "  </tbody>\n",
       "</table>\n",
       "</div>"
      ]
     },
     "execution_count": 16,
     "metadata": {},
     "output_type": "execute_result"
    }
   ],
   "execution_count": 16
  },
  {
   "cell_type": "code",
   "metadata": {
    "collapsed": false,
    "ExecuteTime": {
     "end_time": "2024-05-15T15:27:44.708548Z",
     "start_time": "2024-05-15T15:27:10.606954Z"
    }
   },
   "source": [
    "### set up wildfire season using the method set_hist_fire_seasons_FIRMS\n",
    "wf_year_ca = WildFire()\n",
    "# TODO: set the historical fire season using the method set_hist_fire_seasons_FIRMS:\n",
    "wf_year_ca.set_hist_fire_seasons_FIRMS(df_firms_year_ca, centr_res_factor=res_factor)\n",
    "\n",
    "print('Events are now named according to their event year:', wf_year_ca.event_name)\n",
    "print('The number of underyling events is saved as well:', wf_year_ca.n_fires)"
   ],
   "outputs": [
    {
     "name": "stdout",
     "output_type": "stream",
     "text": [
      "2024-05-15 11:27:10,611 - climada_petals.hazard.wildfire - WARNING - The use of WildFire.set_hist_fire_seasons_FIRMS is deprecated.Use WildFire.from_hist_fire_seasons_FIRMS .\n",
      "2024-05-15 11:27:10,612 - climada_petals.hazard.wildfire - INFO - Setting up historical fires for year set.\n",
      "2024-05-15 11:27:10,693 - climada.hazard.centroids.centr - INFO - Convert centroids to GeoSeries of Point shapes.\n",
      "2024-05-15 11:27:14,885 - climada_petals.hazard.wildfire - INFO - Setting up historical fire seasons 2018.\n",
      "2024-05-15 11:27:23,203 - climada_petals.hazard.wildfire - WARNING - The use of WildFire.set_hist_fire_FIRMS is deprecated.Use WildFire.from_hist_fire_FIRMS .\n",
      "2024-05-15 11:27:26,190 - climada_petals.hazard.wildfire - INFO - Remaining fires to identify: 21140.\n",
      "2024-05-15 11:27:34,421 - climada_petals.hazard.wildfire - INFO - Remaining fires to identify: 223.\n",
      "2024-05-15 11:27:35,202 - climada_petals.hazard.wildfire - INFO - Remaining fires to identify: 14.\n",
      "2024-05-15 11:27:35,583 - climada_petals.hazard.wildfire - INFO - Remaining fires to identify: 0.\n",
      "2024-05-15 11:27:40,801 - climada_petals.hazard.wildfire - INFO - Computing intensity of 505 fires.\n",
      "2024-05-15 11:27:42,315 - climada_petals.hazard.wildfire - INFO - Returning 505 fires that impacted the defined centroids.\n",
      "Events are now named according to their event year: ['2018']\n",
      "The number of underyling events is saved as well: [505.]\n"
     ]
    }
   ],
   "execution_count": 17
  },
  {
   "cell_type": "code",
   "metadata": {
    "collapsed": false,
    "ExecuteTime": {
     "end_time": "2024-05-15T15:29:55.652836Z",
     "start_time": "2024-05-15T15:29:25.873803Z"
    }
   },
   "source": [
    "### TODO: visualize the fire season in a map using the method plot_intensity\n",
    "wf_year_ca.plot_intensity(1)"
   ],
   "outputs": [
    {
     "data": {
      "text/plain": [
       "<GeoAxes: title={'center': 'Event ID 1: 2018'}>"
      ]
     },
     "execution_count": 20,
     "metadata": {},
     "output_type": "execute_result"
    },
    {
     "data": {
      "text/plain": [
       "<Figure size 900x1300 with 2 Axes>"
      ],
      "image/png": "[encoded data removed]"
     },
     "metadata": {},
     "output_type": "display_data"
    }
   ],
   "execution_count": 20
  },
  {
   "cell_type": "markdown",
   "metadata": {
    "collapsed": false
   },
   "source": [
    "## 2.3\tEvaluate the loss of the 2018 fire season. Specifically,\n",
    "+ Use the economic exposure from datat [C] with fin_mode 'pc' to estimate the total economic exposure. Use 2020 as the reference year for 2018 economic exposure.\n",
    "+ Use the CLIMADA damage function to derive the economic loss. \n",
    "+ Compare this estimate with actual historical losses(i.e., ~ USD $16.5 Billion from Wiki). "
   ]
  },
  {
   "cell_type": "code",
   "metadata": {
    "ExecuteTime": {
     "end_time": "2024-05-15T17:10:03.246164Z",
     "start_time": "2024-05-15T17:09:59.852439Z"
    }
   },
   "source": [
    "### Initiate a LitPop exposure entity for USA and \n",
    "# assign resolution, fin_mode, exponents, and reference year\n",
    "# we use reference year 2020, which is the closest year to 2018 in the dataset.\n",
    "# res_arcsec = WF_RESOLUTION_ARCSEC (120) ~ resolution of 4 km\n",
    "lp_exp_pc = LitPop.from_countries('USA',fin_mode='pc', res_arcsec=WF_RESOLUTION_ARCSEC, \n",
    "                                  exponents=(1,1), reference_year=2020)"
   ],
   "outputs": [
    {
     "name": "stdout",
     "output_type": "stream",
     "text": [
      "2024-05-15 13:10:03,051 - climada.entity.exposures.litpop.litpop - INFO - \n",
      " LitPop: Init Exposure for country: USA (840)...\n",
      "\n"
     ]
    },
    {
     "ename": "FileNotFoundError",
     "evalue": "The file C:\\Users\\yunzhong\\climada\\data\\gpw-v4-population-count-rev11_2020_30_sec_tif\\gpw_v4_population_count_rev11_2020_30_sec.tif could not be found. Please download the file first or choose a different folder. The data can be downloaded from http://sedac.ciesin.columbia.edu/data/collection/gpw-v4/sets/browse, e.g., http://sedac.ciesin.columbia.edu/downloads/data/gpw-v4/gpw-v4-population-count-rev11/gpw-v4-population-count-rev11_2020_30_sec_tif.zip (Free NASA Earthdata login required).",
     "output_type": "error",
     "traceback": [
      "\u001B[1;31m---------------------------------------------------------------------------\u001B[0m",
      "\u001B[1;31mFileNotFoundError\u001B[0m                         Traceback (most recent call last)",
      "Cell \u001B[1;32mIn[21], line 5\u001B[0m\n\u001B[0;32m      1\u001B[0m \u001B[38;5;66;03m### Initiate a LitPop exposure entity for USA and \u001B[39;00m\n\u001B[0;32m      2\u001B[0m \u001B[38;5;66;03m# assign resolution, fin_mode, exponents, and reference year\u001B[39;00m\n\u001B[0;32m      3\u001B[0m \u001B[38;5;66;03m# we use reference year 2020, which is the closest year to 2018 in the dataset.\u001B[39;00m\n\u001B[0;32m      4\u001B[0m \u001B[38;5;66;03m# res_arcsec = WF_RESOLUTION_ARCSEC (120) ~ resolution of 4 km\u001B[39;00m\n\u001B[1;32m----> 5\u001B[0m lp_exp_pc \u001B[38;5;241m=\u001B[39m \u001B[43mLitPop\u001B[49m\u001B[38;5;241;43m.\u001B[39;49m\u001B[43mfrom_countries\u001B[49m\u001B[43m(\u001B[49m\u001B[38;5;124;43m'\u001B[39;49m\u001B[38;5;124;43mUSA\u001B[39;49m\u001B[38;5;124;43m'\u001B[39;49m\u001B[43m,\u001B[49m\u001B[43mfin_mode\u001B[49m\u001B[38;5;241;43m=\u001B[39;49m\u001B[38;5;124;43m'\u001B[39;49m\u001B[38;5;124;43mpc\u001B[39;49m\u001B[38;5;124;43m'\u001B[39;49m\u001B[43m,\u001B[49m\u001B[43m \u001B[49m\u001B[43mres_arcsec\u001B[49m\u001B[38;5;241;43m=\u001B[39;49m\u001B[43mWF_RESOLUTION_ARCSEC\u001B[49m\u001B[43m,\u001B[49m\u001B[43m \u001B[49m\n\u001B[0;32m      6\u001B[0m \u001B[43m                                  \u001B[49m\u001B[43mexponents\u001B[49m\u001B[38;5;241;43m=\u001B[39;49m\u001B[43m(\u001B[49m\u001B[38;5;241;43m1\u001B[39;49m\u001B[43m,\u001B[49m\u001B[38;5;241;43m1\u001B[39;49m\u001B[43m)\u001B[49m\u001B[43m,\u001B[49m\u001B[43m \u001B[49m\u001B[43mreference_year\u001B[49m\u001B[38;5;241;43m=\u001B[39;49m\u001B[38;5;241;43m2020\u001B[39;49m\u001B[43m)\u001B[49m\n",
      "File \u001B[1;32m~\\AppData\\Roaming\\Python\\Python39\\site-packages\\climada\\entity\\exposures\\litpop\\litpop.py:164\u001B[0m, in \u001B[0;36mLitPop.from_countries\u001B[1;34m(cls, countries, res_arcsec, exponents, fin_mode, total_values, admin1_calc, reference_year, gpw_version, data_dir)\u001B[0m\n\u001B[0;32m    154\u001B[0m     litpop_list \u001B[38;5;241m=\u001B[39m [_calc_admin1_one_country(country, res_arcsec, exponents,\n\u001B[0;32m    155\u001B[0m                                             fin_mode, tot_value, reference_year,\n\u001B[0;32m    156\u001B[0m                                             gpw_version, data_dir,\n\u001B[0;32m    157\u001B[0m                                             )\n\u001B[0;32m    158\u001B[0m                    \u001B[38;5;28;01mfor\u001B[39;00m tot_value, country \u001B[38;5;129;01min\u001B[39;00m \u001B[38;5;28mzip\u001B[39m(total_values, countries)]\n\u001B[0;32m    160\u001B[0m \u001B[38;5;28;01melse\u001B[39;00m: \u001B[38;5;66;03m# else, as default, country is initiated as a whole:\u001B[39;00m\n\u001B[0;32m    161\u001B[0m     \u001B[38;5;66;03m# loop over countries: litpop is initiated for each individual polygon\u001B[39;00m\n\u001B[0;32m    162\u001B[0m     \u001B[38;5;66;03m# within each country and combined at the end.\u001B[39;00m\n\u001B[0;32m    163\u001B[0m     litpop_list \u001B[38;5;241m=\u001B[39m \\\n\u001B[1;32m--> 164\u001B[0m         [\u001B[38;5;28mcls\u001B[39m\u001B[38;5;241m.\u001B[39m_from_country(country,\n\u001B[0;32m    165\u001B[0m                            res_arcsec\u001B[38;5;241m=\u001B[39mres_arcsec,\n\u001B[0;32m    166\u001B[0m                            exponents\u001B[38;5;241m=\u001B[39mexponents,\n\u001B[0;32m    167\u001B[0m                            fin_mode\u001B[38;5;241m=\u001B[39mfin_mode,\n\u001B[0;32m    168\u001B[0m                            total_value\u001B[38;5;241m=\u001B[39mtotal_values[idc],\n\u001B[0;32m    169\u001B[0m                            reference_year\u001B[38;5;241m=\u001B[39mreference_year,\n\u001B[0;32m    170\u001B[0m                            gpw_version\u001B[38;5;241m=\u001B[39mgpw_version,\n\u001B[0;32m    171\u001B[0m                            data_dir\u001B[38;5;241m=\u001B[39mdata_dir)\n\u001B[0;32m    172\u001B[0m          \u001B[38;5;28;01mfor\u001B[39;00m idc, country \u001B[38;5;129;01min\u001B[39;00m \u001B[38;5;28menumerate\u001B[39m(countries)]\n\u001B[0;32m    173\u001B[0m \u001B[38;5;66;03m# make lists of countries with Exposure initaited and those ignored:\u001B[39;00m\n\u001B[0;32m    174\u001B[0m countries_in \u001B[38;5;241m=\u001B[39m \\\n\u001B[0;32m    175\u001B[0m     [country \u001B[38;5;28;01mfor\u001B[39;00m lp, country \u001B[38;5;129;01min\u001B[39;00m \u001B[38;5;28mzip\u001B[39m(litpop_list, countries) \u001B[38;5;28;01mif\u001B[39;00m lp \u001B[38;5;129;01mis\u001B[39;00m \u001B[38;5;129;01mnot\u001B[39;00m \u001B[38;5;28;01mNone\u001B[39;00m]\n",
      "File \u001B[1;32m~\\AppData\\Roaming\\Python\\Python39\\site-packages\\climada\\entity\\exposures\\litpop\\litpop.py:164\u001B[0m, in \u001B[0;36m<listcomp>\u001B[1;34m(.0)\u001B[0m\n\u001B[0;32m    154\u001B[0m     litpop_list \u001B[38;5;241m=\u001B[39m [_calc_admin1_one_country(country, res_arcsec, exponents,\n\u001B[0;32m    155\u001B[0m                                             fin_mode, tot_value, reference_year,\n\u001B[0;32m    156\u001B[0m                                             gpw_version, data_dir,\n\u001B[0;32m    157\u001B[0m                                             )\n\u001B[0;32m    158\u001B[0m                    \u001B[38;5;28;01mfor\u001B[39;00m tot_value, country \u001B[38;5;129;01min\u001B[39;00m \u001B[38;5;28mzip\u001B[39m(total_values, countries)]\n\u001B[0;32m    160\u001B[0m \u001B[38;5;28;01melse\u001B[39;00m: \u001B[38;5;66;03m# else, as default, country is initiated as a whole:\u001B[39;00m\n\u001B[0;32m    161\u001B[0m     \u001B[38;5;66;03m# loop over countries: litpop is initiated for each individual polygon\u001B[39;00m\n\u001B[0;32m    162\u001B[0m     \u001B[38;5;66;03m# within each country and combined at the end.\u001B[39;00m\n\u001B[0;32m    163\u001B[0m     litpop_list \u001B[38;5;241m=\u001B[39m \\\n\u001B[1;32m--> 164\u001B[0m         [\u001B[38;5;28;43mcls\u001B[39;49m\u001B[38;5;241;43m.\u001B[39;49m\u001B[43m_from_country\u001B[49m\u001B[43m(\u001B[49m\u001B[43mcountry\u001B[49m\u001B[43m,\u001B[49m\n\u001B[0;32m    165\u001B[0m \u001B[43m                           \u001B[49m\u001B[43mres_arcsec\u001B[49m\u001B[38;5;241;43m=\u001B[39;49m\u001B[43mres_arcsec\u001B[49m\u001B[43m,\u001B[49m\n\u001B[0;32m    166\u001B[0m \u001B[43m                           \u001B[49m\u001B[43mexponents\u001B[49m\u001B[38;5;241;43m=\u001B[39;49m\u001B[43mexponents\u001B[49m\u001B[43m,\u001B[49m\n\u001B[0;32m    167\u001B[0m \u001B[43m                           \u001B[49m\u001B[43mfin_mode\u001B[49m\u001B[38;5;241;43m=\u001B[39;49m\u001B[43mfin_mode\u001B[49m\u001B[43m,\u001B[49m\n\u001B[0;32m    168\u001B[0m \u001B[43m                           \u001B[49m\u001B[43mtotal_value\u001B[49m\u001B[38;5;241;43m=\u001B[39;49m\u001B[43mtotal_values\u001B[49m\u001B[43m[\u001B[49m\u001B[43midc\u001B[49m\u001B[43m]\u001B[49m\u001B[43m,\u001B[49m\n\u001B[0;32m    169\u001B[0m \u001B[43m                           \u001B[49m\u001B[43mreference_year\u001B[49m\u001B[38;5;241;43m=\u001B[39;49m\u001B[43mreference_year\u001B[49m\u001B[43m,\u001B[49m\n\u001B[0;32m    170\u001B[0m \u001B[43m                           \u001B[49m\u001B[43mgpw_version\u001B[49m\u001B[38;5;241;43m=\u001B[39;49m\u001B[43mgpw_version\u001B[49m\u001B[43m,\u001B[49m\n\u001B[0;32m    171\u001B[0m \u001B[43m                           \u001B[49m\u001B[43mdata_dir\u001B[49m\u001B[38;5;241;43m=\u001B[39;49m\u001B[43mdata_dir\u001B[49m\u001B[43m)\u001B[49m\n\u001B[0;32m    172\u001B[0m          \u001B[38;5;28;01mfor\u001B[39;00m idc, country \u001B[38;5;129;01min\u001B[39;00m \u001B[38;5;28menumerate\u001B[39m(countries)]\n\u001B[0;32m    173\u001B[0m \u001B[38;5;66;03m# make lists of countries with Exposure initaited and those ignored:\u001B[39;00m\n\u001B[0;32m    174\u001B[0m countries_in \u001B[38;5;241m=\u001B[39m \\\n\u001B[0;32m    175\u001B[0m     [country \u001B[38;5;28;01mfor\u001B[39;00m lp, country \u001B[38;5;129;01min\u001B[39;00m \u001B[38;5;28mzip\u001B[39m(litpop_list, countries) \u001B[38;5;28;01mif\u001B[39;00m lp \u001B[38;5;129;01mis\u001B[39;00m \u001B[38;5;129;01mnot\u001B[39;00m \u001B[38;5;28;01mNone\u001B[39;00m]\n",
      "File \u001B[1;32m~\\AppData\\Roaming\\Python\\Python39\\site-packages\\climada\\entity\\exposures\\litpop\\litpop.py:631\u001B[0m, in \u001B[0;36mLitPop._from_country\u001B[1;34m(country, res_arcsec, exponents, fin_mode, total_value, reference_year, gpw_version, data_dir)\u001B[0m\n\u001B[0;32m    624\u001B[0m \u001B[38;5;66;03m# for countries with multiple sperated shapes (e.g., islands), data\u001B[39;00m\n\u001B[0;32m    625\u001B[0m \u001B[38;5;66;03m# is initiated for each shape separately and 0 values (e.g. on sea)\u001B[39;00m\n\u001B[0;32m    626\u001B[0m \u001B[38;5;66;03m# removed before combination, to save memory.\u001B[39;00m\n\u001B[0;32m    627\u001B[0m \u001B[38;5;66;03m# loop over single polygons in country shape object:\u001B[39;00m\n\u001B[0;32m    628\u001B[0m \u001B[38;5;28;01mfor\u001B[39;00m idx, polygon \u001B[38;5;129;01min\u001B[39;00m \u001B[38;5;28menumerate\u001B[39m(country_geometry\u001B[38;5;241m.\u001B[39mgeoms):\n\u001B[0;32m    629\u001B[0m     \u001B[38;5;66;03m# get litpop data for each polygon and combine into GeoDataFrame:\u001B[39;00m\n\u001B[0;32m    630\u001B[0m     gdf_tmp, meta_tmp, \u001B[38;5;241m=\u001B[39m \\\n\u001B[1;32m--> 631\u001B[0m         \u001B[43m_get_litpop_single_polygon\u001B[49m\u001B[43m(\u001B[49m\u001B[43mpolygon\u001B[49m\u001B[43m,\u001B[49m\u001B[43m \u001B[49m\u001B[43mreference_year\u001B[49m\u001B[43m,\u001B[49m\n\u001B[0;32m    632\u001B[0m \u001B[43m                                   \u001B[49m\u001B[43mres_arcsec\u001B[49m\u001B[43m,\u001B[49m\u001B[43m \u001B[49m\u001B[43mdata_dir\u001B[49m\u001B[43m,\u001B[49m\n\u001B[0;32m    633\u001B[0m \u001B[43m                                   \u001B[49m\u001B[43mgpw_version\u001B[49m\u001B[43m,\u001B[49m\u001B[43m \u001B[49m\u001B[43mexponents\u001B[49m\u001B[43m,\u001B[49m\n\u001B[0;32m    634\u001B[0m \u001B[43m                                   \u001B[49m\u001B[43mverbose\u001B[49m\u001B[38;5;241;43m=\u001B[39;49m\u001B[43m(\u001B[49m\u001B[43midx\u001B[49m\u001B[43m \u001B[49m\u001B[38;5;241;43m>\u001B[39;49m\u001B[43m \u001B[49m\u001B[38;5;241;43m0\u001B[39;49m\u001B[43m)\u001B[49m\u001B[43m,\u001B[49m\n\u001B[0;32m    635\u001B[0m \u001B[43m                                   \u001B[49m\u001B[43mregion_id\u001B[49m\u001B[38;5;241;43m=\u001B[39;49m\u001B[43miso3n\u001B[49m\n\u001B[0;32m    636\u001B[0m \u001B[43m                                   \u001B[49m\u001B[43m)\u001B[49m\n\u001B[0;32m    637\u001B[0m     \u001B[38;5;28;01mif\u001B[39;00m gdf_tmp \u001B[38;5;129;01mis\u001B[39;00m \u001B[38;5;28;01mNone\u001B[39;00m:\n\u001B[0;32m    638\u001B[0m         LOGGER\u001B[38;5;241m.\u001B[39mdebug(\u001B[38;5;124mf\u001B[39m\u001B[38;5;124m'\u001B[39m\u001B[38;5;124mSkipping polygon with index \u001B[39m\u001B[38;5;132;01m{\u001B[39;00midx\u001B[38;5;132;01m}\u001B[39;00m\u001B[38;5;124m for\u001B[39m\u001B[38;5;124m'\u001B[39m \u001B[38;5;241m+\u001B[39m\n\u001B[0;32m    639\u001B[0m                        \u001B[38;5;124mf\u001B[39m\u001B[38;5;124m'\u001B[39m\u001B[38;5;124m country \u001B[39m\u001B[38;5;132;01m{\u001B[39;00miso3a\u001B[38;5;132;01m}\u001B[39;00m\u001B[38;5;124m.\u001B[39m\u001B[38;5;124m'\u001B[39m)\n",
      "File \u001B[1;32m~\\AppData\\Roaming\\Python\\Python39\\site-packages\\climada\\entity\\exposures\\litpop\\litpop.py:718\u001B[0m, in \u001B[0;36m_get_litpop_single_polygon\u001B[1;34m(polygon, reference_year, res_arcsec, data_dir, gpw_version, exponents, region_id, verbose)\u001B[0m\n\u001B[0;32m    714\u001B[0m     offsets \u001B[38;5;241m=\u001B[39m (\u001B[38;5;241m1\u001B[39m, \u001B[38;5;241m0\u001B[39m)\n\u001B[0;32m    715\u001B[0m \u001B[38;5;66;03m# import population data (2d array), meta data, and global grid info,\u001B[39;00m\n\u001B[0;32m    716\u001B[0m \u001B[38;5;66;03m# global_transform defines the origin (corner points) of the global traget grid:\u001B[39;00m\n\u001B[0;32m    717\u001B[0m pop, meta_pop, global_transform \u001B[38;5;241m=\u001B[39m \\\n\u001B[1;32m--> 718\u001B[0m     \u001B[43mpop_util\u001B[49m\u001B[38;5;241;43m.\u001B[39;49m\u001B[43mload_gpw_pop_shape\u001B[49m\u001B[43m(\u001B[49m\u001B[43mpolygon\u001B[49m\u001B[43m,\u001B[49m\n\u001B[0;32m    719\u001B[0m \u001B[43m                                \u001B[49m\u001B[43mreference_year\u001B[49m\u001B[43m,\u001B[49m\n\u001B[0;32m    720\u001B[0m \u001B[43m                                \u001B[49m\u001B[43mgpw_version\u001B[49m\u001B[38;5;241;43m=\u001B[39;49m\u001B[43mgpw_version\u001B[49m\u001B[43m,\u001B[49m\n\u001B[0;32m    721\u001B[0m \u001B[43m                                \u001B[49m\u001B[43mdata_dir\u001B[49m\u001B[38;5;241;43m=\u001B[39;49m\u001B[43mdata_dir\u001B[49m\u001B[43m,\u001B[49m\n\u001B[0;32m    722\u001B[0m \u001B[43m                                \u001B[49m\u001B[43mverbose\u001B[49m\u001B[38;5;241;43m=\u001B[39;49m\u001B[43mverbose\u001B[49m\u001B[43m,\u001B[49m\n\u001B[0;32m    723\u001B[0m \u001B[43m                                \u001B[49m\u001B[43m)\u001B[49m\n\u001B[0;32m    724\u001B[0m total_population \u001B[38;5;241m=\u001B[39m pop\u001B[38;5;241m.\u001B[39msum()\n\u001B[0;32m    725\u001B[0m \u001B[38;5;66;03m# import nightlight data (2d array) and associated meta data:\u001B[39;00m\n",
      "File \u001B[1;32m~\\AppData\\Roaming\\Python\\Python39\\site-packages\\climada\\entity\\exposures\\litpop\\gpw_population.py:76\u001B[0m, in \u001B[0;36mload_gpw_pop_shape\u001B[1;34m(geometry, reference_year, gpw_version, data_dir, layer, verbose)\u001B[0m\n\u001B[0;32m     34\u001B[0m \u001B[38;5;250m\u001B[39m\u001B[38;5;124;03m\"\"\"Read gridded population data from TIFF and crop to given shape(s).\u001B[39;00m\n\u001B[0;32m     35\u001B[0m \n\u001B[0;32m     36\u001B[0m \u001B[38;5;124;03mNote: A (free) NASA Earthdata login is necessary to download the data.\u001B[39;00m\n\u001B[1;32m   (...)\u001B[0m\n\u001B[0;32m     72\u001B[0m \u001B[38;5;124;03m    global_transform is required for resampling on a globally consistent grid\u001B[39;00m\n\u001B[0;32m     73\u001B[0m \u001B[38;5;124;03m\"\"\"\u001B[39;00m\n\u001B[0;32m     75\u001B[0m \u001B[38;5;66;03m# check whether GPW input file exists and get file path\u001B[39;00m\n\u001B[1;32m---> 76\u001B[0m file_path \u001B[38;5;241m=\u001B[39m \u001B[43mget_gpw_file_path\u001B[49m\u001B[43m(\u001B[49m\u001B[43mgpw_version\u001B[49m\u001B[43m,\u001B[49m\u001B[43m \u001B[49m\u001B[43mreference_year\u001B[49m\u001B[43m,\u001B[49m\u001B[43m \u001B[49m\u001B[43mdata_dir\u001B[49m\u001B[38;5;241;43m=\u001B[39;49m\u001B[43mdata_dir\u001B[49m\u001B[43m,\u001B[49m\u001B[43m \u001B[49m\u001B[43mverbose\u001B[49m\u001B[38;5;241;43m=\u001B[39;49m\u001B[43mverbose\u001B[49m\u001B[43m)\u001B[49m\n\u001B[0;32m     78\u001B[0m \u001B[38;5;66;03m# open TIFF and extract cropped data from input file:\u001B[39;00m\n\u001B[0;32m     79\u001B[0m \u001B[38;5;28;01mwith\u001B[39;00m rasterio\u001B[38;5;241m.\u001B[39mopen(file_path, \u001B[38;5;124m'\u001B[39m\u001B[38;5;124mr\u001B[39m\u001B[38;5;124m'\u001B[39m) \u001B[38;5;28;01mas\u001B[39;00m src:\n",
      "File \u001B[1;32m~\\AppData\\Roaming\\Python\\Python39\\site-packages\\climada\\entity\\exposures\\litpop\\gpw_population.py:148\u001B[0m, in \u001B[0;36mget_gpw_file_path\u001B[1;34m(gpw_version, reference_year, data_dir, verbose)\u001B[0m\n\u001B[0;32m    143\u001B[0m sedac_browse_url \u001B[38;5;241m=\u001B[39m \u001B[38;5;124mf\u001B[39m\u001B[38;5;124m\"\u001B[39m\u001B[38;5;132;01m{\u001B[39;00msedac_url\u001B[38;5;132;01m}\u001B[39;00m\u001B[38;5;124m/data/collection/gpw-v4/sets/browse\u001B[39m\u001B[38;5;124m\"\u001B[39m\n\u001B[0;32m    144\u001B[0m sedac_file_url \u001B[38;5;241m=\u001B[39m (\n\u001B[0;32m    145\u001B[0m     \u001B[38;5;124mf\u001B[39m\u001B[38;5;124m\"\u001B[39m\u001B[38;5;132;01m{\u001B[39;00msedac_url\u001B[38;5;132;01m}\u001B[39;00m\u001B[38;5;124m/downloads/data/gpw-v4/gpw-v4-population-count-rev\u001B[39m\u001B[38;5;132;01m{\u001B[39;00mgpw_version\u001B[38;5;132;01m}\u001B[39;00m\u001B[38;5;124m/\u001B[39m\u001B[38;5;124m\"\u001B[39m\n\u001B[0;32m    146\u001B[0m     \u001B[38;5;124mf\u001B[39m\u001B[38;5;124m\"\u001B[39m\u001B[38;5;132;01m{\u001B[39;00mgpw_dirname\u001B[38;5;132;01m}\u001B[39;00m\u001B[38;5;124m.zip\u001B[39m\u001B[38;5;124m\"\u001B[39m\n\u001B[0;32m    147\u001B[0m )\n\u001B[1;32m--> 148\u001B[0m \u001B[38;5;28;01mraise\u001B[39;00m \u001B[38;5;167;01mFileNotFoundError\u001B[39;00m(\n\u001B[0;32m    149\u001B[0m     \u001B[38;5;124mf\u001B[39m\u001B[38;5;124m'\u001B[39m\u001B[38;5;124mThe file \u001B[39m\u001B[38;5;132;01m{\u001B[39;00mfile_path\u001B[38;5;132;01m}\u001B[39;00m\u001B[38;5;124m could not be found. Please download the file first or choose a\u001B[39m\u001B[38;5;124m'\u001B[39m\n\u001B[0;32m    150\u001B[0m     \u001B[38;5;124mf\u001B[39m\u001B[38;5;124m'\u001B[39m\u001B[38;5;124m different folder. The data can be downloaded from \u001B[39m\u001B[38;5;132;01m{\u001B[39;00msedac_browse_url\u001B[38;5;132;01m}\u001B[39;00m\u001B[38;5;124m, e.g.,\u001B[39m\u001B[38;5;124m'\u001B[39m\n\u001B[0;32m    151\u001B[0m     \u001B[38;5;124mf\u001B[39m\u001B[38;5;124m'\u001B[39m\u001B[38;5;124m \u001B[39m\u001B[38;5;132;01m{\u001B[39;00msedac_file_url\u001B[38;5;132;01m}\u001B[39;00m\u001B[38;5;124m (Free NASA Earthdata login required).\u001B[39m\u001B[38;5;124m'\u001B[39m\n\u001B[0;32m    152\u001B[0m )\n",
      "\u001B[1;31mFileNotFoundError\u001B[0m: The file C:\\Users\\yunzhong\\climada\\data\\gpw-v4-population-count-rev11_2020_30_sec_tif\\gpw_v4_population_count_rev11_2020_30_sec.tif could not be found. Please download the file first or choose a different folder. The data can be downloaded from http://sedac.ciesin.columbia.edu/data/collection/gpw-v4/sets/browse, e.g., http://sedac.ciesin.columbia.edu/downloads/data/gpw-v4/gpw-v4-population-count-rev11/gpw-v4-population-count-rev11_2020_30_sec_tif.zip (Free NASA Earthdata login required)."
     ]
    }
   ],
   "execution_count": 21
  },
  {
   "cell_type": "code",
   "execution_count": null,
   "metadata": {},
   "outputs": [],
   "source": [
    "### TODO: load wildfire impact functions\n",
    "# Hint 1: use the ImpfWildfire class, put hazard type as 'WFseason'.\n",
    "# Hint 2: use method from_default_FIRMS to load the wildfire impact functions,\n",
    "#         and set i_half=409.4 for the 4km resolution, and put hazard type as 'WFseason'.\n",
    "# Hint 3: append the wildfire impact function to the impact function set.\n",
    "# tutorial: https://climada-python.readthedocs.io/en/stable/tutorial/climada_entity_ImpactFuncSet.html\n",
    "\n",
    "from climada_petals.entity.impact_funcs.wildfire import ImpfWildfire\n",
    "impf_tc = ImpfWildfire('WFseason')"
   ]
  },
  {
   "cell_type": "code",
   "execution_count": null,
   "metadata": {
    "collapsed": false
   },
   "outputs": [],
   "source": [
    "# sanity check: plot the impact function\n",
    "wf_impact_func.plot()"
   ]
  },
  {
   "cell_type": "code",
   "execution_count": null,
   "metadata": {},
   "outputs": [],
   "source": [
    "# TODO: calculate the loss using ImpactCalc().impact()\n",
    "# Tutorial: https://climada-python.readthedocs.io/en/stable/tutorial/climada_engine_Impact.html#impact-computation\n",
    "\n",
    "print(f\"The total loss is {} billion\")"
   ]
  },
  {
   "cell_type": "markdown",
   "metadata": {
    "collapsed": false
   },
   "source": [
    "# Q3. Probabilistic fire season simulation and sensitivity testing. Please use the wildfire data in 2018 in data [B] for this question."
   ]
  },
  {
   "cell_type": "markdown",
   "metadata": {
    "collapsed": false
   },
   "source": [
    "## 3.1 Explain the CLIMADA methodology of simulating a probabilistic fire season. "
   ]
  },
  {
   "cell_type": "markdown",
   "metadata": {
    "collapsed": false
   },
   "source": [
    "Hint: see the tutorial https://climada-petals.readthedocs.io/en/stable/tutorial/climada_hazard_Wildfire.html\n",
    "and the method set_proba_fire_seasons."
   ]
  },
  {
   "cell_type": "markdown",
   "metadata": {},
   "source": [
    "## 3.2\tSimulate probabilistic fire season in California US (latitude: 32.5°N to 42.0°N; longitude: 114.1° W to 124.5° W).\n",
    "Specifically, \n",
    "+ Set the number of fires equal to that of the historical fire season in California 2018.\n",
    "+ Visualize the simulated fire season in a map. Compare the visualization with the historical fire season."
   ]
  },
  {
   "cell_type": "code",
   "execution_count": 16,
   "metadata": {
    "ExecuteTime": {
     "end_time": "2024-04-20T02:59:02.292036Z",
     "start_time": "2024-04-20T02:59:02.261150Z"
    },
    "collapsed": false
   },
   "outputs": [],
   "source": [
    "# How many fires are there in the historical events? \n",
    "# How to set the range for n_ignitions so that the simulated events has \n",
    "#    the same number of fires as the historical events?\n",
    "\n",
    "num_fires_ca =   # TODO: get the number of fires in the historical events\n",
    "ign_range =   # TODO: set the range for n_ignitions to get the same number of fires as the historical events\n"
   ]
  },
  {
   "cell_type": "code",
   "execution_count": null,
   "metadata": {
    "collapsed": false
   },
   "outputs": [],
   "source": [
    "### simulate the probabilistic fire season in California\n",
    "# Hint 1: use method set_proba_fire_seasons.\n",
    "# Hint 2: Intensities of probabilistic fire seasons are drawn randomly from historic events.\n",
    "#         Thus, probabilistic simulation requires at least one historical fire to draw from.\n",
    "# Hint 3: For some logic of analysis later on, it is recommended to \n",
    "#         run the following two lines even if you have already run them before.\n",
    "wf_year_ca = WildFire()\n",
    "# TODO (one line): set the historical fire season using the method set_hist_fire_seasons_FIRMS:\n",
    "\n",
    "# set the overall fire propagation probability to 0.21:\n",
    "wf_year_ca.ProbaParams.prop_proba = 0.21\n",
    "# IMPORTANT: set keep_all_fires=True to keep all fires in the simulation.\n",
    "# This will allow you to access the simulated event later.\n",
    "# TODO (one line): set one probabilistic fire season using the method set_proba_fire_seasons\n",
    "\n",
    "print('The probabilistic season is appended to the historic season:', \n",
    "      \"event_names\", wf_year_ca.event_name,\n",
    "      \"event_ids\", wf_year_ca.event_id)"
   ]
  },
  {
   "cell_type": "code",
   "execution_count": null,
   "metadata": {},
   "outputs": [],
   "source": [
    "### TODO: plot the new simulated event. can be accessed through .event_id\n"
   ]
  },
  {
   "cell_type": "markdown",
   "metadata": {
    "collapsed": false
   },
   "source": [
    "## 3.3 Analyze the simulation in terms of tail risk outcomes."
   ]
  },
  {
   "cell_type": "markdown",
   "metadata": {
    "collapsed": false
   },
   "source": [
    "### 3.3.1 Plot the distribution of wildfire intensity across all the centroids in the city of Paradise, using the simulated fire season in California. "
   ]
  },
  {
   "cell_type": "code",
   "execution_count": null,
   "metadata": {
    "collapsed": false
   },
   "outputs": [],
   "source": [
    "### TODO: get the centroids lon/lat within Paradise\n",
    "# Hint: use Centroids.from_pnt_bounds and set_meta_to_lat_lon\n",
    "# Hint: how large is Paradise? how many centroids do you expect to have in Paradise?\n",
    "# Hint: you can do a sanity check by inputting the lon/lat in google maps.\n",
    "\n",
    "print(f\"Resolution in degrees: {res_deg} deg\")\n",
    "# TODO: fill in this part\n",
    "\n",
    "\n",
    "print(f\"Number of centroids in Paradise: {len(centr_lonlats)}\")\n",
    "print(f\"Centroids lon/lat: {centr_lonlats}\")"
   ]
  },
  {
   "cell_type": "code",
   "execution_count": null,
   "metadata": {
    "collapsed": false
   },
   "outputs": [],
   "source": [
    "### select centroids of simulated fire seasons within Paradise.\n",
    "# Hint: The centroids of simulated fire seasons may not be exactly the same as the Paradise centroids just created.\n",
    "# Hint: use a nearest neighbor search to find the closest centroid. Use centroids.get_closest_point\n",
    "centr_ids = set()\n",
    "# TODO: get the centroid ids in Paradise\n",
    "\n",
    "\n",
    "print(f\"Centroid ids in Paradise: {centr_ids}\")"
   ]
  },
  {
   "cell_type": "code",
   "execution_count": 21,
   "metadata": {
    "ExecuteTime": {
     "end_time": "2024-04-20T02:59:24.615127Z",
     "start_time": "2024-04-20T02:59:24.600915Z"
    },
    "collapsed": false
   },
   "outputs": [],
   "source": [
    "# This function is provided for you.\n",
    "def aggregate_intensity(wf, cent_ids):\n",
    "    \"\"\"\n",
    "    Aggregate the intensity for the first probabilistic fire season in the given centroid ids.\n",
    "    wf: WildFire object\n",
    "    cent_ids: a set of centroid ids\n",
    "    \"\"\"\n",
    "    intensity_lst = []\n",
    "    for event in wf.prob_fire_seasons[0]:\n",
    "        for centr_idx in cent_ids:\n",
    "            intensity = event[0, centr_idx]\n",
    "            if intensity>0:\n",
    "                intensity_lst.append(intensity)\n",
    "    return intensity_lst"
   ]
  },
  {
   "cell_type": "code",
   "execution_count": null,
   "metadata": {
    "collapsed": false
   },
   "outputs": [],
   "source": [
    "### plot the histogram of the intensity\n",
    "# Hint: use the function aggregate_intensity to get the aggregated intensity list.\n",
    "intensity_list =   # TODO: get the aggregated intensity list\n",
    "plt.hist(intensity_list, bins=10, edgecolor='black')\n",
    "plt.show()\n",
    "\n",
    "print(f\"Number of datapoints in fire season (has aggregated to 4km*4km): \"\n",
    "      f\"{len(intensity_list)}\")"
   ]
  },
  {
   "cell_type": "markdown",
   "metadata": {
    "collapsed": false
   },
   "source": [
    "### 3.3.2 For the probabilistic fire season, across all the centroids for Paradise, what is the 95th percentile wildfire intensity?"
   ]
  },
  {
   "cell_type": "code",
   "execution_count": null,
   "metadata": {
    "collapsed": false
   },
   "outputs": [],
   "source": [
    "print(f\"95th percentile fire intensity in Paradise: {np.percentile(intensity_list, 95)} K\")"
   ]
  },
  {
   "cell_type": "markdown",
   "metadata": {
    "collapsed": false
   },
   "source": [
    "## 3.4 Introduce perturbations to simulation parameters in the probabilistic season generation, and conduct analysis.\n"
   ]
  },
  {
   "cell_type": "markdown",
   "metadata": {
    "collapsed": false
   },
   "source": [
    "### 3.4.1 Change the overall fire propagation probability from 0.21 to 0.12, simulate probabilistic fire season, and repeat 3.1 and 3.2. Specifically,\n",
    "+ Simulate probabilistic fire season and visualize the simulated fire season in a map.\n",
    "+ Plot the distribution of wildfire intensity across all the centroids in the city of Paradise.\n",
    "+ Compute the 95th percentile wildfire intensity. How they different from the previous results? Explain the reason."
   ]
  },
  {
   "cell_type": "code",
   "execution_count": null,
   "metadata": {
    "collapsed": false
   },
   "outputs": [],
   "source": [
    "# Hint: Intensities of probabilistic fire seasons are drawn randomly from historic events.\n",
    "#       Thus, probabilistic simulation requires at least one historical fire to draw from.\n",
    "# Hint: For some logic of analysis later on, it is recommended to \n",
    "#       run the following two lines even if you have already run them before.\n",
    "wf_year_ca = WildFire()\n",
    "# TODO (one line): set the historical fire season using the method set_hist_fire_seasons_FIRMS:\n",
    "\n",
    "wf_year_ca.ProbaParams.prop_proba = 0.12\n",
    "# IMPORTANT: set keep_all_fires=True to keep all fires in the simulation.\n",
    "# This will allow you to access the simulated event later.\n",
    "# TODO (one line): set one probabilistic fire season using the method set_proba_fire_seasons\n",
    "\n",
    "print('The probabilistic season is appended to the historic season:', \n",
    "      \"event_names\", wf_year_ca.event_name,\n",
    "      \"event_ids\", wf_year_ca.event_id)"
   ]
  },
  {
   "cell_type": "code",
   "execution_count": null,
   "metadata": {
    "collapsed": false
   },
   "outputs": [],
   "source": [
    "### TODO: plot the new simulated event. can be accessed through .event_id\n"
   ]
  },
  {
   "cell_type": "code",
   "execution_count": null,
   "metadata": {
    "collapsed": false
   },
   "outputs": [],
   "source": [
    "### plot the histogram of the intensity\n",
    "intensity_list =   # TODO: get the aggregated intensity list\n",
    "plt.hist(intensity_list, bins=10, edgecolor='black')\n",
    "plt.show()\n",
    "\n",
    "print(f\"Number of datapoints in fire season (has aggregated to 4km*4km): \"\n",
    "      f\"{len(intensity_list)}\")"
   ]
  },
  {
   "cell_type": "code",
   "execution_count": null,
   "metadata": {
    "collapsed": false
   },
   "outputs": [],
   "source": [
    "print(f\"95th percentile fire intensity in Paradise: {np.percentile(intensity_list, 95)} K\")"
   ]
  },
  {
   "cell_type": "markdown",
   "metadata": {
    "collapsed": false
   },
   "source": [
    "### 3.4.2 Change overall fire propagation probability from 0.21 to 0.26, simulate probabilistic fire season, repeat 3.1 and 3.2. Specifically,\n",
    "+ Simulate probabilistic fire season and visualize the simulated fire season in a map.\n",
    "+ Plot the distribution of wildfire intensity across all the centroids in the city of Paradise.\n",
    "+ Compute the 95th percentile wildfire intensity. How they different from the previous results? Explain the reason. "
   ]
  },
  {
   "cell_type": "code",
   "execution_count": null,
   "metadata": {
    "collapsed": false
   },
   "outputs": [],
   "source": [
    "# Hint: Intensities of probabilistic fire seasons are drawn randomly from historic events.\n",
    "#       Thus, probabilistic simulation requires at least one historical fire to draw from.\n",
    "# Hint: For some logic of analysis later on, it is recommended to \n",
    "#       run the following two lines even if you have already run them before.\n",
    "wf_year_ca = WildFire()\n",
    "# TODO (one line): set the historical fire season using the method set_hist_fire_seasons_FIRMS:\n",
    "\n",
    "wf_year_ca.ProbaParams.prop_proba = 0.26\n",
    "# IMPORTANT: set keep_all_fires=True to keep all fires in the simulation.\n",
    "# This will allow you to access the simulated event later.\n",
    "# TODO (one line): set one probabilistic fire season using the method set_proba_fire_seasons\n",
    "\n",
    "print('The probabilistic season is appended to the historic season:', \n",
    "      \"event_names\", wf_year_ca.event_name,\n",
    "      \"event_ids\", wf_year_ca.event_id)"
   ]
  },
  {
   "cell_type": "code",
   "execution_count": null,
   "metadata": {
    "collapsed": false
   },
   "outputs": [],
   "source": [
    "### TODO: plot the new simulated event. can be accessed through .event_id\n"
   ]
  },
  {
   "cell_type": "code",
   "execution_count": null,
   "metadata": {
    "collapsed": false
   },
   "outputs": [],
   "source": [
    "### plot the histogram of the intensity\n",
    "intensity_list =   # TODO: get the aggregated intensity list\n",
    "plt.hist(intensity_list, bins=10, edgecolor='black')\n",
    "plt.show()\n",
    "\n",
    "print(f\"Number of datapoints in fire season (has aggregated to 4km*4km): \"\n",
    "      f\"{len(intensity_list)}\")"
   ]
  },
  {
   "cell_type": "code",
   "execution_count": null,
   "metadata": {
    "collapsed": false
   },
   "outputs": [],
   "source": [
    "print(f\"95th percentile fire intensity in Paradise: {np.percentile(intensity_list, 95)} K\")"
   ]
  },
  {
   "cell_type": "markdown",
   "metadata": {
    "collapsed": false
   },
   "source": [
    "## 3.5 If global warming continues, how will you link future climate scenarios (e.g., RCP 8.5) to CLIMADA model to analyze the impact from wildfire?"
   ]
  },
  {
   "cell_type": "markdown",
   "metadata": {
    "collapsed": false
   },
   "source": [
    "Please provide your answer here:\n",
    "\n",
    "\n"
   ]
  }
 ],
 "metadata": {
  "celltoolbar": "Raw Cell Format",
  "kernelspec": {
   "display_name": "Python 3 (ipykernel)",
   "language": "python",
   "name": "python3"
  },
  "language_info": {
   "codemirror_mode": {
    "name": "ipython",
    "version": 3
   },
   "file_extension": ".py",
   "mimetype": "text/x-python",
   "name": "python",
   "nbconvert_exporter": "python",
   "pygments_lexer": "ipython3",
   "version": "3.9.19"
  }
 },
 "nbformat": 4,
 "nbformat_minor": 4
}
